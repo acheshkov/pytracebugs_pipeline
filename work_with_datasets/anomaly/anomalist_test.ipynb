{
 "cells": [
  {
   "cell_type": "markdown",
   "metadata": {
    "id": "Y8Iu02BshpUZ"
   },
   "source": [
    "# ANOMALIST TEST"
   ]
  },
  {
   "cell_type": "markdown",
   "metadata": {
    "id": "uSUfOA8WhpUi"
   },
   "source": [
    "## Dependencies"
   ]
  },
  {
   "cell_type": "code",
   "execution_count": null,
   "metadata": {
    "id": "kfpgr8fzhpUk"
   },
   "outputs": [],
   "source": [
    "!python --version"
   ]
  },
  {
   "cell_type": "code",
   "execution_count": null,
   "metadata": {
    "id": "gkWDyZFPjVLb"
   },
   "outputs": [],
   "source": [
    "!pip install GitPython\n",
    "!pip install transformers\n",
    "!pip install tokenizers\n",
    "!pip install pickle5\n",
    "!pip install tree-sitter"
   ]
  },
  {
   "cell_type": "code",
   "execution_count": null,
   "metadata": {
    "id": "vc5yi7B6qs-t"
   },
   "outputs": [],
   "source": [
    "#!rm *.*"
   ]
  },
  {
   "cell_type": "code",
   "execution_count": null,
   "metadata": {
    "id": "KbK36pMGn73m"
   },
   "outputs": [],
   "source": [
    "!ls -la"
   ]
  },
  {
   "cell_type": "code",
   "execution_count": null,
   "metadata": {
    "id": "i3ZYwxeCiSq2"
   },
   "outputs": [],
   "source": [
    "from google.colab import files\n",
    "files.upload()"
   ]
  },
  {
   "cell_type": "code",
   "execution_count": null,
   "metadata": {
    "id": "CC-2_fCLiwvH"
   },
   "outputs": [],
   "source": [
    "files.upload()"
   ]
  },
  {
   "cell_type": "code",
   "execution_count": 1,
   "metadata": {
    "id": "sY8jlp7JhpUo"
   },
   "outputs": [
    {
     "name": "stderr",
     "output_type": "stream",
     "text": [
      "c:\\users\\kobyl\\anaconda3\\envs\\anomaly\\lib\\site-packages\\torchaudio\\backend\\utils.py:67: UserWarning: No audio backend is available.\n",
      "  warnings.warn('No audio backend is available.')\n"
     ]
    }
   ],
   "source": [
    "import json\n",
    "from pathlib import Path\n",
    "from tree_sitter import Language, Parser\n",
    "\n",
    "\n",
    "import utils\n",
    "from code_item import FragmentType\n",
    "from code_corpus import CodeCorpus\n",
    "from representator import Representator\n",
    "from code_representation import CodeRepresentation\n",
    "from anomalist import Anomalist"
   ]
  },
  {
   "cell_type": "markdown",
   "metadata": {
    "id": "FWQJtT__hpUq"
   },
   "source": [
    "## Settings"
   ]
  },
  {
   "cell_type": "code",
   "execution_count": 2,
   "metadata": {
    "id": "2_13S-FWhpUr"
   },
   "outputs": [],
   "source": [
    "aux_size = 78\n",
    "hidden_size = 8\n",
    "scaler_path = Path('anomalist_data/scaler_214_995415.pickle')\n",
    "assert scaler_path.is_file()\n",
    "vae_path = Path('anomalist_data/vae_214_995415.pth')\n",
    "assert vae_path.is_file()\n",
    "device_id = 'cpu'\n",
    "verbose = False\n",
    "paths = ['sample_working_but_syntactically_incorrect.py']\n",
    "fragment_type = FragmentType.FUNCTION\n",
    "model_name = 'microsoft/graphcodebert-base'"
   ]
  },
  {
   "cell_type": "markdown",
   "metadata": {
    "id": "InkVT2rwtZIm"
   },
   "source": [
    "## Init"
   ]
  },
  {
   "cell_type": "code",
   "execution_count": 3,
   "metadata": {
    "id": "WDUDLrOUmvF0"
   },
   "outputs": [],
   "source": [
    "#tree_sitter_lib = Path('./langs_py_java_csharp.so')\n",
    "#assert tree_sitter_lib.is_file()\n",
    "\n",
    "parser = Parser()\n",
    "parser.set_language(Language('D://tree-sitter-python//build//my-languages.so', 'python'))"
   ]
  },
  {
   "cell_type": "code",
   "execution_count": 4,
   "metadata": {
    "id": "hzpsLA-PrE9r"
   },
   "outputs": [],
   "source": [
    "representator = Representator(model_name=model_name, device_id=device_id)"
   ]
  },
  {
   "cell_type": "code",
   "execution_count": 5,
   "metadata": {
    "id": "PJ3HGo60tlum"
   },
   "outputs": [],
   "source": [
    "anomalist = Anomalist(aux_size=aux_size, hidden_size=hidden_size, scaler_path=scaler_path, vae_path=vae_path, device_id=device_id, verbose=verbose)"
   ]
  },
  {
   "cell_type": "markdown",
   "metadata": {
    "id": "P0_30_zHte3n"
   },
   "source": [
    "## Inference"
   ]
  },
  {
   "cell_type": "code",
   "execution_count": 6,
   "metadata": {
    "id": "T-EgZYePvLiO"
   },
   "outputs": [],
   "source": [
    "def run(anomalist, representator, paths):    \n",
    "    corpus = CodeCorpus(lang='py', paths=paths, with_path=True)\n",
    "\n",
    "    data = []\n",
    "    for code_item, path in corpus:\n",
    "        try:\n",
    "            fragments = code_item.get_fragments(\n",
    "                fragment_type=fragment_type,\n",
    "                parser=parser,\n",
    "                window_size=None,\n",
    "                overlap=None)\n",
    "\n",
    "        except Exception as e:\n",
    "            print(f'ERROR in parsing: {path}, message: {e}')\n",
    "            continue\n",
    "\n",
    "        if not fragments:\n",
    "            continue\n",
    "\n",
    "        for fragment_index, fragment in enumerate(fragments):\n",
    "            text = fragment.get_text()\n",
    "            try:\n",
    "                r, b = representator.run([text], padding=True, truncation=True)\n",
    "                data.append((path, fragment_index, fragment, r, b))\n",
    "\n",
    "            except Exception as e:\n",
    "                print(f'ERROR in model: {path}, message: {e}')\n",
    "\n",
    "    result = []\n",
    "    for path, fragment_index, fragment, r, b in data:\n",
    "        reconstruction, reconstruction_loss = anomalist.run_repr(r)\n",
    "        loss = reconstruction_loss[0][0]\n",
    "        result.append((path, fragment_index, fragment, loss))\n",
    "\n",
    "    return result"
   ]
  },
  {
   "cell_type": "code",
   "execution_count": 7,
   "metadata": {
    "id": "JO1gwmFPvEID"
   },
   "outputs": [],
   "source": [
    "def result_to_json_string(result):\n",
    "    res = []\n",
    "    for path, fragment_index, fragment, loss in result:\n",
    "        item = {'a-index': f'{loss:.2f}',\n",
    "                'path': path,\n",
    "                'first_line': fragment.lines()[0],\n",
    "                'fragment_range': {\n",
    "                    'beg': fragment.beg(),\n",
    "                    'end': fragment.end()\n",
    "                },\n",
    "                'fragment_index': fragment_index}\n",
    "        res.append(item)\n",
    "    return json.dumps(res)"
   ]
  },
  {
   "cell_type": "code",
   "execution_count": 8,
   "metadata": {
    "id": "UuG-U6C3riUM"
   },
   "outputs": [
    {
     "name": "stdout",
     "output_type": "stream",
     "text": [
      "[{\"a-index\": \"87.63\", \"path\": \"sample_working_but_syntactically_incorrect.py\", \"first_line\": \"def func(lines):\", \"fragment_range\": {\"beg\": 0, \"end\": 5}, \"fragment_index\": 0}]\n"
     ]
    }
   ],
   "source": [
    "result = run(anomalist, representator, paths)\n",
    "print(result_to_json_string(result))"
   ]
  },
  {
   "cell_type": "code",
   "execution_count": 9,
   "metadata": {
    "id": "u8i3C9QvroBl"
   },
   "outputs": [
    {
     "name": "stdout",
     "output_type": "stream",
     "text": [
      "sample_working_but_syntactically_incorrect.py 0:5  0 87.63 def func(lines):\n"
     ]
    }
   ],
   "source": [
    "for path, fragment_index, fragment, loss in result:\n",
    "    print(f'{path} {fragment.beg()}:{fragment.end()}  {fragment_index} {loss:.2f} {fragment.lines()[0]}')"
   ]
  }
 ],
 "metadata": {
  "colab": {
   "collapsed_sections": [],
   "name": "anomalist_test.ipynb",
   "provenance": []
  },
  "kernelspec": {
   "display_name": "Python 3",
   "language": "python",
   "name": "python3"
  },
  "language_info": {
   "codemirror_mode": {
    "name": "ipython",
    "version": 3
   },
   "file_extension": ".py",
   "mimetype": "text/x-python",
   "name": "python",
   "nbconvert_exporter": "python",
   "pygments_lexer": "ipython3",
   "version": "3.6.13"
  }
 },
 "nbformat": 4,
 "nbformat_minor": 1
}
