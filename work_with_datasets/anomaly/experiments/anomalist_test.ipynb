{
 "cells": [
  {
   "cell_type": "markdown",
   "metadata": {},
   "source": [
    "# ANOMALIST TEST"
   ]
  },
  {
   "cell_type": "markdown",
   "metadata": {},
   "source": [
    "1. [x] dummy\n",
    " - [x] path\n",
    " - [x] lines\n",
    " - [x] code_item \n",
    "2. [x] fragmentation\n",
    "3. [x] embeddings\n",
    "4. [ ] score\n",
    "5. [ ] pretty output"
   ]
  },
  {
   "cell_type": "markdown",
   "metadata": {},
   "source": [
    "## Dependencies"
   ]
  },
  {
   "cell_type": "code",
   "execution_count": 1,
   "metadata": {},
   "outputs": [
    {
     "name": "stdout",
     "output_type": "stream",
     "text": [
      "Python implementation: CPython\n",
      "Python version       : 3.8.3\n",
      "IPython version      : 7.16.1\n",
      "\n",
      "Compiler    : GCC 7.3.0\n",
      "OS          : Linux\n",
      "Release     : 3.10.0-1127.19.1.el7.x86_64\n",
      "Machine     : x86_64\n",
      "Processor   : x86_64\n",
      "CPU cores   : 40\n",
      "Architecture: 64bit\n",
      "\n",
      "Git hash: 603f5a1c5bd5b48429eb092515afe6d868c1c188\n",
      "\n"
     ]
    }
   ],
   "source": [
    "%load_ext watermark\n",
    "%watermark -v -m -g"
   ]
  },
  {
   "cell_type": "code",
   "execution_count": 2,
   "metadata": {},
   "outputs": [],
   "source": [
    "from pathlib import Path\n",
    "\n",
    "%load_ext autoreload\n",
    "%autoreload 2\n",
    "\n",
    "from file_utils import read_lines\n",
    "from code_item  import CodeItem\n",
    "\n",
    "from anomalist import Anomalist"
   ]
  },
  {
   "cell_type": "markdown",
   "metadata": {},
   "source": [
    "## Config"
   ]
  },
  {
   "cell_type": "code",
   "execution_count": 3,
   "metadata": {},
   "outputs": [],
   "source": [
    "# sample.py\n",
    "code_path = Path('data/py150/source_files/data/LabPy/lantz/lantz/processors.py')"
   ]
  },
  {
   "cell_type": "code",
   "execution_count": 4,
   "metadata": {},
   "outputs": [],
   "source": [
    "code_lines = [line.rstrip() for line in read_lines(code_path)]"
   ]
  },
  {
   "cell_type": "code",
   "execution_count": 5,
   "metadata": {},
   "outputs": [],
   "source": [
    "code = CodeItem()\n",
    "code.load_from_file(code_path)"
   ]
  },
  {
   "cell_type": "code",
   "execution_count": 6,
   "metadata": {},
   "outputs": [],
   "source": [
    "base_dir = Path('checkpoints/20210215_052832')\n",
    "vae_path =  base_dir / Path('20210222_122603_vae.pth')\n",
    "scaler_path = base_dir / Path('20210222_111234_scaler.pickle')"
   ]
  },
  {
   "cell_type": "markdown",
   "metadata": {},
   "source": [
    "## 1. Dummy"
   ]
  },
  {
   "cell_type": "raw",
   "metadata": {},
   "source": [
    "codes = [code_path, code_lines, code]"
   ]
  },
  {
   "cell_type": "raw",
   "metadata": {},
   "source": [
    "anomalists = [Anomalist(code_path), Anomalist(code_lines), Anomalist(code)]"
   ]
  },
  {
   "cell_type": "raw",
   "metadata": {},
   "source": [
    "for anomalist in anomalists:\n",
    "    print(anomalist.get_id())"
   ]
  },
  {
   "cell_type": "markdown",
   "metadata": {},
   "source": [
    "## 2. Fragmentation"
   ]
  },
  {
   "cell_type": "raw",
   "metadata": {},
   "source": [
    "for anomalist in anomalists:\n",
    "    fragments = anomalist.fragments()\n",
    "    print([f.get_id()[:3] for f in fragments])"
   ]
  },
  {
   "cell_type": "markdown",
   "metadata": {},
   "source": [
    "## 3. Embeddings"
   ]
  },
  {
   "cell_type": "code",
   "execution_count": 7,
   "metadata": {},
   "outputs": [
    {
     "name": "stdout",
     "output_type": "stream",
     "text": [
      "CPU times: user 8.32 s, sys: 1.83 s, total: 10.2 s\n",
      "Wall time: 8.27 s\n"
     ]
    }
   ],
   "source": [
    "%%time\n",
    "\n",
    "anomalist = Anomalist(scaler_path=scaler_path, vae_path=vae_path)"
   ]
  },
  {
   "cell_type": "raw",
   "metadata": {},
   "source": [
    "%%time\n",
    "\n",
    "fragments, representations = anomalist.run(code)\n",
    "print([f.get_id()[:3] for f in fragments])"
   ]
  },
  {
   "cell_type": "markdown",
   "metadata": {},
   "source": [
    "## 4. Score"
   ]
  },
  {
   "cell_type": "code",
   "execution_count": 8,
   "metadata": {},
   "outputs": [
    {
     "name": "stdout",
     "output_type": "stream",
     "text": [
      "CPU times: user 29.9 s, sys: 2.76 s, total: 32.7 s\n",
      "Wall time: 1.65 s\n"
     ]
    }
   ],
   "source": [
    "%%time\n",
    "\n",
    "fragments, representations, reconstructions, reconstruction_losses = anomalist.run(code)"
   ]
  },
  {
   "cell_type": "code",
   "execution_count": 11,
   "metadata": {},
   "outputs": [
    {
     "data": {
      "text/plain": [
       "[array([25.608618], dtype=float32),\n",
       " array([22.666376], dtype=float32),\n",
       " array([20.8593], dtype=float32),\n",
       " array([18.814808], dtype=float32),\n",
       " array([20.06314], dtype=float32),\n",
       " array([18.526037], dtype=float32),\n",
       " array([25.105576], dtype=float32),\n",
       " array([22.4534], dtype=float32),\n",
       " None,\n",
       " array([19.600914], dtype=float32),\n",
       " array([35.00543], dtype=float32),\n",
       " None,\n",
       " array([19.735994], dtype=float32),\n",
       " None,\n",
       " array([19.657694], dtype=float32),\n",
       " array([18.470734], dtype=float32),\n",
       " array([23.245085], dtype=float32),\n",
       " array([19.559046], dtype=float32),\n",
       " array([19.824911], dtype=float32),\n",
       " array([18.677504], dtype=float32),\n",
       " array([28.021269], dtype=float32),\n",
       " array([18.980686], dtype=float32)]"
      ]
     },
     "execution_count": 11,
     "metadata": {},
     "output_type": "execute_result"
    }
   ],
   "source": [
    "reconstruction_losses"
   ]
  },
  {
   "cell_type": "code",
   "execution_count": null,
   "metadata": {},
   "outputs": [],
   "source": []
  },
  {
   "cell_type": "code",
   "execution_count": null,
   "metadata": {},
   "outputs": [],
   "source": []
  },
  {
   "cell_type": "markdown",
   "metadata": {},
   "source": [
    "## 5. Pretty output"
   ]
  },
  {
   "cell_type": "code",
   "execution_count": null,
   "metadata": {},
   "outputs": [],
   "source": []
  }
 ],
 "metadata": {
  "kernelspec": {
   "display_name": "Python 3",
   "language": "python",
   "name": "python3"
  },
  "language_info": {
   "codemirror_mode": {
    "name": "ipython",
    "version": 3
   },
   "file_extension": ".py",
   "mimetype": "text/x-python",
   "name": "python",
   "nbconvert_exporter": "python",
   "pygments_lexer": "ipython3",
   "version": "3.8.3"
  }
 },
 "nbformat": 4,
 "nbformat_minor": 2
}
