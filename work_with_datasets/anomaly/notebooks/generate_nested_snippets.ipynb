{
 "cells": [
  {
   "cell_type": "code",
   "execution_count": 2,
   "id": "b35351e3",
   "metadata": {},
   "outputs": [
    {
     "name": "stderr",
     "output_type": "stream",
     "text": [
      "c:\\users\\kobyl\\anaconda3\\envs\\anomaly\\lib\\site-packages\\torchaudio\\backend\\utils.py:67: UserWarning: No audio backend is available.\n",
      "  warnings.warn('No audio backend is available.')\n"
     ]
    },
    {
     "name": "stdout",
     "output_type": "stream",
     "text": [
      "[]\n"
     ]
    }
   ],
   "source": [
    "import numpy as np"
   ]
  },
  {
   "cell_type": "code",
   "execution_count": 3,
   "id": "27aa0cd0",
   "metadata": {},
   "outputs": [],
   "source": [
    "def generateNestedControlFlowCode(max_nesting_level):\n",
    "    \n",
    "    CONDITION_EXPRESSIONS = [' > 0', ' < 0', ' == 0', ' is None', ' is not None']\n",
    "    EXCEPTIONS = [' ValueError', ' IndexError', ' AttributeError']\n",
    "    STATEMENTS = ['z = 0', 'a.run()', 'b = 100', 'c = math.sin(10)']\n",
    "    CONTROL_COMMANDS_TYPES = ('for', 'while', 'if', 'try')\n",
    "    CLOSING_COMMANDS_IMPLYING_BLOCKS = ('else', 'except')\n",
    "    \n",
    "    def generateForLoopStatement():\n",
    "        return 'for i' + str(np.random.randint(100)) + ' in range(5):'\n",
    "    def generateIfStatement():\n",
    "        return ('if k' + str(np.random.randint(100)) + \n",
    "                CONDITION_EXPRESSIONS[np.random.randint(len(CONDITION_EXPRESSIONS))] + ':')\n",
    "    def generateElseStatement():\n",
    "        return 'else:'\n",
    "    def generateWhileStatement():\n",
    "        return ('while i' + str(np.random.randint(100)) + \n",
    "                CONDITION_EXPRESSIONS[np.random.randint(len(CONDITION_EXPRESSIONS))] + ':')\n",
    "    def generateTryStatement():\n",
    "        return 'try:'\n",
    "    def generateExceptStatement():\n",
    "        return ('except' + EXCEPTIONS[np.random.randint(len(EXCEPTIONS))] + ':')\n",
    "    def generateStatement():\n",
    "        return STATEMENTS[np.random.randint(len(STATEMENTS))]\n",
    "    \n",
    "    OPENING_COMMANDS_GENERATING_FUNCS = {'for': generateForLoopStatement,\n",
    "                              'while': generateWhileStatement,\n",
    "                              'if': generateIfStatement,\n",
    "                              'try': generateTryStatement}\n",
    "    CLOSING_COMMANDS_GENERATING_FUNCS = {'else': generateElseStatement,\n",
    "                                         'except': generateExceptStatement}\n",
    "    OPEN_N_CLOSE_COMMANDS_MATCHES = {'if': 'else',\n",
    "                                     'try': 'except',\n",
    "                                     'for': None,\n",
    "                                     'while': None}\n",
    "    \n",
    "    def generateBlock(nesting_level):\n",
    "        allowed_to_generate_new_controls = nesting_level < max_nesting_level\n",
    "        probability_to_generate_statements = 0.3 if allowed_to_generate_new_controls else 1.0\n",
    "        \n",
    "        nonlocal achieved_nesting_level\n",
    "        achieved_nesting_level = max(achieved_nesting_level, nesting_level)\n",
    "        \n",
    "        snippet = ' ' * (nesting_level + 1) * 4\n",
    "        \n",
    "        if np.random.uniform(size=1) < probability_to_generate_statements:\n",
    "            return snippet + generateStatement() + '\\n'\n",
    "        elif allowed_to_generate_new_controls:\n",
    "            control_command_type = CONTROL_COMMANDS_TYPES[np.random.randint(len(CONTROL_COMMANDS_TYPES))]\n",
    "            snippet += OPENING_COMMANDS_GENERATING_FUNCS[control_command_type]() + '\\n' + generateBlock(nesting_level + 1)\n",
    "            \n",
    "            matching_closing_command = OPEN_N_CLOSE_COMMANDS_MATCHES[control_command_type]\n",
    "            if matching_closing_command in CLOSING_COMMANDS_IMPLYING_BLOCKS:\n",
    "                snippet += (' ' * (nesting_level + 1) * 4 +\n",
    "                            CLOSING_COMMANDS_GENERATING_FUNCS[matching_closing_command]() + \n",
    "                            '\\n' + generateBlock(nesting_level + 1))\n",
    "            return snippet\n",
    "        \n",
    "    achieved_nesting_level = 0\n",
    "    snippet = 'def function_name' + str(np.random.randint(100)) + '(a):\\n'\n",
    "    return snippet + generateBlock(0), achieved_nesting_level"
   ]
  },
  {
   "cell_type": "code",
   "execution_count": 4,
   "id": "e0579cfc",
   "metadata": {},
   "outputs": [],
   "source": [
    "path_to_data = 'D:\\\\ubuntu\\\\zephyr_data\\\\'"
   ]
  },
  {
   "cell_type": "code",
   "execution_count": 6,
   "id": "f3ffdab4",
   "metadata": {},
   "outputs": [],
   "source": [
    "snippets = []\n",
    "max_nesting_level = 9\n",
    "\n",
    "for i in range(10000):\n",
    "    snippet_info = generateNestedControlFlowCode(np.random.randint(max_nesting_level))\n",
    "    snippets.append(snippet_info)"
   ]
  },
  {
   "cell_type": "code",
   "execution_count": 8,
   "id": "d6739ded",
   "metadata": {},
   "outputs": [],
   "source": [
    "import pandas as pd\n",
    "\n",
    "data = pd.DataFrame(snippets, \n",
    "                    columns=['snippet source code', 'nesting_level'])\n",
    "data.to_pickle(path_to_data + 'nested_code\\\\nested_code.pickle')"
   ]
  }
 ],
 "metadata": {
  "kernelspec": {
   "display_name": "Python 3",
   "language": "python",
   "name": "python3"
  },
  "language_info": {
   "codemirror_mode": {
    "name": "ipython",
    "version": 3
   },
   "file_extension": ".py",
   "mimetype": "text/x-python",
   "name": "python",
   "nbconvert_exporter": "python",
   "pygments_lexer": "ipython3",
   "version": "3.6.13"
  }
 },
 "nbformat": 4,
 "nbformat_minor": 5
}
