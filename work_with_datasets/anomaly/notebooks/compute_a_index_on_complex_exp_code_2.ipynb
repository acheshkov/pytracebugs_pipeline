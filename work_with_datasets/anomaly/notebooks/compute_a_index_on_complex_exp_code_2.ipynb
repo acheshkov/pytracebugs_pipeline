{
 "cells": [
  {
   "cell_type": "code",
   "execution_count": 1,
   "id": "3ea17790",
   "metadata": {},
   "outputs": [
    {
     "name": "stderr",
     "output_type": "stream",
     "text": [
      "c:\\users\\kobyl\\anaconda3\\envs\\anomaly\\lib\\site-packages\\torchaudio\\backend\\utils.py:67: UserWarning: No audio backend is available.\n",
      "  warnings.warn('No audio backend is available.')\n"
     ]
    }
   ],
   "source": [
    "import pandas as pd\n",
    "import prototype_for_notebooks as pt\n",
    "from transformers import AutoTokenizer, AutoModel\n",
    "import torch\n",
    "import numpy as np"
   ]
  },
  {
   "cell_type": "code",
   "execution_count": 2,
   "id": "e0579cfc",
   "metadata": {},
   "outputs": [],
   "source": [
    "path_to_data = 'D:\\\\ubuntu\\\\zephyr_data\\\\'"
   ]
  },
  {
   "cell_type": "code",
   "execution_count": 5,
   "id": "d9ed5699",
   "metadata": {},
   "outputs": [],
   "source": [
    "import hashlib\n",
    "\n",
    "def saveSnippetIntoFile(snippet):\n",
    "    m = hashlib.sha256()\n",
    "    m.update(snippet.encode('utf-8'))\n",
    "    snippet_filename = m.hexdigest() + '.py'\n",
    "    path_to_file = 'complex_exp_snippets_files\\\\' + snippet_filename\n",
    "    \n",
    "    with open(path_to_data + path_to_file, 'w', encoding='utf-8') as f:\n",
    "        f.write(snippet)\n",
    "        f.close()\n",
    "    return path_to_file"
   ]
  },
  {
   "cell_type": "markdown",
   "id": "d7bf2153",
   "metadata": {},
   "source": [
    "# Вычисление A-индекса\n",
    "\n",
    "Для случайной подвыборки кода длины 10000 вычислим А-индекс."
   ]
  },
  {
   "cell_type": "code",
   "execution_count": 8,
   "id": "edc0b6f1",
   "metadata": {},
   "outputs": [],
   "source": [
    "import pickle5 as pickle\n",
    "\n",
    "pickle_file = open(path_to_data + 'complex_exp_code\\\\complex_exp_code.pickle','rb')\n",
    "data = pickle.load(pickle_file)"
   ]
  },
  {
   "cell_type": "code",
   "execution_count": 9,
   "id": "c7d0c281",
   "metadata": {},
   "outputs": [],
   "source": [
    "data['path_to_file'] = data['snippet source code'].apply(saveSnippetIntoFile)"
   ]
  },
  {
   "cell_type": "code",
   "execution_count": 10,
   "id": "e97ba6ef",
   "metadata": {},
   "outputs": [],
   "source": [
    "anomaly_results = pd.DataFrame.from_records([(item[3], item[0][22:], item[4])\n",
    "                                            for item in pt.calc_anomalies(pt.get_python_paths(path_to_data + 'complex_exp_snippets_files\\\\'))], \n",
    "                                            columns =['a-index', 'path_to_file', 'message'])\n",
    "df = data.join(anomaly_results.set_index('path_to_file'), on='path_to_file')"
   ]
  },
  {
   "cell_type": "markdown",
   "id": "41206113",
   "metadata": {},
   "source": [
    "# Связь сложности выражений и А-индекса\n",
    "\n",
    "Посмотрим на коррелированность числа операндов в выражениях и А-индекса."
   ]
  },
  {
   "cell_type": "code",
   "execution_count": 11,
   "id": "20eb9169",
   "metadata": {},
   "outputs": [
    {
     "data": {
      "text/html": [
       "<div>\n",
       "<style scoped>\n",
       "    .dataframe tbody tr th:only-of-type {\n",
       "        vertical-align: middle;\n",
       "    }\n",
       "\n",
       "    .dataframe tbody tr th {\n",
       "        vertical-align: top;\n",
       "    }\n",
       "\n",
       "    .dataframe thead th {\n",
       "        text-align: right;\n",
       "    }\n",
       "</style>\n",
       "<table border=\"1\" class=\"dataframe\">\n",
       "  <thead>\n",
       "    <tr style=\"text-align: right;\">\n",
       "      <th></th>\n",
       "      <th>num_statements</th>\n",
       "      <th>a-index</th>\n",
       "    </tr>\n",
       "  </thead>\n",
       "  <tbody>\n",
       "    <tr>\n",
       "      <th>num_statements</th>\n",
       "      <td>1.000000</td>\n",
       "      <td>-0.163115</td>\n",
       "    </tr>\n",
       "    <tr>\n",
       "      <th>a-index</th>\n",
       "      <td>-0.163115</td>\n",
       "      <td>1.000000</td>\n",
       "    </tr>\n",
       "  </tbody>\n",
       "</table>\n",
       "</div>"
      ],
      "text/plain": [
       "                num_statements   a-index\n",
       "num_statements        1.000000 -0.163115\n",
       "a-index              -0.163115  1.000000"
      ]
     },
     "execution_count": 11,
     "metadata": {},
     "output_type": "execute_result"
    }
   ],
   "source": [
    "df.loc[df['num_statements'] > 0, ['num_statements', 'a-index']].corr(method='spearman')"
   ]
  },
  {
   "cell_type": "code",
   "execution_count": 13,
   "id": "fa96b1fc",
   "metadata": {},
   "outputs": [],
   "source": [
    "import seaborn as sb\n",
    "import matplotlib.pyplot as plt"
   ]
  },
  {
   "cell_type": "code",
   "execution_count": 14,
   "id": "b4a5a4b0",
   "metadata": {},
   "outputs": [
    {
     "data": {
      "text/plain": [
       "<AxesSubplot:xlabel='num_statements', ylabel='a-index'>"
      ]
     },
     "execution_count": 14,
     "metadata": {},
     "output_type": "execute_result"
    },
    {
     "data": {
      "image/png": "[encoded data removed]",
      "text/plain": [
       "<Figure size 432x288 with 1 Axes>"
      ]
     },
     "metadata": {
      "needs_background": "light"
     },
     "output_type": "display_data"
    }
   ],
   "source": [
    "sb.scatterplot(x='num_statements',\n",
    "               y='a-index',\n",
    "               data=df)"
   ]
  },
  {
   "cell_type": "code",
   "execution_count": 34,
   "id": "0ea51b9b",
   "metadata": {},
   "outputs": [
    {
     "data": {
      "text/plain": [
       "<AxesSubplot:xlabel='num_statements', ylabel='cc'>"
      ]
     },
     "execution_count": 34,
     "metadata": {},
     "output_type": "execute_result"
    },
    {
     "data": {
      "image/png": "[encoded data removed]",
      "text/plain": [
       "<Figure size 432x288 with 1 Axes>"
      ]
     },
     "metadata": {
      "needs_background": "light"
     },
     "output_type": "display_data"
    }
   ],
   "source": [
    "sb.scatterplot(x='num_statements',\n",
    "               y='cc',\n",
    "               data=df)"
   ]
  },
  {
   "cell_type": "markdown",
   "id": "029d73f6",
   "metadata": {},
   "source": [
    "# Анализ связи А-индекса с частотой часто встречающихся токенов"
   ]
  },
  {
   "cell_type": "code",
   "execution_count": null,
   "id": "1d11622b",
   "metadata": {},
   "outputs": [],
   "source": [
    "tokenizer = AutoTokenizer.from_pretrained(\"microsoft/codebert-base\")"
   ]
  },
  {
   "cell_type": "code",
   "execution_count": null,
   "id": "67b78482",
   "metadata": {},
   "outputs": [],
   "source": [
    "from collections import Counter\n",
    "\n",
    "df['max_token_occurence'] = df['snippet source code'].apply(tokenizer.tokenize).apply(Counter).apply(lambda x: x.most_common(1)[0][1])\n",
    "df['max_G_token_occurence'] = df['snippet source code'].apply(tokenizer.tokenize).apply(Counter).apply(lambda x: x['Ġ'])"
   ]
  },
  {
   "cell_type": "markdown",
   "id": "26cb1d4c",
   "metadata": {},
   "source": [
    "Подсчитаем корреляции частот часто встречающихся токенов с А-индексом."
   ]
  },
  {
   "cell_type": "code",
   "execution_count": null,
   "id": "f579d24e",
   "metadata": {},
   "outputs": [],
   "source": [
    "df[['a-index', 'max_token_occurence', 'max_G_token_occurence']].corr(method='spearman')"
   ]
  },
  {
   "cell_type": "markdown",
   "id": "01db1fb2",
   "metadata": {},
   "source": [
    "Построим диаграмму рассеяния."
   ]
  },
  {
   "cell_type": "code",
   "execution_count": null,
   "id": "c8460cda",
   "metadata": {},
   "outputs": [],
   "source": [
    "import seaborn as sb\n",
    "import matplotlib.pyplot as plt"
   ]
  },
  {
   "cell_type": "code",
   "execution_count": null,
   "id": "ce6ea9cc",
   "metadata": {},
   "outputs": [],
   "source": [
    "sb.scatterplot(x='max_G_token_occurence',\n",
    "               y='a-index',\n",
    "               data=df)"
   ]
  },
  {
   "cell_type": "markdown",
   "id": "ddcd81f7",
   "metadata": {},
   "source": [
    "Уберем выбросы и снова построим"
   ]
  },
  {
   "cell_type": "code",
   "execution_count": null,
   "id": "4d3d3fdd",
   "metadata": {},
   "outputs": [],
   "source": [
    "sb.scatterplot(x='max_G_token_occurence',\n",
    "               y='a-index',\n",
    "               data=df.loc[df['max_G_token_occurence'] <= df['max_G_token_occurence'].quantile(q=0.95)])"
   ]
  },
  {
   "cell_type": "markdown",
   "id": "6a4cc06b",
   "metadata": {},
   "source": [
    "Подсчитаем корреляцию."
   ]
  },
  {
   "cell_type": "code",
   "execution_count": null,
   "id": "e11ddba0",
   "metadata": {},
   "outputs": [],
   "source": [
    "df.loc[(df['max_G_token_occurence'] <= df['max_G_token_occurence'].quantile(q=0.95)) &\n",
    "       (df['max_G_token_occurence'] > 10), \n",
    "       ['max_G_token_occurence', 'a-index']].corr(method='spearman')"
   ]
  },
  {
   "cell_type": "markdown",
   "id": "f5d98a79",
   "metadata": {},
   "source": [
    "# Анализ связи А-индекса с частотой подряд идущих токенов\n",
    "\n",
    "Напишем функции для вычисления наибольших частот подряд идущих токенов."
   ]
  },
  {
   "cell_type": "code",
   "execution_count": null,
   "id": "ce34a9e1",
   "metadata": {},
   "outputs": [],
   "source": [
    "from itertools import groupby\n",
    "\n",
    "def computeMaxRepetitiveTokenSequenceLength(tokenized_snippet):\n",
    "    token_occurences = [(token, sum(1 for i in group_of_tokens)) for token, group_of_tokens in groupby(tokenized_snippet)]\n",
    "    return sorted(token_occurences, key=lambda x: x[1])[-1][1]"
   ]
  },
  {
   "cell_type": "code",
   "execution_count": null,
   "id": "4d8bf338",
   "metadata": {},
   "outputs": [],
   "source": [
    "def computeMaxRepetitiveGTokenSequenceLength(tokenized_snippet):\n",
    "    token_occurences = [(token, sum(1 for i in group_of_tokens)) for token, group_of_tokens in groupby(tokenized_snippet)]\n",
    "    \n",
    "    max_count = 0\n",
    "    for token, count in sorted(token_occurences, key=lambda x: x[1]):\n",
    "        if token == 'Ġ':\n",
    "            max_count = max(max_count, count)    \n",
    "    return max_count"
   ]
  },
  {
   "cell_type": "markdown",
   "id": "bed8023a",
   "metadata": {},
   "source": [
    "Вычислим эти частоты."
   ]
  },
  {
   "cell_type": "code",
   "execution_count": null,
   "id": "0a3401c8",
   "metadata": {},
   "outputs": [],
   "source": [
    "df['max_consequtive_token_occurence'] = df['snippet source code'].apply(tokenizer.tokenize).apply(computeMaxRepetitiveTokenSequenceLength)\n",
    "df['max_consequtive_G_token_occurence'] = df['snippet source code'].apply(tokenizer.tokenize).apply(computeMaxRepetitiveGTokenSequenceLength)"
   ]
  },
  {
   "cell_type": "markdown",
   "id": "2a6aa8aa",
   "metadata": {},
   "source": [
    "Подсчитаем корреляции."
   ]
  },
  {
   "cell_type": "code",
   "execution_count": null,
   "id": "522a0bcf",
   "metadata": {},
   "outputs": [],
   "source": [
    "df[['a-index', 'max_consequtive_token_occurence', 'max_consequtive_G_token_occurence']].corr(method='spearman')"
   ]
  },
  {
   "cell_type": "markdown",
   "id": "f7d02230",
   "metadata": {},
   "source": [
    "Посмотрим на графики"
   ]
  },
  {
   "cell_type": "code",
   "execution_count": null,
   "id": "85b65a87",
   "metadata": {},
   "outputs": [],
   "source": [
    "sb.scatterplot(x='max_consequtive_G_token_occurence',\n",
    "               y='a-index',\n",
    "               data=df);"
   ]
  },
  {
   "cell_type": "markdown",
   "id": "5df45c79",
   "metadata": {},
   "source": [
    "# Выводы\n",
    "\n",
    "- частоты символа G слабо коррелированы с А-индексом;."
   ]
  },
  {
   "cell_type": "markdown",
   "id": "b019945a",
   "metadata": {},
   "source": [
    "# Анализ связи А-индекса с некоторыми метриками кода"
   ]
  },
  {
   "cell_type": "code",
   "execution_count": 15,
   "id": "4f040d66",
   "metadata": {},
   "outputs": [],
   "source": [
    "from radon.visitors import ComplexityVisitor\n",
    "from radon.complexity import cc_rank\n",
    "from radon.metrics import h_visit, mi_visit\n",
    "from radon.raw import analyze\n",
    "import numpy as np"
   ]
  },
  {
   "cell_type": "code",
   "execution_count": 21,
   "id": "0425b1dc",
   "metadata": {},
   "outputs": [],
   "source": [
    "import re\n",
    "\n",
    "def checkExtraSpaces(snippet):\n",
    "    number_of_spaces_to_remove = re.search('\\S', snippet.split('\\n')[0]).start(0)\n",
    "    if number_of_spaces_to_remove > 0:\n",
    "        return True"
   ]
  },
  {
   "cell_type": "code",
   "execution_count": 22,
   "id": "b93eb042",
   "metadata": {},
   "outputs": [],
   "source": [
    "def removeExtraSpaces(snippet):\n",
    "    number_of_spaces_to_remove = re.search('\\S', snippet.split('\\n')[0]).start(0)\n",
    "    return '\\n'.join([snippet_line[number_of_spaces_to_remove:] \n",
    "                      for snippet_line in snippet.split('\\n')])"
   ]
  },
  {
   "cell_type": "code",
   "execution_count": 23,
   "id": "b652bbaa",
   "metadata": {},
   "outputs": [],
   "source": [
    "def refineSnippet(snippet):\n",
    "    try:\n",
    "        ComplexityVisitor.from_code(snippet)\n",
    "        return snippet\n",
    "    except:\n",
    "        try:\n",
    "            snippet_with_removed_extra_spaces = removeExtraSpaces(snippet)\n",
    "            ComplexityVisitor.from_code(snippet_with_removed_extra_spaces)\n",
    "            return snippet_with_removed_extra_spaces\n",
    "        except:\n",
    "            return np.nan"
   ]
  },
  {
   "cell_type": "code",
   "execution_count": 24,
   "id": "564ea2dd",
   "metadata": {},
   "outputs": [],
   "source": [
    "def compileSourceCode(snippet,\n",
    "                      print_snippet=False):\n",
    "    try:\n",
    "        compile(snippet.strip(), 'file', 'exec')\n",
    "        return True\n",
    "    except SyntaxError as e:\n",
    "        if ('no binding' not in e.msg) and ('unexpected indent' not in e.msg) and ('unindent' not in e.msg):\n",
    "            print(e)\n",
    "            if print_snippet:\n",
    "                print(snippet)\n",
    "            return False\n",
    "        else:\n",
    "            return True"
   ]
  },
  {
   "cell_type": "markdown",
   "id": "6be59b19",
   "metadata": {},
   "source": [
    "Предобработка кода: удаление лишних пробелов и синтаксически некорректного кода."
   ]
  },
  {
   "cell_type": "code",
   "execution_count": 26,
   "id": "47688c91",
   "metadata": {},
   "outputs": [
    {
     "data": {
      "text/plain": [
       "Index(['snippet source code', 'num_expr_terms', 'num_statements',\n",
       "       'path_to_file', 'a-index', 'message'],\n",
       "      dtype='object')"
      ]
     },
     "execution_count": 26,
     "metadata": {},
     "output_type": "execute_result"
    }
   ],
   "source": [
    "df.columns"
   ]
  },
  {
   "cell_type": "code",
   "execution_count": 31,
   "id": "94a167ca",
   "metadata": {},
   "outputs": [],
   "source": [
    "df = df.loc[df['snippet source code'].notna()]\n",
    "df['syntax_correct'] = df['snippet source code'].apply(compileSourceCode)\n",
    "df = df.loc[df['syntax_correct']]"
   ]
  },
  {
   "cell_type": "markdown",
   "id": "bf0c6d8e",
   "metadata": {},
   "source": [
    "Функции вычисления метрик"
   ]
  },
  {
   "cell_type": "code",
   "execution_count": 32,
   "id": "37409da4",
   "metadata": {},
   "outputs": [],
   "source": [
    "def computeCyclomaticComplexity(snippet):\n",
    "    return ComplexityVisitor.from_code(snippet).functions_complexity"
   ]
  },
  {
   "cell_type": "code",
   "execution_count": 17,
   "id": "aa9a9a24",
   "metadata": {},
   "outputs": [],
   "source": [
    "def computeHastadMetrics(snippet):\n",
    "    hastad_metrics = h_visit(snippet).total\n",
    "    return {metric:getattr(hastad_metrics, metric) for metric in dir(hastad_metrics) \n",
    "            if (not metric.startswith('_')) and ('index' not in metric) and ('count' not in metric)}"
   ]
  },
  {
   "cell_type": "code",
   "execution_count": 18,
   "id": "c9db9253",
   "metadata": {},
   "outputs": [],
   "source": [
    "def computeRawMetrics(snippet):\n",
    "    try:\n",
    "        raw_metrics = analyze(snippet)\n",
    "        return {metric:getattr(raw_metrics, metric) for metric in dir(raw_metrics) \n",
    "                if (not metric.startswith('_')) and ('index' not in metric) and ('count' not in metric)}\n",
    "    except SyntaxError:\n",
    "        return None"
   ]
  },
  {
   "cell_type": "code",
   "execution_count": 19,
   "id": "c70cb660",
   "metadata": {},
   "outputs": [],
   "source": [
    "def computeMIindex(snippet):\n",
    "    try:\n",
    "        return mi_visit(snippet, multi=False)\n",
    "    except SyntaxError:\n",
    "        return np.nan"
   ]
  },
  {
   "cell_type": "markdown",
   "id": "8ba50b82",
   "metadata": {},
   "source": [
    "# Подсчет метрик"
   ]
  },
  {
   "cell_type": "markdown",
   "id": "parallel-lithuania",
   "metadata": {},
   "source": [
    "## Цикломатическая сложность"
   ]
  },
  {
   "cell_type": "code",
   "execution_count": 33,
   "id": "approximate-burning",
   "metadata": {},
   "outputs": [],
   "source": [
    "df['cc'] = df['snippet source code'].apply(computeCyclomaticComplexity)"
   ]
  },
  {
   "cell_type": "markdown",
   "id": "central-damages",
   "metadata": {},
   "source": [
    "## Метрики Хастада"
   ]
  },
  {
   "cell_type": "code",
   "execution_count": null,
   "id": "south-laptop",
   "metadata": {},
   "outputs": [],
   "source": [
    "hastad_metrics = df['snippet source code'].apply(computeHastadMetrics)"
   ]
  },
  {
   "cell_type": "code",
   "execution_count": null,
   "id": "virgin-mandate",
   "metadata": {},
   "outputs": [],
   "source": [
    "for col in hastad_metrics.loc[0].keys():\n",
    "    df[col] = hastad_metrics.apply(lambda x: x[col])"
   ]
  },
  {
   "cell_type": "markdown",
   "id": "early-findings",
   "metadata": {},
   "source": [
    "## Сырые метрики"
   ]
  },
  {
   "cell_type": "code",
   "execution_count": null,
   "id": "thick-world",
   "metadata": {},
   "outputs": [],
   "source": [
    "raw_metrics = df['snippet source code'].apply(computeRawMetrics)"
   ]
  },
  {
   "cell_type": "code",
   "execution_count": null,
   "id": "minus-activation",
   "metadata": {},
   "outputs": [],
   "source": [
    "for col in raw_metrics.loc[0].keys():\n",
    "    df[col] = raw_metrics.apply(lambda x: x[col] if x else np.nan)"
   ]
  },
  {
   "cell_type": "markdown",
   "id": "backed-spine",
   "metadata": {},
   "source": [
    "## Индекс качества кода"
   ]
  },
  {
   "cell_type": "code",
   "execution_count": null,
   "id": "demonstrated-bleeding",
   "metadata": {},
   "outputs": [],
   "source": [
    "df['MI'] = df['snippet source code'].apply(computeMIindex)"
   ]
  },
  {
   "cell_type": "markdown",
   "id": "160b86d5",
   "metadata": {},
   "source": [
    "# Связь с метриками"
   ]
  },
  {
   "cell_type": "markdown",
   "id": "87c317bf",
   "metadata": {},
   "source": [
    "Формируем список всех метрик."
   ]
  },
  {
   "cell_type": "code",
   "execution_count": null,
   "id": "cf6f9cd8",
   "metadata": {},
   "outputs": [],
   "source": [
    "metric_names = ['cc', 'N1', 'N2', 'bugs', 'calculated_length', 'difficulty',\n",
    "                'effort', 'h1', 'h2', 'length', 'time', 'vocabulary', \n",
    "                'volume', 'blank', 'comments', 'lloc', 'loc', 'multi',\n",
    "                'single_comments', 'sloc', 'MI']"
   ]
  },
  {
   "cell_type": "code",
   "execution_count": null,
   "id": "fa857282",
   "metadata": {},
   "outputs": [],
   "source": [
    "pd.set_option('display.max_columns', 500)"
   ]
  },
  {
   "cell_type": "markdown",
   "id": "8c2f9f0b",
   "metadata": {},
   "source": [
    "Подсчитаем корреляции"
   ]
  },
  {
   "cell_type": "code",
   "execution_count": null,
   "id": "dabf4918",
   "metadata": {},
   "outputs": [],
   "source": [
    "df[metric_names + ['a-index']].corr(method='spearman').round(2)"
   ]
  },
  {
   "cell_type": "markdown",
   "id": "c6fbffd4",
   "metadata": {},
   "source": [
    "Вычислим медианные значения А-индекса при фиксированном значении метрик:"
   ]
  },
  {
   "cell_type": "code",
   "execution_count": null,
   "id": "47c9f90a",
   "metadata": {},
   "outputs": [],
   "source": [
    "def groupedTargetMedian(data, \n",
    "                        feature_name, \n",
    "                        feature_value,\n",
    "                        feature_std,\n",
    "                        target_name):\n",
    "    return data.loc[(data[feature_name] > feature_value - 0.1 * feature_std) &\n",
    "                    (data[feature_name] < feature_value + 0.1 * feature_std), target_name].median(axis=0)"
   ]
  },
  {
   "cell_type": "code",
   "execution_count": null,
   "id": "f8d603f9",
   "metadata": {},
   "outputs": [],
   "source": [
    "stds = df[metric_names].std(axis=0)\n",
    "\n",
    "for metric_name in metric_names:\n",
    "    df['a-index median given ' + metric_name + ' value'] = df[metric_name].apply(lambda x: \n",
    "                                                                                 groupedTargetMedian(df,\n",
    "                                                                                                     metric_name,\n",
    "                                                                                                     x,\n",
    "                                                                                                     stds[metric_name],\n",
    "                                                                                                     'a-index'))"
   ]
  },
  {
   "cell_type": "markdown",
   "id": "9eb661f4",
   "metadata": {},
   "source": [
    "Функция рисования графиков."
   ]
  },
  {
   "cell_type": "code",
   "execution_count": null,
   "id": "3be4b53f",
   "metadata": {},
   "outputs": [],
   "source": [
    "def plotScatterPlots(data, features):\n",
    "    # признаки разбиваются на группы по 5 штук, заводится\n",
    "    # две переменных: var_group_id и var_within_group_id, указывающие\n",
    "    # номер группы и номер внутри группы\n",
    "    # графики выводятся группами по 5 признаков\n",
    "    var_group_index = 0\n",
    "    for var_group_id in range(len(features) // 5 + 1):\n",
    "        # размер графика\n",
    "        plt.figure(figsize = (30, 5))\n",
    "        for var_within_group_id in range(5):\n",
    "            # считаем абсолютный номер переменной: номер группы * 5 + номер внутри группы\n",
    "            var_index = var_within_group_id + var_group_id * 5\n",
    "            if var_index >= len(features):\n",
    "                continue\n",
    "            var_name = features[var_index]\n",
    "            # % означает остаток от деления, var_group_index % 5 - остаток от деления на 5\n",
    "            # в графике размера 1x5 активизируем поле с номером var_index % 5 + 1\n",
    "            plt.subplot(1, 5, var_index % 5 + 1)\n",
    "            sb.scatterplot(x=var_name, y='a-index', data=data)\n",
    "            sb.scatterplot(x=var_name, y='a-index median given ' + var_name + ' value', data=data)\n",
    "            # название поля в графике совпадает с названием переменной\n",
    "            plt.title(var_name)\n",
    "            plt.xlabel('')\n",
    "            if (var_index % 5 == 0): print('Показываются переменные', var_index, 'to',var_index + 5,'...')\n",
    "            #var_group_index += 1\n",
    "        # выводим график на экран\n",
    "        plt.show()\n",
    "    return"
   ]
  },
  {
   "cell_type": "markdown",
   "id": "098ef919",
   "metadata": {},
   "source": [
    "Показаны диаграммы рассеяния между А-индексом и метрикой, а также между медианой А-индекса и метрикой. Для более явной картины убрали выбросы."
   ]
  },
  {
   "cell_type": "code",
   "execution_count": null,
   "id": "f5e77d5e",
   "metadata": {},
   "outputs": [],
   "source": [
    "df.loc[df['N1'] <= 100].shape[0] / df.shape[0] * 100"
   ]
  },
  {
   "cell_type": "code",
   "execution_count": null,
   "id": "2f4b5c46",
   "metadata": {},
   "outputs": [],
   "source": [
    "plotScatterPlots(df.loc[df['N1'] <= 100], metric_names)"
   ]
  },
  {
   "cell_type": "code",
   "execution_count": null,
   "id": "6d0373d0",
   "metadata": {},
   "outputs": [],
   "source": [
    "def plotHistograms(data, features):\n",
    "    # признаки разбиваются на группы по 5 штук, заводится\n",
    "    # две переменных: var_group_id и var_within_group_id, указывающие\n",
    "    # номер группы и номер внутри группы\n",
    "    # графики выводятся группами по 5 признаков\n",
    "    var_group_index = 0\n",
    "    for var_group_id in range(len(features) // 5 + 1):\n",
    "        # размер графика\n",
    "        plt.figure(figsize = (30, 5))\n",
    "        for var_within_group_id in range(5):\n",
    "            # считаем абсолютный номер переменной: номер группы * 5 + номер внутри группы\n",
    "            var_index = var_within_group_id + var_group_id * 5\n",
    "            if var_index >= len(features):\n",
    "                continue\n",
    "            var_name = features[var_index]\n",
    "            # % означает остаток от деления, var_group_index % 5 - остаток от деления на 5\n",
    "            # в графике размера 1x5 активизируем поле с номером var_index % 5 + 1\n",
    "            plt.subplot(1, 5, var_index % 5 + 1)\n",
    "            sb.histplot(x=var_name, data=data, bins=100,\n",
    "                        stat='count')\n",
    "            # название поля в графике совпадает с названием переменной\n",
    "            plt.title(var_name)\n",
    "            plt.xlabel('')\n",
    "            if (var_index % 5 == 0): print('Показываются переменные', var_index, 'to',var_index + 5,'...')\n",
    "            #var_group_index += 1\n",
    "        # выводим график на экран\n",
    "        plt.show()\n",
    "    return"
   ]
  },
  {
   "cell_type": "code",
   "execution_count": null,
   "id": "ed387090",
   "metadata": {},
   "outputs": [],
   "source": [
    "plotHistograms(df.loc[df['N1'] <= 100], metric_names);"
   ]
  },
  {
   "cell_type": "markdown",
   "id": "22c41817",
   "metadata": {},
   "source": [
    "# Выводы\n",
    "\n",
    "- для малых значений метрик (кроме MI) А-индекс уменьшается с ростом значений метрик, а потом для достаточно больших значений он растет в ответ на увеличение значений метрик. Для некоторых метрик поведение немонотонное для больших значений метрик."
   ]
  },
  {
   "cell_type": "markdown",
   "id": "a4594be3",
   "metadata": {},
   "source": [
    "# Анализ распределения А-индекса"
   ]
  },
  {
   "cell_type": "code",
   "execution_count": null,
   "id": "07c50141",
   "metadata": {},
   "outputs": [],
   "source": [
    "sb.histplot(x='a-index', data=df);"
   ]
  },
  {
   "cell_type": "code",
   "execution_count": null,
   "id": "5a4fc1d6",
   "metadata": {},
   "outputs": [],
   "source": [
    "sb.histplot(x='max_consequtive_G_token_occurence', data=df);"
   ]
  },
  {
   "cell_type": "markdown",
   "id": "acb20178",
   "metadata": {},
   "source": [
    "# Анализ распределения А-индекса для короткого кода"
   ]
  },
  {
   "cell_type": "code",
   "execution_count": null,
   "id": "b8d2ea0d",
   "metadata": {},
   "outputs": [],
   "source": [
    "sb.histplot(x='a-index', data=df.loc[df['loc'] <=4], label='короткий код', color='r');\n",
    "sb.histplot(x='a-index', data=df, label='весь код', color='g');\n",
    "plt.legend();"
   ]
  },
  {
   "cell_type": "markdown",
   "id": "29a31431",
   "metadata": {},
   "source": [
    "Вмдно что короткий код имеет более высокий А-индекс."
   ]
  },
  {
   "cell_type": "code",
   "execution_count": null,
   "id": "4760ac9b",
   "metadata": {},
   "outputs": [],
   "source": [
    "sb.scatterplot(x='num_expr_terms',\n",
    "               y='h2',\n",
    "               data=df)"
   ]
  },
  {
   "cell_type": "markdown",
   "id": "c02bd67d",
   "metadata": {},
   "source": [
    "Сложность выражения тесно связана с метрикой числа операндов."
   ]
  },
  {
   "cell_type": "code",
   "execution_count": null,
   "id": "fb1b5eb4",
   "metadata": {},
   "outputs": [],
   "source": []
  }
 ],
 "metadata": {
  "kernelspec": {
   "display_name": "Python 3",
   "language": "python",
   "name": "python3"
  },
  "language_info": {
   "codemirror_mode": {
    "name": "ipython",
    "version": 3
   },
   "file_extension": ".py",
   "mimetype": "text/x-python",
   "name": "python",
   "nbconvert_exporter": "python",
   "pygments_lexer": "ipython3",
   "version": "3.6.13"
  }
 },
 "nbformat": 4,
 "nbformat_minor": 5
}
