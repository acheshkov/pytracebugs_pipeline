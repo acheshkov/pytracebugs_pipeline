{
 "cells": [
  {
   "cell_type": "code",
   "execution_count": 1,
   "metadata": {},
   "outputs": [],
   "source": [
    "import os\n",
    "import sys\n",
    "import pandas as pd\n",
    "from collect_snippets.src.analyze_issues import merge_data_files_into_frame, PATH_TO_DIR_WITH_PICKLE_DATA\n",
    "\n",
    "path = os.path.abspath(os.path.join('..'))\n",
    "sys.path.append(path)"
   ]
  },
  {
   "cell_type": "markdown",
   "metadata": {},
   "source": [
    "# Загрузка багфиксов\n",
    "\n",
    "Чтобы не грузить память, вначале обрабатываем багфиксы."
   ]
  },
  {
   "cell_type": "code",
   "execution_count": 2,
   "metadata": {},
   "outputs": [],
   "source": [
    "whole_data = merge_data_files_into_frame(PATH_TO_DIR_WITH_PICKLE_DATA,\n",
    "                                         file_type='pickle',\n",
    "                                         return_result=['bugfixes'])"
   ]
  },
  {
   "cell_type": "code",
   "execution_count": 3,
   "metadata": {},
   "outputs": [],
   "source": [
    "whole_data_bugfixes = whole_data['bugfixes']\n",
    "del whole_data"
   ]
  },
  {
   "cell_type": "code",
   "execution_count": 4,
   "metadata": {},
   "outputs": [],
   "source": [
    "whole_data_bugfixes = whole_data_bugfixes.drop_duplicates()\n",
    "whole_data_bugfixes.to_pickle(PATH_TO_DIR_WITH_PICKLE_DATA + '/buggy_code/bugfixes.pickle')"
   ]
  },
  {
   "cell_type": "code",
   "execution_count": 5,
   "metadata": {},
   "outputs": [
    {
     "data": {
      "text/plain": [
       "(616087, 14)"
      ]
     },
     "execution_count": 5,
     "metadata": {},
     "output_type": "execute_result"
    }
   ],
   "source": [
    "whole_data_bugfixes.shape"
   ]
  },
  {
   "cell_type": "code",
   "execution_count": 6,
   "metadata": {},
   "outputs": [],
   "source": [
    "del whole_data_bugfixes"
   ]
  },
  {
   "cell_type": "code",
   "execution_count": 18,
   "metadata": {},
   "outputs": [
    {
     "name": "stdout",
     "output_type": "stream",
     "text": [
      "Once deleted, variables cannot be recovered. Proceed (y/[n])? y\n",
      "Flushing input history\n"
     ]
    }
   ],
   "source": [
    "%reset In"
   ]
  },
  {
   "cell_type": "code",
   "execution_count": 19,
   "metadata": {},
   "outputs": [
    {
     "name": "stdout",
     "output_type": "stream",
     "text": [
      "Once deleted, variables cannot be recovered. Proceed (y/[n])? y\n",
      "Flushing output cache (2 entries)\n"
     ]
    }
   ],
   "source": [
    "%reset Out"
   ]
  },
  {
   "cell_type": "markdown",
   "metadata": {},
   "source": [
    "# Загрузка инцидентов"
   ]
  },
  {
   "cell_type": "code",
   "execution_count": 2,
   "metadata": {},
   "outputs": [],
   "source": [
    "whole_data = merge_data_files_into_frame(PATH_TO_DIR_WITH_PICKLE_DATA,\n",
    "                                         file_type='pickle',\n",
    "                                         return_result=['issues'])"
   ]
  },
  {
   "cell_type": "code",
   "execution_count": 3,
   "metadata": {},
   "outputs": [],
   "source": [
    "whole_data_issues = whole_data['issues']"
   ]
  },
  {
   "cell_type": "markdown",
   "metadata": {},
   "source": [
    "# Фильтрация инцидентов (инциденты с traceback)"
   ]
  },
  {
   "cell_type": "code",
   "execution_count": 4,
   "metadata": {},
   "outputs": [],
   "source": [
    "def has_error_message(error_info):\n",
    "    return any(error_item['piece_type'] == 'error message' for error_item in error_info)\n",
    "\n",
    "\n",
    "traceback_issues = whole_data_issues.loc[whole_data_issues['source code and errors'].apply(has_error_message)]"
   ]
  },
  {
   "cell_type": "code",
   "execution_count": 7,
   "metadata": {},
   "outputs": [
    {
     "data": {
      "text/plain": [
       "Index(['title', 'url', 'bodyHTML', 'bug report', 'closedAt', 'createdAt',\n",
       "       'publishedAt', 'author', 'labels',\n",
       "       'referencing commits not linked to PRs',\n",
       "       'referencing commits linked to PRs',\n",
       "       'closing commits not linked to PRs', 'closing commits linked to PRs',\n",
       "       'closing PRs', 'linked PRs', 'mentioning PRs',\n",
       "       'PRs for referencing commits', 'duplicate',\n",
       "       'has mentioning, linked or closing PRs', 'has related commits and PRs',\n",
       "       'source code and errors', 'keyword closing PRs', 'non-closing PRs',\n",
       "       'relevant non-closing PRs', 'all relevant PRs', 'most relevant PRs',\n",
       "       'keyword closing commits', 'non-closing commits',\n",
       "       'relevant non-closing commits', 'all relevant commits',\n",
       "       'most relevant commits'],\n",
       "      dtype='object')"
      ]
     },
     "execution_count": 7,
     "metadata": {},
     "output_type": "execute_result"
    }
   ],
   "source": [
    "traceback_issues.columns"
   ]
  },
  {
   "cell_type": "code",
   "execution_count": 10,
   "metadata": {},
   "outputs": [],
   "source": [
    "traceback_issues.to_pickle(PATH_TO_DIR_WITH_PICKLE_DATA + '/buggy_code/traceback_issues.pickle')"
   ]
  }
 ],
 "metadata": {
  "kernelspec": {
   "display_name": "Python 3",
   "language": "python",
   "name": "python3"
  },
  "language_info": {
   "codemirror_mode": {
    "name": "ipython",
    "version": 3
   },
   "file_extension": ".py",
   "mimetype": "text/x-python",
   "name": "python",
   "nbconvert_exporter": "python",
   "pygments_lexer": "ipython3",
   "version": "3.8.5"
  }
 },
 "nbformat": 4,
 "nbformat_minor": 4
}
