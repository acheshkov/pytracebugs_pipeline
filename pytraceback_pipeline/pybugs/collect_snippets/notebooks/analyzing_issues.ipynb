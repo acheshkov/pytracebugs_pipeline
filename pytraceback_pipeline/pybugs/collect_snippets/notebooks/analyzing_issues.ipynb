{
 "cells": [
  {
   "cell_type": "code",
   "execution_count": 8,
   "metadata": {},
   "outputs": [],
   "source": [
    "import os\n",
    "import sys\n",
    " \n",
    "path = os.path.abspath(os.path.join('..'))\n",
    "sys.path.append(path)"
   ]
  },
  {
   "cell_type": "code",
   "execution_count": 2,
   "metadata": {},
   "outputs": [],
   "source": [
    "import pandas as pd\n",
    "from collect_snippets.src.analyze_issues import merge_data_files_into_frame, filter_PRs, filter_commits,\\\n",
    "    PATH_TO_DIR_WITH_PICKLE_DATA"
   ]
  },
  {
   "cell_type": "markdown",
   "metadata": {
    "pycharm": {
     "name": "#%% md\n"
    }
   },
   "source": [
    "# Загрузка данных об инцидентах всех репозиториев большого списка\n",
    "\n"
   ]
  },
  {
   "cell_type": "code",
   "execution_count": 3,
   "metadata": {
    "pycharm": {
     "name": "#%%\n"
    }
   },
   "outputs": [],
   "source": [
    "whole_data = merge_data_files_into_frame(PATH_TO_DIR_WITH_PICKLE_DATA,\n",
    "                                         file_type='pickle')\n",
    "whole_data = whole_data['issues']"
   ]
  },
  {
   "cell_type": "markdown",
   "metadata": {
    "pycharm": {
     "name": "#%% md\n"
    }
   },
   "source": [
    "# Фильтрация пулл-реквестов"
   ]
  },
  {
   "cell_type": "markdown",
   "metadata": {
    "pycharm": {
     "name": "#%% md\n"
    }
   },
   "source": [
    "Существует стандартная практика при создании пулл-реквестов, в рамках которой в описании пулл-реквеста дается ссылка на инцидент (issue),\n",
    "при этом в истории этого инцидента дается ссылка на данный пулл-реквест. Иногда бывает так, что в истории инцидента пулл-реквест упомянут (т.е. есть ссылка на него в timeline этого инцидента),\n",
    "но в тексте сообщения этого пулл-реквеста ссылка на инцидент отсутствует. Такое может быть по следующим причинам:\n",
    "\n",
    "- если разработчик пулл-реквеста\n",
    "не знает о каком-то инциденте, он в тексте сообщения не дает ссылки на инцидент, тогда как в истории инцидента ссылка на этот пулл-реквест присутствует, поскольку связь пулл-реквеста и инцидента была кем-то замечена,\n",
    "например, самим разработчиком этого пулл-реквеста;\n",
    "\n",
    "- если пишется пулл-реквест и только потом регистрируется инцидент;\n",
    "\n",
    "- изменения, входящие в пулл-реквест, могут разрешать также и другие инциденты, а исправление данного инцидента является побочным продуктом данного пулл-реквеста; \n",
    "\n",
    "- пулл-реквест ссылается на инцидент на своей странице, но не в своем сообщении непосредственно.\n",
    "\n",
    "В дальнейшем предполагается использовать только следующие пулл-реквесты со статусом `merged`, упомянутые на странице инцидента:\n",
    "\n",
    "- закрывающие пулл-реквесты; \n",
    "\n",
    "- среди незакрывающих пулл-реквестов те из них, которые ссылаются на обрабатываемые ими инциденты либо в своем сообщении, либо в заголовке.\n",
    "\n",
    "Код ниже реализует эту фильтрацию. По результатам работы этого кода в данные об отфильтрованных пулл-реквестах добавляется информация обо всех инцидентах, на которые в тексте соообщения пулл-реквеста имеется ссылка. Кроме того, в данные о пулл-реквестах добавляется также инфрмация о токенах (словах), предшествующих появлению этих ссылок в тексте пулл-реквестов. \n",
    "\n",
    "Создается новая колонка `keyword closing PRs` содержащая незакрывающие пулл-реквесты, привязанные к инциденту при помощи специальных предопределенных слов [см ссылку](https://docs.github.com/en/github/managing-your-work-on-github/linking-a-pull-request-to-an-issue#linking-a-pull-request-to-an-issue-using-a-keyword) Также создается еще две колонки: `non-closing PRs` и `relevent non-closing PRs`. Первая из этих колонок содержит пулл-реквесты, содержащие ссылку на инцидент (в тексте или заголовке), а вторая - пулл-реквесты, в тексте которых данной ссылке предшествуют некоторые предопределенные слова, дополнительно подтверждающие, что пулл-реквест именно исправляет данную ошибку, а не просто ссылается на данный инцидент."
   ]
  },
  {
   "cell_type": "code",
   "execution_count": 6,
   "metadata": {
    "pycharm": {
     "name": "#%%\n"
    }
   },
   "outputs": [],
   "source": [
    "def at_least_one_PR_treats_several_issues(PRs_infos):\n",
    "    for PR_info in PRs_infos:\n",
    "        if len(PR_info['linked_issues']) > 1:\n",
    "            return True\n",
    "    return False"
   ]
  },
  {
   "cell_type": "markdown",
   "metadata": {
    "pycharm": {
     "name": "#%% md\n"
    }
   },
   "source": [
    "Посмотрим на распределение токенов в тексте сообщения незакрывающих пулл-реквестов (колонка `non-closing PRs`), отстоящих от ссылок на инциденты не более, чем на 10 токенов."
   ]
  },
  {
   "cell_type": "code",
   "execution_count": 12,
   "metadata": {
    "pycharm": {
     "name": "#%%\n"
    }
   },
   "outputs": [],
   "source": [
    "def aggregate_PRs_tokens_given_issue(PRs_infos, \n",
    "                                     issue_url):\n",
    "    PRs_messages_tokens = ''\n",
    "    for PR_info in PRs_infos:\n",
    "        for tokens in (PR_info['linked_issues'][issue_url] \n",
    "                       if issue_url in PR_info['linked_issues'] else []):\n",
    "            PRs_messages_tokens += ' '.join(tokens) + ' '\n",
    "    return PRs_messages_tokens"
   ]
  },
  {
   "cell_type": "markdown",
   "metadata": {
    "pycharm": {
     "name": "#%% md\n"
    }
   },
   "source": [
    "Удалим знаки препинания и стоп-слова. Покажем частоты каждого токена."
   ]
  },
  {
   "cell_type": "code",
   "execution_count": 13,
   "metadata": {
    "pycharm": {
     "name": "#%%\n"
    }
   },
   "outputs": [
    {
     "name": "stderr",
     "output_type": "stream",
     "text": [
      "[nltk_data] Downloading package stopwords to /home/kks/nltk_data...\n",
      "[nltk_data]   Package stopwords is already up-to-date!\n"
     ]
    }
   ],
   "source": [
    "from collections import Counter\n",
    "import string\n",
    "import nltk\n",
    "nltk.download('stopwords')\n",
    "from nltk.corpus import stopwords"
   ]
  },
  {
   "cell_type": "markdown",
   "metadata": {
    "pycharm": {
     "name": "#%% md\n"
    }
   },
   "source": [
    "Следующий код собственно реализует поиск наиболее часто встречающихся предшествующих токенов"
   ]
  },
  {
   "cell_type": "code",
   "execution_count": 14,
   "metadata": {
    "pycharm": {
     "name": "#%%\n"
    },
    "scrolled": false
   },
   "outputs": [
    {
     "data": {
      "text/plain": [
       "[('issue', 5360),\n",
       " ('fix', 4088),\n",
       " ('fixes', 3006),\n",
       " ('pr', 2418),\n",
       " ('issues', 2300),\n",
       " ('see', 1840),\n",
       " ('related', 1574),\n",
       " ('reference', 1410),\n",
       " ('addresses', 1258),\n",
       " ('refs', 1048),\n",
       " ('summary', 968),\n",
       " ('bugfix', 924),\n",
       " ('bug', 882),\n",
       " ('feature', 538),\n",
       " ('test', 502),\n",
       " ('address', 483),\n",
       " ('closes', 452),\n",
       " ('changes', 436),\n",
       " ('fixed', 423),\n",
       " ('purpose', 423),\n",
       " ('also', 412),\n",
       " ('description', 407),\n",
       " ('reported', 403),\n",
       " ('resolves', 390),\n",
       " ('request', 369),\n",
       " ('error', 343),\n",
       " ('tests', 324),\n",
       " ('pull', 316),\n",
       " ('add', 310),\n",
       " ('described', 308),\n",
       " ('available', 307),\n",
       " ('part', 301),\n",
       " ('fixing', 296),\n",
       " ('version', 292),\n",
       " ('change', 286),\n",
       " ('problem', 272),\n",
       " ('number', 272),\n",
       " ('solve', 258),\n",
       " ('work', 258),\n",
       " ('solves', 237),\n",
       " ('use', 228),\n",
       " ('information', 227),\n",
       " ('ref', 226),\n",
       " ('new', 224),\n",
       " ('like', 220),\n",
       " ('workaround', 219),\n",
       " ('python', 216),\n",
       " ('references', 203),\n",
       " ('using', 201),\n",
       " ('one', 200),\n",
       " ('additional', 197),\n",
       " ('module', 193),\n",
       " ('mentioned', 192),\n",
       " ('file', 192),\n",
       " ('added', 183),\n",
       " ('support', 183),\n",
       " ('discussed', 183),\n",
       " ('due', 182),\n",
       " ('code', 180),\n",
       " ('following', 178),\n",
       " ('update', 159),\n",
       " ('name', 159),\n",
       " ('relates', 158),\n",
       " ('per', 158),\n",
       " ('documentation', 158),\n",
       " ('list', 155),\n",
       " ('check', 153),\n",
       " ('discussion', 152),\n",
       " ('link', 149),\n",
       " ('solution', 142),\n",
       " ('ansible', 142),\n",
       " ('case', 141),\n",
       " ('first', 135),\n",
       " ('type', 134),\n",
       " ('proposed', 132),\n",
       " ('adds', 132),\n",
       " ('default', 132),\n",
       " ('user', 129),\n",
       " ('raised', 128),\n",
       " ('instead', 127),\n",
       " ('commit', 126),\n",
       " ('api', 125),\n",
       " ('backport', 124),\n",
       " ('possible', 123),\n",
       " ('data', 122),\n",
       " ('found', 120),\n",
       " ('docs', 120),\n",
       " ('broken', 119),\n",
       " ('make', 119),\n",
       " ('example', 116),\n",
       " ('avoid', 115),\n",
       " ('bugs', 112),\n",
       " ('missing', 111),\n",
       " ('would', 110),\n",
       " ('review', 110),\n",
       " ('used', 109),\n",
       " ('errors', 108),\n",
       " ('set', 107),\n",
       " ('windows', 107),\n",
       " ('needed', 107)]"
      ]
     },
     "execution_count": 14,
     "metadata": {},
     "output_type": "execute_result"
    }
   ],
   "source": [
    "non_closing_PRs_tokens = whole_data[['non-closing PRs', 'url']].apply(lambda x:\n",
    "                                                                      aggregate_PRs_tokens_given_issue(x['non-closing PRs'],\n",
    "                                                                                                       x['url']),\n",
    "                                                                      axis=1).agg(func='sum')\n",
    "\n",
    "non_closing_PRs_tokens = non_closing_PRs_tokens.translate(str.maketrans('', '', string.punctuation))\n",
    "\n",
    "PRs_tokens_counts = Counter(w for w in (non_closing_PRs_tokens).split() \n",
    "                            if not w in set(stopwords.words('english')))\n",
    "PRs_tokens_counts.most_common(100)"
   ]
  },
  {
   "cell_type": "markdown",
   "metadata": {
    "pycharm": {
     "name": "#%% md\n"
    }
   },
   "source": [
    "# Список пулл-реквестов, содержащих в тексте сообщения заданный токен"
   ]
  },
  {
   "cell_type": "code",
   "execution_count": 15,
   "metadata": {
    "pycharm": {
     "name": "#%%\n"
    }
   },
   "outputs": [],
   "source": [
    "def select_PRs_containing_token_given_issue(PRs_infos, \n",
    "                                            issue_url, \n",
    "                                            token):\n",
    "    for PR_info in PRs_infos:\n",
    "        for preceding_tokens in (PR_info['linked_issues'][issue_url] \n",
    "                                 if issue_url in PR_info['linked_issues'] else []):\n",
    "            for preceding_token in preceding_tokens:\n",
    "                if token in preceding_token:\n",
    "                    return True\n",
    "    return False"
   ]
  },
  {
   "cell_type": "code",
   "execution_count": 16,
   "metadata": {
    "pycharm": {
     "name": "#%%\n"
    }
   },
   "outputs": [],
   "source": [
    "token = 'backport'\n",
    "token_whole_data = whole_data.loc[whole_data[['relevant non-closing PRs', \n",
    "                                              'url']].apply(lambda x: select_PRs_containing_token_given_issue(x['relevant non-closing PRs'], \n",
    "                                                                                                              x['url'],\n",
    "                                                                                                              token),\n",
    "                                                            axis=1)]"
   ]
  },
  {
   "cell_type": "markdown",
   "metadata": {
    "pycharm": {
     "name": "#%% md\n"
    }
   },
   "source": [
    "# Фильтрация коммитов\n",
    "\n",
    "По тем же принципам, что и для пулл-реквестов, построена также и фильтрация коммитов. Коммиты, особенно те из них, которые находятся внутри пулл-реквестов, могут вообще не содержать никаких ссылок на инцидент с своих заголовках и сообщениях. В коде ниже фильтруются только те коммиты, которые имеют явную ссылку на себя на странице инцидента."
   ]
  },
  {
   "cell_type": "markdown",
   "metadata": {
    "pycharm": {
     "name": "#%% md\n"
    }
   },
   "source": [
    "# Фильтрация инцидентов\n",
    "\n",
    "Посмотрим сколько инцидентов имеют в тексте своего сообщения полный лог ошибки (traceback)."
   ]
  },
  {
   "cell_type": "code",
   "execution_count": 9,
   "metadata": {
    "pycharm": {
     "name": "#%%\n"
    }
   },
   "outputs": [],
   "source": [
    "def has_error_message(error_info):\n",
    "    return any(error_item['piece_type'] == 'error message' for error_item in error_info)\n",
    "\n",
    "\n",
    "traceback_issues = whole_data.loc[whole_data['source code and errors'].apply(has_error_message)]\n",
    "traceback_issues.to_pickle(path + '/data/traceback_issues.pickle')"
   ]
  },
  {
   "cell_type": "markdown",
   "metadata": {
    "pycharm": {
     "name": "#%% md\n"
    }
   },
   "source": [
    "# Оставшиеся вопросы\n",
    "\n",
    "- надо ли фильтровать по статусу коммита (с `None`, `Success` и `Failure` точно можно, непонятно что с `Pending` или `Error`)\n",
    "\n",
    "- надо ли отдельно обрабатывать коммит, если содержащий его пулл-реквест тоже планируется обрабатывать для данного инцидента (дать задание Илье делать такую проверку)\n",
    "\n",
    "- оттестировать код фильтрации коммитов и пулл-реквестов"
   ]
  }
 ],
 "metadata": {
  "kernelspec": {
   "display_name": "Python 3",
   "language": "python",
   "name": "python3"
  },
  "language_info": {
   "codemirror_mode": {
    "name": "ipython",
    "version": 3
   },
   "file_extension": ".py",
   "mimetype": "text/x-python",
   "name": "python",
   "nbconvert_exporter": "python",
   "pygments_lexer": "ipython3",
   "version": "3.8.5"
  }
 },
 "nbformat": 4,
 "nbformat_minor": 1
}
