{
 "cells": [
  {
   "cell_type": "code",
   "execution_count": 1,
   "id": "unauthorized-charleston",
   "metadata": {},
   "outputs": [],
   "source": [
    "import pandas as pd\n",
    "import numpy as np\n",
    "import seaborn as sns\n",
    "import matplotlib.pyplot as plt"
   ]
  },
  {
   "cell_type": "markdown",
   "id": "northern-volunteer",
   "metadata": {},
   "source": [
    "# Загрузка данных по корректному коду\n",
    "\n",
    "Загрузим данные по коду с ошибками без разбиения на обучающую, валидационную и тестовую выборки."
   ]
  },
  {
   "cell_type": "code",
   "execution_count": 2,
   "id": "filled-tuning",
   "metadata": {},
   "outputs": [],
   "source": [
    "path_to_data = '/home/kks/zephyr_data/stable_code/'"
   ]
  },
  {
   "cell_type": "code",
   "execution_count": 3,
   "id": "legendary-assessment",
   "metadata": {},
   "outputs": [],
   "source": [
    "source_code_data = pd.read_pickle(path_to_data + 'top_proj_code_samples_v4_metrics.pickle')"
   ]
  },
  {
   "cell_type": "code",
   "execution_count": 4,
   "id": "republican-intellectual",
   "metadata": {},
   "outputs": [],
   "source": [
    "metric_names = ['cc_before', 'is function_before', \n",
    "                'cc_rank_before', 'N1_before', 'N2_before',\n",
    "                'bugs_before', 'calculated_length_before',\n",
    "                'difficulty_before', 'effort_before', 'h1_before', 'h2_before',\n",
    "                'length_before', 'time_before',\n",
    "                'vocabulary_before', 'volume_before',\n",
    "                'blank_before', 'comments_before',\n",
    "                'lloc_before', 'loc_before',\n",
    "                'multi_before', 'single_comments_before',\n",
    "                'sloc_before', 'MI_before']"
   ]
  },
  {
   "cell_type": "markdown",
   "id": "flying-joint",
   "metadata": {},
   "source": [
    "# Описание датасета с ошибками на уровне метрик\n",
    "\n",
    "Все описываемые ниже метрики вычислены в библиотеке [Radon](https://radon.readthedocs.io/en/latest/). По этой ссылке можно найти пояснения к метрикам. Метрики достаточно стандарные, и включают в себя\n",
    "\n",
    "- сырые метрики, вычисляемые по тексту сниппета\n",
    "- метрики Халстеда, описывающие структурную сложность\n",
    "- метрики сложности кода (цикломатическая сложность и индекс исправляемости кода)\n",
    "\n",
    "# Сырые метрики\n",
    "\n",
    "## Длина кода сниппетов (число строк)\n",
    "\n",
    "Посмотрим на распределение сниппетов стабильного кода по длине (метрика source lines of code, sloc). При расчете этой метрики учитываются только строки с исходным кодом. Подсчитаем различные статистики по этой метрике."
   ]
  },
  {
   "cell_type": "code",
   "execution_count": 6,
   "id": "professional-english",
   "metadata": {},
   "outputs": [
    {
     "name": "stdout",
     "output_type": "stream",
     "text": [
      "Среднее значение числа строк кода равно 12.472196930959074.\n",
      "Медиана числа строк кода равна 6.0.\n",
      "С.к.о числа строк кода равно 91.87905521340579.\n",
      "25-й персентиль числа строк кода равен 3.0.\n",
      "75-й персентиль числа строк кода равен 14.0.\n",
      "90-й персентиль числа строк кода равен 28.0.\n",
      "Минимум числа строк кода равен 1.0.\n",
      "Максимум числа строк кода равен 165021.0.\n"
     ]
    }
   ],
   "source": [
    "print(f'Среднее значение числа строк кода равно {source_code_data[\"sloc_before\"].mean()}.')\n",
    "print(f'Медиана числа строк кода равна {source_code_data[\"sloc_before\"].median()}.')\n",
    "print(f'С.к.о числа строк кода равно {source_code_data[\"sloc_before\"].std()}.')\n",
    "print(f'25-й персентиль числа строк кода равен {source_code_data[\"sloc_before\"].quantile(q=0.25)}.')\n",
    "print(f'75-й персентиль числа строк кода равен {source_code_data[\"sloc_before\"].quantile(q=0.75)}.')\n",
    "print(f'90-й персентиль числа строк кода равен {source_code_data[\"sloc_before\"].quantile(q=0.90)}.')\n",
    "print(f'Минимум числа строк кода равен {source_code_data[\"sloc_before\"].min()}.')\n",
    "print(f'Максимум числа строк кода равен {source_code_data[\"sloc_before\"].max()}.')"
   ]
  },
  {
   "cell_type": "markdown",
   "id": "undefined-isolation",
   "metadata": {},
   "source": [
    "Таким образом, 90% сниппетов кода с ошибками имеют длину до 28 строк, а 75% из них - длину до 14."
   ]
  },
  {
   "cell_type": "markdown",
   "id": "chicken-ordering",
   "metadata": {},
   "source": [
    "## Число утверждений (statements)\n",
    "\n",
    "Подсчитаем количество логических утверждений в коде сниппетов. Одна строка кода может содержать несколько логических утверждений."
   ]
  },
  {
   "cell_type": "code",
   "execution_count": 7,
   "id": "missing-craft",
   "metadata": {},
   "outputs": [
    {
     "name": "stdout",
     "output_type": "stream",
     "text": [
      "Среднее значение числа утверждений равно 10.514437735150581.\n",
      "Медиана числа утверждений равна 6.0.\n",
      "С.к.о числа утверждений равно 81.85919777516426.\n",
      "25-й персентиль числа утверждений равен 3.0.\n",
      "75-й персентиль числа утверждений равен 12.0.\n",
      "90-й персентиль числа утверждений равен 23.0.\n",
      "Минимум числа утверждений равен 2.0.\n",
      "Максимум числа утверждений равен 165021.0.\n"
     ]
    }
   ],
   "source": [
    "print(f'Среднее значение числа утверждений равно {source_code_data[\"lloc_before\"].mean()}.')\n",
    "print(f'Медиана числа утверждений равна {source_code_data[\"lloc_before\"].median()}.')\n",
    "print(f'С.к.о числа утверждений равно {source_code_data[\"lloc_before\"].std()}.')\n",
    "print(f'25-й персентиль числа утверждений равен {source_code_data[\"lloc_before\"].quantile(q=0.25)}.')\n",
    "print(f'75-й персентиль числа утверждений равен {source_code_data[\"lloc_before\"].quantile(q=0.75)}.')\n",
    "print(f'90-й персентиль числа утверждений равен {source_code_data[\"lloc_before\"].quantile(q=0.90)}.')\n",
    "print(f'Минимум числа утверждений равен {source_code_data[\"lloc_before\"].min()}.')\n",
    "print(f'Максимум числа утверждений равен {source_code_data[\"lloc_before\"].max()}.')"
   ]
  },
  {
   "cell_type": "markdown",
   "id": "hazardous-hundred",
   "metadata": {},
   "source": [
    "Посмотрим на взаимное распределение числа строк и числа утверждений:"
   ]
  },
  {
   "cell_type": "code",
   "execution_count": 8,
   "id": "statewide-nursing",
   "metadata": {},
   "outputs": [
    {
     "data": {
      "image/png": "[encoded data removed]",
      "text/plain": [
       "<Figure size 432x288 with 1 Axes>"
      ]
     },
     "metadata": {
      "needs_background": "light"
     },
     "output_type": "display_data"
    }
   ],
   "source": [
    "sns.boxplot(x='lloc_before',\n",
    "            data=source_code_data.loc[source_code_data['lloc_before'] < 50]);"
   ]
  },
  {
   "cell_type": "code",
   "execution_count": 9,
   "id": "marine-appointment",
   "metadata": {},
   "outputs": [
    {
     "data": {
      "image/png": "[encoded data removed]",
      "text/plain": [
       "<Figure size 432x288 with 1 Axes>"
      ]
     },
     "metadata": {
      "needs_background": "light"
     },
     "output_type": "display_data"
    }
   ],
   "source": [
    "sns.boxplot(x='sloc_before',\n",
    "            data=source_code_data.loc[source_code_data['lloc_before'] < 50]);"
   ]
  },
  {
   "cell_type": "markdown",
   "id": "split-basement",
   "metadata": {},
   "source": [
    "Даже при ограничении на число строк кода стабильный код содержит много сниппетов, содержащих строки кода, включающие много утверждений."
   ]
  },
  {
   "cell_type": "markdown",
   "id": "caring-dayton",
   "metadata": {},
   "source": [
    "Посмотрим на отношение:"
   ]
  },
  {
   "cell_type": "code",
   "execution_count": 10,
   "id": "tired-transparency",
   "metadata": {},
   "outputs": [
    {
     "data": {
      "image/png": "[encoded data removed]",
      "text/plain": [
       "<Figure size 432x288 with 1 Axes>"
      ]
     },
     "metadata": {
      "needs_background": "light"
     },
     "output_type": "display_data"
    }
   ],
   "source": [
    "source_code_data['sloc_to_lloc_ratio_before'] = source_code_data['sloc_before'] / source_code_data['lloc_before']\n",
    "sns.boxplot(x='sloc_to_lloc_ratio_before',\n",
    "            data=source_code_data);"
   ]
  },
  {
   "cell_type": "markdown",
   "id": "viral-permission",
   "metadata": {},
   "source": [
    "Уберем выбросы:"
   ]
  },
  {
   "cell_type": "code",
   "execution_count": 16,
   "id": "blank-sword",
   "metadata": {},
   "outputs": [
    {
     "data": {
      "image/png": "[encoded data removed]",
      "text/plain": [
       "<Figure size 432x288 with 1 Axes>"
      ]
     },
     "metadata": {
      "needs_background": "light"
     },
     "output_type": "display_data"
    }
   ],
   "source": [
    "sns.boxplot(x='sloc_to_lloc_ratio_before',\n",
    "            data=source_code_data.loc[source_code_data['sloc_to_lloc_ratio_before'] < 10]);"
   ]
  },
  {
   "cell_type": "code",
   "execution_count": 11,
   "id": "fallen-candidate",
   "metadata": {},
   "outputs": [
    {
     "name": "stdout",
     "output_type": "stream",
     "text": [
      "Медиана отношения равна 1.0.\n"
     ]
    }
   ],
   "source": [
    "print(f'Медиана отношения равна {source_code_data[\"sloc_to_lloc_ratio_before\"].median()}.')"
   ]
  },
  {
   "cell_type": "markdown",
   "id": "wanted-mailman",
   "metadata": {},
   "source": [
    "Таким образом, половина сниппетов имеют отношение числа строк кода к числу утверждений близкое к 1, т.е. в одной строке расположено примерно одно утверждение."
   ]
  },
  {
   "cell_type": "markdown",
   "id": "invisible-leone",
   "metadata": {},
   "source": [
    "## Число однострочных комментариев"
   ]
  },
  {
   "cell_type": "code",
   "execution_count": 12,
   "id": "promotional-geneva",
   "metadata": {},
   "outputs": [
    {
     "name": "stdout",
     "output_type": "stream",
     "text": [
      "Среднее значение числа однострочных комментариев равно 0.9307041794264751.\n",
      "Медиана числа однострочных комментариев равна 0.0.\n",
      "С.к.о числа однострочных комментариев равно 4.078649112061133.\n",
      "25-й персентиль числа однострочных комментариев равен 0.0.\n",
      "75-й персентиль числа однострочных комментариев равен 1.0.\n",
      "90-й персентиль числа однострочных комментариев равен 2.0.\n",
      "Минимум числа однострочных комментариев равен 0.0.\n",
      "Максимум числа однострочных комментариев равен 1463.0.\n"
     ]
    }
   ],
   "source": [
    "print(f'Среднее значение числа однострочных комментариев равно {source_code_data[\"single_comments_before\"].mean()}.')\n",
    "print(f'Медиана числа однострочных комментариев равна {source_code_data[\"single_comments_before\"].median()}.')\n",
    "print(f'С.к.о числа однострочных комментариев равно {source_code_data[\"single_comments_before\"].std()}.')\n",
    "print(f'25-й персентиль числа однострочных комментариев равен {source_code_data[\"single_comments_before\"].quantile(q=0.25)}.')\n",
    "print(f'75-й персентиль числа однострочных комментариев равен {source_code_data[\"single_comments_before\"].quantile(q=0.75)}.')\n",
    "print(f'90-й персентиль числа однострочных комментариев равен {source_code_data[\"single_comments_before\"].quantile(q=0.90)}.')\n",
    "print(f'Минимум числа однострочных комментариев равен {source_code_data[\"single_comments_before\"].min()}.')\n",
    "print(f'Максимум числа однострочных комментариев равен {source_code_data[\"single_comments_before\"].max()}.')"
   ]
  },
  {
   "cell_type": "markdown",
   "id": "direct-pickup",
   "metadata": {},
   "source": [
    "# Число многострочных строк"
   ]
  },
  {
   "cell_type": "code",
   "execution_count": 13,
   "id": "furnished-warrior",
   "metadata": {},
   "outputs": [
    {
     "name": "stdout",
     "output_type": "stream",
     "text": [
      "Среднее значение числа многострочных строк равно 2.5116035625954023.\n",
      "Медиана числа многострочных строк равна 0.0.\n",
      "С.к.о числа многострочных строк равно 7.355229012036928.\n",
      "25-й персентиль числа многострочных строк равен 0.0.\n",
      "75-й персентиль числа многострочных строк равен 3.0.\n",
      "90-й персентиль числа многострочных строк равен 8.0.\n",
      "Минимум числа многострочных строк равен 0.0.\n",
      "Максимум числа многострочных строк равен 1085.0.\n"
     ]
    }
   ],
   "source": [
    "print(f'Среднее значение числа многострочных строк равно {source_code_data[\"multi_before\"].mean()}.')\n",
    "print(f'Медиана числа многострочных строк равна {source_code_data[\"multi_before\"].median()}.')\n",
    "print(f'С.к.о числа многострочных строк равно {source_code_data[\"multi_before\"].std()}.')\n",
    "print(f'25-й персентиль числа многострочных строк равен {source_code_data[\"multi_before\"].quantile(q=0.25)}.')\n",
    "print(f'75-й персентиль числа многострочных строк равен {source_code_data[\"multi_before\"].quantile(q=0.75)}.')\n",
    "print(f'90-й персентиль числа многострочных строк равен {source_code_data[\"multi_before\"].quantile(q=0.90)}.')\n",
    "print(f'Минимум числа многострочных строк равен {source_code_data[\"multi_before\"].min()}.')\n",
    "print(f'Максимум числа многострочных строк равен {source_code_data[\"multi_before\"].max()}.')"
   ]
  },
  {
   "cell_type": "markdown",
   "id": "collaborative-voice",
   "metadata": {},
   "source": [
    "Видно, что у половины сниппетов нет многострочных строк."
   ]
  },
  {
   "cell_type": "markdown",
   "id": "minor-crystal",
   "metadata": {},
   "source": [
    "## Отношения метрик\n",
    "\n",
    "Подсчитаем отношение метрик: суммы числа однострочных комментариев и многострочных строк к числу строк кода"
   ]
  },
  {
   "cell_type": "code",
   "execution_count": 18,
   "id": "explicit-graham",
   "metadata": {},
   "outputs": [],
   "source": [
    "source_code_data['comments_n_multiline_ratio_before'] = (source_code_data['single_comments_before'] + source_code_data['multi_before']) / source_code_data['sloc_before']"
   ]
  },
  {
   "cell_type": "code",
   "execution_count": 19,
   "id": "nutritional-punishment",
   "metadata": {},
   "outputs": [
    {
     "name": "stdout",
     "output_type": "stream",
     "text": [
      "Среднее значение отношения равно 0.47269781968878877.\n",
      "Медиана отношения равна 0.0.\n",
      "С.к.о отношения равно 1.3737370312867925.\n",
      "25-й персентиль отношения равен 0.0.\n",
      "75-й персентиль отношения равен 0.4444444444444444.\n",
      "90-й персентиль отношения равен 1.4.\n",
      "Минимум отношения равен 0.0.\n",
      "Максимум отношения равен 235.0.\n"
     ]
    }
   ],
   "source": [
    "print(f'Среднее значение отношения равно {source_code_data[\"comments_n_multiline_ratio_before\"].mean()}.')\n",
    "print(f'Медиана отношения равна {source_code_data[\"comments_n_multiline_ratio_before\"].median()}.')\n",
    "print(f'С.к.о отношения равно {source_code_data[\"comments_n_multiline_ratio_before\"].std()}.')\n",
    "print(f'25-й персентиль отношения равен {source_code_data[\"comments_n_multiline_ratio_before\"].quantile(q=0.25)}.')\n",
    "print(f'75-й персентиль отношения равен {source_code_data[\"comments_n_multiline_ratio_before\"].quantile(q=0.75)}.')\n",
    "print(f'90-й персентиль отношения равен {source_code_data[\"comments_n_multiline_ratio_before\"].quantile(q=0.90)}.')\n",
    "print(f'Минимум отношения равен {source_code_data[\"comments_n_multiline_ratio_before\"].min()}.')\n",
    "print(f'Максимум отношения равен {source_code_data[\"comments_n_multiline_ratio_before\"].max()}.')"
   ]
  },
  {
   "cell_type": "markdown",
   "id": "wooden-nothing",
   "metadata": {},
   "source": [
    "У половины сниппетов отношение равно 0 как и следовало ожидать. У 75% сниппетов число однострочных комментариев плюс число многострочных строк не превосходит числа строк кода."
   ]
  },
  {
   "cell_type": "markdown",
   "id": "pleased-association",
   "metadata": {},
   "source": [
    "## Корреляции между рассмотренными метриками\n"
   ]
  },
  {
   "cell_type": "code",
   "execution_count": 20,
   "id": "deluxe-concrete",
   "metadata": {},
   "outputs": [
    {
     "data": {
      "text/html": [
       "<div>\n",
       "<style scoped>\n",
       "    .dataframe tbody tr th:only-of-type {\n",
       "        vertical-align: middle;\n",
       "    }\n",
       "\n",
       "    .dataframe tbody tr th {\n",
       "        vertical-align: top;\n",
       "    }\n",
       "\n",
       "    .dataframe thead th {\n",
       "        text-align: right;\n",
       "    }\n",
       "</style>\n",
       "<table border=\"1\" class=\"dataframe\">\n",
       "  <thead>\n",
       "    <tr style=\"text-align: right;\">\n",
       "      <th></th>\n",
       "      <th>sloc_before</th>\n",
       "      <th>lloc_before</th>\n",
       "      <th>single_comments_before</th>\n",
       "      <th>multi_before</th>\n",
       "    </tr>\n",
       "  </thead>\n",
       "  <tbody>\n",
       "    <tr>\n",
       "      <th>sloc_before</th>\n",
       "      <td>1.000000</td>\n",
       "      <td>0.929184</td>\n",
       "      <td>0.379263</td>\n",
       "      <td>0.130215</td>\n",
       "    </tr>\n",
       "    <tr>\n",
       "      <th>lloc_before</th>\n",
       "      <td>0.929184</td>\n",
       "      <td>1.000000</td>\n",
       "      <td>0.422361</td>\n",
       "      <td>0.219079</td>\n",
       "    </tr>\n",
       "    <tr>\n",
       "      <th>single_comments_before</th>\n",
       "      <td>0.379263</td>\n",
       "      <td>0.422361</td>\n",
       "      <td>1.000000</td>\n",
       "      <td>0.042716</td>\n",
       "    </tr>\n",
       "    <tr>\n",
       "      <th>multi_before</th>\n",
       "      <td>0.130215</td>\n",
       "      <td>0.219079</td>\n",
       "      <td>0.042716</td>\n",
       "      <td>1.000000</td>\n",
       "    </tr>\n",
       "  </tbody>\n",
       "</table>\n",
       "</div>"
      ],
      "text/plain": [
       "                        sloc_before  lloc_before  single_comments_before  \\\n",
       "sloc_before                1.000000     0.929184                0.379263   \n",
       "lloc_before                0.929184     1.000000                0.422361   \n",
       "single_comments_before     0.379263     0.422361                1.000000   \n",
       "multi_before               0.130215     0.219079                0.042716   \n",
       "\n",
       "                        multi_before  \n",
       "sloc_before                 0.130215  \n",
       "lloc_before                 0.219079  \n",
       "single_comments_before      0.042716  \n",
       "multi_before                1.000000  "
      ]
     },
     "execution_count": 20,
     "metadata": {},
     "output_type": "execute_result"
    }
   ],
   "source": [
    "raw_metrics_before = [\"sloc_before\", \"lloc_before\", \"single_comments_before\", \"multi_before\"]\n",
    "source_code_data[raw_metrics_before].corr(method='spearman')"
   ]
  },
  {
   "cell_type": "markdown",
   "id": "together-demographic",
   "metadata": {},
   "source": [
    "# Метрики Халстеда\n",
    "\n",
    "## Сырые метрики\n",
    "\n",
    "Метрики $N_1,\\,N_2$ задают общее число операторов и операндов, а метрики $h_1$ и $h_2$ - число различных операторов и операндов. Подсчитаем статистики по метрикам $N_1$ и $N_2$ по коду."
   ]
  },
  {
   "cell_type": "code",
   "execution_count": 21,
   "id": "loose-commerce",
   "metadata": {},
   "outputs": [
    {
     "name": "stdout",
     "output_type": "stream",
     "text": [
      "Среднее значение N_1 равно 2.7017802796531023, а N_2 равно 5.098303409811418.\n",
      "Медиана N_1 равна 1.0, а для N_2 равна 1.0.\n",
      "С.к.о N_1 равно 36.50851683868712, а для N_2 равно 58.83236550350439.\n",
      "25-й персентиль N_1 равен 0.0, а для N_2 равен 0.0.\n",
      "75-й персентиль N_1 равен 2.0, а для N_2 равен 4.0.\n",
      "90-й персентиль N_1 равен 7.0, а для N_2 равен 12.0.\n",
      "Минимум N_1 равен 0, а для N_2 равен 0.\n",
      "Максимум N_1 равен 59994, а для N_2 равен 107832\n"
     ]
    }
   ],
   "source": [
    "print(f'Среднее значение N_1 равно {source_code_data[\"N1_before\"].mean()}, а N_2 равно {source_code_data[\"N2_before\"].mean()}.')\n",
    "print(f'Медиана N_1 равна {source_code_data[\"N1_before\"].median()}, а для N_2 равна {source_code_data[\"N2_before\"].median()}.')\n",
    "print(f'С.к.о N_1 равно {source_code_data[\"N1_before\"].std()}, а для N_2 равно {source_code_data[\"N2_before\"].std()}.')\n",
    "print(f'25-й персентиль N_1 равен {source_code_data[\"N1_before\"].quantile(q=0.25)}, а для N_2 равен {source_code_data[\"N2_before\"].quantile(q=0.25)}.')\n",
    "print(f'75-й персентиль N_1 равен {source_code_data[\"N1_before\"].quantile(q=0.75)}, а для N_2 равен {source_code_data[\"N2_before\"].quantile(q=0.75)}.')\n",
    "print(f'90-й персентиль N_1 равен {source_code_data[\"N1_before\"].quantile(q=0.90)}, а для N_2 равен {source_code_data[\"N2_before\"].quantile(q=0.9)}.')\n",
    "print(f'Минимум N_1 равен {source_code_data[\"N1_before\"].min()}, а для N_2 равен {source_code_data[\"N2_before\"].min()}.')\n",
    "print(f'Максимум N_1 равен {source_code_data[\"N1_before\"].max()}, а для N_2 равен {source_code_data[\"N2_before\"].max()}')"
   ]
  },
  {
   "cell_type": "markdown",
   "id": "bigger-peace",
   "metadata": {},
   "source": [
    "Построим графики, удалив выбросы:"
   ]
  },
  {
   "cell_type": "code",
   "execution_count": 22,
   "id": "chinese-flesh",
   "metadata": {},
   "outputs": [
    {
     "data": {
      "image/png": "[encoded data removed]",
      "text/plain": [
       "<Figure size 432x288 with 1 Axes>"
      ]
     },
     "metadata": {
      "needs_background": "light"
     },
     "output_type": "display_data"
    }
   ],
   "source": [
    "sns.boxplot(x='N1_before',\n",
    "            data=source_code_data.loc[source_code_data['N1_before'] < 50]);"
   ]
  },
  {
   "cell_type": "code",
   "execution_count": 23,
   "id": "velvet-depression",
   "metadata": {},
   "outputs": [
    {
     "data": {
      "image/png": "[encoded data removed]",
      "text/plain": [
       "<Figure size 432x288 with 1 Axes>"
      ]
     },
     "metadata": {
      "needs_background": "light"
     },
     "output_type": "display_data"
    }
   ],
   "source": [
    "sns.boxplot(x='N2_before',\n",
    "            data=source_code_data.loc[source_code_data['N1_before'] < 50]);"
   ]
  },
  {
   "cell_type": "markdown",
   "id": "million-movement",
   "metadata": {},
   "source": [
    "Подсчитаем отношение:"
   ]
  },
  {
   "cell_type": "code",
   "execution_count": 24,
   "id": "solid-profession",
   "metadata": {},
   "outputs": [
    {
     "data": {
      "image/png": "[encoded data removed]",
      "text/plain": [
       "<Figure size 432x288 with 1 Axes>"
      ]
     },
     "metadata": {
      "needs_background": "light"
     },
     "output_type": "display_data"
    }
   ],
   "source": [
    "source_code_data['N1_to_N2_ratio_before'] = source_code_data['N1_before'] / source_code_data['N2_before']\n",
    "sns.boxplot(x='N1_to_N2_ratio_before',\n",
    "            data=source_code_data);"
   ]
  },
  {
   "cell_type": "markdown",
   "id": "ruled-scene",
   "metadata": {},
   "source": [
    "Подсчитаем некоторые статистики отношения:"
   ]
  },
  {
   "cell_type": "code",
   "execution_count": 26,
   "id": "julian-counter",
   "metadata": {},
   "outputs": [
    {
     "name": "stdout",
     "output_type": "stream",
     "text": [
      "Медиана отношения равна 0.5.\n",
      "25-й персентиль отношения равен 0.5.\n",
      "75-й персентиль отношения равен 0.5555555555555556.\n",
      "Минимум отношения равен 0.014705882352941176.\n",
      "Максимум отношения равен 1.0.\n"
     ]
    }
   ],
   "source": [
    "print(f'Медиана отношения равна {source_code_data[\"N1_to_N2_ratio_before\"].median()}.')\n",
    "print(f'25-й персентиль отношения равен {source_code_data[\"N1_to_N2_ratio_before\"].quantile(q=0.25)}.')\n",
    "print(f'75-й персентиль отношения равен {source_code_data[\"N1_to_N2_ratio_before\"].quantile(q=0.75)}.')\n",
    "print(f'Минимум отношения равен {source_code_data[\"N1_to_N2_ratio_before\"].min()}.')\n",
    "print(f'Максимум отношения равен {source_code_data[\"N1_to_N2_ratio_before\"].max()}.')"
   ]
  },
  {
   "cell_type": "markdown",
   "id": "violent-watch",
   "metadata": {},
   "source": [
    "Таким образом, на каждый оператор у 25% сниппетов приходится в точности два операнда и у 75% сниппетов этот показатель чуть больше двух."
   ]
  },
  {
   "cell_type": "markdown",
   "id": "korean-ireland",
   "metadata": {},
   "source": [
    "Теперь выведем статистики по числу уникальных операторов и операндов, т.е. по метрикам $h_1$ и $h_2:$"
   ]
  },
  {
   "cell_type": "code",
   "execution_count": 27,
   "id": "conservative-tactics",
   "metadata": {},
   "outputs": [
    {
     "name": "stdout",
     "output_type": "stream",
     "text": [
      "Среднее значение h_1 равно 1.296008912169665, а h_2 равно 3.8393598307459857.\n",
      "Медиана h_1 равна 1.0, а для h_2 равна 1.0.\n",
      "С.к.о h_1 равно 1.9690731187635728, а для h_2 равно 32.62867870548052.\n",
      "25-й персентиль h_1 равен 0.0, а для h_2 равен 0.0.\n",
      "75-й персентиль h_1 равен 2.0, а для h_2 равен 4.0.\n",
      "90-й персентиль h_1 равен 4.0, а для h_2 равен 10.0.\n",
      "Минимум h_1 равен 0, а для h_2 равен 0.\n",
      "Максимум h_1 равен 27, а для h_2 равен 62619\n"
     ]
    }
   ],
   "source": [
    "print(f'Среднее значение h_1 равно {source_code_data[\"h1_before\"].mean()}, а h_2 равно {source_code_data[\"h2_before\"].mean()}.')\n",
    "print(f'Медиана h_1 равна {source_code_data[\"h1_before\"].median()}, а для h_2 равна {source_code_data[\"h2_before\"].median()}.')\n",
    "print(f'С.к.о h_1 равно {source_code_data[\"h1_before\"].std()}, а для h_2 равно {source_code_data[\"h2_before\"].std()}.')\n",
    "print(f'25-й персентиль h_1 равен {source_code_data[\"h1_before\"].quantile(q=0.25)}, а для h_2 равен {source_code_data[\"h2_before\"].quantile(q=0.25)}.')\n",
    "print(f'75-й персентиль h_1 равен {source_code_data[\"h1_before\"].quantile(q=0.75)}, а для h_2 равен {source_code_data[\"h2_before\"].quantile(q=0.75)}.')\n",
    "print(f'90-й персентиль h_1 равен {source_code_data[\"h1_before\"].quantile(q=0.90)}, а для h_2 равен {source_code_data[\"h2_before\"].quantile(q=0.9)}.')\n",
    "print(f'Минимум h_1 равен {source_code_data[\"h1_before\"].min()}, а для h_2 равен {source_code_data[\"h2_before\"].min()}.')\n",
    "print(f'Максимум h_1 равен {source_code_data[\"h1_before\"].max()}, а для h_2 равен {source_code_data[\"h2_before\"].max()}')"
   ]
  },
  {
   "cell_type": "code",
   "execution_count": 28,
   "id": "hairy-making",
   "metadata": {},
   "outputs": [
    {
     "data": {
      "image/png": "[encoded data removed]",
      "text/plain": [
       "<Figure size 432x288 with 1 Axes>"
      ]
     },
     "metadata": {
      "needs_background": "light"
     },
     "output_type": "display_data"
    }
   ],
   "source": [
    "sns.boxplot(x='h1_before',\n",
    "            data=source_code_data);"
   ]
  },
  {
   "cell_type": "code",
   "execution_count": 29,
   "id": "embedded-arkansas",
   "metadata": {},
   "outputs": [
    {
     "data": {
      "image/png": "[encoded data removed]",
      "text/plain": [
       "<Figure size 432x288 with 1 Axes>"
      ]
     },
     "metadata": {
      "needs_background": "light"
     },
     "output_type": "display_data"
    }
   ],
   "source": [
    "sns.boxplot(x='h2_before',\n",
    "            data=source_code_data);"
   ]
  },
  {
   "cell_type": "markdown",
   "id": "generic-madrid",
   "metadata": {},
   "source": [
    "Подсчитаем отношение $h_1/h_2$"
   ]
  },
  {
   "cell_type": "code",
   "execution_count": 30,
   "id": "dying-atlanta",
   "metadata": {},
   "outputs": [
    {
     "data": {
      "image/png": "[encoded data removed]",
      "text/plain": [
       "<Figure size 432x288 with 1 Axes>"
      ]
     },
     "metadata": {
      "needs_background": "light"
     },
     "output_type": "display_data"
    }
   ],
   "source": [
    "source_code_data['h1_to_h2_ratio_before'] = source_code_data['h1_before'] / source_code_data['h2_before']\n",
    "sns.boxplot(x='h1_to_h2_ratio_before',\n",
    "            data=source_code_data);"
   ]
  },
  {
   "cell_type": "markdown",
   "id": "robust-montgomery",
   "metadata": {},
   "source": [
    "Подсчитаем некоторые статистики отношения:"
   ]
  },
  {
   "cell_type": "code",
   "execution_count": 31,
   "id": "fifty-ideal",
   "metadata": {},
   "outputs": [
    {
     "name": "stdout",
     "output_type": "stream",
     "text": [
      "Медиана отношения равна 0.5.\n",
      "25-й персентиль отношения равен 0.36363636363636365.\n",
      "75-й персентиль отношения равен 0.5.\n",
      "Минимум отношения равен 3.193918778645459e-05.\n",
      "Максимум отношения равен 6.0.\n"
     ]
    }
   ],
   "source": [
    "print(f'Медиана отношения равна {source_code_data[\"h1_to_h2_ratio_before\"].median()}.')\n",
    "print(f'25-й персентиль отношения равен {source_code_data[\"h1_to_h2_ratio_before\"].quantile(q=0.25)}.')\n",
    "print(f'75-й персентиль отношения равен {source_code_data[\"h1_to_h2_ratio_before\"].quantile(q=0.75)}.')\n",
    "print(f'Минимум отношения равен {source_code_data[\"h1_to_h2_ratio_before\"].min()}.')\n",
    "print(f'Максимум отношения равен {source_code_data[\"h1_to_h2_ratio_before\"].max()}.')"
   ]
  },
  {
   "cell_type": "markdown",
   "id": "false-collect",
   "metadata": {},
   "source": [
    "Таким образом, у четверти сниппетов кода отношение $h_1/h_2=0.5,$ т.е. число различных операторов вдвое меньше числа различных операндов."
   ]
  },
  {
   "cell_type": "code",
   "execution_count": 32,
   "id": "korean-assurance",
   "metadata": {},
   "outputs": [
    {
     "data": {
      "text/plain": [
       "1120416"
      ]
     },
     "execution_count": 32,
     "metadata": {},
     "output_type": "execute_result"
    }
   ],
   "source": [
    "len(set(source_code_data.loc[source_code_data[\"N1_to_N2_ratio_before\"] == 0.5].index) & set(source_code_data.loc[source_code_data[\"h1_to_h2_ratio_before\"] == 0.5].index))"
   ]
  },
  {
   "cell_type": "code",
   "execution_count": 33,
   "id": "beautiful-sentence",
   "metadata": {},
   "outputs": [
    {
     "data": {
      "text/plain": [
       "1923083"
      ]
     },
     "execution_count": 33,
     "metadata": {},
     "output_type": "execute_result"
    }
   ],
   "source": [
    "len(source_code_data.loc[source_code_data[\"N1_to_N2_ratio_before\"] == 0.5].index)"
   ]
  },
  {
   "cell_type": "code",
   "execution_count": 34,
   "id": "thick-hybrid",
   "metadata": {},
   "outputs": [
    {
     "data": {
      "text/plain": [
       "1227920"
      ]
     },
     "execution_count": 34,
     "metadata": {},
     "output_type": "execute_result"
    }
   ],
   "source": [
    "len(source_code_data.loc[source_code_data[\"h1_to_h2_ratio_before\"] == 0.5].index)"
   ]
  },
  {
   "cell_type": "markdown",
   "id": "acknowledged-penguin",
   "metadata": {},
   "source": [
    "У подавляющего большинства сниппетов кода, у которых отношение $h_1/h_2=0.5,$ соответствующее отношение $N_1/N_2=0.5.$ Это сниппеты, у которых все проводимые в коде операции являются бинарными. Посмотрим на эти сниппеты:"
   ]
  },
  {
   "cell_type": "code",
   "execution_count": 36,
   "id": "biblical-ceramic",
   "metadata": {},
   "outputs": [
    {
     "name": "stdout",
     "output_type": "stream",
     "text": [
      "def validate_safe_path(value):\n",
      "    \n",
      "    base = \"/input/\"\n",
      "\n",
      "    try:\n",
      "        new_path = safe_join(base, value)\n",
      "    except SuspiciousFileOperation:\n",
      "        raise ValidationError(\"Relative paths are not allowed.\")\n",
      "\n",
      "    valid_path = new_path[len(base) :]\n",
      "\n",
      "    if value != valid_path:\n",
      "        raise ValidationError(f\"Invalid file path, should be {valid_path}.\")\n"
     ]
    }
   ],
   "source": [
    "df = source_code_data.loc[(source_code_data[\"h1_to_h2_ratio_before\"] == 0.5) &\n",
    "                          (source_code_data[\"N1_to_N2_ratio_before\"] == 0.5)]\n",
    "print(df.at[3500008, 'before_merge_without_docstrings'])"
   ]
  },
  {
   "cell_type": "code",
   "execution_count": 57,
   "id": "documented-holiday",
   "metadata": {},
   "outputs": [
    {
     "name": "stdout",
     "output_type": "stream",
     "text": [
      "h1_before    1\n",
      "h2_before    2\n",
      "N1_before    1\n",
      "N2_before    2\n",
      "Name: 3500008, dtype: object\n"
     ]
    }
   ],
   "source": [
    "print(df.loc[3500008, ['h1_before', 'h2_before', 'N1_before', 'N2_before']])"
   ]
  },
  {
   "cell_type": "code",
   "execution_count": 44,
   "id": "regulated-sponsorship",
   "metadata": {},
   "outputs": [
    {
     "name": "stdout",
     "output_type": "stream",
     "text": [
      "         h1_before  h2_before  N1_before  N2_before\n",
      "3500008          1          2          1          2\n",
      "3500020          2          4          2          4\n",
      "3500021          2          4          2          4\n",
      "3500038          1          2          1          2\n",
      "3500049          1          2          1          2\n",
      "...            ...        ...        ...        ...\n",
      "499972           1          2          1          2\n",
      "499975           2          4          4          8\n",
      "499988           1          2          1          2\n",
      "499992           1          2          1          2\n",
      "499997           1          2          1          2\n",
      "\n",
      "[1120416 rows x 4 columns]\n"
     ]
    }
   ],
   "source": [
    "print(df[['h1_before', 'h2_before', 'N1_before', 'N2_before']])"
   ]
  },
  {
   "cell_type": "markdown",
   "id": "mysterious-nebraska",
   "metadata": {},
   "source": [
    "Посмотрим для скольки сниппетов $h_1=N_1$ и $h_2=N_2.$"
   ]
  },
  {
   "cell_type": "code",
   "execution_count": 45,
   "id": "current-female",
   "metadata": {},
   "outputs": [
    {
     "data": {
      "text/plain": [
       "1055299"
      ]
     },
     "execution_count": 45,
     "metadata": {},
     "output_type": "execute_result"
    }
   ],
   "source": [
    "df.loc[(df['h1_before'] == df['N1_before']) & (df['h2_before'] == df['N2_before'])].shape[0]"
   ]
  },
  {
   "cell_type": "markdown",
   "id": "accessible-disability",
   "metadata": {},
   "source": [
    "Таким образом, из примерно 5.8 миллионов сниппетов кода примерно 1 миллион, т.е. грубо в 18 процентах из них имеются только бинарные операции и каждая из них встречается ровно один раз."
   ]
  },
  {
   "cell_type": "markdown",
   "id": "imperial-indonesia",
   "metadata": {},
   "source": [
    "## Корреляции\n",
    "\n",
    "Подсчитаем корреляции между метриками Халстеда:"
   ]
  },
  {
   "cell_type": "code",
   "execution_count": 48,
   "id": "distinct-radical",
   "metadata": {},
   "outputs": [
    {
     "data": {
      "text/html": [
       "<div>\n",
       "<style scoped>\n",
       "    .dataframe tbody tr th:only-of-type {\n",
       "        vertical-align: middle;\n",
       "    }\n",
       "\n",
       "    .dataframe tbody tr th {\n",
       "        vertical-align: top;\n",
       "    }\n",
       "\n",
       "    .dataframe thead th {\n",
       "        text-align: right;\n",
       "    }\n",
       "</style>\n",
       "<table border=\"1\" class=\"dataframe\">\n",
       "  <thead>\n",
       "    <tr style=\"text-align: right;\">\n",
       "      <th></th>\n",
       "      <th>h1_before</th>\n",
       "      <th>h2_before</th>\n",
       "      <th>N1_before</th>\n",
       "      <th>N2_before</th>\n",
       "    </tr>\n",
       "  </thead>\n",
       "  <tbody>\n",
       "    <tr>\n",
       "      <th>h1_before</th>\n",
       "      <td>1.000000</td>\n",
       "      <td>0.983511</td>\n",
       "      <td>0.984822</td>\n",
       "      <td>0.982603</td>\n",
       "    </tr>\n",
       "    <tr>\n",
       "      <th>h2_before</th>\n",
       "      <td>0.983511</td>\n",
       "      <td>1.000000</td>\n",
       "      <td>0.994996</td>\n",
       "      <td>0.997640</td>\n",
       "    </tr>\n",
       "    <tr>\n",
       "      <th>N1_before</th>\n",
       "      <td>0.984822</td>\n",
       "      <td>0.994996</td>\n",
       "      <td>1.000000</td>\n",
       "      <td>0.997531</td>\n",
       "    </tr>\n",
       "    <tr>\n",
       "      <th>N2_before</th>\n",
       "      <td>0.982603</td>\n",
       "      <td>0.997640</td>\n",
       "      <td>0.997531</td>\n",
       "      <td>1.000000</td>\n",
       "    </tr>\n",
       "  </tbody>\n",
       "</table>\n",
       "</div>"
      ],
      "text/plain": [
       "           h1_before  h2_before  N1_before  N2_before\n",
       "h1_before   1.000000   0.983511   0.984822   0.982603\n",
       "h2_before   0.983511   1.000000   0.994996   0.997640\n",
       "N1_before   0.984822   0.994996   1.000000   0.997531\n",
       "N2_before   0.982603   0.997640   0.997531   1.000000"
      ]
     },
     "execution_count": 48,
     "metadata": {},
     "output_type": "execute_result"
    }
   ],
   "source": [
    "source_code_data[['h1_before', 'h2_before', 'N1_before', 'N2_before']].corr(method='spearman')"
   ]
  },
  {
   "cell_type": "markdown",
   "id": "dedicated-modern",
   "metadata": {},
   "source": [
    "Видно, что метрики тесно коррелированы."
   ]
  },
  {
   "cell_type": "markdown",
   "id": "tested-aluminum",
   "metadata": {},
   "source": [
    "## Производные метрики\n",
    "\n",
    "Теперь посмотрим на производные метрики: vocabulary (сколько различных операторов и операндов), length (сколько всего операторов и операндов) и calculated_length по коду с ошибками (фактически последняя метрика это длина записи множества всех различных операторов и операндов)."
   ]
  },
  {
   "cell_type": "code",
   "execution_count": 58,
   "id": "under-armenia",
   "metadata": {},
   "outputs": [
    {
     "name": "stdout",
     "output_type": "stream",
     "text": [
      "Среднее значение vocabulary равно 5.1353687429156505, для length равно 7.80008368946452,\n",
      "а для calculated_length - 17.242744301500625.\n",
      "Медиана vocabulary равна 2.0, для length равна 2.0,\n",
      "а для calculated_length - 0.0.\n",
      "С.к.о vocabulary равно 33.118727858245784, для length равно 94.26574156747195,\n",
      "а для calculated_length - 478.3982067905256.\n",
      "25-й персентиль vocabulary равен 0.0, для length равен 0.0,\n",
      "а для calculated_length - 0.0.\n",
      "75-й персентиль vocabulary равен 6.0, для length равен 6.0,\n",
      "а для calculated_length - 10.0.\n",
      "90-й персентиль vocabulary равен 14.0, для length равен 19.0,\n",
      "а для calculated_length - 40.13896548741762.\n",
      "Минимум vocabulary равен 0, для length равен 0,\n",
      "а для calculated_length - 0.0.\n",
      "Максимум vocabulary равен 62621, для length равен 161748,\n",
      "а для calculated_length - 997792.7362887807.\n"
     ]
    }
   ],
   "source": [
    "print(f'Среднее значение vocabulary равно {source_code_data[\"vocabulary_before\"].mean()}, для length равно {source_code_data[\"length_before\"].mean()},\\nа для calculated_length - {source_code_data[\"calculated_length_before\"].mean()}.')\n",
    "print(f'Медиана vocabulary равна {source_code_data[\"vocabulary_before\"].median()}, для length равна {source_code_data[\"length_before\"].median()},\\nа для calculated_length - {source_code_data[\"calculated_length_before\"].median()}.')\n",
    "print(f'С.к.о vocabulary равно {source_code_data[\"vocabulary_before\"].std()}, для length равно {source_code_data[\"length_before\"].std()},\\nа для calculated_length - {source_code_data[\"calculated_length_before\"].std()}.')\n",
    "print(f'25-й персентиль vocabulary равен {source_code_data[\"vocabulary_before\"].quantile(q=0.25)}, для length равен {source_code_data[\"length_before\"].quantile(q=0.25)},\\nа для calculated_length - {source_code_data[\"calculated_length_before\"].quantile(q=0.25)}.')\n",
    "print(f'75-й персентиль vocabulary равен {source_code_data[\"vocabulary_before\"].quantile(q=0.75)}, для length равен {source_code_data[\"length_before\"].quantile(q=0.75)},\\nа для calculated_length - {source_code_data[\"calculated_length_before\"].quantile(q=0.75)}.')\n",
    "print(f'90-й персентиль vocabulary равен {source_code_data[\"vocabulary_before\"].quantile(q=0.90)}, для length равен {source_code_data[\"length_before\"].quantile(q=0.9)},\\nа для calculated_length - {source_code_data[\"calculated_length_before\"].quantile(q=0.9)}.')\n",
    "print(f'Минимум vocabulary равен {source_code_data[\"vocabulary_before\"].min()}, для length равен {source_code_data[\"length_before\"].min()},\\nа для calculated_length - {source_code_data[\"calculated_length_before\"].min()}.')\n",
    "print(f'Максимум vocabulary равен {source_code_data[\"vocabulary_before\"].max()}, для length равен {source_code_data[\"length_before\"].max()},\\nа для calculated_length - {source_code_data[\"calculated_length_before\"].max()}.')"
   ]
  },
  {
   "cell_type": "markdown",
   "id": "mighty-drink",
   "metadata": {},
   "source": [
    "Поскольку 25-е персентили по сырым метрикам Халстеда равны по 1, то 25-й персентиль по метрикам равен 0."
   ]
  },
  {
   "cell_type": "markdown",
   "id": "minor-niagara",
   "metadata": {},
   "source": [
    "Видно, что распределения метрик length  и calculated_length имеют тяжелый правый хвост, поскольку их среднее больше 75 персентиля. Подсчитаем количество выбросов:"
   ]
  },
  {
   "cell_type": "code",
   "execution_count": 60,
   "id": "fallen-battery",
   "metadata": {},
   "outputs": [
    {
     "name": "stdout",
     "output_type": "stream",
     "text": [
      "Процент выбросов по метрике length равен 12.113946583855\n",
      "Процент выбросов по метрике calculated_length равен 14.732413450082664\n"
     ]
    }
   ],
   "source": [
    "Halstead_metrics_names = ['length', 'calculated_length']\n",
    "\n",
    "for col_name in Halstead_metrics_names:\n",
    "    inter_quartile_range = source_code_data[col_name + '_before'].quantile(q=0.75) - source_code_data[col_name + '_before'].quantile(q=0.25)\n",
    "    outlier_count = source_code_data.loc[source_code_data[col_name + '_before'] > source_code_data[col_name + '_before'].quantile(q=0.75) + 1.5 * inter_quartile_range].shape[0]\n",
    "    print(f'Процент выбросов по метрике {col_name} равен {100 * outlier_count / source_code_data.shape[0]}')"
   ]
  },
  {
   "cell_type": "markdown",
   "id": "under-webmaster",
   "metadata": {},
   "source": [
    "## Корреляции\n",
    "\n",
    "Вначале корреляции между метриками."
   ]
  },
  {
   "cell_type": "code",
   "execution_count": 61,
   "id": "combined-robert",
   "metadata": {},
   "outputs": [
    {
     "data": {
      "text/html": [
       "<div>\n",
       "<style scoped>\n",
       "    .dataframe tbody tr th:only-of-type {\n",
       "        vertical-align: middle;\n",
       "    }\n",
       "\n",
       "    .dataframe tbody tr th {\n",
       "        vertical-align: top;\n",
       "    }\n",
       "\n",
       "    .dataframe thead th {\n",
       "        text-align: right;\n",
       "    }\n",
       "</style>\n",
       "<table border=\"1\" class=\"dataframe\">\n",
       "  <thead>\n",
       "    <tr style=\"text-align: right;\">\n",
       "      <th></th>\n",
       "      <th>sloc_before</th>\n",
       "      <th>lloc_before</th>\n",
       "      <th>vocabulary_before</th>\n",
       "      <th>length_before</th>\n",
       "      <th>calculated_length_before</th>\n",
       "    </tr>\n",
       "  </thead>\n",
       "  <tbody>\n",
       "    <tr>\n",
       "      <th>sloc_before</th>\n",
       "      <td>1.000000</td>\n",
       "      <td>0.929184</td>\n",
       "      <td>0.649492</td>\n",
       "      <td>0.652517</td>\n",
       "      <td>0.637086</td>\n",
       "    </tr>\n",
       "    <tr>\n",
       "      <th>lloc_before</th>\n",
       "      <td>0.929184</td>\n",
       "      <td>1.000000</td>\n",
       "      <td>0.673503</td>\n",
       "      <td>0.676288</td>\n",
       "      <td>0.659167</td>\n",
       "    </tr>\n",
       "    <tr>\n",
       "      <th>vocabulary_before</th>\n",
       "      <td>0.649492</td>\n",
       "      <td>0.673503</td>\n",
       "      <td>1.000000</td>\n",
       "      <td>0.997163</td>\n",
       "      <td>0.984903</td>\n",
       "    </tr>\n",
       "    <tr>\n",
       "      <th>length_before</th>\n",
       "      <td>0.652517</td>\n",
       "      <td>0.676288</td>\n",
       "      <td>0.997163</td>\n",
       "      <td>1.000000</td>\n",
       "      <td>0.981019</td>\n",
       "    </tr>\n",
       "    <tr>\n",
       "      <th>calculated_length_before</th>\n",
       "      <td>0.637086</td>\n",
       "      <td>0.659167</td>\n",
       "      <td>0.984903</td>\n",
       "      <td>0.981019</td>\n",
       "      <td>1.000000</td>\n",
       "    </tr>\n",
       "  </tbody>\n",
       "</table>\n",
       "</div>"
      ],
      "text/plain": [
       "                          sloc_before  lloc_before  vocabulary_before  \\\n",
       "sloc_before                  1.000000     0.929184           0.649492   \n",
       "lloc_before                  0.929184     1.000000           0.673503   \n",
       "vocabulary_before            0.649492     0.673503           1.000000   \n",
       "length_before                0.652517     0.676288           0.997163   \n",
       "calculated_length_before     0.637086     0.659167           0.984903   \n",
       "\n",
       "                          length_before  calculated_length_before  \n",
       "sloc_before                    0.652517                  0.637086  \n",
       "lloc_before                    0.676288                  0.659167  \n",
       "vocabulary_before              0.997163                  0.984903  \n",
       "length_before                  1.000000                  0.981019  \n",
       "calculated_length_before       0.981019                  1.000000  "
      ]
     },
     "execution_count": 61,
     "metadata": {},
     "output_type": "execute_result"
    }
   ],
   "source": [
    "source_code_data[['sloc_before', 'lloc_before', 'vocabulary_before', 'length_before', 'calculated_length_before']].corr(method='spearman')"
   ]
  },
  {
   "cell_type": "markdown",
   "id": "executive-clearance",
   "metadata": {},
   "source": [
    "Как видно, производные метрики Халстеда между собой тесно коррелированы. Также есть достаточно большая корреляция с длиной кода в строках и числом утверждений."
   ]
  },
  {
   "cell_type": "markdown",
   "id": "confirmed-lawyer",
   "metadata": {},
   "source": [
    "## Метрики Халстеда сложности кода\n",
    "\n",
    "Посмотрим теперь на метрики сложности кода. Это метрики bugs, difficulty, volume, effort и time. Подсчитаем их статистики по коду:"
   ]
  },
  {
   "cell_type": "code",
   "execution_count": 62,
   "id": "fatal-montana",
   "metadata": {},
   "outputs": [
    {
     "name": "stdout",
     "output_type": "stream",
     "text": [
      "Среднее значение bugs равно 0.011752247532013278, для difficulty равно 0.8209427769964651.\n",
      "Медиана bugs равна 0.0006666666666666666, для difficulty равна 0.5.\n",
      "С.к.о bugs равно 0.44783936011988257, для difficulty равно 1.4752281772862548.\n",
      "25-й персентиль bugs равен 0.0, для difficulty равен 0.0.\n",
      "75-й персентиль bugs равен 0.005169925001442312, для difficulty равен 1.0.\n",
      "90-й персентиль bugs равен 0.02344134357365111, для difficulty равен 2.4.\n",
      "Минимум bugs равен 0.0, для difficulty равен 0.0.\n",
      "Максимум bugs равен 859.1168958934705, для difficulty равен 603.25.\n"
     ]
    }
   ],
   "source": [
    "print(f'Среднее значение bugs равно {source_code_data[\"bugs_before\"].mean()}, для difficulty равно {source_code_data[\"difficulty_before\"].mean()}.')\n",
    "print(f'Медиана bugs равна {source_code_data[\"bugs_before\"].median()}, для difficulty равна {source_code_data[\"difficulty_before\"].median()}.')\n",
    "print(f'С.к.о bugs равно {source_code_data[\"bugs_before\"].std()}, для difficulty равно {source_code_data[\"difficulty_before\"].std()}.')\n",
    "print(f'25-й персентиль bugs равен {source_code_data[\"bugs_before\"].quantile(q=0.25)}, для difficulty равен {source_code_data[\"difficulty_before\"].quantile(q=0.25)}.')\n",
    "print(f'75-й персентиль bugs равен {source_code_data[\"bugs_before\"].quantile(q=0.75)}, для difficulty равен {source_code_data[\"difficulty_before\"].quantile(q=0.75)}.')\n",
    "print(f'90-й персентиль bugs равен {source_code_data[\"bugs_before\"].quantile(q=0.90)}, для difficulty равен {source_code_data[\"difficulty_before\"].quantile(q=0.9)}.')\n",
    "print(f'Минимум bugs равен {source_code_data[\"bugs_before\"].min()}, для difficulty равен {source_code_data[\"difficulty_before\"].min()}.')\n",
    "print(f'Максимум bugs равен {source_code_data[\"bugs_before\"].max()}, для difficulty равен {source_code_data[\"difficulty_before\"].max()}.')"
   ]
  },
  {
   "cell_type": "markdown",
   "id": "naughty-forty",
   "metadata": {},
   "source": [
    "Среднее значение bugs больше 75-го персентиля, т.е. для метрики bugs есть много больших выбросов. Подсчитаем их количество:"
   ]
  },
  {
   "cell_type": "code",
   "execution_count": 63,
   "id": "shared-performer",
   "metadata": {},
   "outputs": [
    {
     "name": "stdout",
     "output_type": "stream",
     "text": [
      "Процент выбросов по метрике bugs равен 16.036752359324232\n"
     ]
    }
   ],
   "source": [
    "advanced_Halstead_metrics_names = ['bugs']\n",
    "\n",
    "for col_name in advanced_Halstead_metrics_names:\n",
    "    inter_quartile_range = source_code_data[col_name + '_before'].quantile(q=0.75) - source_code_data[col_name + '_before'].quantile(q=0.25)\n",
    "    outlier_count = source_code_data.loc[source_code_data[col_name + '_before'] > source_code_data[col_name + '_before'].quantile(q=0.75) + 1.5 * inter_quartile_range].shape[0]\n",
    "    print(f'Процент выбросов по метрике {col_name} равен {100 * outlier_count / source_code_data.shape[0]}')"
   ]
  },
  {
   "cell_type": "markdown",
   "id": "motivated-intake",
   "metadata": {},
   "source": [
    "Посмотрим на код выбросов:"
   ]
  },
  {
   "cell_type": "code",
   "execution_count": 67,
   "id": "concrete-legend",
   "metadata": {},
   "outputs": [
    {
     "name": "stdout",
     "output_type": "stream",
     "text": [
      "    def raw_serialize(self):\n",
      "        result = b''\n",
      "        for cmd in self.cmds:\n",
      "            if type(cmd) == int:  \n",
      "                result += int_to_little_endian(cmd, 1)\n",
      "            else:\n",
      "                length = len(cmd)\n",
      "                if length < 75:  \n",
      "                    result += int_to_little_endian(length, 1)\n",
      "                elif length > 75 and length < 0x100:  \n",
      "                    result += int_to_little_endian(76, 1)\n",
      "                    result += int_to_little_endian(length, 1)\n",
      "                elif length >= 0x100 and length <= 520:  \n",
      "                    result += int_to_little_endian(77, 1)\n",
      "                    result += int_to_little_endian(length, 2)\n",
      "                else:  \n",
      "                    raise ValueError('too long an cmd')\n",
      "                result += cmd\n",
      "        return result\n"
     ]
    }
   ],
   "source": [
    "bugs_inter_quartile_range = source_code_data['bugs_before'].quantile(q=0.75) - source_code_data['bugs_before'].quantile(q=0.25)\n",
    "print(source_code_data.loc[source_code_data['bugs_before'] > source_code_data['bugs_before'].quantile(q=0.75) + 1.5 * bugs_inter_quartile_range].loc[0, 'before_merge_without_docstrings'])"
   ]
  },
  {
   "cell_type": "markdown",
   "id": "assisted-palestinian",
   "metadata": {},
   "source": [
    "Теперь подсчитаем статистики по оставшимся трем метрикам, рассчитанным по коду:"
   ]
  },
  {
   "cell_type": "code",
   "execution_count": 64,
   "id": "peaceful-handle",
   "metadata": {},
   "outputs": [
    {
     "name": "stdout",
     "output_type": "stream",
     "text": [
      "Среднее значение volume равно 35.25674259603984, для effort равно 176.88453720813786,\n",
      "а для time - 9.826918733785439.\n",
      "Медиана volume равна 2.0, для effort равна 1.0,\n",
      "а для time - 0.05555555555555555.\n",
      "С.к.о volume равно 1343.5180803596472, для effort равно 6903.507159436526,\n",
      "а для time - 383.5281755242516.\n",
      "25-й персентиль volume равен 0.0, для effort равен 0.0,\n",
      "а для time - 0.0.\n",
      "75-й персентиль volume равен 15.509775004326936, для effort равен 15.673014640489694,\n",
      "а для time - 0.8707230355827608.\n",
      "90-й персентиль volume равен 70.32403072095333, для effort равен 166.09640474436813,\n",
      "а для time - 9.227578041353786.\n",
      "Минимум volume равен 0.0, для effort равен 0.0,\n",
      "а для time - 0.0.\n",
      "Максимум volume равен 2577350.6876804116, для effort равен 13671752.93365189,\n",
      "а для time - 759541.8296473273.\n"
     ]
    }
   ],
   "source": [
    "print(f'Среднее значение volume равно {source_code_data[\"volume_before\"].mean()}, для effort равно {source_code_data[\"effort_before\"].mean()},\\nа для time - {source_code_data[\"time_before\"].mean()}.')\n",
    "print(f'Медиана volume равна {source_code_data[\"volume_before\"].median()}, для effort равна {source_code_data[\"effort_before\"].median()},\\nа для time - {source_code_data[\"time_before\"].median()}.')\n",
    "print(f'С.к.о volume равно {source_code_data[\"volume_before\"].std()}, для effort равно {source_code_data[\"effort_before\"].std()},\\nа для time - {source_code_data[\"time_before\"].std()}.')\n",
    "print(f'25-й персентиль volume равен {source_code_data[\"volume_before\"].quantile(q=0.25)}, для effort равен {source_code_data[\"effort_before\"].quantile(q=0.25)},\\nа для time - {source_code_data[\"time_before\"].quantile(q=0.25)}.')\n",
    "print(f'75-й персентиль volume равен {source_code_data[\"volume_before\"].quantile(q=0.75)}, для effort равен {source_code_data[\"effort_before\"].quantile(q=0.75)},\\nа для time - {source_code_data[\"time_before\"].quantile(q=0.75)}.')\n",
    "print(f'90-й персентиль volume равен {source_code_data[\"volume_before\"].quantile(q=0.90)}, для effort равен {source_code_data[\"effort_before\"].quantile(q=0.9)},\\nа для time - {source_code_data[\"time_before\"].quantile(q=0.9)}.')\n",
    "print(f'Минимум volume равен {source_code_data[\"volume_before\"].min()}, для effort равен {source_code_data[\"effort_before\"].min()},\\nа для time - {source_code_data[\"time_before\"].min()}.')\n",
    "print(f'Максимум volume равен {source_code_data[\"volume_before\"].max()}, для effort равен {source_code_data[\"effort_before\"].max()},\\nа для time - {source_code_data[\"time_before\"].max()}.')"
   ]
  },
  {
   "cell_type": "markdown",
   "id": "essential-elite",
   "metadata": {},
   "source": [
    "Средние значения всех трех метрик заметно больше, чем 75-й персентиль, т.е. в данных присутствует много больших выбросов по этим метрикам."
   ]
  },
  {
   "cell_type": "markdown",
   "id": "sunrise-burns",
   "metadata": {},
   "source": [
    "Подсчитаем процент выбросов по этим метрикам (вне non-outlier range в большую сторону)."
   ]
  },
  {
   "cell_type": "code",
   "execution_count": 65,
   "id": "lightweight-behalf",
   "metadata": {},
   "outputs": [
    {
     "name": "stdout",
     "output_type": "stream",
     "text": [
      "Процент выбросов по метрике volume равен 16.036752359324232\n",
      "Процент выбросов по метрике effort равен 19.781993770511974\n",
      "Процент выбросов по метрике time равен 19.78197653627299\n"
     ]
    }
   ],
   "source": [
    "advanced_Halstead_metrics_names = ['volume', 'effort', 'time']\n",
    "\n",
    "for col_name in advanced_Halstead_metrics_names:\n",
    "    inter_quartile_range = source_code_data[col_name + '_before'].quantile(q=0.75) - source_code_data[col_name + '_before'].quantile(q=0.25)\n",
    "    outlier_count = source_code_data.loc[source_code_data[col_name + '_before'] > source_code_data[col_name + '_before'].quantile(q=0.75) + 1.5 * inter_quartile_range].shape[0]\n",
    "    print(f'Процент выбросов по метрике {col_name} равен {100 * outlier_count / source_code_data.shape[0]}')"
   ]
  },
  {
   "cell_type": "markdown",
   "id": "settled-stretch",
   "metadata": {},
   "source": [
    "Таким образом, код сниппетов на 15-20% состоит из достаточно сложного кода. Посмотрим на код выбросов:"
   ]
  },
  {
   "cell_type": "code",
   "execution_count": 68,
   "id": "whole-consumer",
   "metadata": {},
   "outputs": [
    {
     "name": "stdout",
     "output_type": "stream",
     "text": [
      "    def raw_serialize(self):\n",
      "        result = b''\n",
      "        for cmd in self.cmds:\n",
      "            if type(cmd) == int:  \n",
      "                result += int_to_little_endian(cmd, 1)\n",
      "            else:\n",
      "                length = len(cmd)\n",
      "                if length < 75:  \n",
      "                    result += int_to_little_endian(length, 1)\n",
      "                elif length > 75 and length < 0x100:  \n",
      "                    result += int_to_little_endian(76, 1)\n",
      "                    result += int_to_little_endian(length, 1)\n",
      "                elif length >= 0x100 and length <= 520:  \n",
      "                    result += int_to_little_endian(77, 1)\n",
      "                    result += int_to_little_endian(length, 2)\n",
      "                else:  \n",
      "                    raise ValueError('too long an cmd')\n",
      "                result += cmd\n",
      "        return result\n"
     ]
    }
   ],
   "source": [
    "effort_inter_quartile_range = source_code_data['effort_before'].quantile(q=0.75) - source_code_data['effort_before'].quantile(q=0.25)\n",
    "print(source_code_data.loc[source_code_data['effort_before'] > source_code_data['effort_before'].quantile(q=0.75) + 1.5 * effort_inter_quartile_range].loc[0, 'before_merge_without_docstrings'])"
   ]
  },
  {
   "cell_type": "markdown",
   "id": "stuck-millennium",
   "metadata": {},
   "source": [
    "Таким образом, 80% сниппетов кода имеют невысокую сложность."
   ]
  },
  {
   "cell_type": "markdown",
   "id": "charitable-local",
   "metadata": {},
   "source": [
    "## Корреляции\n",
    "\n",
    "Вначале корреляции между метриками."
   ]
  },
  {
   "cell_type": "code",
   "execution_count": 69,
   "id": "affiliated-bacteria",
   "metadata": {},
   "outputs": [
    {
     "data": {
      "text/html": [
       "<div>\n",
       "<style scoped>\n",
       "    .dataframe tbody tr th:only-of-type {\n",
       "        vertical-align: middle;\n",
       "    }\n",
       "\n",
       "    .dataframe tbody tr th {\n",
       "        vertical-align: top;\n",
       "    }\n",
       "\n",
       "    .dataframe thead th {\n",
       "        text-align: right;\n",
       "    }\n",
       "</style>\n",
       "<table border=\"1\" class=\"dataframe\">\n",
       "  <thead>\n",
       "    <tr style=\"text-align: right;\">\n",
       "      <th></th>\n",
       "      <th>bugs_before</th>\n",
       "      <th>difficulty_before</th>\n",
       "      <th>volume_before</th>\n",
       "      <th>effort_before</th>\n",
       "      <th>time_before</th>\n",
       "      <th>sloc_before</th>\n",
       "      <th>lloc_before</th>\n",
       "    </tr>\n",
       "  </thead>\n",
       "  <tbody>\n",
       "    <tr>\n",
       "      <th>bugs_before</th>\n",
       "      <td>1.000000</td>\n",
       "      <td>0.988202</td>\n",
       "      <td>1.000000</td>\n",
       "      <td>0.998292</td>\n",
       "      <td>0.998292</td>\n",
       "      <td>0.651871</td>\n",
       "      <td>0.675750</td>\n",
       "    </tr>\n",
       "    <tr>\n",
       "      <th>difficulty_before</th>\n",
       "      <td>0.988202</td>\n",
       "      <td>1.000000</td>\n",
       "      <td>0.988202</td>\n",
       "      <td>0.994460</td>\n",
       "      <td>0.994460</td>\n",
       "      <td>0.646441</td>\n",
       "      <td>0.672946</td>\n",
       "    </tr>\n",
       "    <tr>\n",
       "      <th>volume_before</th>\n",
       "      <td>1.000000</td>\n",
       "      <td>0.988202</td>\n",
       "      <td>1.000000</td>\n",
       "      <td>0.998292</td>\n",
       "      <td>0.998292</td>\n",
       "      <td>0.651871</td>\n",
       "      <td>0.675750</td>\n",
       "    </tr>\n",
       "    <tr>\n",
       "      <th>effort_before</th>\n",
       "      <td>0.998292</td>\n",
       "      <td>0.994460</td>\n",
       "      <td>0.998292</td>\n",
       "      <td>1.000000</td>\n",
       "      <td>1.000000</td>\n",
       "      <td>0.651119</td>\n",
       "      <td>0.675813</td>\n",
       "    </tr>\n",
       "    <tr>\n",
       "      <th>time_before</th>\n",
       "      <td>0.998292</td>\n",
       "      <td>0.994460</td>\n",
       "      <td>0.998292</td>\n",
       "      <td>1.000000</td>\n",
       "      <td>1.000000</td>\n",
       "      <td>0.651119</td>\n",
       "      <td>0.675813</td>\n",
       "    </tr>\n",
       "    <tr>\n",
       "      <th>sloc_before</th>\n",
       "      <td>0.651871</td>\n",
       "      <td>0.646441</td>\n",
       "      <td>0.651871</td>\n",
       "      <td>0.651119</td>\n",
       "      <td>0.651119</td>\n",
       "      <td>1.000000</td>\n",
       "      <td>0.929184</td>\n",
       "    </tr>\n",
       "    <tr>\n",
       "      <th>lloc_before</th>\n",
       "      <td>0.675750</td>\n",
       "      <td>0.672946</td>\n",
       "      <td>0.675750</td>\n",
       "      <td>0.675813</td>\n",
       "      <td>0.675813</td>\n",
       "      <td>0.929184</td>\n",
       "      <td>1.000000</td>\n",
       "    </tr>\n",
       "  </tbody>\n",
       "</table>\n",
       "</div>"
      ],
      "text/plain": [
       "                   bugs_before  difficulty_before  volume_before  \\\n",
       "bugs_before           1.000000           0.988202       1.000000   \n",
       "difficulty_before     0.988202           1.000000       0.988202   \n",
       "volume_before         1.000000           0.988202       1.000000   \n",
       "effort_before         0.998292           0.994460       0.998292   \n",
       "time_before           0.998292           0.994460       0.998292   \n",
       "sloc_before           0.651871           0.646441       0.651871   \n",
       "lloc_before           0.675750           0.672946       0.675750   \n",
       "\n",
       "                   effort_before  time_before  sloc_before  lloc_before  \n",
       "bugs_before             0.998292     0.998292     0.651871     0.675750  \n",
       "difficulty_before       0.994460     0.994460     0.646441     0.672946  \n",
       "volume_before           0.998292     0.998292     0.651871     0.675750  \n",
       "effort_before           1.000000     1.000000     0.651119     0.675813  \n",
       "time_before             1.000000     1.000000     0.651119     0.675813  \n",
       "sloc_before             0.651119     0.651119     1.000000     0.929184  \n",
       "lloc_before             0.675813     0.675813     0.929184     1.000000  "
      ]
     },
     "execution_count": 69,
     "metadata": {},
     "output_type": "execute_result"
    }
   ],
   "source": [
    "source_code_data[['bugs_before', 'difficulty_before', 'volume_before', 'effort_before', 'time_before', 'sloc_before', 'lloc_before']].corr(method='spearman')"
   ]
  },
  {
   "cell_type": "markdown",
   "id": "enclosed-thing",
   "metadata": {},
   "source": [
    "Как видно, производные метрики Халстеда между собой тесно коррелированы. Также есть достаточно большая корреляция с длиной кода в строках и числом утверждений."
   ]
  },
  {
   "cell_type": "markdown",
   "id": "informal-landing",
   "metadata": {},
   "source": [
    "# Цикломатическая сложность и индекс исправляемости кода\n",
    "\n",
    "Теперь подсчитаем статистики метрики цикломатической сложности (cc) и метрики исправляемости кода (MI) по коду с ошибками.\n",
    "Цикломатическая сложность - число линейно независимых маршрутов через код. Если в коде имеется один оператор if, то имеется два таких маршрута. Нужно для вычисления покрываемости тестами. Имеется следующая дискретизация значений:\n",
    "\n",
    "1 - 5\tA (low risk - simple block)\n",
    "\n",
    "6 - 10\tB (low risk - well structured and stable block)\n",
    "\n",
    "11 - 20\tC (moderate risk - slightly complex block)\n",
    "\n",
    "21 - 30\tD (more than moderate risk - more complex block)\n",
    "\n",
    "31 - 40\tE (high risk - complex block, alarming)\n",
    "\n",
    "41+\tF (very high risk - error-prone, unstable block)"
   ]
  },
  {
   "cell_type": "code",
   "execution_count": 70,
   "id": "understanding-baghdad",
   "metadata": {},
   "outputs": [
    {
     "name": "stdout",
     "output_type": "stream",
     "text": [
      "Среднее значение cc равно 2.155952283907202.\n",
      "Медиана cc равна 1.0.\n",
      "С.к.о cc равно 5.654977515778433.\n",
      "25-й персентиль cc равен 0.0.\n",
      "75-й персентиль cc равен 2.0.\n",
      "90-й персентиль cc равен 6.0.\n",
      "Минимум cc равен 0.\n",
      "Максимум cc равен 2640.\n"
     ]
    }
   ],
   "source": [
    "print(f'Среднее значение cc равно {source_code_data[\"cc_before\"].mean()}.')\n",
    "print(f'Медиана cc равна {source_code_data[\"cc_before\"].median()}.')\n",
    "print(f'С.к.о cc равно {source_code_data[\"cc_before\"].std()}.')\n",
    "print(f'25-й персентиль cc равен {source_code_data[\"cc_before\"].quantile(q=0.25)}.')\n",
    "print(f'75-й персентиль cc равен {source_code_data[\"cc_before\"].quantile(q=0.75)}.')\n",
    "print(f'90-й персентиль cc равен {source_code_data[\"cc_before\"].quantile(q=0.90)}.')\n",
    "print(f'Минимум cc равен {source_code_data[\"cc_before\"].min()}.')\n",
    "print(f'Максимум cc равен {source_code_data[\"cc_before\"].max()}.')"
   ]
  },
  {
   "cell_type": "markdown",
   "id": "grand-caribbean",
   "metadata": {},
   "source": [
    "Таким образом, 75% сниппетов имеют низкую сложность, т.е. очень простую структуру, 15% имеют хорошую структуру невысокой сложности."
   ]
  },
  {
   "cell_type": "markdown",
   "id": "super-scanning",
   "metadata": {},
   "source": [
    "Построим диаграмму частот для дискретизации, описанной выше."
   ]
  },
  {
   "cell_type": "code",
   "execution_count": 71,
   "id": "quality-pollution",
   "metadata": {},
   "outputs": [
    {
     "data": {
      "image/png": "[encoded data removed]",
      "text/plain": [
       "<Figure size 432x288 with 1 Axes>"
      ]
     },
     "metadata": {
      "needs_background": "light"
     },
     "output_type": "display_data"
    }
   ],
   "source": [
    "ax = sns.countplot(x='cc_rank_before',\n",
    "                   data=source_code_data,\n",
    "                   order=np.sort(source_code_data['cc_rank_before'].unique()));"
   ]
  },
  {
   "cell_type": "markdown",
   "id": "sensitive-silver",
   "metadata": {},
   "source": [
    "Теперь тоже самое для индекса исправляемости кода, который служит для оценки масштабируемости, поддерживаемости и улучшаемости кода:"
   ]
  },
  {
   "cell_type": "code",
   "execution_count": 72,
   "id": "stock-humanity",
   "metadata": {},
   "outputs": [
    {
     "name": "stdout",
     "output_type": "stream",
     "text": [
      "Среднее значение MI равно 87.2535122301486.\n",
      "Медиана MI равна 100.0.\n",
      "С.к.о MI равно 15.27091913479439.\n",
      "25-й персентиль MI равен 74.7795560288449.\n",
      "75-й персентиль MI равен 100.0.\n",
      "90-й персентиль MI равен 100.0.\n",
      "Минимум MI равен 0.0.\n",
      "Максимум MI равен 100.0.\n"
     ]
    }
   ],
   "source": [
    "print(f'Среднее значение MI равно {source_code_data[\"MI_before\"].mean()}.')\n",
    "print(f'Медиана MI равна {source_code_data[\"MI_before\"].median()}.')\n",
    "print(f'С.к.о MI равно {source_code_data[\"MI_before\"].std()}.')\n",
    "print(f'25-й персентиль MI равен {source_code_data[\"MI_before\"].quantile(q=0.25)}.')\n",
    "print(f'75-й персентиль MI равен {source_code_data[\"MI_before\"].quantile(q=0.75)}.')\n",
    "print(f'90-й персентиль MI равен {source_code_data[\"MI_before\"].quantile(q=0.90)}.')\n",
    "print(f'Минимум MI равен {source_code_data[\"MI_before\"].min()}.')\n",
    "print(f'Максимум MI равен {source_code_data[\"MI_before\"].max()}.')"
   ]
  },
  {
   "cell_type": "markdown",
   "id": "friendly-nickname",
   "metadata": {},
   "source": [
    "## Корреляции\n",
    "\n",
    "Вначале корреляции между метриками."
   ]
  },
  {
   "cell_type": "code",
   "execution_count": 73,
   "id": "familiar-establishment",
   "metadata": {},
   "outputs": [
    {
     "data": {
      "text/html": [
       "<div>\n",
       "<style scoped>\n",
       "    .dataframe tbody tr th:only-of-type {\n",
       "        vertical-align: middle;\n",
       "    }\n",
       "\n",
       "    .dataframe tbody tr th {\n",
       "        vertical-align: top;\n",
       "    }\n",
       "\n",
       "    .dataframe thead th {\n",
       "        text-align: right;\n",
       "    }\n",
       "</style>\n",
       "<table border=\"1\" class=\"dataframe\">\n",
       "  <thead>\n",
       "    <tr style=\"text-align: right;\">\n",
       "      <th></th>\n",
       "      <th>cc_before</th>\n",
       "      <th>MI_before</th>\n",
       "    </tr>\n",
       "  </thead>\n",
       "  <tbody>\n",
       "    <tr>\n",
       "      <th>cc_before</th>\n",
       "      <td>1.000000</td>\n",
       "      <td>-0.721796</td>\n",
       "    </tr>\n",
       "    <tr>\n",
       "      <th>MI_before</th>\n",
       "      <td>-0.721796</td>\n",
       "      <td>1.000000</td>\n",
       "    </tr>\n",
       "  </tbody>\n",
       "</table>\n",
       "</div>"
      ],
      "text/plain": [
       "           cc_before  MI_before\n",
       "cc_before   1.000000  -0.721796\n",
       "MI_before  -0.721796   1.000000"
      ]
     },
     "execution_count": 73,
     "metadata": {},
     "output_type": "execute_result"
    }
   ],
   "source": [
    "source_code_data[['cc_before', 'MI_before']].corr(method='spearman')"
   ]
  },
  {
   "cell_type": "markdown",
   "id": "composed-constraint",
   "metadata": {},
   "source": [
    "Как видно, эти метрики между собой достаточно тесно коррелированы. "
   ]
  },
  {
   "cell_type": "markdown",
   "id": "silent-sucking",
   "metadata": {},
   "source": [
    "# Сравнение метрик на обучающем, валидационном и тестовом датасетах"
   ]
  },
  {
   "cell_type": "code",
   "execution_count": 3,
   "id": "german-oriental",
   "metadata": {},
   "outputs": [],
   "source": [
    "source_code_data_train = pd.read_pickle(path_to_data + 'correct_source_code_train_metrics.pickle')\n",
    "source_code_data_valid = pd.read_pickle(path_to_data + 'correct_source_code_valid_metrics.pickle')\n",
    "source_code_data_test = pd.read_pickle(path_to_data + 'correct_source_code_test_metrics.pickle')"
   ]
  },
  {
   "cell_type": "code",
   "execution_count": 6,
   "id": "representative-default",
   "metadata": {},
   "outputs": [],
   "source": [
    "source_code_data_train = source_code_data_train.dropna()\n",
    "source_code_data_valid = source_code_data_valid.dropna()"
   ]
  },
  {
   "cell_type": "code",
   "execution_count": 22,
   "id": "asian-insight",
   "metadata": {},
   "outputs": [],
   "source": [
    "train_length = source_code_data_train.shape[0]\n",
    "valid_length = source_code_data_valid.shape[0]\n",
    "test_length = source_code_data_test.shape[0]\n",
    "\n",
    "all_source_code_data = pd.concat((source_code_data_train,\n",
    "                                  source_code_data_valid,\n",
    "                                  source_code_data_test), axis=0)\n",
    "all_source_code_data['sample_index'] = np.array((['train'] * train_length + \n",
    "                                                 ['valid'] * valid_length +\n",
    "                                                 ['test'] * test_length))"
   ]
  },
  {
   "cell_type": "code",
   "execution_count": 5,
   "id": "tested-timothy",
   "metadata": {},
   "outputs": [],
   "source": [
    "metrics_names = ['cc', 'N1', 'N2',\n",
    "       'bugs', 'calculated_length', 'difficulty', \n",
    "       'effort', 'h1', 'h2', 'length', 'time',\n",
    "       'vocabulary', 'volume', 'blank', 'single_comments',\n",
    "       'lloc', 'loc', 'multi', 'sloc', 'MI']"
   ]
  },
  {
   "cell_type": "markdown",
   "id": "objective-equipment",
   "metadata": {},
   "source": [
    "# Функция оценки множественной статистической значимости различий выборок"
   ]
  },
  {
   "cell_type": "code",
   "execution_count": 6,
   "id": "digital-central",
   "metadata": {},
   "outputs": [],
   "source": [
    "from scipy.stats import kruskal, ks_2samp, mannwhitneyu\n",
    "from statsmodels.stats.multitest import multipletests"
   ]
  },
  {
   "cell_type": "code",
   "execution_count": 7,
   "id": "affiliated-explorer",
   "metadata": {},
   "outputs": [],
   "source": [
    "def significantFeatures(data_samples, \n",
    "                        features, \n",
    "                        test_function,\n",
    "                        test_key_params={},\n",
    "                        remove_outliers=False,\n",
    "                        confidence_level=0.05):\n",
    "    p_values = []\n",
    "    for feature_name in features:\n",
    "        p_values.append(test_function(*[data_sample[feature_name] for data_sample in data_samples],\n",
    "                                      **test_key_params)[1])\n",
    "    is_feature_predictive, features_p_values_corrected, _, _ = multipletests(p_values, \n",
    "                                                                             alpha=confidence_level,\n",
    "                                                                             method='fdr_bh',\n",
    "                                                                             returnsorted=False)\n",
    "    return [feature_name for i, feature_name in enumerate(features) if is_feature_predictive[i]], features_p_values_corrected"
   ]
  },
  {
   "cell_type": "markdown",
   "id": "moderate-hormone",
   "metadata": {},
   "source": [
    "Применим для оценки статистической значимости отличий по метрикам статистический критерий Краскла-Уоллиса для трех независимых выборок."
   ]
  },
  {
   "cell_type": "code",
   "execution_count": 13,
   "id": "miniature-double",
   "metadata": {},
   "outputs": [],
   "source": [
    "kw_predictive_metrics_names, kw_p_values = significantFeatures([source_code_data_train,\n",
    "                                                                source_code_data_valid,\n",
    "                                                                source_code_data_test],\n",
    "                                                               [metric_name + '_before' for metric_name in metrics_names],\n",
    "                                                               test_function=kruskal,\n",
    "                                                               confidence_level=0.05)"
   ]
  },
  {
   "cell_type": "code",
   "execution_count": 14,
   "id": "expensive-highway",
   "metadata": {},
   "outputs": [
    {
     "name": "stdout",
     "output_type": "stream",
     "text": [
      "cc_before 2.487066244606366e-36\n",
      "N1_before 2.2156571135646837e-42\n",
      "N2_before 8.276270044227602e-43\n",
      "bugs_before 5.6169699879719355e-43\n",
      "calculated_length_before 1.4841552678976116e-39\n",
      "difficulty_before 1.7363896795233023e-36\n",
      "effort_before 5.828881999668042e-40\n",
      "h1_before 1.929587676482887e-39\n",
      "h2_before 3.8130584772986574e-45\n",
      "length_before 1.0413581427941841e-42\n",
      "time_before 5.828881999668042e-40\n",
      "vocabulary_before 9.027731157757084e-44\n",
      "volume_before 5.6169699879719355e-43\n",
      "blank_before 0.0\n",
      "single_comments_before 3.8888764606660476e-07\n",
      "lloc_before 1.2827277967942416e-77\n",
      "loc_before 3.9939700903710414e-174\n",
      "multi_before 1.8203431680268133e-161\n",
      "sloc_before 1.185991435001392e-47\n",
      "MI_before 2.0074652412178625e-82\n"
     ]
    }
   ],
   "source": [
    "for feature, p_value in zip(kw_predictive_metrics_names, kw_p_values):\n",
    "    print(feature, p_value)"
   ]
  },
  {
   "cell_type": "markdown",
   "id": "functioning-salmon",
   "metadata": {},
   "source": [
    "Теперь оценим значимость попарных различий:"
   ]
  },
  {
   "cell_type": "code",
   "execution_count": 15,
   "id": "arranged-transition",
   "metadata": {},
   "outputs": [],
   "source": [
    "mw_predictive_metrics_names, mw_p_values = significantFeatures([source_code_data_train,\n",
    "                                                                source_code_data_valid],\n",
    "                                                               [metric_name + '_before' for metric_name in metrics_names],\n",
    "                                                               test_function=mannwhitneyu)"
   ]
  },
  {
   "cell_type": "code",
   "execution_count": 16,
   "id": "nervous-quality",
   "metadata": {},
   "outputs": [
    {
     "name": "stdout",
     "output_type": "stream",
     "text": [
      "cc_before 6.705971984607311e-30\n",
      "N1_before 1.51887481902354e-33\n",
      "N2_before 3.0179654713888957e-34\n",
      "bugs_before 3.0179654713888957e-34\n",
      "calculated_length_before 1.8914053674503852e-30\n",
      "difficulty_before 2.3939854024528914e-28\n",
      "effort_before 2.9219420959084645e-31\n",
      "h1_before 9.115765701759685e-31\n",
      "h2_before 3.990532025495247e-36\n",
      "length_before 5.394007778619561e-34\n",
      "time_before 2.9219420959084645e-31\n",
      "vocabulary_before 9.304787639978716e-35\n",
      "volume_before 3.0179654713888957e-34\n",
      "blank_before 0.0\n",
      "single_comments_before 3.8394754528771006e-08\n",
      "lloc_before 9.223256792374073e-75\n",
      "loc_before 8.183361223173643e-175\n",
      "multi_before 3.235557762254828e-162\n",
      "sloc_before 3.1205927275147026e-46\n",
      "MI_before 1.1497964682065141e-74\n"
     ]
    }
   ],
   "source": [
    "for metric_name, p_value in zip(mw_predictive_metrics_names, mw_p_values):\n",
    "    print(metric_name, p_value)"
   ]
  },
  {
   "cell_type": "markdown",
   "id": "documentary-oxide",
   "metadata": {},
   "source": [
    "По всем метрикам разница между обучающим и валидационным датасетами значима. Ниже мы визуально оценим величину этих различий."
   ]
  },
  {
   "cell_type": "code",
   "execution_count": 17,
   "id": "differential-facility",
   "metadata": {},
   "outputs": [],
   "source": [
    "mw_predictive_metrics_names, mw_p_values = significantFeatures([source_code_data_train,\n",
    "                                                                source_code_data_test],\n",
    "                                                               [metric_name + '_before' for metric_name in metrics_names],\n",
    "                                                               test_function=mannwhitneyu)"
   ]
  },
  {
   "cell_type": "code",
   "execution_count": 18,
   "id": "running-expansion",
   "metadata": {},
   "outputs": [
    {
     "name": "stdout",
     "output_type": "stream",
     "text": [
      "cc_before 5.97310931280218e-09\n",
      "N1_before 1.6726468432701936e-12\n",
      "N2_before 1.693681332415347e-12\n",
      "bugs_before 1.6726468432701936e-12\n",
      "calculated_length_before 1.6726468432701936e-12\n",
      "difficulty_before 5.599221140542369e-12\n",
      "effort_before 1.6726468432701936e-12\n",
      "h1_before 1.693681332415347e-12\n",
      "h2_before 1.6726468432701936e-12\n",
      "length_before 1.6726468432701936e-12\n",
      "time_before 1.6726468432701936e-12\n",
      "vocabulary_before 1.6726468432701936e-12\n",
      "volume_before 1.6726468432701936e-12\n",
      "lloc_before 0.23920553040292214\n",
      "loc_before 0.18968160555350644\n",
      "sloc_before 4.943505725232473e-07\n",
      "MI_before 0.0018225192880591396\n"
     ]
    }
   ],
   "source": [
    "for metric_name, p_value in zip(mw_predictive_metrics_names, mw_p_values):\n",
    "    print(metric_name, p_value)"
   ]
  },
  {
   "cell_type": "markdown",
   "id": "social-cause",
   "metadata": {},
   "source": [
    "Разница между валидационным и тестовым датасетами значима по всем метрикам кроме числа строк кода и числа утверждений (числом логических строк кода)."
   ]
  },
  {
   "cell_type": "code",
   "execution_count": 19,
   "id": "stock-german",
   "metadata": {},
   "outputs": [],
   "source": [
    "mw_predictive_metrics_names, mw_p_values = significantFeatures([source_code_data_valid,\n",
    "                                                                source_code_data_test],\n",
    "                                                               [metric_name + '_before' for metric_name in metrics_names],\n",
    "                                                               test_function=mannwhitneyu)"
   ]
  },
  {
   "cell_type": "code",
   "execution_count": 24,
   "id": "amber-biography",
   "metadata": {},
   "outputs": [
    {
     "name": "stdout",
     "output_type": "stream",
     "text": [
      "cc_before 1.1409762519455408e-09\n",
      "N1_before 9.52645223349209e-12\n",
      "N2_before 1.1181033549198523e-11\n",
      "bugs_before 9.52645223349209e-12\n",
      "calculated_length_before 9.52645223349209e-12\n",
      "difficulty_before 2.6418286787179044e-11\n",
      "effort_before 9.52645223349209e-12\n",
      "h1_before 9.7579027975844e-12\n",
      "h2_before 9.52645223349209e-12\n",
      "length_before 9.52645223349209e-12\n",
      "time_before 9.52645223349209e-12\n",
      "vocabulary_before 9.52645223349209e-12\n",
      "volume_before 9.52645223349209e-12\n",
      "lloc_before 0.06178496494976244\n",
      "loc_before 0.21505497893601722\n",
      "multi_before 4.863125951571525e-06\n",
      "sloc_before 0.012922638216302922\n",
      "MI_before 0.012922638216302922\n"
     ]
    }
   ],
   "source": [
    "for metric_name, p_value in zip(mw_predictive_metrics_names, mw_p_values):\n",
    "    print(metric_name, p_value)"
   ]
  },
  {
   "cell_type": "markdown",
   "id": "damaged-tribute",
   "metadata": {},
   "source": [
    "Таким образом, разница между обучающей и валидационной, между обучающей и тестовой выборками, а также между валидационной и тестовой статистически значима по большинству метрик,  даже несмотря на то, что валидационная и тестовая выборки содержат код из одних и тех же репозиториев. Разница между валидационной выборкой и тестовой незначима по числу строк и числу логических строк кода."
   ]
  },
  {
   "cell_type": "markdown",
   "id": "active-upper",
   "metadata": {},
   "source": [
    "Видно, что по большинству метрик выборки отличаются. Посмотрим на размер этих отличий с помощью графиков. Вначале для цикломатической сложности."
   ]
  },
  {
   "cell_type": "code",
   "execution_count": 25,
   "id": "sound-efficiency",
   "metadata": {},
   "outputs": [
    {
     "data": {
      "image/png": "[encoded data removed]",
      "text/plain": [
       "<Figure size 432x288 with 1 Axes>"
      ]
     },
     "metadata": {
      "needs_background": "light"
     },
     "output_type": "display_data"
    }
   ],
   "source": [
    "sns.boxplot(x='sample_index', y='cc_before',\n",
    "            data=all_source_code_data);"
   ]
  },
  {
   "cell_type": "markdown",
   "id": "computational-blues",
   "metadata": {},
   "source": [
    "Уберем выбросы:"
   ]
  },
  {
   "cell_type": "code",
   "execution_count": 26,
   "id": "retained-picking",
   "metadata": {},
   "outputs": [
    {
     "data": {
      "image/png": "[encoded data removed]",
      "text/plain": [
       "<Figure size 432x288 with 1 Axes>"
      ]
     },
     "metadata": {
      "needs_background": "light"
     },
     "output_type": "display_data"
    }
   ],
   "source": [
    "sns.boxplot(x='sample_index', y='cc_before',\n",
    "            data=all_source_code_data.loc[all_source_code_data['cc_before'] <= 50]);"
   ]
  },
  {
   "cell_type": "markdown",
   "id": "protecting-valuable",
   "metadata": {},
   "source": [
    "Цикломатическая сложность немного больше для тестовой выборки."
   ]
  },
  {
   "cell_type": "markdown",
   "id": "fewer-painting",
   "metadata": {},
   "source": [
    "Теперь для $N_1,$ числа операторов:"
   ]
  },
  {
   "cell_type": "code",
   "execution_count": 27,
   "id": "pleased-request",
   "metadata": {},
   "outputs": [
    {
     "data": {
      "image/png": "[encoded data removed]",
      "text/plain": [
       "<Figure size 432x288 with 1 Axes>"
      ]
     },
     "metadata": {
      "needs_background": "light"
     },
     "output_type": "display_data"
    }
   ],
   "source": [
    "sns.boxplot(x='sample_index', y='N1_before',\n",
    "            data=all_source_code_data);"
   ]
  },
  {
   "cell_type": "code",
   "execution_count": 28,
   "id": "indian-waterproof",
   "metadata": {},
   "outputs": [
    {
     "data": {
      "image/png": "[encoded data removed]",
      "text/plain": [
       "<Figure size 432x288 with 1 Axes>"
      ]
     },
     "metadata": {
      "needs_background": "light"
     },
     "output_type": "display_data"
    }
   ],
   "source": [
    "sns.boxplot(x='sample_index', y='N1_before',\n",
    "            data=all_source_code_data.loc[all_source_code_data['N1_before'] <= 50]);"
   ]
  },
  {
   "cell_type": "markdown",
   "id": "super-refund",
   "metadata": {},
   "source": [
    "Число операторов в тестовой выборке немного больше."
   ]
  },
  {
   "cell_type": "markdown",
   "id": "figured-shell",
   "metadata": {},
   "source": [
    "Теперь для числа операндов $N_2:$"
   ]
  },
  {
   "cell_type": "code",
   "execution_count": 29,
   "id": "angry-breakfast",
   "metadata": {},
   "outputs": [
    {
     "data": {
      "image/png": "[encoded data removed]",
      "text/plain": [
       "<Figure size 432x288 with 1 Axes>"
      ]
     },
     "metadata": {
      "needs_background": "light"
     },
     "output_type": "display_data"
    }
   ],
   "source": [
    "sns.boxplot(x='sample_index', y='N2_before',\n",
    "            data=all_source_code_data);"
   ]
  },
  {
   "cell_type": "code",
   "execution_count": 30,
   "id": "charming-checklist",
   "metadata": {},
   "outputs": [
    {
     "data": {
      "image/png": "[encoded data removed]",
      "text/plain": [
       "<Figure size 432x288 with 1 Axes>"
      ]
     },
     "metadata": {
      "needs_background": "light"
     },
     "output_type": "display_data"
    }
   ],
   "source": [
    "sns.boxplot(x='sample_index', y='N2_before',\n",
    "            data=all_source_code_data.loc[all_source_code_data['N2_before'] <= 50]);"
   ]
  },
  {
   "cell_type": "markdown",
   "id": "powered-intelligence",
   "metadata": {},
   "source": [
    "Число операндов в тестовой выборке несколько выше."
   ]
  },
  {
   "cell_type": "markdown",
   "id": "stopped-medicare",
   "metadata": {},
   "source": [
    "Теперь для числа уникальных операторов $h_1:$"
   ]
  },
  {
   "cell_type": "code",
   "execution_count": 31,
   "id": "endless-institute",
   "metadata": {},
   "outputs": [
    {
     "data": {
      "image/png": "[encoded data removed]",
      "text/plain": [
       "<Figure size 432x288 with 1 Axes>"
      ]
     },
     "metadata": {
      "needs_background": "light"
     },
     "output_type": "display_data"
    }
   ],
   "source": [
    "sns.boxplot(x='sample_index', y='h1_before',\n",
    "            data=all_source_code_data);"
   ]
  },
  {
   "cell_type": "markdown",
   "id": "united-roulette",
   "metadata": {},
   "source": [
    "По числу различных операторов видим определенное различие: у обучающей выборки наименьшее число операторов, затем идет валидационная, а затем тестовая."
   ]
  },
  {
   "cell_type": "markdown",
   "id": "natural-integral",
   "metadata": {},
   "source": [
    "Теперь для числа уникальных операндов $h_2:$"
   ]
  },
  {
   "cell_type": "code",
   "execution_count": 32,
   "id": "subsequent-cliff",
   "metadata": {},
   "outputs": [
    {
     "data": {
      "image/png": "[encoded data removed]",
      "text/plain": [
       "<Figure size 432x288 with 1 Axes>"
      ]
     },
     "metadata": {
      "needs_background": "light"
     },
     "output_type": "display_data"
    }
   ],
   "source": [
    "sns.boxplot(x='sample_index', y='h2_before',\n",
    "            data=all_source_code_data);"
   ]
  },
  {
   "cell_type": "code",
   "execution_count": 33,
   "id": "loving-viewer",
   "metadata": {},
   "outputs": [
    {
     "data": {
      "image/png": "[encoded data removed]",
      "text/plain": [
       "<Figure size 432x288 with 1 Axes>"
      ]
     },
     "metadata": {
      "needs_background": "light"
     },
     "output_type": "display_data"
    }
   ],
   "source": [
    "sns.boxplot(x='sample_index', y='h2_before',\n",
    "            data=all_source_code_data.loc[all_source_code_data['h2_before'] <= 100]);"
   ]
  },
  {
   "cell_type": "markdown",
   "id": "empirical-physics",
   "metadata": {},
   "source": [
    "По числу различных операндов видим определенное различие: у обучающей выборки наименьшее число операторов, затем идет валидационная, а затем тестовая."
   ]
  },
  {
   "cell_type": "markdown",
   "id": "agricultural-norwegian",
   "metadata": {},
   "source": [
    "Теперь для vocabulary, length и calculated_length:"
   ]
  },
  {
   "cell_type": "code",
   "execution_count": 34,
   "id": "protected-growing",
   "metadata": {},
   "outputs": [
    {
     "data": {
      "image/png": "[encoded data removed]",
      "text/plain": [
       "<Figure size 432x288 with 1 Axes>"
      ]
     },
     "metadata": {
      "needs_background": "light"
     },
     "output_type": "display_data"
    }
   ],
   "source": [
    "sns.boxplot(x='sample_index', y='vocabulary_before',\n",
    "            data=all_source_code_data);"
   ]
  },
  {
   "cell_type": "code",
   "execution_count": 35,
   "id": "neural-commodity",
   "metadata": {},
   "outputs": [
    {
     "data": {
      "image/png": "[encoded data removed]",
      "text/plain": [
       "<Figure size 432x288 with 1 Axes>"
      ]
     },
     "metadata": {
      "needs_background": "light"
     },
     "output_type": "display_data"
    }
   ],
   "source": [
    "sns.boxplot(x='sample_index', y='length_before',\n",
    "            data=all_source_code_data);"
   ]
  },
  {
   "cell_type": "code",
   "execution_count": 36,
   "id": "pharmaceutical-adelaide",
   "metadata": {},
   "outputs": [
    {
     "data": {
      "image/png": "[encoded data removed]",
      "text/plain": [
       "<Figure size 432x288 with 1 Axes>"
      ]
     },
     "metadata": {
      "needs_background": "light"
     },
     "output_type": "display_data"
    }
   ],
   "source": [
    "sns.boxplot(x='sample_index', y='calculated_length_before',\n",
    "            data=all_source_code_data);"
   ]
  },
  {
   "cell_type": "markdown",
   "id": "banned-hostel",
   "metadata": {},
   "source": [
    "После удаления выбросов:"
   ]
  },
  {
   "cell_type": "code",
   "execution_count": 37,
   "id": "touched-bearing",
   "metadata": {},
   "outputs": [
    {
     "data": {
      "image/png": "[encoded data removed]",
      "text/plain": [
       "<Figure size 432x288 with 1 Axes>"
      ]
     },
     "metadata": {
      "needs_background": "light"
     },
     "output_type": "display_data"
    }
   ],
   "source": [
    "sns.boxplot(x='sample_index', y='vocabulary_before',\n",
    "            data=all_source_code_data.loc[all_source_code_data['vocabulary_before'] <= 100]);"
   ]
  },
  {
   "cell_type": "code",
   "execution_count": 38,
   "id": "checked-halloween",
   "metadata": {},
   "outputs": [
    {
     "data": {
      "image/png": "[encoded data removed]",
      "text/plain": [
       "<Figure size 432x288 with 1 Axes>"
      ]
     },
     "metadata": {
      "needs_background": "light"
     },
     "output_type": "display_data"
    }
   ],
   "source": [
    "sns.boxplot(x='sample_index', y='length_before',\n",
    "            data=all_source_code_data.loc[all_source_code_data['length_before'] <= 200]);"
   ]
  },
  {
   "cell_type": "code",
   "execution_count": 39,
   "id": "meaningful-northern",
   "metadata": {},
   "outputs": [
    {
     "data": {
      "image/png": "[encoded data removed]",
      "text/plain": [
       "<Figure size 432x288 with 1 Axes>"
      ]
     },
     "metadata": {
      "needs_background": "light"
     },
     "output_type": "display_data"
    }
   ],
   "source": [
    "sns.boxplot(x='sample_index', y='calculated_length_before',\n",
    "            data=all_source_code_data.loc[all_source_code_data['calculated_length_before'] <= 200]);"
   ]
  },
  {
   "cell_type": "markdown",
   "id": "guilty-struggle",
   "metadata": {},
   "source": [
    "По всем метрикам видим тот же паттерн, что наблюдался на метриках числа операторов и операндов: у обучающей выборки наименьшее значение метрики, затем идет валидационная, а затем тестовая."
   ]
  },
  {
   "cell_type": "markdown",
   "id": "accessory-crash",
   "metadata": {},
   "source": [
    "Теперь для bugs, difficulty, effort, volume и time:"
   ]
  },
  {
   "cell_type": "code",
   "execution_count": 40,
   "id": "hearing-outreach",
   "metadata": {},
   "outputs": [
    {
     "data": {
      "image/png": "[encoded data removed]",
      "text/plain": [
       "<Figure size 432x288 with 1 Axes>"
      ]
     },
     "metadata": {
      "needs_background": "light"
     },
     "output_type": "display_data"
    }
   ],
   "source": [
    "sns.boxplot(x='sample_index', y='bugs_before',\n",
    "            data=all_source_code_data);"
   ]
  },
  {
   "cell_type": "code",
   "execution_count": 41,
   "id": "defined-arbor",
   "metadata": {},
   "outputs": [
    {
     "data": {
      "image/png": "[encoded data removed]",
      "text/plain": [
       "<Figure size 432x288 with 1 Axes>"
      ]
     },
     "metadata": {
      "needs_background": "light"
     },
     "output_type": "display_data"
    }
   ],
   "source": [
    "sns.boxplot(x='sample_index', y='difficulty_before',\n",
    "            data=all_source_code_data);"
   ]
  },
  {
   "cell_type": "code",
   "execution_count": 42,
   "id": "identified-wesley",
   "metadata": {},
   "outputs": [
    {
     "data": {
      "image/png": "[encoded data removed]",
      "text/plain": [
       "<Figure size 432x288 with 1 Axes>"
      ]
     },
     "metadata": {
      "needs_background": "light"
     },
     "output_type": "display_data"
    }
   ],
   "source": [
    "sns.boxplot(x='sample_index', y='effort_before',\n",
    "            data=all_source_code_data);"
   ]
  },
  {
   "cell_type": "code",
   "execution_count": 43,
   "id": "arctic-macro",
   "metadata": {},
   "outputs": [
    {
     "data": {
      "image/png": "[encoded data removed]",
      "text/plain": [
       "<Figure size 432x288 with 1 Axes>"
      ]
     },
     "metadata": {
      "needs_background": "light"
     },
     "output_type": "display_data"
    }
   ],
   "source": [
    "sns.boxplot(x='sample_index', y='volume_before',\n",
    "            data=all_source_code_data);"
   ]
  },
  {
   "cell_type": "code",
   "execution_count": 44,
   "id": "pacific-milton",
   "metadata": {},
   "outputs": [
    {
     "data": {
      "image/png": "[encoded data removed]",
      "text/plain": [
       "<Figure size 432x288 with 1 Axes>"
      ]
     },
     "metadata": {
      "needs_background": "light"
     },
     "output_type": "display_data"
    }
   ],
   "source": [
    "sns.boxplot(x='sample_index', y='time_before',\n",
    "            data=all_source_code_data);"
   ]
  },
  {
   "cell_type": "markdown",
   "id": "local-garden",
   "metadata": {},
   "source": [
    "Теперь удалим выбросы:"
   ]
  },
  {
   "cell_type": "code",
   "execution_count": 45,
   "id": "quality-rochester",
   "metadata": {},
   "outputs": [
    {
     "data": {
      "image/png": "[encoded data removed]",
      "text/plain": [
       "<Figure size 432x288 with 1 Axes>"
      ]
     },
     "metadata": {
      "needs_background": "light"
     },
     "output_type": "display_data"
    }
   ],
   "source": [
    "sns.boxplot(x='sample_index', y='bugs_before',\n",
    "            data=all_source_code_data.loc[all_source_code_data['bugs_before'] <= 0.3]);"
   ]
  },
  {
   "cell_type": "code",
   "execution_count": 46,
   "id": "operating-student",
   "metadata": {},
   "outputs": [
    {
     "data": {
      "image/png": "[encoded data removed]",
      "text/plain": [
       "<Figure size 432x288 with 1 Axes>"
      ]
     },
     "metadata": {
      "needs_background": "light"
     },
     "output_type": "display_data"
    }
   ],
   "source": [
    "sns.boxplot(x='sample_index', y='effort_before',\n",
    "            data=all_source_code_data.loc[all_source_code_data['effort_before'] <= 400]);"
   ]
  },
  {
   "cell_type": "code",
   "execution_count": 47,
   "id": "annoying-chemical",
   "metadata": {},
   "outputs": [
    {
     "data": {
      "image/png": "[encoded data removed]",
      "text/plain": [
       "<Figure size 432x288 with 1 Axes>"
      ]
     },
     "metadata": {
      "needs_background": "light"
     },
     "output_type": "display_data"
    }
   ],
   "source": [
    "sns.boxplot(x='sample_index', y='volume_before',\n",
    "            data=all_source_code_data.loc[all_source_code_data['volume_before'] <= 400]);"
   ]
  },
  {
   "cell_type": "code",
   "execution_count": 48,
   "id": "planned-neighborhood",
   "metadata": {},
   "outputs": [
    {
     "data": {
      "image/png": "[encoded data removed]",
      "text/plain": [
       "<Figure size 432x288 with 1 Axes>"
      ]
     },
     "metadata": {
      "needs_background": "light"
     },
     "output_type": "display_data"
    }
   ],
   "source": [
    "sns.boxplot(x='sample_index', y='time_before',\n",
    "            data=all_source_code_data.loc[all_source_code_data['time_before'] <= 50]);"
   ]
  },
  {
   "cell_type": "markdown",
   "id": "unauthorized-tissue",
   "metadata": {},
   "source": [
    "По всем метрикам видим тот же паттерн, что наблюдался на метриках числа операторов и операндов: у обучающей выборки наименьшее значение метрики, затем идет валидационная, а затем тестовая."
   ]
  },
  {
   "cell_type": "markdown",
   "id": "funny-match",
   "metadata": {},
   "source": [
    "Теперь по метрикам blank, single_comments, lloc, loc, multi и sloc."
   ]
  },
  {
   "cell_type": "code",
   "execution_count": 49,
   "id": "outstanding-impression",
   "metadata": {},
   "outputs": [
    {
     "data": {
      "image/png": "[encoded data removed]",
      "text/plain": [
       "<Figure size 432x288 with 1 Axes>"
      ]
     },
     "metadata": {
      "needs_background": "light"
     },
     "output_type": "display_data"
    }
   ],
   "source": [
    "sns.boxplot(x='sample_index', y='blank_before',\n",
    "            data=all_source_code_data);"
   ]
  },
  {
   "cell_type": "code",
   "execution_count": 50,
   "id": "recreational-species",
   "metadata": {},
   "outputs": [
    {
     "data": {
      "image/png": "[encoded data removed]",
      "text/plain": [
       "<Figure size 432x288 with 1 Axes>"
      ]
     },
     "metadata": {
      "needs_background": "light"
     },
     "output_type": "display_data"
    }
   ],
   "source": [
    "sns.boxplot(x='sample_index', y='single_comments_before',\n",
    "            data=all_source_code_data);"
   ]
  },
  {
   "cell_type": "code",
   "execution_count": 51,
   "id": "endangered-whale",
   "metadata": {},
   "outputs": [
    {
     "data": {
      "image/png": "[encoded data removed]",
      "text/plain": [
       "<Figure size 432x288 with 1 Axes>"
      ]
     },
     "metadata": {
      "needs_background": "light"
     },
     "output_type": "display_data"
    }
   ],
   "source": [
    "sns.boxplot(x='sample_index', y='lloc_before',\n",
    "            data=all_source_code_data);"
   ]
  },
  {
   "cell_type": "code",
   "execution_count": 52,
   "id": "blind-lying",
   "metadata": {},
   "outputs": [
    {
     "data": {
      "image/png": "[encoded data removed]",
      "text/plain": [
       "<Figure size 432x288 with 1 Axes>"
      ]
     },
     "metadata": {
      "needs_background": "light"
     },
     "output_type": "display_data"
    }
   ],
   "source": [
    "sns.boxplot(x='sample_index', y='sloc_before',\n",
    "            data=all_source_code_data);"
   ]
  },
  {
   "cell_type": "code",
   "execution_count": 53,
   "id": "fluid-basis",
   "metadata": {},
   "outputs": [
    {
     "data": {
      "image/png": "[encoded data removed]",
      "text/plain": [
       "<Figure size 432x288 with 1 Axes>"
      ]
     },
     "metadata": {
      "needs_background": "light"
     },
     "output_type": "display_data"
    }
   ],
   "source": [
    "sns.boxplot(x='sample_index', y='loc_before',\n",
    "            data=all_source_code_data);"
   ]
  },
  {
   "cell_type": "code",
   "execution_count": 54,
   "id": "beneficial-ethiopia",
   "metadata": {},
   "outputs": [
    {
     "data": {
      "image/png": "[encoded data removed]",
      "text/plain": [
       "<Figure size 432x288 with 1 Axes>"
      ]
     },
     "metadata": {
      "needs_background": "light"
     },
     "output_type": "display_data"
    }
   ],
   "source": [
    "sns.boxplot(x='sample_index', y='multi_before',\n",
    "            data=all_source_code_data);"
   ]
  },
  {
   "cell_type": "markdown",
   "id": "several-vegetarian",
   "metadata": {},
   "source": [
    "Теперь удалим выбросы:"
   ]
  },
  {
   "cell_type": "code",
   "execution_count": 55,
   "id": "domestic-robertson",
   "metadata": {},
   "outputs": [
    {
     "data": {
      "image/png": "[encoded data removed]",
      "text/plain": [
       "<Figure size 432x288 with 1 Axes>"
      ]
     },
     "metadata": {
      "needs_background": "light"
     },
     "output_type": "display_data"
    }
   ],
   "source": [
    "sns.boxplot(x='sample_index', y='blank_before',\n",
    "            data=all_source_code_data.loc[all_source_code_data['blank_before'] <= 50]);"
   ]
  },
  {
   "cell_type": "code",
   "execution_count": 56,
   "id": "abstract-buying",
   "metadata": {},
   "outputs": [
    {
     "data": {
      "image/png": "[encoded data removed]",
      "text/plain": [
       "<Figure size 432x288 with 1 Axes>"
      ]
     },
     "metadata": {
      "needs_background": "light"
     },
     "output_type": "display_data"
    }
   ],
   "source": [
    "sns.boxplot(x='sample_index', y='single_comments_before',\n",
    "            data=all_source_code_data.loc[all_source_code_data['single_comments_before'] <= 20]);"
   ]
  },
  {
   "cell_type": "code",
   "execution_count": 57,
   "id": "resident-decade",
   "metadata": {},
   "outputs": [
    {
     "data": {
      "image/png": "[encoded data removed]",
      "text/plain": [
       "<Figure size 432x288 with 1 Axes>"
      ]
     },
     "metadata": {
      "needs_background": "light"
     },
     "output_type": "display_data"
    }
   ],
   "source": [
    "sns.boxplot(x='sample_index', y='lloc_before',\n",
    "            data=all_source_code_data.loc[all_source_code_data['lloc_before'] <= 200]);"
   ]
  },
  {
   "cell_type": "code",
   "execution_count": 58,
   "id": "narrow-windsor",
   "metadata": {},
   "outputs": [
    {
     "data": {
      "image/png": "[encoded data removed]",
      "text/plain": [
       "<Figure size 432x288 with 1 Axes>"
      ]
     },
     "metadata": {
      "needs_background": "light"
     },
     "output_type": "display_data"
    }
   ],
   "source": [
    "sns.boxplot(x='sample_index', y='sloc_before',\n",
    "            data=all_source_code_data.loc[all_source_code_data['sloc_before'] <= 200]);"
   ]
  },
  {
   "cell_type": "code",
   "execution_count": 59,
   "id": "dietary-bargain",
   "metadata": {},
   "outputs": [
    {
     "data": {
      "image/png": "[encoded data removed]",
      "text/plain": [
       "<Figure size 432x288 with 1 Axes>"
      ]
     },
     "metadata": {
      "needs_background": "light"
     },
     "output_type": "display_data"
    }
   ],
   "source": [
    "sns.boxplot(x='sample_index', y='loc_before',\n",
    "            data=all_source_code_data.loc[all_source_code_data['loc_before'] <= 250]);"
   ]
  },
  {
   "cell_type": "code",
   "execution_count": 60,
   "id": "lesser-pledge",
   "metadata": {},
   "outputs": [
    {
     "data": {
      "image/png": "[encoded data removed]",
      "text/plain": [
       "<Figure size 432x288 with 1 Axes>"
      ]
     },
     "metadata": {
      "needs_background": "light"
     },
     "output_type": "display_data"
    }
   ],
   "source": [
    "sns.boxplot(x='sample_index', y='multi_before',\n",
    "            data=all_source_code_data.loc[all_source_code_data['multi_before'] <= 200]);"
   ]
  },
  {
   "cell_type": "markdown",
   "id": "written-today",
   "metadata": {},
   "source": [
    "Теперь для индекса исправляемости:"
   ]
  },
  {
   "cell_type": "code",
   "execution_count": 61,
   "id": "approved-making",
   "metadata": {},
   "outputs": [
    {
     "data": {
      "image/png": "[encoded data removed]",
      "text/plain": [
       "<Figure size 432x288 with 1 Axes>"
      ]
     },
     "metadata": {
      "needs_background": "light"
     },
     "output_type": "display_data"
    }
   ],
   "source": [
    "sns.boxplot(x='sample_index', y='MI_before',\n",
    "            data=all_source_code_data);"
   ]
  },
  {
   "cell_type": "markdown",
   "id": "established-onion",
   "metadata": {},
   "source": [
    "Наиболее значимые отличия между тестовой выборкой и остальными по метрикам: N2, h1, h2, vocabulary, length, calculated length, bugs, volumne, time. По остальным метрикам разница небольшая. Таким образом, тестовая выборка содержит сниппеты несколько более высокой сложности, чем сниппеты в обучающей и валидационных выборках."
   ]
  }
 ],
 "metadata": {
  "kernelspec": {
   "display_name": "Python 3",
   "language": "python",
   "name": "python3"
  },
  "language_info": {
   "codemirror_mode": {
    "name": "ipython",
    "version": 3
   },
   "file_extension": ".py",
   "mimetype": "text/x-python",
   "name": "python",
   "nbconvert_exporter": "python",
   "pygments_lexer": "ipython3",
   "version": "3.8.5"
  }
 },
 "nbformat": 4,
 "nbformat_minor": 5
}
