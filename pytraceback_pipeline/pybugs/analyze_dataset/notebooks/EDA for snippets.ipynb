{
 "cells": [
  {
   "cell_type": "code",
   "execution_count": null,
   "id": "tired-thermal",
   "metadata": {},
   "outputs": [],
   "source": [
    "error_types_frequencies = source_code_data['traceback_type'].value_counts()\n",
    "len(error_types_frequencies.loc[error_types_frequencies > 100].index)"
   ]
  }
 ],
 "metadata": {
  "kernelspec": {
   "display_name": "Python 3",
   "language": "python",
   "name": "python3"
  },
  "language_info": {
   "codemirror_mode": {
    "name": "ipython",
    "version": 3
   },
   "file_extension": ".py",
   "mimetype": "text/x-python",
   "name": "python",
   "nbconvert_exporter": "python",
   "pygments_lexer": "ipython3",
   "version": "3.8.5"
  }
 },
 "nbformat": 4,
 "nbformat_minor": 5
}
