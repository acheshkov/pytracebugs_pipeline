{
 "cells": [
  {
   "cell_type": "code",
   "execution_count": 1,
   "id": "unauthorized-charleston",
   "metadata": {},
   "outputs": [],
   "source": [
    "import os\n",
    "import sys\n",
    "import pandas as pd\n",
    "import numpy as np\n",
    "import seaborn as sns\n",
    "import matplotlib.pyplot as plt"
   ]
  },
  {
   "cell_type": "markdown",
   "id": "northern-volunteer",
   "metadata": {},
   "source": [
    "# Загрузка данных по коду с ошибками\n",
    "\n",
    "Загрузим данные по коду с ошибками без разбиения на обучающую, валидационную и тестовую выборки."
   ]
  },
  {
   "cell_type": "code",
   "execution_count": 2,
   "id": "legendary-assessment",
   "metadata": {},
   "outputs": [],
   "source": [
    "path_to_data = '/home/kks/zephyr_data/buggy_code/'\n",
    "source_code_data = pd.read_pickle(path_to_data + 'filtered_traceback_bugfixes_metrics.pickle')"
   ]
  },
  {
   "cell_type": "code",
   "execution_count": 3,
   "id": "republican-intellectual",
   "metadata": {},
   "outputs": [],
   "source": [
    "metric_names = ['cc_before', 'cc_after', 'is function_before', 'is function_after',\n",
    "                'cc_rank_before', 'cc_rank_after', 'N1_before', 'N1_after', 'N2_before',\n",
    "                'N2_after', 'bugs_before', 'bugs_after', 'calculated_length_before',\n",
    "                'calculated_length_after', 'difficulty_before', 'difficulty_after',\n",
    "                'effort_before', 'effort_after', 'h1_before', 'h1_after', 'h2_before',\n",
    "                'h2_after', 'length_before', 'length_after', 'time_before',\n",
    "                'time_after', 'vocabulary_before', 'vocabulary_after', 'volume_before',\n",
    "                'volume_after', 'blank_before', 'blank_after', 'comments_before',\n",
    "                'comments_after', 'lloc_before', 'lloc_after', 'loc_before',\n",
    "                'loc_after', 'multi_before', 'multi_after', 'single_comments_before',\n",
    "                'single_comments_after', 'sloc_before', 'sloc_after', 'MI_before',\n",
    "                'MI_after']"
   ]
  },
  {
   "cell_type": "markdown",
   "id": "entire-brother",
   "metadata": {},
   "source": [
    "Посмотрим на таблицу со значениями метрик:"
   ]
  },
  {
   "cell_type": "code",
   "execution_count": 4,
   "id": "active-plane",
   "metadata": {},
   "outputs": [
    {
     "data": {
      "text/html": [
       "<div>\n",
       "<style scoped>\n",
       "    .dataframe tbody tr th:only-of-type {\n",
       "        vertical-align: middle;\n",
       "    }\n",
       "\n",
       "    .dataframe tbody tr th {\n",
       "        vertical-align: top;\n",
       "    }\n",
       "\n",
       "    .dataframe thead th {\n",
       "        text-align: right;\n",
       "    }\n",
       "</style>\n",
       "<table border=\"1\" class=\"dataframe\">\n",
       "  <thead>\n",
       "    <tr style=\"text-align: right;\">\n",
       "      <th></th>\n",
       "      <th>cc_before</th>\n",
       "      <th>cc_after</th>\n",
       "      <th>is function_before</th>\n",
       "      <th>is function_after</th>\n",
       "      <th>cc_rank_before</th>\n",
       "      <th>cc_rank_after</th>\n",
       "      <th>N1_before</th>\n",
       "      <th>N1_after</th>\n",
       "      <th>N2_before</th>\n",
       "      <th>N2_after</th>\n",
       "      <th>...</th>\n",
       "      <th>loc_before</th>\n",
       "      <th>loc_after</th>\n",
       "      <th>multi_before</th>\n",
       "      <th>multi_after</th>\n",
       "      <th>single_comments_before</th>\n",
       "      <th>single_comments_after</th>\n",
       "      <th>sloc_before</th>\n",
       "      <th>sloc_after</th>\n",
       "      <th>MI_before</th>\n",
       "      <th>MI_after</th>\n",
       "    </tr>\n",
       "  </thead>\n",
       "  <tbody>\n",
       "    <tr>\n",
       "      <th>0</th>\n",
       "      <td>7</td>\n",
       "      <td>7</td>\n",
       "      <td>True</td>\n",
       "      <td>True</td>\n",
       "      <td>B</td>\n",
       "      <td>B</td>\n",
       "      <td>11</td>\n",
       "      <td>11</td>\n",
       "      <td>19</td>\n",
       "      <td>19</td>\n",
       "      <td>...</td>\n",
       "      <td>93</td>\n",
       "      <td>93</td>\n",
       "      <td>66</td>\n",
       "      <td>66</td>\n",
       "      <td>0</td>\n",
       "      <td>0</td>\n",
       "      <td>19</td>\n",
       "      <td>19</td>\n",
       "      <td>73.117393</td>\n",
       "      <td>73.117393</td>\n",
       "    </tr>\n",
       "    <tr>\n",
       "      <th>1</th>\n",
       "      <td>1</td>\n",
       "      <td>1</td>\n",
       "      <td>True</td>\n",
       "      <td>True</td>\n",
       "      <td>A</td>\n",
       "      <td>A</td>\n",
       "      <td>6</td>\n",
       "      <td>8</td>\n",
       "      <td>7</td>\n",
       "      <td>11</td>\n",
       "      <td>...</td>\n",
       "      <td>28</td>\n",
       "      <td>28</td>\n",
       "      <td>0</td>\n",
       "      <td>0</td>\n",
       "      <td>4</td>\n",
       "      <td>4</td>\n",
       "      <td>22</td>\n",
       "      <td>22</td>\n",
       "      <td>81.940440</td>\n",
       "      <td>79.900328</td>\n",
       "    </tr>\n",
       "    <tr>\n",
       "      <th>94</th>\n",
       "      <td>1</td>\n",
       "      <td>1</td>\n",
       "      <td>True</td>\n",
       "      <td>True</td>\n",
       "      <td>A</td>\n",
       "      <td>A</td>\n",
       "      <td>0</td>\n",
       "      <td>0</td>\n",
       "      <td>0</td>\n",
       "      <td>0</td>\n",
       "      <td>...</td>\n",
       "      <td>60</td>\n",
       "      <td>61</td>\n",
       "      <td>43</td>\n",
       "      <td>43</td>\n",
       "      <td>0</td>\n",
       "      <td>0</td>\n",
       "      <td>11</td>\n",
       "      <td>12</td>\n",
       "      <td>100.000000</td>\n",
       "      <td>100.000000</td>\n",
       "    </tr>\n",
       "    <tr>\n",
       "      <th>178</th>\n",
       "      <td>8</td>\n",
       "      <td>10</td>\n",
       "      <td>True</td>\n",
       "      <td>True</td>\n",
       "      <td>B</td>\n",
       "      <td>B</td>\n",
       "      <td>10</td>\n",
       "      <td>12</td>\n",
       "      <td>18</td>\n",
       "      <td>22</td>\n",
       "      <td>...</td>\n",
       "      <td>130</td>\n",
       "      <td>132</td>\n",
       "      <td>90</td>\n",
       "      <td>90</td>\n",
       "      <td>0</td>\n",
       "      <td>0</td>\n",
       "      <td>26</td>\n",
       "      <td>27</td>\n",
       "      <td>55.824810</td>\n",
       "      <td>53.923789</td>\n",
       "    </tr>\n",
       "    <tr>\n",
       "      <th>179</th>\n",
       "      <td>14</td>\n",
       "      <td>10</td>\n",
       "      <td>True</td>\n",
       "      <td>True</td>\n",
       "      <td>C</td>\n",
       "      <td>C</td>\n",
       "      <td>18</td>\n",
       "      <td>14</td>\n",
       "      <td>34</td>\n",
       "      <td>25</td>\n",
       "      <td>...</td>\n",
       "      <td>80</td>\n",
       "      <td>64</td>\n",
       "      <td>0</td>\n",
       "      <td>0</td>\n",
       "      <td>24</td>\n",
       "      <td>22</td>\n",
       "      <td>53</td>\n",
       "      <td>39</td>\n",
       "      <td>72.678590</td>\n",
       "      <td>77.247169</td>\n",
       "    </tr>\n",
       "    <tr>\n",
       "      <th>...</th>\n",
       "      <td>...</td>\n",
       "      <td>...</td>\n",
       "      <td>...</td>\n",
       "      <td>...</td>\n",
       "      <td>...</td>\n",
       "      <td>...</td>\n",
       "      <td>...</td>\n",
       "      <td>...</td>\n",
       "      <td>...</td>\n",
       "      <td>...</td>\n",
       "      <td>...</td>\n",
       "      <td>...</td>\n",
       "      <td>...</td>\n",
       "      <td>...</td>\n",
       "      <td>...</td>\n",
       "      <td>...</td>\n",
       "      <td>...</td>\n",
       "      <td>...</td>\n",
       "      <td>...</td>\n",
       "      <td>...</td>\n",
       "      <td>...</td>\n",
       "    </tr>\n",
       "    <tr>\n",
       "      <th>625588</th>\n",
       "      <td>15</td>\n",
       "      <td>14</td>\n",
       "      <td>True</td>\n",
       "      <td>True</td>\n",
       "      <td>C</td>\n",
       "      <td>C</td>\n",
       "      <td>11</td>\n",
       "      <td>11</td>\n",
       "      <td>21</td>\n",
       "      <td>21</td>\n",
       "      <td>...</td>\n",
       "      <td>24</td>\n",
       "      <td>21</td>\n",
       "      <td>0</td>\n",
       "      <td>0</td>\n",
       "      <td>0</td>\n",
       "      <td>0</td>\n",
       "      <td>21</td>\n",
       "      <td>18</td>\n",
       "      <td>53.525163</td>\n",
       "      <td>55.048541</td>\n",
       "    </tr>\n",
       "    <tr>\n",
       "      <th>625628</th>\n",
       "      <td>3</td>\n",
       "      <td>3</td>\n",
       "      <td>True</td>\n",
       "      <td>True</td>\n",
       "      <td>A</td>\n",
       "      <td>A</td>\n",
       "      <td>9</td>\n",
       "      <td>9</td>\n",
       "      <td>17</td>\n",
       "      <td>16</td>\n",
       "      <td>...</td>\n",
       "      <td>39</td>\n",
       "      <td>39</td>\n",
       "      <td>9</td>\n",
       "      <td>9</td>\n",
       "      <td>1</td>\n",
       "      <td>1</td>\n",
       "      <td>23</td>\n",
       "      <td>23</td>\n",
       "      <td>66.803447</td>\n",
       "      <td>66.971842</td>\n",
       "    </tr>\n",
       "    <tr>\n",
       "      <th>625629</th>\n",
       "      <td>5</td>\n",
       "      <td>5</td>\n",
       "      <td>True</td>\n",
       "      <td>True</td>\n",
       "      <td>A</td>\n",
       "      <td>A</td>\n",
       "      <td>6</td>\n",
       "      <td>6</td>\n",
       "      <td>12</td>\n",
       "      <td>11</td>\n",
       "      <td>...</td>\n",
       "      <td>17</td>\n",
       "      <td>17</td>\n",
       "      <td>0</td>\n",
       "      <td>0</td>\n",
       "      <td>1</td>\n",
       "      <td>1</td>\n",
       "      <td>15</td>\n",
       "      <td>15</td>\n",
       "      <td>74.900752</td>\n",
       "      <td>75.153045</td>\n",
       "    </tr>\n",
       "    <tr>\n",
       "      <th>625630</th>\n",
       "      <td>15</td>\n",
       "      <td>15</td>\n",
       "      <td>True</td>\n",
       "      <td>True</td>\n",
       "      <td>C</td>\n",
       "      <td>C</td>\n",
       "      <td>14</td>\n",
       "      <td>14</td>\n",
       "      <td>24</td>\n",
       "      <td>24</td>\n",
       "      <td>...</td>\n",
       "      <td>39</td>\n",
       "      <td>39</td>\n",
       "      <td>0</td>\n",
       "      <td>0</td>\n",
       "      <td>1</td>\n",
       "      <td>1</td>\n",
       "      <td>28</td>\n",
       "      <td>28</td>\n",
       "      <td>65.854216</td>\n",
       "      <td>65.854216</td>\n",
       "    </tr>\n",
       "    <tr>\n",
       "      <th>625636</th>\n",
       "      <td>14</td>\n",
       "      <td>13</td>\n",
       "      <td>True</td>\n",
       "      <td>True</td>\n",
       "      <td>C</td>\n",
       "      <td>C</td>\n",
       "      <td>11</td>\n",
       "      <td>10</td>\n",
       "      <td>18</td>\n",
       "      <td>17</td>\n",
       "      <td>...</td>\n",
       "      <td>15</td>\n",
       "      <td>15</td>\n",
       "      <td>0</td>\n",
       "      <td>0</td>\n",
       "      <td>0</td>\n",
       "      <td>0</td>\n",
       "      <td>15</td>\n",
       "      <td>15</td>\n",
       "      <td>57.806106</td>\n",
       "      <td>58.157911</td>\n",
       "    </tr>\n",
       "  </tbody>\n",
       "</table>\n",
       "<p>23531 rows × 46 columns</p>\n",
       "</div>"
      ],
      "text/plain": [
       "        cc_before  cc_after  is function_before  is function_after  \\\n",
       "0               7         7                True               True   \n",
       "1               1         1                True               True   \n",
       "94              1         1                True               True   \n",
       "178             8        10                True               True   \n",
       "179            14        10                True               True   \n",
       "...           ...       ...                 ...                ...   \n",
       "625588         15        14                True               True   \n",
       "625628          3         3                True               True   \n",
       "625629          5         5                True               True   \n",
       "625630         15        15                True               True   \n",
       "625636         14        13                True               True   \n",
       "\n",
       "       cc_rank_before cc_rank_after  N1_before  N1_after  N2_before  N2_after  \\\n",
       "0                   B             B         11        11         19        19   \n",
       "1                   A             A          6         8          7        11   \n",
       "94                  A             A          0         0          0         0   \n",
       "178                 B             B         10        12         18        22   \n",
       "179                 C             C         18        14         34        25   \n",
       "...               ...           ...        ...       ...        ...       ...   \n",
       "625588              C             C         11        11         21        21   \n",
       "625628              A             A          9         9         17        16   \n",
       "625629              A             A          6         6         12        11   \n",
       "625630              C             C         14        14         24        24   \n",
       "625636              C             C         11        10         18        17   \n",
       "\n",
       "        ...  loc_before  loc_after  multi_before  multi_after  \\\n",
       "0       ...          93         93            66           66   \n",
       "1       ...          28         28             0            0   \n",
       "94      ...          60         61            43           43   \n",
       "178     ...         130        132            90           90   \n",
       "179     ...          80         64             0            0   \n",
       "...     ...         ...        ...           ...          ...   \n",
       "625588  ...          24         21             0            0   \n",
       "625628  ...          39         39             9            9   \n",
       "625629  ...          17         17             0            0   \n",
       "625630  ...          39         39             0            0   \n",
       "625636  ...          15         15             0            0   \n",
       "\n",
       "        single_comments_before  single_comments_after  sloc_before  \\\n",
       "0                            0                      0           19   \n",
       "1                            4                      4           22   \n",
       "94                           0                      0           11   \n",
       "178                          0                      0           26   \n",
       "179                         24                     22           53   \n",
       "...                        ...                    ...          ...   \n",
       "625588                       0                      0           21   \n",
       "625628                       1                      1           23   \n",
       "625629                       1                      1           15   \n",
       "625630                       1                      1           28   \n",
       "625636                       0                      0           15   \n",
       "\n",
       "        sloc_after   MI_before    MI_after  \n",
       "0               19   73.117393   73.117393  \n",
       "1               22   81.940440   79.900328  \n",
       "94              12  100.000000  100.000000  \n",
       "178             27   55.824810   53.923789  \n",
       "179             39   72.678590   77.247169  \n",
       "...            ...         ...         ...  \n",
       "625588          18   53.525163   55.048541  \n",
       "625628          23   66.803447   66.971842  \n",
       "625629          15   74.900752   75.153045  \n",
       "625630          28   65.854216   65.854216  \n",
       "625636          15   57.806106   58.157911  \n",
       "\n",
       "[23531 rows x 46 columns]"
      ]
     },
     "execution_count": 4,
     "metadata": {},
     "output_type": "execute_result"
    }
   ],
   "source": [
    "source_code_data[metric_names]"
   ]
  },
  {
   "cell_type": "markdown",
   "id": "flying-joint",
   "metadata": {},
   "source": [
    "# Описание датасета с ошибками на уровне метрик\n",
    "\n",
    "# Сырые метрики\n",
    "\n",
    "## Длина кода сниппетов\n",
    "\n",
    "Посмотрим на распределение сниппетов кода с ошибками и сниппетов кода сразу после исправления ошибок по длине (метрика source lines of code, sloc). При расчете этой метрики учитываются только строки с исходным кодом. Подсчитаем различные статистики по этой метрике."
   ]
  },
  {
   "cell_type": "code",
   "execution_count": 5,
   "id": "professional-english",
   "metadata": {},
   "outputs": [
    {
     "name": "stdout",
     "output_type": "stream",
     "text": [
      "Среднее значение числа строк кода равно 32.00735200373975.\n",
      "Медиана числа строк кода равна 17.0.\n",
      "С.к.о числа строк кода равно 61.18552105477834.\n",
      "25-й персентиль числа строк кода равен 8.0.\n",
      "75-й персентиль числа строк кода равен 35.0.\n",
      "90-й персентиль числа строк кода равен 69.0.\n",
      "Минимум числа строк кода равен 1.\n",
      "Максимум числа строк кода равен 3872.\n"
     ]
    }
   ],
   "source": [
    "print(f'Среднее значение числа строк кода равно {source_code_data[\"sloc_before\"].mean()}.')\n",
    "print(f'Медиана числа строк кода равна {source_code_data[\"sloc_before\"].median()}.')\n",
    "print(f'С.к.о числа строк кода равно {source_code_data[\"sloc_before\"].std()}.')\n",
    "print(f'25-й персентиль числа строк кода равен {source_code_data[\"sloc_before\"].quantile(q=0.25)}.')\n",
    "print(f'75-й персентиль числа строк кода равен {source_code_data[\"sloc_before\"].quantile(q=0.75)}.')\n",
    "print(f'90-й персентиль числа строк кода равен {source_code_data[\"sloc_before\"].quantile(q=0.90)}.')\n",
    "print(f'Минимум числа строк кода равен {source_code_data[\"sloc_before\"].min()}.')\n",
    "print(f'Максимум числа строк кода равен {source_code_data[\"sloc_before\"].max()}.')"
   ]
  },
  {
   "cell_type": "markdown",
   "id": "undefined-isolation",
   "metadata": {},
   "source": [
    "Таким образом, 90% сниппетов кода с ошибками имеют длину до 52 строк, а 75% из них - длину до 52."
   ]
  },
  {
   "cell_type": "markdown",
   "id": "aging-audience",
   "metadata": {},
   "source": [
    "Теперь по коду после исправления:"
   ]
  },
  {
   "cell_type": "code",
   "execution_count": 6,
   "id": "secondary-permission",
   "metadata": {},
   "outputs": [
    {
     "name": "stdout",
     "output_type": "stream",
     "text": [
      "Среднее значение числа строк кода равно 33.16391143597807.\n",
      "Медиана числа строк кода равна 18.0.\n",
      "С.к.о числа строк кода равно 61.543881357079876.\n",
      "25-й персентиль числа строк кода равен 9.0.\n",
      "75-й персентиль числа строк кода равен 37.0.\n",
      "90-й персентиль числа строк кода равен 71.0.\n",
      "Минимум числа строк кода равен 1.\n",
      "Максимум числа строк кода равен 3878.\n"
     ]
    }
   ],
   "source": [
    "print(f'Среднее значение числа строк кода равно {source_code_data[\"sloc_after\"].mean()}.')\n",
    "print(f'Медиана числа строк кода равна {source_code_data[\"sloc_after\"].median()}.')\n",
    "print(f'С.к.о числа строк кода равно {source_code_data[\"sloc_after\"].std()}.')\n",
    "print(f'25-й персентиль числа строк кода равен {source_code_data[\"sloc_after\"].quantile(q=0.25)}.')\n",
    "print(f'75-й персентиль числа строк кода равен {source_code_data[\"sloc_after\"].quantile(q=0.75)}.')\n",
    "print(f'90-й персентиль числа строк кода равен {source_code_data[\"sloc_after\"].quantile(q=0.90)}.')\n",
    "print(f'Минимум числа строк кода равен {source_code_data[\"sloc_after\"].min()}.')\n",
    "print(f'Максимум числа строк кода равен {source_code_data[\"sloc_after\"].max()}.')"
   ]
  },
  {
   "cell_type": "markdown",
   "id": "closing-watson",
   "metadata": {},
   "source": [
    "Таким образом, в целом длина кода удлинняется в процессе исправления, но не очень существенно."
   ]
  },
  {
   "cell_type": "markdown",
   "id": "chicken-ordering",
   "metadata": {},
   "source": [
    "## Число утверждений (statements)\n",
    "\n",
    "Подсчитаем количество логических утверждений в коде сниппетов с ошибками. Одна строка кода может содержать несколько логических утверждений."
   ]
  },
  {
   "cell_type": "code",
   "execution_count": 7,
   "id": "missing-craft",
   "metadata": {},
   "outputs": [
    {
     "name": "stdout",
     "output_type": "stream",
     "text": [
      "Среднее значение числа утверждений равно 25.40652755938974.\n",
      "Медиана числа утверждений равна 15.0.\n",
      "С.к.о числа утверждений равно 37.46334497388983.\n",
      "25-й персентиль числа утверждений равен 7.0.\n",
      "75-й персентиль числа утверждений равен 29.0.\n",
      "90-й персентиль числа утверждений равен 54.0.\n",
      "Минимум числа утверждений равен 2.\n",
      "Максимум числа утверждений равен 896.\n"
     ]
    }
   ],
   "source": [
    "print(f'Среднее значение числа утверждений равно {source_code_data[\"lloc_before\"].mean()}.')\n",
    "print(f'Медиана числа утверждений равна {source_code_data[\"lloc_before\"].median()}.')\n",
    "print(f'С.к.о числа утверждений равно {source_code_data[\"lloc_before\"].std()}.')\n",
    "print(f'25-й персентиль числа утверждений равен {source_code_data[\"lloc_before\"].quantile(q=0.25)}.')\n",
    "print(f'75-й персентиль числа утверждений равен {source_code_data[\"lloc_before\"].quantile(q=0.75)}.')\n",
    "print(f'90-й персентиль числа утверждений равен {source_code_data[\"lloc_before\"].quantile(q=0.90)}.')\n",
    "print(f'Минимум числа утверждений равен {source_code_data[\"lloc_before\"].min()}.')\n",
    "print(f'Максимум числа утверждений равен {source_code_data[\"lloc_before\"].max()}.')"
   ]
  },
  {
   "cell_type": "markdown",
   "id": "hazardous-hundred",
   "metadata": {},
   "source": [
    "Посмотрим на взаимное распределение числа строк и числа утверждений:"
   ]
  },
  {
   "cell_type": "code",
   "execution_count": 8,
   "id": "statewide-nursing",
   "metadata": {},
   "outputs": [
    {
     "data": {
      "image/png": "[encoded data removed]",
      "text/plain": [
       "<Figure size 432x288 with 1 Axes>"
      ]
     },
     "metadata": {
      "needs_background": "light"
     },
     "output_type": "display_data"
    }
   ],
   "source": [
    "sns.boxplot(x='lloc_before',\n",
    "            data=source_code_data.loc[source_code_data['lloc_before'] < 50]);"
   ]
  },
  {
   "cell_type": "code",
   "execution_count": 9,
   "id": "marine-appointment",
   "metadata": {},
   "outputs": [
    {
     "data": {
      "image/png": "[encoded data removed]",
      "text/plain": [
       "<Figure size 432x288 with 1 Axes>"
      ]
     },
     "metadata": {
      "needs_background": "light"
     },
     "output_type": "display_data"
    }
   ],
   "source": [
    "sns.boxplot(x='sloc_before',\n",
    "            data=source_code_data.loc[source_code_data['lloc_before'] < 50]);"
   ]
  },
  {
   "cell_type": "markdown",
   "id": "caring-dayton",
   "metadata": {},
   "source": [
    "Посмотрим на отношение:"
   ]
  },
  {
   "cell_type": "code",
   "execution_count": 10,
   "id": "tired-transparency",
   "metadata": {},
   "outputs": [
    {
     "data": {
      "image/png": "[encoded data removed]",
      "text/plain": [
       "<Figure size 432x288 with 1 Axes>"
      ]
     },
     "metadata": {
      "needs_background": "light"
     },
     "output_type": "display_data"
    }
   ],
   "source": [
    "source_code_data['sloc_to_lloc_ratio_before'] = source_code_data['sloc_before'] / source_code_data['lloc_before']\n",
    "sns.boxplot(x='sloc_to_lloc_ratio_before',\n",
    "            data=source_code_data);"
   ]
  },
  {
   "cell_type": "code",
   "execution_count": 11,
   "id": "fallen-candidate",
   "metadata": {},
   "outputs": [
    {
     "name": "stdout",
     "output_type": "stream",
     "text": [
      "Медиана отношения равна 1.0357142857142858.\n"
     ]
    }
   ],
   "source": [
    "print(f'Медиана отношения равна {source_code_data[\"sloc_to_lloc_ratio_before\"].median()}.')"
   ]
  },
  {
   "cell_type": "markdown",
   "id": "wanted-mailman",
   "metadata": {},
   "source": [
    "Таким образом, половина сниппетов имеют отношение числа строк кода к числу утверждений близкое к 1, т.е. в одной строке расположено примерно одно утверждение."
   ]
  },
  {
   "cell_type": "markdown",
   "id": "comfortable-capture",
   "metadata": {},
   "source": [
    "Теперь по коду после исправления:"
   ]
  },
  {
   "cell_type": "code",
   "execution_count": 12,
   "id": "occupied-envelope",
   "metadata": {},
   "outputs": [
    {
     "name": "stdout",
     "output_type": "stream",
     "text": [
      "Среднее значение числа утверждений равно 26.288598019633675.\n",
      "Медиана числа утверждений равна 16.0.\n",
      "С.к.о числа утверждений равно 37.77800654635714.\n",
      "25-й персентиль числа утверждений равен 8.0.\n",
      "75-й персентиль числа утверждений равен 30.0.\n",
      "90-й персентиль числа утверждений равен 56.0.\n",
      "Минимум числа утверждений равен 2.\n",
      "Максимум числа утверждений равен 895.\n"
     ]
    }
   ],
   "source": [
    "print(f'Среднее значение числа утверждений равно {source_code_data[\"lloc_after\"].mean()}.')\n",
    "print(f'Медиана числа утверждений равна {source_code_data[\"lloc_after\"].median()}.')\n",
    "print(f'С.к.о числа утверждений равно {source_code_data[\"lloc_after\"].std()}.')\n",
    "print(f'25-й персентиль числа утверждений равен {source_code_data[\"lloc_after\"].quantile(q=0.25)}.')\n",
    "print(f'75-й персентиль числа утверждений равен {source_code_data[\"lloc_after\"].quantile(q=0.75)}.')\n",
    "print(f'90-й персентиль числа утверждений равен {source_code_data[\"lloc_after\"].quantile(q=0.90)}.')\n",
    "print(f'Минимум числа утверждений равен {source_code_data[\"lloc_after\"].min()}.')\n",
    "print(f'Максимум числа утверждений равен {source_code_data[\"lloc_after\"].max()}.')"
   ]
  },
  {
   "cell_type": "markdown",
   "id": "mighty-operation",
   "metadata": {},
   "source": [
    "Здесь также видно, что код немного удлинняется."
   ]
  },
  {
   "cell_type": "markdown",
   "id": "invisible-leone",
   "metadata": {},
   "source": [
    "## Число однострочных комментариев\n",
    "\n",
    "Вначале по коду с ошибками."
   ]
  },
  {
   "cell_type": "code",
   "execution_count": 13,
   "id": "promotional-geneva",
   "metadata": {},
   "outputs": [
    {
     "name": "stdout",
     "output_type": "stream",
     "text": [
      "Среднее значение числа однострочных комментариев равно 3.294802600824444.\n",
      "Медиана числа однострочных комментариев равна 1.0.\n",
      "С.к.о числа однострочных комментариев равно 7.578830522806015.\n",
      "25-й персентиль числа однострочных комментариев равен 0.0.\n",
      "75-й персентиль числа однострочных комментариев равен 3.0.\n",
      "90-й персентиль числа однострочных комментариев равен 9.0.\n",
      "Минимум числа однострочных комментариев равен 0.\n",
      "Максимум числа однострочных комментариев равен 156.\n"
     ]
    }
   ],
   "source": [
    "print(f'Среднее значение числа однострочных комментариев равно {source_code_data[\"single_comments_before\"].mean()}.')\n",
    "print(f'Медиана числа однострочных комментариев равна {source_code_data[\"single_comments_before\"].median()}.')\n",
    "print(f'С.к.о числа однострочных комментариев равно {source_code_data[\"single_comments_before\"].std()}.')\n",
    "print(f'25-й персентиль числа однострочных комментариев равен {source_code_data[\"single_comments_before\"].quantile(q=0.25)}.')\n",
    "print(f'75-й персентиль числа однострочных комментариев равен {source_code_data[\"single_comments_before\"].quantile(q=0.75)}.')\n",
    "print(f'90-й персентиль числа однострочных комментариев равен {source_code_data[\"single_comments_before\"].quantile(q=0.90)}.')\n",
    "print(f'Минимум числа однострочных комментариев равен {source_code_data[\"single_comments_before\"].min()}.')\n",
    "print(f'Максимум числа однострочных комментариев равен {source_code_data[\"single_comments_before\"].max()}.')"
   ]
  },
  {
   "cell_type": "markdown",
   "id": "downtown-resolution",
   "metadata": {},
   "source": [
    "Теперь по коду после исправлений."
   ]
  },
  {
   "cell_type": "code",
   "execution_count": 14,
   "id": "cleared-ocean",
   "metadata": {},
   "outputs": [
    {
     "name": "stdout",
     "output_type": "stream",
     "text": [
      "Среднее значение числа однострочных комментариев равно 3.517360078194722.\n",
      "Медиана числа однострочных комментариев равна 1.0.\n",
      "С.к.о числа однострочных комментариев равно 7.764975409572439.\n",
      "25-й персентиль числа однострочных комментариев равен 0.0.\n",
      "75-й персентиль числа однострочных комментариев равен 4.0.\n",
      "90-й персентиль числа однострочных комментариев равен 9.0.\n",
      "Минимум числа однострочных комментариев равен 0.\n",
      "Максимум числа однострочных комментариев равен 156.\n"
     ]
    }
   ],
   "source": [
    "print(f'Среднее значение числа однострочных комментариев равно {source_code_data[\"single_comments_after\"].mean()}.')\n",
    "print(f'Медиана числа однострочных комментариев равна {source_code_data[\"single_comments_after\"].median()}.')\n",
    "print(f'С.к.о числа однострочных комментариев равно {source_code_data[\"single_comments_after\"].std()}.')\n",
    "print(f'25-й персентиль числа однострочных комментариев равен {source_code_data[\"single_comments_after\"].quantile(q=0.25)}.')\n",
    "print(f'75-й персентиль числа однострочных комментариев равен {source_code_data[\"single_comments_after\"].quantile(q=0.75)}.')\n",
    "print(f'90-й персентиль числа однострочных комментариев равен {source_code_data[\"single_comments_after\"].quantile(q=0.90)}.')\n",
    "print(f'Минимум числа однострочных комментариев равен {source_code_data[\"single_comments_after\"].min()}.')\n",
    "print(f'Максимум числа однострочных комментариев равен {source_code_data[\"single_comments_after\"].max()}.')"
   ]
  },
  {
   "cell_type": "markdown",
   "id": "direct-pickup",
   "metadata": {},
   "source": [
    "# Число многострочных строк\n",
    "\n",
    "По коду с ошибками."
   ]
  },
  {
   "cell_type": "code",
   "execution_count": 15,
   "id": "furnished-warrior",
   "metadata": {},
   "outputs": [
    {
     "name": "stdout",
     "output_type": "stream",
     "text": [
      "Среднее значение числа многострочных строк равно 5.488249543155837.\n",
      "Медиана числа многострочных строк равна 0.0.\n",
      "С.к.о числа многострочных строк равно 18.775556603049086.\n",
      "25-й персентиль числа многострочных строк равен 0.0.\n",
      "75-й персентиль числа многострочных строк равен 5.0.\n",
      "90-й персентиль числа многострочных строк равен 13.0.\n",
      "Минимум числа многострочных строк равен 0.\n",
      "Максимум числа многострочных строк равен 1085.\n"
     ]
    }
   ],
   "source": [
    "print(f'Среднее значение числа многострочных строк равно {source_code_data[\"multi_before\"].mean()}.')\n",
    "print(f'Медиана числа многострочных строк равна {source_code_data[\"multi_before\"].median()}.')\n",
    "print(f'С.к.о числа многострочных строк равно {source_code_data[\"multi_before\"].std()}.')\n",
    "print(f'25-й персентиль числа многострочных строк равен {source_code_data[\"multi_before\"].quantile(q=0.25)}.')\n",
    "print(f'75-й персентиль числа многострочных строк равен {source_code_data[\"multi_before\"].quantile(q=0.75)}.')\n",
    "print(f'90-й персентиль числа многострочных строк равен {source_code_data[\"multi_before\"].quantile(q=0.90)}.')\n",
    "print(f'Минимум числа многострочных строк равен {source_code_data[\"multi_before\"].min()}.')\n",
    "print(f'Максимум числа многострочных строк равен {source_code_data[\"multi_before\"].max()}.')"
   ]
  },
  {
   "cell_type": "markdown",
   "id": "devoted-empire",
   "metadata": {},
   "source": [
    "По исправленному коду:"
   ]
  },
  {
   "cell_type": "code",
   "execution_count": 16,
   "id": "electronic-testament",
   "metadata": {},
   "outputs": [
    {
     "name": "stdout",
     "output_type": "stream",
     "text": [
      "Среднее значение числа многострочных строк равно 5.619183205133654.\n",
      "Медиана числа многострочных строк равна 0.0.\n",
      "С.к.о числа многострочных строк равно 19.01283984779297.\n",
      "25-й персентиль числа многострочных строк равен 0.0.\n",
      "75-й персентиль числа многострочных строк равен 5.0.\n",
      "90-й персентиль числа многострочных строк равен 14.0.\n",
      "Минимум числа многострочных строк равен 0.\n",
      "Максимум числа многострочных строк равен 1085.\n"
     ]
    }
   ],
   "source": [
    "print(f'Среднее значение числа многострочных строк равно {source_code_data[\"multi_after\"].mean()}.')\n",
    "print(f'Медиана числа многострочных строк равна {source_code_data[\"multi_after\"].median()}.')\n",
    "print(f'С.к.о числа многострочных строк равно {source_code_data[\"multi_after\"].std()}.')\n",
    "print(f'25-й персентиль числа многострочных строк равен {source_code_data[\"multi_after\"].quantile(q=0.25)}.')\n",
    "print(f'75-й персентиль числа многострочных строк равен {source_code_data[\"multi_after\"].quantile(q=0.75)}.')\n",
    "print(f'90-й персентиль числа многострочных строк равен {source_code_data[\"multi_after\"].quantile(q=0.90)}.')\n",
    "print(f'Минимум числа многострочных строк равен {source_code_data[\"multi_after\"].min()}.')\n",
    "print(f'Максимум числа многострочных строк равен {source_code_data[\"multi_after\"].max()}.')"
   ]
  },
  {
   "cell_type": "markdown",
   "id": "collaborative-voice",
   "metadata": {},
   "source": [
    "Видно, что у половины сниппетов нет многострочных строк."
   ]
  },
  {
   "cell_type": "markdown",
   "id": "minor-crystal",
   "metadata": {},
   "source": [
    "## Отношения метрик\n",
    "\n",
    "Подсчитаем отношение метрик: суммы числа однострочных комментариев и многострочных строк к числу строк кода"
   ]
  },
  {
   "cell_type": "code",
   "execution_count": 17,
   "id": "explicit-graham",
   "metadata": {},
   "outputs": [],
   "source": [
    "source_code_data['comments_n_multiline_ratio_before'] = (source_code_data['single_comments_before'] + source_code_data['multi_before']) / source_code_data['sloc_before']"
   ]
  },
  {
   "cell_type": "code",
   "execution_count": 18,
   "id": "nutritional-punishment",
   "metadata": {},
   "outputs": [
    {
     "name": "stdout",
     "output_type": "stream",
     "text": [
      "Среднее значение отношения равно 0.39570261574027404.\n",
      "Медиана отношения равна 0.1388888888888889.\n",
      "С.к.о отношения равно 1.0511676680452526.\n",
      "25-й персентиль отношения равен 0.0.\n",
      "75-й персентиль отношения равен 0.4090909090909091.\n",
      "90-й персентиль отношения равен 0.9230769230769231.\n",
      "Минимум отношения равен 0.0.\n",
      "Максимум отношения равен 58.75.\n"
     ]
    }
   ],
   "source": [
    "print(f'Среднее значение отношения равно {source_code_data[\"comments_n_multiline_ratio_before\"].mean()}.')\n",
    "print(f'Медиана отношения равна {source_code_data[\"comments_n_multiline_ratio_before\"].median()}.')\n",
    "print(f'С.к.о отношения равно {source_code_data[\"comments_n_multiline_ratio_before\"].std()}.')\n",
    "print(f'25-й персентиль отношения равен {source_code_data[\"comments_n_multiline_ratio_before\"].quantile(q=0.25)}.')\n",
    "print(f'75-й персентиль отношения равен {source_code_data[\"comments_n_multiline_ratio_before\"].quantile(q=0.75)}.')\n",
    "print(f'90-й персентиль отношения равен {source_code_data[\"comments_n_multiline_ratio_before\"].quantile(q=0.90)}.')\n",
    "print(f'Минимум отношения равен {source_code_data[\"comments_n_multiline_ratio_before\"].min()}.')\n",
    "print(f'Максимум отношения равен {source_code_data[\"comments_n_multiline_ratio_before\"].max()}.')"
   ]
  },
  {
   "cell_type": "markdown",
   "id": "wooden-nothing",
   "metadata": {},
   "source": [
    "У половины сниппетов отношение равно 0 как и следовало ожидать. У подавляющего большинства сниппетов число однострочных комментариев плюс число многострочных строк не превосходит числа строк кода."
   ]
  },
  {
   "cell_type": "markdown",
   "id": "pleased-association",
   "metadata": {},
   "source": [
    "## Корреляции между рассмотренными метриками\n"
   ]
  },
  {
   "cell_type": "code",
   "execution_count": 19,
   "id": "deluxe-concrete",
   "metadata": {},
   "outputs": [
    {
     "data": {
      "text/html": [
       "<div>\n",
       "<style scoped>\n",
       "    .dataframe tbody tr th:only-of-type {\n",
       "        vertical-align: middle;\n",
       "    }\n",
       "\n",
       "    .dataframe tbody tr th {\n",
       "        vertical-align: top;\n",
       "    }\n",
       "\n",
       "    .dataframe thead th {\n",
       "        text-align: right;\n",
       "    }\n",
       "</style>\n",
       "<table border=\"1\" class=\"dataframe\">\n",
       "  <thead>\n",
       "    <tr style=\"text-align: right;\">\n",
       "      <th></th>\n",
       "      <th>sloc_before</th>\n",
       "      <th>lloc_before</th>\n",
       "      <th>single_comments_before</th>\n",
       "      <th>multi_before</th>\n",
       "    </tr>\n",
       "  </thead>\n",
       "  <tbody>\n",
       "    <tr>\n",
       "      <th>sloc_before</th>\n",
       "      <td>1.000000</td>\n",
       "      <td>0.947821</td>\n",
       "      <td>0.578648</td>\n",
       "      <td>0.188883</td>\n",
       "    </tr>\n",
       "    <tr>\n",
       "      <th>lloc_before</th>\n",
       "      <td>0.947821</td>\n",
       "      <td>1.000000</td>\n",
       "      <td>0.606499</td>\n",
       "      <td>0.208634</td>\n",
       "    </tr>\n",
       "    <tr>\n",
       "      <th>single_comments_before</th>\n",
       "      <td>0.578648</td>\n",
       "      <td>0.606499</td>\n",
       "      <td>1.000000</td>\n",
       "      <td>0.112843</td>\n",
       "    </tr>\n",
       "    <tr>\n",
       "      <th>multi_before</th>\n",
       "      <td>0.188883</td>\n",
       "      <td>0.208634</td>\n",
       "      <td>0.112843</td>\n",
       "      <td>1.000000</td>\n",
       "    </tr>\n",
       "  </tbody>\n",
       "</table>\n",
       "</div>"
      ],
      "text/plain": [
       "                        sloc_before  lloc_before  single_comments_before  \\\n",
       "sloc_before                1.000000     0.947821                0.578648   \n",
       "lloc_before                0.947821     1.000000                0.606499   \n",
       "single_comments_before     0.578648     0.606499                1.000000   \n",
       "multi_before               0.188883     0.208634                0.112843   \n",
       "\n",
       "                        multi_before  \n",
       "sloc_before                 0.188883  \n",
       "lloc_before                 0.208634  \n",
       "single_comments_before      0.112843  \n",
       "multi_before                1.000000  "
      ]
     },
     "execution_count": 19,
     "metadata": {},
     "output_type": "execute_result"
    }
   ],
   "source": [
    "raw_metrics_before = [\"sloc_before\", \"lloc_before\", \"single_comments_before\", \"multi_before\"]\n",
    "source_code_data[raw_metrics_before].corr(method='spearman')"
   ]
  },
  {
   "cell_type": "markdown",
   "id": "adolescent-symphony",
   "metadata": {},
   "source": [
    "Теперь корреляции между разностями:"
   ]
  },
  {
   "cell_type": "code",
   "execution_count": 20,
   "id": "hungarian-coaching",
   "metadata": {},
   "outputs": [
    {
     "data": {
      "text/html": [
       "<div>\n",
       "<style scoped>\n",
       "    .dataframe tbody tr th:only-of-type {\n",
       "        vertical-align: middle;\n",
       "    }\n",
       "\n",
       "    .dataframe tbody tr th {\n",
       "        vertical-align: top;\n",
       "    }\n",
       "\n",
       "    .dataframe thead th {\n",
       "        text-align: right;\n",
       "    }\n",
       "</style>\n",
       "<table border=\"1\" class=\"dataframe\">\n",
       "  <thead>\n",
       "    <tr style=\"text-align: right;\">\n",
       "      <th></th>\n",
       "      <th>sloc_difference</th>\n",
       "      <th>lloc_difference</th>\n",
       "      <th>single_comments_difference</th>\n",
       "      <th>multi_difference</th>\n",
       "    </tr>\n",
       "  </thead>\n",
       "  <tbody>\n",
       "    <tr>\n",
       "      <th>sloc_difference</th>\n",
       "      <td>1.000000</td>\n",
       "      <td>0.882711</td>\n",
       "      <td>0.319788</td>\n",
       "      <td>0.062707</td>\n",
       "    </tr>\n",
       "    <tr>\n",
       "      <th>lloc_difference</th>\n",
       "      <td>0.882711</td>\n",
       "      <td>1.000000</td>\n",
       "      <td>0.344849</td>\n",
       "      <td>0.071811</td>\n",
       "    </tr>\n",
       "    <tr>\n",
       "      <th>single_comments_difference</th>\n",
       "      <td>0.319788</td>\n",
       "      <td>0.344849</td>\n",
       "      <td>1.000000</td>\n",
       "      <td>0.007047</td>\n",
       "    </tr>\n",
       "    <tr>\n",
       "      <th>multi_difference</th>\n",
       "      <td>0.062707</td>\n",
       "      <td>0.071811</td>\n",
       "      <td>0.007047</td>\n",
       "      <td>1.000000</td>\n",
       "    </tr>\n",
       "  </tbody>\n",
       "</table>\n",
       "</div>"
      ],
      "text/plain": [
       "                            sloc_difference  lloc_difference  \\\n",
       "sloc_difference                    1.000000         0.882711   \n",
       "lloc_difference                    0.882711         1.000000   \n",
       "single_comments_difference         0.319788         0.344849   \n",
       "multi_difference                   0.062707         0.071811   \n",
       "\n",
       "                            single_comments_difference  multi_difference  \n",
       "sloc_difference                               0.319788          0.062707  \n",
       "lloc_difference                               0.344849          0.071811  \n",
       "single_comments_difference                    1.000000          0.007047  \n",
       "multi_difference                              0.007047          1.000000  "
      ]
     },
     "execution_count": 20,
     "metadata": {},
     "output_type": "execute_result"
    }
   ],
   "source": [
    "raw_metrics_names = [\"sloc\", \"lloc\", \"single_comments\", \"multi\"]\n",
    "for col_name in raw_metrics_names:\n",
    "    source_code_data[col_name + '_difference'] = source_code_data[col_name + '_after'] - source_code_data[col_name + '_before']\n",
    "source_code_data[[col_name + '_difference' for col_name in raw_metrics_names]].corr(method='spearman')"
   ]
  },
  {
   "cell_type": "markdown",
   "id": "proper-teaching",
   "metadata": {},
   "source": [
    "Подсчитаем для скольки сниппетов после исправления метрики не меняются:"
   ]
  },
  {
   "cell_type": "code",
   "execution_count": 21,
   "id": "chinese-september",
   "metadata": {},
   "outputs": [
    {
     "name": "stdout",
     "output_type": "stream",
     "text": [
      "Для метрики sloc число сниппетов для которых метрика не меняется при исправлении,\n",
      "равно 9431.\n",
      "Для метрики lloc число сниппетов для которых метрика не меняется при исправлении,\n",
      "равно 11022.\n",
      "Для метрики single_comments число сниппетов для которых метрика не меняется при исправлении,\n",
      "равно 19631.\n",
      "Для метрики multi число сниппетов для которых метрика не меняется при исправлении,\n",
      "равно 22405.\n"
     ]
    }
   ],
   "source": [
    "for col_name in raw_metrics_names:\n",
    "    print(f\"\"\"Для метрики {col_name} число сниппетов для которых метрика не меняется при исправлении,\\nравно {source_code_data.loc[source_code_data[col_name + '_difference'] == 0].shape[0]}.\"\"\")"
   ]
  },
  {
   "cell_type": "markdown",
   "id": "municipal-passport",
   "metadata": {},
   "source": [
    "Видно, что примерно для 45 процентов сниппетов метрики длины кода и числа утверждений не меняются."
   ]
  },
  {
   "cell_type": "markdown",
   "id": "together-demographic",
   "metadata": {},
   "source": [
    "# Метрики Халстеда\n",
    "\n",
    "## Сырые метрики\n",
    "\n",
    "Метрики $N_1,\\,N_2$ задают общее число операторов и операндов, а метрики $h_1$ и $h_2$ - число различных операторов и операндов. Подсчитаем статистики по метрикам $N_1$ и $N_2$ по коду с ошибками."
   ]
  },
  {
   "cell_type": "code",
   "execution_count": 22,
   "id": "loose-commerce",
   "metadata": {},
   "outputs": [
    {
     "name": "stdout",
     "output_type": "stream",
     "text": [
      "Среднее значение N_1 равно 6.800560962135056, а N_2 равно 12.692533254005355.\n",
      "Медиана N_1 равна 3.0, а для N_2 равна 5.0.\n",
      "С.к.о N_1 равно 13.383742592083724, а для N_2 равно 25.547976981372617.\n",
      "25-й персентиль N_1 равен 1.0, а для N_2 равен 1.0.\n",
      "75-й персентиль N_1 равен 7.0, а для N_2 равен 14.0.\n",
      "90-й персентиль N_1 равен 17.0, а для N_2 равен 31.0.\n",
      "Минимум N_1 равен 0, а для N_2 равен 0.\n",
      "Максимум N_1 равен 413, а для N_2 равен 821\n"
     ]
    }
   ],
   "source": [
    "print(f'Среднее значение N_1 равно {source_code_data[\"N1_before\"].mean()}, а N_2 равно {source_code_data[\"N2_before\"].mean()}.')\n",
    "print(f'Медиана N_1 равна {source_code_data[\"N1_before\"].median()}, а для N_2 равна {source_code_data[\"N2_before\"].median()}.')\n",
    "print(f'С.к.о N_1 равно {source_code_data[\"N1_before\"].std()}, а для N_2 равно {source_code_data[\"N2_before\"].std()}.')\n",
    "print(f'25-й персентиль N_1 равен {source_code_data[\"N1_before\"].quantile(q=0.25)}, а для N_2 равен {source_code_data[\"N2_before\"].quantile(q=0.25)}.')\n",
    "print(f'75-й персентиль N_1 равен {source_code_data[\"N1_before\"].quantile(q=0.75)}, а для N_2 равен {source_code_data[\"N2_before\"].quantile(q=0.75)}.')\n",
    "print(f'90-й персентиль N_1 равен {source_code_data[\"N1_before\"].quantile(q=0.90)}, а для N_2 равен {source_code_data[\"N2_before\"].quantile(q=0.9)}.')\n",
    "print(f'Минимум N_1 равен {source_code_data[\"N1_before\"].min()}, а для N_2 равен {source_code_data[\"N2_before\"].min()}.')\n",
    "print(f'Максимум N_1 равен {source_code_data[\"N1_before\"].max()}, а для N_2 равен {source_code_data[\"N2_before\"].max()}')"
   ]
  },
  {
   "cell_type": "markdown",
   "id": "bigger-peace",
   "metadata": {},
   "source": [
    "Построим графики, удалив выбросы:"
   ]
  },
  {
   "cell_type": "code",
   "execution_count": 23,
   "id": "chinese-flesh",
   "metadata": {},
   "outputs": [
    {
     "data": {
      "image/png": "[encoded data removed]",
      "text/plain": [
       "<Figure size 432x288 with 1 Axes>"
      ]
     },
     "metadata": {
      "needs_background": "light"
     },
     "output_type": "display_data"
    }
   ],
   "source": [
    "sns.boxplot(x='N1_before',\n",
    "            data=source_code_data.loc[source_code_data['N1_before'] < 50]);"
   ]
  },
  {
   "cell_type": "code",
   "execution_count": 24,
   "id": "velvet-depression",
   "metadata": {},
   "outputs": [
    {
     "data": {
      "image/png": "[encoded data removed]",
      "text/plain": [
       "<Figure size 432x288 with 1 Axes>"
      ]
     },
     "metadata": {
      "needs_background": "light"
     },
     "output_type": "display_data"
    }
   ],
   "source": [
    "sns.boxplot(x='N2_before',\n",
    "            data=source_code_data.loc[source_code_data['N1_before'] < 50]);"
   ]
  },
  {
   "cell_type": "markdown",
   "id": "million-movement",
   "metadata": {},
   "source": [
    "Подсчитаем отношение:"
   ]
  },
  {
   "cell_type": "code",
   "execution_count": 25,
   "id": "solid-profession",
   "metadata": {},
   "outputs": [
    {
     "data": {
      "image/png": "[encoded data removed]",
      "text/plain": [
       "<Figure size 432x288 with 1 Axes>"
      ]
     },
     "metadata": {
      "needs_background": "light"
     },
     "output_type": "display_data"
    }
   ],
   "source": [
    "source_code_data['N1_to_N2_ratio_before'] = source_code_data['N1_before'] / source_code_data['N2_before']\n",
    "sns.boxplot(x='N1_to_N2_ratio_before',\n",
    "            data=source_code_data);"
   ]
  },
  {
   "cell_type": "markdown",
   "id": "ruled-scene",
   "metadata": {},
   "source": [
    "Подсчитаем некоторые статистики отношения:"
   ]
  },
  {
   "cell_type": "code",
   "execution_count": 26,
   "id": "julian-counter",
   "metadata": {},
   "outputs": [
    {
     "name": "stdout",
     "output_type": "stream",
     "text": [
      "Медиана отношения равна 0.5.\n",
      "25-й персентиль отношения равен 0.5.\n",
      "75-й персентиль отношения равен 0.5714285714285714.\n"
     ]
    }
   ],
   "source": [
    "print(f'Медиана отношения равна {source_code_data[\"N1_to_N2_ratio_before\"].median()}.')\n",
    "print(f'25-й персентиль отношения равен {source_code_data[\"N1_to_N2_ratio_before\"].quantile(q=0.25)}.')\n",
    "print(f'75-й персентиль отношения равен {source_code_data[\"N1_to_N2_ratio_before\"].quantile(q=0.75)}.')"
   ]
  },
  {
   "cell_type": "markdown",
   "id": "violent-watch",
   "metadata": {},
   "source": [
    "Таким образом, на каждый оператор у 25% сниппетов приходится в точности два операнда и у 75% сниппетов этот показатель чуть больше двух."
   ]
  },
  {
   "cell_type": "markdown",
   "id": "dominant-routine",
   "metadata": {},
   "source": [
    "Теперь по исправленному коду:"
   ]
  },
  {
   "cell_type": "code",
   "execution_count": 27,
   "id": "innovative-saying",
   "metadata": {},
   "outputs": [
    {
     "name": "stdout",
     "output_type": "stream",
     "text": [
      "Среднее значение N_1 равно 7.0568611618715735, а N_2 равно 13.154392078534698.\n",
      "Медиана N_1 равна 3.0, а для N_2 равна 5.0.\n",
      "С.к.о N_1 равно 13.522665049030811, а для N_2 равно 25.80191147010636.\n",
      "25-й персентиль N_1 равен 1.0, а для N_2 равен 1.0.\n",
      "75-й персентиль N_1 равен 8.0, а для N_2 равен 14.0.\n",
      "90-й персентиль N_1 равен 17.0, а для N_2 равен 32.0.\n",
      "Минимум N_1 равен 0, а для N_2 равен 0.\n",
      "Максимум N_1 равен 426, а для N_2 равен 847\n"
     ]
    }
   ],
   "source": [
    "print(f'Среднее значение N_1 равно {source_code_data[\"N1_after\"].mean()}, а N_2 равно {source_code_data[\"N2_after\"].mean()}.')\n",
    "print(f'Медиана N_1 равна {source_code_data[\"N1_after\"].median()}, а для N_2 равна {source_code_data[\"N2_after\"].median()}.')\n",
    "print(f'С.к.о N_1 равно {source_code_data[\"N1_after\"].std()}, а для N_2 равно {source_code_data[\"N2_after\"].std()}.')\n",
    "print(f'25-й персентиль N_1 равен {source_code_data[\"N1_after\"].quantile(q=0.25)}, а для N_2 равен {source_code_data[\"N2_after\"].quantile(q=0.25)}.')\n",
    "print(f'75-й персентиль N_1 равен {source_code_data[\"N1_after\"].quantile(q=0.75)}, а для N_2 равен {source_code_data[\"N2_after\"].quantile(q=0.75)}.')\n",
    "print(f'90-й персентиль N_1 равен {source_code_data[\"N1_after\"].quantile(q=0.90)}, а для N_2 равен {source_code_data[\"N2_after\"].quantile(q=0.9)}.')\n",
    "print(f'Минимум N_1 равен {source_code_data[\"N1_after\"].min()}, а для N_2 равен {source_code_data[\"N2_after\"].min()}.')\n",
    "print(f'Максимум N_1 равен {source_code_data[\"N1_after\"].max()}, а для N_2 равен {source_code_data[\"N2_after\"].max()}')"
   ]
  },
  {
   "cell_type": "markdown",
   "id": "twelve-local",
   "metadata": {},
   "source": [
    "Подсчитаем отношение:"
   ]
  },
  {
   "cell_type": "code",
   "execution_count": 28,
   "id": "weighted-fleet",
   "metadata": {},
   "outputs": [
    {
     "data": {
      "image/png": "[encoded data removed]",
      "text/plain": [
       "<Figure size 432x288 with 1 Axes>"
      ]
     },
     "metadata": {
      "needs_background": "light"
     },
     "output_type": "display_data"
    }
   ],
   "source": [
    "source_code_data['N1_to_N2_ratio_after'] = source_code_data['N1_after'] / source_code_data['N2_after']\n",
    "sns.boxplot(x='N1_to_N2_ratio_after',\n",
    "            data=source_code_data);"
   ]
  },
  {
   "cell_type": "markdown",
   "id": "prostate-opening",
   "metadata": {},
   "source": [
    "Подсчитаем некоторые статистики отношения:"
   ]
  },
  {
   "cell_type": "code",
   "execution_count": 29,
   "id": "obvious-forestry",
   "metadata": {},
   "outputs": [
    {
     "name": "stdout",
     "output_type": "stream",
     "text": [
      "Медиана отношения равна 0.5104166666666666.\n",
      "25-й персентиль отношения равен 0.5.\n",
      "75-й персентиль отношения равен 0.5789473684210527.\n"
     ]
    }
   ],
   "source": [
    "print(f'Медиана отношения равна {source_code_data[\"N1_to_N2_ratio_after\"].median()}.')\n",
    "print(f'25-й персентиль отношения равен {source_code_data[\"N1_to_N2_ratio_after\"].quantile(q=0.25)}.')\n",
    "print(f'75-й персентиль отношения равен {source_code_data[\"N1_to_N2_ratio_after\"].quantile(q=0.75)}.')"
   ]
  },
  {
   "cell_type": "markdown",
   "id": "olive-artwork",
   "metadata": {},
   "source": [
    "Картина примерно такая же, что и по коду с ошибками."
   ]
  },
  {
   "cell_type": "markdown",
   "id": "korean-ireland",
   "metadata": {},
   "source": [
    "Теперь выведем статистики по числу уникальных операторов и операндов, т.е. по метрикам $h_1$ и $h_2:$"
   ]
  },
  {
   "cell_type": "code",
   "execution_count": 30,
   "id": "conservative-tactics",
   "metadata": {},
   "outputs": [
    {
     "name": "stdout",
     "output_type": "stream",
     "text": [
      "Среднее значение h_1 равно 2.9059113509838084, а h_2 равно 9.481832476307849.\n",
      "Медиана h_1 равна 2.0, а для h_2 равна 4.0.\n",
      "С.к.о h_1 равно 3.034380750978241, а для h_2 равно 16.80766043676424.\n",
      "25-й персентиль h_1 равен 1.0, а для h_2 равен 1.0.\n",
      "75-й персентиль h_1 равен 4.0, а для h_2 равен 11.0.\n",
      "90-й персентиль h_1 равен 7.0, а для h_2 равен 23.0.\n",
      "Минимум h_1 равен 0, а для h_2 равен 0.\n",
      "Максимум h_1 равен 22, а для h_2 равен 386\n"
     ]
    }
   ],
   "source": [
    "print(f'Среднее значение h_1 равно {source_code_data[\"h1_before\"].mean()}, а h_2 равно {source_code_data[\"h2_before\"].mean()}.')\n",
    "print(f'Медиана h_1 равна {source_code_data[\"h1_before\"].median()}, а для h_2 равна {source_code_data[\"h2_before\"].median()}.')\n",
    "print(f'С.к.о h_1 равно {source_code_data[\"h1_before\"].std()}, а для h_2 равно {source_code_data[\"h2_before\"].std()}.')\n",
    "print(f'25-й персентиль h_1 равен {source_code_data[\"h1_before\"].quantile(q=0.25)}, а для h_2 равен {source_code_data[\"h2_before\"].quantile(q=0.25)}.')\n",
    "print(f'75-й персентиль h_1 равен {source_code_data[\"h1_before\"].quantile(q=0.75)}, а для h_2 равен {source_code_data[\"h2_before\"].quantile(q=0.75)}.')\n",
    "print(f'90-й персентиль h_1 равен {source_code_data[\"h1_before\"].quantile(q=0.90)}, а для h_2 равен {source_code_data[\"h2_before\"].quantile(q=0.9)}.')\n",
    "print(f'Минимум h_1 равен {source_code_data[\"h1_before\"].min()}, а для h_2 равен {source_code_data[\"h2_before\"].min()}.')\n",
    "print(f'Максимум h_1 равен {source_code_data[\"h1_before\"].max()}, а для h_2 равен {source_code_data[\"h2_before\"].max()}')"
   ]
  },
  {
   "cell_type": "code",
   "execution_count": 31,
   "id": "hairy-making",
   "metadata": {},
   "outputs": [
    {
     "data": {
      "image/png": "[encoded data removed]",
      "text/plain": [
       "<Figure size 432x288 with 1 Axes>"
      ]
     },
     "metadata": {
      "needs_background": "light"
     },
     "output_type": "display_data"
    }
   ],
   "source": [
    "sns.boxplot(x='h1_before',\n",
    "            data=source_code_data);"
   ]
  },
  {
   "cell_type": "code",
   "execution_count": 32,
   "id": "embedded-arkansas",
   "metadata": {},
   "outputs": [
    {
     "data": {
      "image/png": "[encoded data removed]",
      "text/plain": [
       "<Figure size 432x288 with 1 Axes>"
      ]
     },
     "metadata": {
      "needs_background": "light"
     },
     "output_type": "display_data"
    }
   ],
   "source": [
    "sns.boxplot(x='h2_before',\n",
    "            data=source_code_data);"
   ]
  },
  {
   "cell_type": "markdown",
   "id": "generic-madrid",
   "metadata": {},
   "source": [
    "Подсчитаем отношение $h_1/h_2$"
   ]
  },
  {
   "cell_type": "code",
   "execution_count": 33,
   "id": "dying-atlanta",
   "metadata": {},
   "outputs": [
    {
     "data": {
      "image/png": "[encoded data removed]",
      "text/plain": [
       "<Figure size 432x288 with 1 Axes>"
      ]
     },
     "metadata": {
      "needs_background": "light"
     },
     "output_type": "display_data"
    }
   ],
   "source": [
    "source_code_data['h1_to_h2_ratio_before'] = source_code_data['h1_before'] / source_code_data['h2_before']\n",
    "sns.boxplot(x='h1_to_h2_ratio_before',\n",
    "            data=source_code_data);"
   ]
  },
  {
   "cell_type": "markdown",
   "id": "robust-montgomery",
   "metadata": {},
   "source": [
    "Подсчитаем некоторые статистики отношения:"
   ]
  },
  {
   "cell_type": "code",
   "execution_count": 34,
   "id": "fifty-ideal",
   "metadata": {},
   "outputs": [
    {
     "name": "stdout",
     "output_type": "stream",
     "text": [
      "Медиана отношения равна 0.5.\n",
      "25-й персентиль отношения равен 0.3333333333333333.\n",
      "75-й персентиль отношения равен 0.5.\n"
     ]
    }
   ],
   "source": [
    "print(f'Медиана отношения равна {source_code_data[\"h1_to_h2_ratio_before\"].median()}.')\n",
    "print(f'25-й персентиль отношения равен {source_code_data[\"h1_to_h2_ratio_before\"].quantile(q=0.25)}.')\n",
    "print(f'75-й персентиль отношения равен {source_code_data[\"h1_to_h2_ratio_before\"].quantile(q=0.75)}.')"
   ]
  },
  {
   "cell_type": "markdown",
   "id": "false-collect",
   "metadata": {},
   "source": [
    "Таким образом, у четверти сниппетов кода с ошибками отношение $h_1/h_2=0.5,$ т.е. число различных операторов вдвое меньше числа различных операндов."
   ]
  },
  {
   "cell_type": "code",
   "execution_count": 35,
   "id": "korean-assurance",
   "metadata": {},
   "outputs": [
    {
     "data": {
      "text/plain": [
       "4301"
      ]
     },
     "execution_count": 35,
     "metadata": {},
     "output_type": "execute_result"
    }
   ],
   "source": [
    "len(set(source_code_data.loc[source_code_data[\"N1_to_N2_ratio_before\"] == 0.5].index) & set(source_code_data.loc[source_code_data[\"h1_to_h2_ratio_before\"] == 0.5].index))"
   ]
  },
  {
   "cell_type": "code",
   "execution_count": 36,
   "id": "beautiful-sentence",
   "metadata": {},
   "outputs": [
    {
     "data": {
      "text/plain": [
       "8562"
      ]
     },
     "execution_count": 36,
     "metadata": {},
     "output_type": "execute_result"
    }
   ],
   "source": [
    "len(source_code_data.loc[source_code_data[\"N1_to_N2_ratio_before\"] == 0.5].index)"
   ]
  },
  {
   "cell_type": "code",
   "execution_count": 37,
   "id": "thick-hybrid",
   "metadata": {},
   "outputs": [
    {
     "data": {
      "text/plain": [
       "5326"
      ]
     },
     "execution_count": 37,
     "metadata": {},
     "output_type": "execute_result"
    }
   ],
   "source": [
    "len(source_code_data.loc[source_code_data[\"h1_to_h2_ratio_before\"] == 0.5].index)"
   ]
  },
  {
   "cell_type": "markdown",
   "id": "acknowledged-penguin",
   "metadata": {},
   "source": [
    "У подавляющего большинства сниппетов кода с ошибками, у которых отношение $h_1/h_2=0.5,$ соответствующее отношение $N_1/N_2=0.5.$ Это сниппеты, у которых все проводимые в коде операции являются бинарными. Посмотрим на эти сниппеты:"
   ]
  },
  {
   "cell_type": "code",
   "execution_count": 38,
   "id": "biblical-ceramic",
   "metadata": {},
   "outputs": [
    {
     "name": "stdout",
     "output_type": "stream",
     "text": [
      "    def guild(self):\n",
      "        \n",
      "        return self._state and self._state._get_guild(self.guild_id)\n"
     ]
    }
   ],
   "source": [
    "df = source_code_data.loc[(source_code_data[\"h1_to_h2_ratio_before\"] == 0.5) &\n",
    "                          (source_code_data[\"N1_to_N2_ratio_before\"] == 0.5)]\n",
    "print(df.at[1678, 'before_merge_without_docstrings'])"
   ]
  },
  {
   "cell_type": "code",
   "execution_count": 39,
   "id": "regulated-sponsorship",
   "metadata": {},
   "outputs": [
    {
     "name": "stdout",
     "output_type": "stream",
     "text": [
      "        h1_before  h2_before  N1_before  N2_before\n",
      "1581            2          4          2          4\n",
      "1583            2          4          2          4\n",
      "1644            1          2          1          2\n",
      "1645            1          2          1          2\n",
      "1657            3          6          3          6\n",
      "...           ...        ...        ...        ...\n",
      "624073          1          2          1          2\n",
      "624618          2          4          2          4\n",
      "625074          1          2          1          2\n",
      "625235          5         10          8         16\n",
      "625236          2          4          4          8\n",
      "\n",
      "[4301 rows x 4 columns]\n"
     ]
    }
   ],
   "source": [
    "print(df[['h1_before', 'h2_before', 'N1_before', 'N2_before']])"
   ]
  },
  {
   "cell_type": "markdown",
   "id": "mysterious-nebraska",
   "metadata": {},
   "source": [
    "Посмотрим для скольки сниппетов $h_1=N_1$ и $h_2=N_2.$"
   ]
  },
  {
   "cell_type": "code",
   "execution_count": 40,
   "id": "current-female",
   "metadata": {},
   "outputs": [
    {
     "data": {
      "text/plain": [
       "3941"
      ]
     },
     "execution_count": 40,
     "metadata": {},
     "output_type": "execute_result"
    }
   ],
   "source": [
    "df.loc[(df['h1_before'] == df['N1_before']) & (df['h2_before'] == df['N2_before'])].shape[0]"
   ]
  },
  {
   "cell_type": "code",
   "execution_count": 41,
   "id": "about-mason",
   "metadata": {},
   "outputs": [
    {
     "data": {
      "text/plain": [
       "3941"
      ]
     },
     "execution_count": 41,
     "metadata": {},
     "output_type": "execute_result"
    }
   ],
   "source": [
    "df.loc[(df['h1_before'] == df['N1_before']) & (df['h2_before'] == df['N2_before'])].shape[0]"
   ]
  },
  {
   "cell_type": "markdown",
   "id": "accessible-disability",
   "metadata": {},
   "source": [
    "Таким образом, из примерно 23.5 тысяч сниппетов кода с ошибкой примерно 4 тысячи, т.е. грубо в 16 процентах из них имеются только бинарные операции и каждая из них встречается ровно один раз."
   ]
  },
  {
   "cell_type": "markdown",
   "id": "textile-rescue",
   "metadata": {},
   "source": [
    "Теперь по исправленному коду:"
   ]
  },
  {
   "cell_type": "code",
   "execution_count": 42,
   "id": "painted-james",
   "metadata": {},
   "outputs": [
    {
     "data": {
      "image/png": "[encoded data removed]",
      "text/plain": [
       "<Figure size 432x288 with 1 Axes>"
      ]
     },
     "metadata": {
      "needs_background": "light"
     },
     "output_type": "display_data"
    }
   ],
   "source": [
    "source_code_data['h1_to_h2_ratio_after'] = source_code_data['h1_after'] / source_code_data['h2_after']\n",
    "sns.boxplot(x='h1_to_h2_ratio_after',\n",
    "            data=source_code_data);"
   ]
  },
  {
   "cell_type": "markdown",
   "id": "authorized-subscriber",
   "metadata": {},
   "source": [
    "Подсчитаем статистики отношения:"
   ]
  },
  {
   "cell_type": "code",
   "execution_count": 43,
   "id": "married-london",
   "metadata": {},
   "outputs": [
    {
     "name": "stdout",
     "output_type": "stream",
     "text": [
      "Медиана отношения равна 0.5.\n",
      "25-й персентиль отношения равен 0.3333333333333333.\n",
      "75-й персентиль отношения равен 0.5.\n"
     ]
    }
   ],
   "source": [
    "print(f'Медиана отношения равна {source_code_data[\"h1_to_h2_ratio_after\"].median()}.')\n",
    "print(f'25-й персентиль отношения равен {source_code_data[\"h1_to_h2_ratio_after\"].quantile(q=0.25)}.')\n",
    "print(f'75-й персентиль отношения равен {source_code_data[\"h1_to_h2_ratio_after\"].quantile(q=0.75)}.')"
   ]
  },
  {
   "cell_type": "markdown",
   "id": "imperial-indonesia",
   "metadata": {},
   "source": [
    "## Корреляции\n",
    "\n",
    "Подсчитаем корреляции между метриками Халстеда:"
   ]
  },
  {
   "cell_type": "code",
   "execution_count": 44,
   "id": "distinct-radical",
   "metadata": {},
   "outputs": [
    {
     "data": {
      "text/html": [
       "<div>\n",
       "<style scoped>\n",
       "    .dataframe tbody tr th:only-of-type {\n",
       "        vertical-align: middle;\n",
       "    }\n",
       "\n",
       "    .dataframe tbody tr th {\n",
       "        vertical-align: top;\n",
       "    }\n",
       "\n",
       "    .dataframe thead th {\n",
       "        text-align: right;\n",
       "    }\n",
       "</style>\n",
       "<table border=\"1\" class=\"dataframe\">\n",
       "  <thead>\n",
       "    <tr style=\"text-align: right;\">\n",
       "      <th></th>\n",
       "      <th>h1_before</th>\n",
       "      <th>h2_before</th>\n",
       "      <th>N1_before</th>\n",
       "      <th>N2_before</th>\n",
       "    </tr>\n",
       "  </thead>\n",
       "  <tbody>\n",
       "    <tr>\n",
       "      <th>h1_before</th>\n",
       "      <td>1.000000</td>\n",
       "      <td>0.967740</td>\n",
       "      <td>0.967713</td>\n",
       "      <td>0.965579</td>\n",
       "    </tr>\n",
       "    <tr>\n",
       "      <th>h2_before</th>\n",
       "      <td>0.967740</td>\n",
       "      <td>1.000000</td>\n",
       "      <td>0.990649</td>\n",
       "      <td>0.994428</td>\n",
       "    </tr>\n",
       "    <tr>\n",
       "      <th>N1_before</th>\n",
       "      <td>0.967713</td>\n",
       "      <td>0.990649</td>\n",
       "      <td>1.000000</td>\n",
       "      <td>0.996109</td>\n",
       "    </tr>\n",
       "    <tr>\n",
       "      <th>N2_before</th>\n",
       "      <td>0.965579</td>\n",
       "      <td>0.994428</td>\n",
       "      <td>0.996109</td>\n",
       "      <td>1.000000</td>\n",
       "    </tr>\n",
       "  </tbody>\n",
       "</table>\n",
       "</div>"
      ],
      "text/plain": [
       "           h1_before  h2_before  N1_before  N2_before\n",
       "h1_before   1.000000   0.967740   0.967713   0.965579\n",
       "h2_before   0.967740   1.000000   0.990649   0.994428\n",
       "N1_before   0.967713   0.990649   1.000000   0.996109\n",
       "N2_before   0.965579   0.994428   0.996109   1.000000"
      ]
     },
     "execution_count": 44,
     "metadata": {},
     "output_type": "execute_result"
    }
   ],
   "source": [
    "source_code_data[['h1_before', 'h2_before', 'N1_before', 'N2_before']].corr(method='spearman')"
   ]
  },
  {
   "cell_type": "markdown",
   "id": "dedicated-modern",
   "metadata": {},
   "source": [
    "Видно, что метрики тесно коррелированы."
   ]
  },
  {
   "cell_type": "markdown",
   "id": "featured-conversation",
   "metadata": {},
   "source": [
    "Теперь корреляции для разностей."
   ]
  },
  {
   "cell_type": "code",
   "execution_count": 45,
   "id": "arabic-biography",
   "metadata": {},
   "outputs": [
    {
     "data": {
      "text/html": [
       "<div>\n",
       "<style scoped>\n",
       "    .dataframe tbody tr th:only-of-type {\n",
       "        vertical-align: middle;\n",
       "    }\n",
       "\n",
       "    .dataframe tbody tr th {\n",
       "        vertical-align: top;\n",
       "    }\n",
       "\n",
       "    .dataframe thead th {\n",
       "        text-align: right;\n",
       "    }\n",
       "</style>\n",
       "<table border=\"1\" class=\"dataframe\">\n",
       "  <thead>\n",
       "    <tr style=\"text-align: right;\">\n",
       "      <th></th>\n",
       "      <th>h1_difference</th>\n",
       "      <th>h2_difference</th>\n",
       "      <th>N1_difference</th>\n",
       "      <th>N2_difference</th>\n",
       "    </tr>\n",
       "  </thead>\n",
       "  <tbody>\n",
       "    <tr>\n",
       "      <th>h1_difference</th>\n",
       "      <td>1.000000</td>\n",
       "      <td>0.748570</td>\n",
       "      <td>0.691966</td>\n",
       "      <td>0.682878</td>\n",
       "    </tr>\n",
       "    <tr>\n",
       "      <th>h2_difference</th>\n",
       "      <td>0.748570</td>\n",
       "      <td>1.000000</td>\n",
       "      <td>0.942388</td>\n",
       "      <td>0.951697</td>\n",
       "    </tr>\n",
       "    <tr>\n",
       "      <th>N1_difference</th>\n",
       "      <td>0.691966</td>\n",
       "      <td>0.942388</td>\n",
       "      <td>1.000000</td>\n",
       "      <td>0.991470</td>\n",
       "    </tr>\n",
       "    <tr>\n",
       "      <th>N2_difference</th>\n",
       "      <td>0.682878</td>\n",
       "      <td>0.951697</td>\n",
       "      <td>0.991470</td>\n",
       "      <td>1.000000</td>\n",
       "    </tr>\n",
       "  </tbody>\n",
       "</table>\n",
       "</div>"
      ],
      "text/plain": [
       "               h1_difference  h2_difference  N1_difference  N2_difference\n",
       "h1_difference       1.000000       0.748570       0.691966       0.682878\n",
       "h2_difference       0.748570       1.000000       0.942388       0.951697\n",
       "N1_difference       0.691966       0.942388       1.000000       0.991470\n",
       "N2_difference       0.682878       0.951697       0.991470       1.000000"
      ]
     },
     "execution_count": 45,
     "metadata": {},
     "output_type": "execute_result"
    }
   ],
   "source": [
    "raw_Halstead_metrics_names = [\"h1\", \"h2\", \"N1\", \"N2\"]\n",
    "for col_name in raw_Halstead_metrics_names:\n",
    "    source_code_data[col_name + '_difference'] = source_code_data[col_name + '_after'] - source_code_data[col_name + '_before']\n",
    "source_code_data[[col_name + '_difference' for col_name in raw_Halstead_metrics_names]].corr(method='pearson')"
   ]
  },
  {
   "cell_type": "markdown",
   "id": "funny-terminology",
   "metadata": {},
   "source": [
    "Таким образом, разности для $N_1$ и $N_2$ связаны между собой почти линейно, разности для $N_1$ и $N_2$ тесно коррелированы с разностями для $h_2.$"
   ]
  },
  {
   "cell_type": "markdown",
   "id": "intended-bicycle",
   "metadata": {},
   "source": [
    "Подсчитаем для скольки сниппетов метрики не меняются при внесении исправлений:"
   ]
  },
  {
   "cell_type": "code",
   "execution_count": 46,
   "id": "applied-comfort",
   "metadata": {},
   "outputs": [
    {
     "name": "stdout",
     "output_type": "stream",
     "text": [
      "Для метрики h1 число сниппетов, для которых метрика не меняется при исправлении,\n",
      "равно 18230.\n",
      "Для метрики h2 число сниппетов, для которых метрика не меняется при исправлении,\n",
      "равно 16076.\n",
      "Для метрики N1 число сниппетов, для которых метрика не меняется при исправлении,\n",
      "равно 16122.\n",
      "Для метрики N2 число сниппетов, для которых метрика не меняется при исправлении,\n",
      "равно 15921.\n"
     ]
    }
   ],
   "source": [
    "for col_name in raw_Halstead_metrics_names:\n",
    "    print(f\"\"\"Для метрики {col_name} число сниппетов, для которых метрика не меняется при исправлении,\\nравно {source_code_data.loc[source_code_data[col_name + '_difference'] == 0].shape[0]}.\"\"\")"
   ]
  },
  {
   "cell_type": "markdown",
   "id": "postal-aviation",
   "metadata": {},
   "source": [
    "Опять таки для по крайней мере 65 процентов сниппетов метрики не меняются."
   ]
  },
  {
   "cell_type": "markdown",
   "id": "tested-aluminum",
   "metadata": {},
   "source": [
    "## Производные метрики\n",
    "\n",
    "Теперь посмотрим на производные метрики: vocabulary (сколько различных операторов и операндов), length (сколько всего операторов и операндов) и calculated_length по коду с ошибками (фактически последняя метрика это длина записи множества всех различных операторов и операндов)."
   ]
  },
  {
   "cell_type": "code",
   "execution_count": 47,
   "id": "under-armenia",
   "metadata": {},
   "outputs": [
    {
     "name": "stdout",
     "output_type": "stream",
     "text": [
      "Среднее значение vocabulary равно 12.387743827291658, для length равно 19.49309421614041,\n",
      "а для calculated_length - 49.35424974322345.\n",
      "Медиана vocabulary равна 6.0, для length равна 8.0,\n",
      "а для calculated_length - 10.0.\n",
      "С.к.о vocabulary равно 19.266785392239345, для length равно 38.910644214997255,\n",
      "а для calculated_length - 119.25133256242279.\n",
      "25-й персентиль vocabulary равен 2.0, для length равен 2.0,\n",
      "а для calculated_length - 0.0.\n",
      "75-й персентиль vocabulary равен 16.0, для length равен 21.0,\n",
      "а для calculated_length - 48.72905595320056.\n",
      "90-й персентиль vocabulary равен 30.0, для length равен 48.0,\n",
      "а для calculated_length - 124.2114326716684.\n",
      "Минимум vocabulary равен 0, для length равен 0,\n",
      "а для calculated_length - 0.0.\n",
      "Максимум vocabulary равен 400, для length равен 1234,\n",
      "а для calculated_length - 3369.991385294286.\n"
     ]
    }
   ],
   "source": [
    "print(f'Среднее значение vocabulary равно {source_code_data[\"vocabulary_before\"].mean()}, для length равно {source_code_data[\"length_before\"].mean()},\\nа для calculated_length - {source_code_data[\"calculated_length_before\"].mean()}.')\n",
    "print(f'Медиана vocabulary равна {source_code_data[\"vocabulary_before\"].median()}, для length равна {source_code_data[\"length_before\"].median()},\\nа для calculated_length - {source_code_data[\"calculated_length_before\"].median()}.')\n",
    "print(f'С.к.о vocabulary равно {source_code_data[\"vocabulary_before\"].std()}, для length равно {source_code_data[\"length_before\"].std()},\\nа для calculated_length - {source_code_data[\"calculated_length_before\"].std()}.')\n",
    "print(f'25-й персентиль vocabulary равен {source_code_data[\"vocabulary_before\"].quantile(q=0.25)}, для length равен {source_code_data[\"length_before\"].quantile(q=0.25)},\\nа для calculated_length - {source_code_data[\"calculated_length_before\"].quantile(q=0.25)}.')\n",
    "print(f'75-й персентиль vocabulary равен {source_code_data[\"vocabulary_before\"].quantile(q=0.75)}, для length равен {source_code_data[\"length_before\"].quantile(q=0.75)},\\nа для calculated_length - {source_code_data[\"calculated_length_before\"].quantile(q=0.75)}.')\n",
    "print(f'90-й персентиль vocabulary равен {source_code_data[\"vocabulary_before\"].quantile(q=0.90)}, для length равен {source_code_data[\"length_before\"].quantile(q=0.9)},\\nа для calculated_length - {source_code_data[\"calculated_length_before\"].quantile(q=0.9)}.')\n",
    "print(f'Минимум vocabulary равен {source_code_data[\"vocabulary_before\"].min()}, для length равен {source_code_data[\"length_before\"].min()},\\nа для calculated_length - {source_code_data[\"calculated_length_before\"].min()}.')\n",
    "print(f'Максимум vocabulary равен {source_code_data[\"vocabulary_before\"].max()}, для length равен {source_code_data[\"length_before\"].max()},\\nа для calculated_length - {source_code_data[\"calculated_length_before\"].max()}.')"
   ]
  },
  {
   "cell_type": "markdown",
   "id": "mighty-drink",
   "metadata": {},
   "source": [
    "Поскольку 25-е персентили по сырым метрикам Халстеда равны по 1, то 25-й персентиль по calculated length равен 0."
   ]
  },
  {
   "cell_type": "markdown",
   "id": "green-vanilla",
   "metadata": {},
   "source": [
    "После исправления кода статистики по метрикам следующие:"
   ]
  },
  {
   "cell_type": "code",
   "execution_count": 48,
   "id": "interested-serial",
   "metadata": {},
   "outputs": [
    {
     "name": "stdout",
     "output_type": "stream",
     "text": [
      "Среднее значение vocabulary равно 12.864434150694828, для length равно 20.211253240406272,\n",
      "а для calculated_length - 51.344025838533454.\n",
      "Медиана vocabulary равна 7.0, для length равна 8.0,\n",
      "а для calculated_length - 13.60964047443681.\n",
      "С.к.о vocabulary равно 19.450545945205274, для length равно 39.30307816516667,\n",
      "а для calculated_length - 120.63589378976083.\n",
      "25-й персентиль vocabulary равен 2.0, для length равен 2.0,\n",
      "а для calculated_length - 0.0.\n",
      "75-й персентиль vocabulary равен 16.0, для length равен 22.0,\n",
      "а для calculated_length - 52.860603837997665.\n",
      "90-й персентиль vocabulary равен 31.0, для length равен 50.0,\n",
      "а для calculated_length - 129.690584471711.\n",
      "Минимум vocabulary равен 0, для length равен 0,\n",
      "а для calculated_length - 0.0.\n",
      "Максимум vocabulary равен 406, для length равен 1273,\n",
      "а для calculated_length - 3430.269227801968.\n"
     ]
    }
   ],
   "source": [
    "print(f'Среднее значение vocabulary равно {source_code_data[\"vocabulary_after\"].mean()}, для length равно {source_code_data[\"length_after\"].mean()},\\nа для calculated_length - {source_code_data[\"calculated_length_after\"].mean()}.')\n",
    "print(f'Медиана vocabulary равна {source_code_data[\"vocabulary_after\"].median()}, для length равна {source_code_data[\"length_after\"].median()},\\nа для calculated_length - {source_code_data[\"calculated_length_after\"].median()}.')\n",
    "print(f'С.к.о vocabulary равно {source_code_data[\"vocabulary_after\"].std()}, для length равно {source_code_data[\"length_after\"].std()},\\nа для calculated_length - {source_code_data[\"calculated_length_after\"].std()}.')\n",
    "print(f'25-й персентиль vocabulary равен {source_code_data[\"vocabulary_after\"].quantile(q=0.25)}, для length равен {source_code_data[\"length_after\"].quantile(q=0.25)},\\nа для calculated_length - {source_code_data[\"calculated_length_after\"].quantile(q=0.25)}.')\n",
    "print(f'75-й персентиль vocabulary равен {source_code_data[\"vocabulary_after\"].quantile(q=0.75)}, для length равен {source_code_data[\"length_after\"].quantile(q=0.75)},\\nа для calculated_length - {source_code_data[\"calculated_length_after\"].quantile(q=0.75)}.')\n",
    "print(f'90-й персентиль vocabulary равен {source_code_data[\"vocabulary_after\"].quantile(q=0.90)}, для length равен {source_code_data[\"length_after\"].quantile(q=0.9)},\\nа для calculated_length - {source_code_data[\"calculated_length_after\"].quantile(q=0.9)}.')\n",
    "print(f'Минимум vocabulary равен {source_code_data[\"vocabulary_after\"].min()}, для length равен {source_code_data[\"length_after\"].min()},\\nа для calculated_length - {source_code_data[\"calculated_length_after\"].min()}.')\n",
    "print(f'Максимум vocabulary равен {source_code_data[\"vocabulary_after\"].max()}, для length равен {source_code_data[\"length_after\"].max()},\\nа для calculated_length - {source_code_data[\"calculated_length_after\"].max()}.')"
   ]
  },
  {
   "cell_type": "markdown",
   "id": "minor-niagara",
   "metadata": {},
   "source": [
    "Видно, что длина сниппетов по этим метрикам также увеличивается, т.е. при исправлении добавляются новые операторы и операнды."
   ]
  },
  {
   "cell_type": "markdown",
   "id": "under-webmaster",
   "metadata": {},
   "source": [
    "## Корреляции\n",
    "\n",
    "Вначале корреляции между метриками."
   ]
  },
  {
   "cell_type": "code",
   "execution_count": 49,
   "id": "combined-robert",
   "metadata": {},
   "outputs": [
    {
     "data": {
      "text/html": [
       "<div>\n",
       "<style scoped>\n",
       "    .dataframe tbody tr th:only-of-type {\n",
       "        vertical-align: middle;\n",
       "    }\n",
       "\n",
       "    .dataframe tbody tr th {\n",
       "        vertical-align: top;\n",
       "    }\n",
       "\n",
       "    .dataframe thead th {\n",
       "        text-align: right;\n",
       "    }\n",
       "</style>\n",
       "<table border=\"1\" class=\"dataframe\">\n",
       "  <thead>\n",
       "    <tr style=\"text-align: right;\">\n",
       "      <th></th>\n",
       "      <th>sloc_before</th>\n",
       "      <th>lloc_before</th>\n",
       "      <th>vocabulary_before</th>\n",
       "      <th>length_before</th>\n",
       "      <th>calculated_length_before</th>\n",
       "    </tr>\n",
       "  </thead>\n",
       "  <tbody>\n",
       "    <tr>\n",
       "      <th>sloc_before</th>\n",
       "      <td>1.000000</td>\n",
       "      <td>0.947821</td>\n",
       "      <td>0.746319</td>\n",
       "      <td>0.751770</td>\n",
       "      <td>0.743206</td>\n",
       "    </tr>\n",
       "    <tr>\n",
       "      <th>lloc_before</th>\n",
       "      <td>0.947821</td>\n",
       "      <td>1.000000</td>\n",
       "      <td>0.782736</td>\n",
       "      <td>0.788468</td>\n",
       "      <td>0.778791</td>\n",
       "    </tr>\n",
       "    <tr>\n",
       "      <th>vocabulary_before</th>\n",
       "      <td>0.746319</td>\n",
       "      <td>0.782736</td>\n",
       "      <td>1.000000</td>\n",
       "      <td>0.993542</td>\n",
       "      <td>0.996264</td>\n",
       "    </tr>\n",
       "    <tr>\n",
       "      <th>length_before</th>\n",
       "      <td>0.751770</td>\n",
       "      <td>0.788468</td>\n",
       "      <td>0.993542</td>\n",
       "      <td>1.000000</td>\n",
       "      <td>0.989967</td>\n",
       "    </tr>\n",
       "    <tr>\n",
       "      <th>calculated_length_before</th>\n",
       "      <td>0.743206</td>\n",
       "      <td>0.778791</td>\n",
       "      <td>0.996264</td>\n",
       "      <td>0.989967</td>\n",
       "      <td>1.000000</td>\n",
       "    </tr>\n",
       "  </tbody>\n",
       "</table>\n",
       "</div>"
      ],
      "text/plain": [
       "                          sloc_before  lloc_before  vocabulary_before  \\\n",
       "sloc_before                  1.000000     0.947821           0.746319   \n",
       "lloc_before                  0.947821     1.000000           0.782736   \n",
       "vocabulary_before            0.746319     0.782736           1.000000   \n",
       "length_before                0.751770     0.788468           0.993542   \n",
       "calculated_length_before     0.743206     0.778791           0.996264   \n",
       "\n",
       "                          length_before  calculated_length_before  \n",
       "sloc_before                    0.751770                  0.743206  \n",
       "lloc_before                    0.788468                  0.778791  \n",
       "vocabulary_before              0.993542                  0.996264  \n",
       "length_before                  1.000000                  0.989967  \n",
       "calculated_length_before       0.989967                  1.000000  "
      ]
     },
     "execution_count": 49,
     "metadata": {},
     "output_type": "execute_result"
    }
   ],
   "source": [
    "source_code_data[['sloc_before', 'lloc_before', 'vocabulary_before', 'length_before', 'calculated_length_before']].corr(method='spearman')"
   ]
  },
  {
   "cell_type": "markdown",
   "id": "executive-clearance",
   "metadata": {},
   "source": [
    "Как видно, производные метрики Халстеда между собой тесно коррелированы. Также есть достаточно большая корреляция с длиной кода в строках и числом утверждений."
   ]
  },
  {
   "cell_type": "markdown",
   "id": "purple-trinidad",
   "metadata": {},
   "source": [
    "Теперь корреляции между разностями метрик до и после исправления:"
   ]
  },
  {
   "cell_type": "code",
   "execution_count": 50,
   "id": "approved-anaheim",
   "metadata": {},
   "outputs": [
    {
     "data": {
      "text/html": [
       "<div>\n",
       "<style scoped>\n",
       "    .dataframe tbody tr th:only-of-type {\n",
       "        vertical-align: middle;\n",
       "    }\n",
       "\n",
       "    .dataframe tbody tr th {\n",
       "        vertical-align: top;\n",
       "    }\n",
       "\n",
       "    .dataframe thead th {\n",
       "        text-align: right;\n",
       "    }\n",
       "</style>\n",
       "<table border=\"1\" class=\"dataframe\">\n",
       "  <thead>\n",
       "    <tr style=\"text-align: right;\">\n",
       "      <th></th>\n",
       "      <th>vocabulary_difference</th>\n",
       "      <th>length_difference</th>\n",
       "      <th>calculated_length_difference</th>\n",
       "      <th>sloc_difference</th>\n",
       "      <th>lloc_difference</th>\n",
       "    </tr>\n",
       "  </thead>\n",
       "  <tbody>\n",
       "    <tr>\n",
       "      <th>vocabulary_difference</th>\n",
       "      <td>1.000000</td>\n",
       "      <td>0.932078</td>\n",
       "      <td>0.944016</td>\n",
       "      <td>0.591118</td>\n",
       "      <td>0.619039</td>\n",
       "    </tr>\n",
       "    <tr>\n",
       "      <th>length_difference</th>\n",
       "      <td>0.932078</td>\n",
       "      <td>1.000000</td>\n",
       "      <td>0.943807</td>\n",
       "      <td>0.605855</td>\n",
       "      <td>0.636067</td>\n",
       "    </tr>\n",
       "    <tr>\n",
       "      <th>calculated_length_difference</th>\n",
       "      <td>0.944016</td>\n",
       "      <td>0.943807</td>\n",
       "      <td>1.000000</td>\n",
       "      <td>0.576714</td>\n",
       "      <td>0.598982</td>\n",
       "    </tr>\n",
       "    <tr>\n",
       "      <th>sloc_difference</th>\n",
       "      <td>0.591118</td>\n",
       "      <td>0.605855</td>\n",
       "      <td>0.576714</td>\n",
       "      <td>1.000000</td>\n",
       "      <td>0.921453</td>\n",
       "    </tr>\n",
       "    <tr>\n",
       "      <th>lloc_difference</th>\n",
       "      <td>0.619039</td>\n",
       "      <td>0.636067</td>\n",
       "      <td>0.598982</td>\n",
       "      <td>0.921453</td>\n",
       "      <td>1.000000</td>\n",
       "    </tr>\n",
       "  </tbody>\n",
       "</table>\n",
       "</div>"
      ],
      "text/plain": [
       "                              vocabulary_difference  length_difference  \\\n",
       "vocabulary_difference                      1.000000           0.932078   \n",
       "length_difference                          0.932078           1.000000   \n",
       "calculated_length_difference               0.944016           0.943807   \n",
       "sloc_difference                            0.591118           0.605855   \n",
       "lloc_difference                            0.619039           0.636067   \n",
       "\n",
       "                              calculated_length_difference  sloc_difference  \\\n",
       "vocabulary_difference                             0.944016         0.591118   \n",
       "length_difference                                 0.943807         0.605855   \n",
       "calculated_length_difference                      1.000000         0.576714   \n",
       "sloc_difference                                   0.576714         1.000000   \n",
       "lloc_difference                                   0.598982         0.921453   \n",
       "\n",
       "                              lloc_difference  \n",
       "vocabulary_difference                0.619039  \n",
       "length_difference                    0.636067  \n",
       "calculated_length_difference         0.598982  \n",
       "sloc_difference                      0.921453  \n",
       "lloc_difference                      1.000000  "
      ]
     },
     "execution_count": 50,
     "metadata": {},
     "output_type": "execute_result"
    }
   ],
   "source": [
    "metrics_names = [\"vocabulary\", \"length\", \"calculated_length\", \"sloc\", \"lloc\"]\n",
    "for col_name in metrics_names:\n",
    "    source_code_data[col_name + '_difference'] = source_code_data[col_name + '_after'] - source_code_data[col_name + '_before']\n",
    "source_code_data[[col_name + '_difference' for col_name in metrics_names]].corr(method='pearson')"
   ]
  },
  {
   "cell_type": "markdown",
   "id": "entertaining-committee",
   "metadata": {},
   "source": [
    "Разности метрик Халстеда между собой также сильно коррелированы."
   ]
  },
  {
   "cell_type": "markdown",
   "id": "restricted-pride",
   "metadata": {},
   "source": [
    "Подсчитаем для скольки сниппетов метрики не изменяются:"
   ]
  },
  {
   "cell_type": "code",
   "execution_count": 51,
   "id": "solved-egypt",
   "metadata": {},
   "outputs": [
    {
     "name": "stdout",
     "output_type": "stream",
     "text": [
      "Для метрики vocabulary число сниппетов, для которых метрика не меняется при исправлении,\n",
      "равно 15934.\n",
      "Для метрики length число сниппетов, для которых метрика не меняется при исправлении,\n",
      "равно 15911.\n",
      "Для метрики calculated_length число сниппетов, для которых метрика не меняется при исправлении,\n",
      "равно 16128.\n"
     ]
    }
   ],
   "source": [
    "for col_name in [\"vocabulary\", \"length\", \"calculated_length\"]:\n",
    "    print(f\"\"\"Для метрики {col_name} число сниппетов, для которых метрика не меняется при исправлении,\\nравно {source_code_data.loc[source_code_data[col_name + '_difference'] == 0].shape[0]}.\"\"\")"
   ]
  },
  {
   "cell_type": "markdown",
   "id": "rotary-madonna",
   "metadata": {},
   "source": [
    "Опять таки для более половины сниппетов метрики не изменяются."
   ]
  },
  {
   "cell_type": "markdown",
   "id": "confirmed-lawyer",
   "metadata": {},
   "source": [
    "## Метрики Халстеда сложности кода\n",
    "\n",
    "Посмотрим теперь на метрики сложности кода. Это метрики bugs, difficulty, volume, effort и time. Подсчитаем их статистики по коду с ошибками:"
   ]
  },
  {
   "cell_type": "code",
   "execution_count": 52,
   "id": "fatal-montana",
   "metadata": {},
   "outputs": [
    {
     "name": "stdout",
     "output_type": "stream",
     "text": [
      "Среднее значение bugs равно 0.032436247040134376, для difficulty равно 1.8851344824752498.\n",
      "Медиана bugs равна 0.00655049481813441, для difficulty равна 1.0.\n",
      "С.к.о bugs равно 0.08856282856376206, для difficulty равно 2.274961442773167.\n",
      "25-й персентиль bugs равен 0.0006666666666666666, для difficulty равен 0.5.\n",
      "75-й персентиль bugs равен 0.028, для difficulty равен 2.727272727272727.\n",
      "90-й персентиль bugs равен 0.0785102495297363, для difficulty равен 4.842105263157895.\n",
      "Минимум bugs равен 0.0, для difficulty равен 0.0.\n",
      "Максимум bugs равен 3.400404863739169, для difficulty равен 22.285714285714285.\n"
     ]
    }
   ],
   "source": [
    "print(f'Среднее значение bugs равно {source_code_data[\"bugs_before\"].mean()}, для difficulty равно {source_code_data[\"difficulty_before\"].mean()}.')\n",
    "print(f'Медиана bugs равна {source_code_data[\"bugs_before\"].median()}, для difficulty равна {source_code_data[\"difficulty_before\"].median()}.')\n",
    "print(f'С.к.о bugs равно {source_code_data[\"bugs_before\"].std()}, для difficulty равно {source_code_data[\"difficulty_before\"].std()}.')\n",
    "print(f'25-й персентиль bugs равен {source_code_data[\"bugs_before\"].quantile(q=0.25)}, для difficulty равен {source_code_data[\"difficulty_before\"].quantile(q=0.25)}.')\n",
    "print(f'75-й персентиль bugs равен {source_code_data[\"bugs_before\"].quantile(q=0.75)}, для difficulty равен {source_code_data[\"difficulty_before\"].quantile(q=0.75)}.')\n",
    "print(f'90-й персентиль bugs равен {source_code_data[\"bugs_before\"].quantile(q=0.90)}, для difficulty равен {source_code_data[\"difficulty_before\"].quantile(q=0.9)}.')\n",
    "print(f'Минимум bugs равен {source_code_data[\"bugs_before\"].min()}, для difficulty равен {source_code_data[\"difficulty_before\"].min()}.')\n",
    "print(f'Максимум bugs равен {source_code_data[\"bugs_before\"].max()}, для difficulty равен {source_code_data[\"difficulty_before\"].max()}.')"
   ]
  },
  {
   "cell_type": "markdown",
   "id": "moved-pantyhose",
   "metadata": {},
   "source": [
    "Теперь для сниппетов после исправления:"
   ]
  },
  {
   "cell_type": "code",
   "execution_count": 53,
   "id": "assisted-insider",
   "metadata": {},
   "outputs": [
    {
     "name": "stdout",
     "output_type": "stream",
     "text": [
      "Среднее значение bugs равно 0.03365547782630188, для difficulty равно 1.9625813823522842.\n",
      "Медиана bugs равна 0.008, для difficulty равна 1.1818181818181819.\n",
      "С.к.о bugs равно 0.08968245059227735, для difficulty равно 2.2979702634545656.\n",
      "25-й персентиль bugs равен 0.0006666666666666666, для difficulty равен 0.5.\n",
      "75-й персентиль bugs равен 0.029735492594105097, для difficulty равен 2.8125.\n",
      "90-й персентиль bugs равен 0.08166666666666667, для difficulty равен 5.0.\n",
      "Минимум bugs равен 0.0, для difficulty равен 0.0.\n",
      "Максимум bugs равен 3.5445186362863534, для difficulty равен 22.727272727272727.\n"
     ]
    }
   ],
   "source": [
    "print(f'Среднее значение bugs равно {source_code_data[\"bugs_after\"].mean()}, для difficulty равно {source_code_data[\"difficulty_after\"].mean()}.')\n",
    "print(f'Медиана bugs равна {source_code_data[\"bugs_after\"].median()}, для difficulty равна {source_code_data[\"difficulty_after\"].median()}.')\n",
    "print(f'С.к.о bugs равно {source_code_data[\"bugs_after\"].std()}, для difficulty равно {source_code_data[\"difficulty_after\"].std()}.')\n",
    "print(f'25-й персентиль bugs равен {source_code_data[\"bugs_after\"].quantile(q=0.25)}, для difficulty равен {source_code_data[\"difficulty_after\"].quantile(q=0.25)}.')\n",
    "print(f'75-й персентиль bugs равен {source_code_data[\"bugs_after\"].quantile(q=0.75)}, для difficulty равен {source_code_data[\"difficulty_after\"].quantile(q=0.75)}.')\n",
    "print(f'90-й персентиль bugs равен {source_code_data[\"bugs_after\"].quantile(q=0.90)}, для difficulty равен {source_code_data[\"difficulty_after\"].quantile(q=0.9)}.')\n",
    "print(f'Минимум bugs равен {source_code_data[\"bugs_after\"].min()}, для difficulty равен {source_code_data[\"difficulty_after\"].min()}.')\n",
    "print(f'Максимум bugs равен {source_code_data[\"bugs_after\"].max()}, для difficulty равен {source_code_data[\"difficulty_after\"].max()}.')"
   ]
  },
  {
   "cell_type": "markdown",
   "id": "naughty-forty",
   "metadata": {},
   "source": [
    "Видно, что bugs отражает скорее не ошибочность кода, а сложность кода, которая незначительно растет при исправлениях. Среднее значение bugs примерно равно 75-му персентилю, т.е. для метрики bugs есть много больших выбросов."
   ]
  },
  {
   "cell_type": "markdown",
   "id": "assisted-palestinian",
   "metadata": {},
   "source": [
    "Теперь подсчитаем статистики по оставшимся трем метрикам, рассчитанным по коду с ошибками:"
   ]
  },
  {
   "cell_type": "code",
   "execution_count": 54,
   "id": "peaceful-handle",
   "metadata": {},
   "outputs": [
    {
     "name": "stdout",
     "output_type": "stream",
     "text": [
      "Среднее значение volume равно 97.30874112040313, для effort равно 611.6100040838255,\n",
      "а для time - 33.97833356021252.\n",
      "Медиана volume равна 19.651484454403228, для effort равна 19.019550008653876,\n",
      "а для time - 1.0566416671474377.\n",
      "С.к.о volume равно 265.6884856912862, для effort равно 2964.688682372275,\n",
      "а для time - 164.7049267984597.\n",
      "25-й персентиль volume равен 2.0, для effort равен 1.0,\n",
      "а для time - 0.05555555555555555.\n",
      "75-й персентиль volume равен 84.0, для effort равен 224.30769230769232,\n",
      "а для time - 12.461538461538462.\n",
      "90-й персентиль volume равен 235.53074858920888, для effort равен 1086.3238459703857,\n",
      "а для time - 60.35132477613254.\n",
      "Минимум volume равен 0.0, для effort равен 0.0,\n",
      "а для time - 0.0.\n",
      "Максимум volume равен 10201.214591217507, для effort равен 199409.4566521327,\n",
      "а для time - 11078.303147340706.\n"
     ]
    }
   ],
   "source": [
    "print(f'Среднее значение volume равно {source_code_data[\"volume_before\"].mean()}, для effort равно {source_code_data[\"effort_before\"].mean()},\\nа для time - {source_code_data[\"time_before\"].mean()}.')\n",
    "print(f'Медиана volume равна {source_code_data[\"volume_before\"].median()}, для effort равна {source_code_data[\"effort_before\"].median()},\\nа для time - {source_code_data[\"time_before\"].median()}.')\n",
    "print(f'С.к.о volume равно {source_code_data[\"volume_before\"].std()}, для effort равно {source_code_data[\"effort_before\"].std()},\\nа для time - {source_code_data[\"time_before\"].std()}.')\n",
    "print(f'25-й персентиль volume равен {source_code_data[\"volume_before\"].quantile(q=0.25)}, для effort равен {source_code_data[\"effort_before\"].quantile(q=0.25)},\\nа для time - {source_code_data[\"time_before\"].quantile(q=0.25)}.')\n",
    "print(f'75-й персентиль volume равен {source_code_data[\"volume_before\"].quantile(q=0.75)}, для effort равен {source_code_data[\"effort_before\"].quantile(q=0.75)},\\nа для time - {source_code_data[\"time_before\"].quantile(q=0.75)}.')\n",
    "print(f'90-й персентиль volume равен {source_code_data[\"volume_before\"].quantile(q=0.90)}, для effort равен {source_code_data[\"effort_before\"].quantile(q=0.9)},\\nа для time - {source_code_data[\"time_before\"].quantile(q=0.9)}.')\n",
    "print(f'Минимум volume равен {source_code_data[\"volume_before\"].min()}, для effort равен {source_code_data[\"effort_before\"].min()},\\nа для time - {source_code_data[\"time_before\"].min()}.')\n",
    "print(f'Максимум volume равен {source_code_data[\"volume_before\"].max()}, для effort равен {source_code_data[\"effort_before\"].max()},\\nа для time - {source_code_data[\"time_before\"].max()}.')"
   ]
  },
  {
   "cell_type": "markdown",
   "id": "essential-elite",
   "metadata": {},
   "source": [
    "Средние значения всех трех метрик заметно больше, чем 75-й персентиль, т.е. в данных присутствует много больших выбросов по этим метрикам."
   ]
  },
  {
   "cell_type": "markdown",
   "id": "sunrise-burns",
   "metadata": {},
   "source": [
    "Подсчитаем процент выбросов по этим метрикам (вне non-outlier range в большую сторону)."
   ]
  },
  {
   "cell_type": "code",
   "execution_count": 55,
   "id": "lightweight-behalf",
   "metadata": {},
   "outputs": [
    {
     "name": "stdout",
     "output_type": "stream",
     "text": [
      "Процент выбросов по метрике volume равен 11.278738685138753\n",
      "Процент выбросов по метрике effort равен 15.719688920997832\n",
      "Процент выбросов по метрике time равен 15.719688920997832\n"
     ]
    }
   ],
   "source": [
    "advanced_Halstead_metrics_names = ['volume', 'effort', 'time']\n",
    "\n",
    "for col_name in advanced_Halstead_metrics_names:\n",
    "    inter_quartile_range = source_code_data[col_name + '_before'].quantile(q=0.75) - source_code_data[col_name + '_before'].quantile(q=0.25)\n",
    "    outlier_count = source_code_data.loc[source_code_data[col_name + '_before'] > source_code_data[col_name + '_before'].quantile(q=0.75) + 1.5 * inter_quartile_range].shape[0]\n",
    "    print(f'Процент выбросов по метрике {col_name} равен {100 * outlier_count / source_code_data.shape[0]}')"
   ]
  },
  {
   "cell_type": "markdown",
   "id": "settled-stretch",
   "metadata": {},
   "source": [
    "Таким образом, код сниппетов с ошибками на 15% состоит из достаточно сложного кода. Посмотрим на код выбросов:"
   ]
  },
  {
   "cell_type": "code",
   "execution_count": 56,
   "id": "whole-consumer",
   "metadata": {},
   "outputs": [
    {
     "name": "stdout",
     "output_type": "stream",
     "text": [
      "def rescale(image, scale, order=None, mode='reflect', cval=0, clip=True,\n",
      "            preserve_range=False, multichannel=False,\n",
      "            anti_aliasing=None, anti_aliasing_sigma=None):\n",
      "    \n",
      "    scale = np.atleast_1d(scale)\n",
      "    if len(scale) > 1:\n",
      "        if ((not multichannel and len(scale) != image.ndim) or\n",
      "                (multichannel and len(scale) != image.ndim - 1)):\n",
      "            raise ValueError(\"Supply a single scale, or one value per spatial \"\n",
      "                             \"axis\")\n",
      "        if multichannel:\n",
      "            scale = np.concatenate((scale, [1]))\n",
      "    orig_shape = np.asarray(image.shape)\n",
      "    output_shape = np.round(scale * orig_shape)\n",
      "    if multichannel:  \n",
      "        output_shape[-1] = orig_shape[-1]\n",
      "\n",
      "    return resize(image, output_shape, order=order, mode=mode, cval=cval,\n",
      "                  clip=clip, preserve_range=preserve_range,\n",
      "                  anti_aliasing=anti_aliasing,\n",
      "                  anti_aliasing_sigma=anti_aliasing_sigma)\n"
     ]
    }
   ],
   "source": [
    "effort_inter_quartile_range = source_code_data['effort_before'].quantile(q=0.75) - source_code_data['effort_before'].quantile(q=0.25)\n",
    "print(source_code_data.loc[source_code_data['effort_before'] > source_code_data['effort_before'].quantile(q=0.75) + 1.5 * effort_inter_quartile_range].loc[0, 'before_merge_without_docstrings'])"
   ]
  },
  {
   "cell_type": "markdown",
   "id": "stuck-millennium",
   "metadata": {},
   "source": [
    "Таким образом, 85% сниппетов кода имеют невысокую сложность."
   ]
  },
  {
   "cell_type": "markdown",
   "id": "german-twist",
   "metadata": {},
   "source": [
    "Теперь посмотрим на статистики метрик после исправления кода:"
   ]
  },
  {
   "cell_type": "code",
   "execution_count": 57,
   "id": "dutch-mitchell",
   "metadata": {},
   "outputs": [
    {
     "name": "stdout",
     "output_type": "stream",
     "text": [
      "Среднее значение volume равно 100.96643347890563, для effort равно 635.1873291113897,\n",
      "а для time - 35.28818495063276.\n",
      "Медиана volume равна 24.0, для effort равна 29.47722668160484,\n",
      "а для time - 1.6376237045336022.\n",
      "С.к.о volume равно 269.04735177683204, для effort равно 3015.820431291427,\n",
      "а для time - 167.5455795161904.\n",
      "25-й персентиль volume равен 2.0, для effort равен 1.0,\n",
      "а для time - 0.05555555555555555.\n",
      "75-й персентиль volume равен 89.20647778231529, для effort равен 250.3570990265833,\n",
      "а для time - 13.908727723699073.\n",
      "90-й персентиль volume равен 245.0, для effort равен 1165.3865164570232,\n",
      "а для time - 64.74369535872351.\n",
      "Минимум volume равен 0.0, для effort равен 0.0,\n",
      "а для time - 0.0.\n",
      "Максимум volume равен 10633.55590885906, для effort равен 201426.04787100755,\n",
      "а для time - 11190.335992833752.\n"
     ]
    }
   ],
   "source": [
    "print(f'Среднее значение volume равно {source_code_data[\"volume_after\"].mean()}, для effort равно {source_code_data[\"effort_after\"].mean()},\\nа для time - {source_code_data[\"time_after\"].mean()}.')\n",
    "print(f'Медиана volume равна {source_code_data[\"volume_after\"].median()}, для effort равна {source_code_data[\"effort_after\"].median()},\\nа для time - {source_code_data[\"time_after\"].median()}.')\n",
    "print(f'С.к.о volume равно {source_code_data[\"volume_after\"].std()}, для effort равно {source_code_data[\"effort_after\"].std()},\\nа для time - {source_code_data[\"time_after\"].std()}.')\n",
    "print(f'25-й персентиль volume равен {source_code_data[\"volume_after\"].quantile(q=0.25)}, для effort равен {source_code_data[\"effort_after\"].quantile(q=0.25)},\\nа для time - {source_code_data[\"time_after\"].quantile(q=0.25)}.')\n",
    "print(f'75-й персентиль volume равен {source_code_data[\"volume_after\"].quantile(q=0.75)}, для effort равен {source_code_data[\"effort_after\"].quantile(q=0.75)},\\nа для time - {source_code_data[\"time_after\"].quantile(q=0.75)}.')\n",
    "print(f'90-й персентиль volume равен {source_code_data[\"volume_after\"].quantile(q=0.90)}, для effort равен {source_code_data[\"effort_after\"].quantile(q=0.9)},\\nа для time - {source_code_data[\"time_after\"].quantile(q=0.9)}.')\n",
    "print(f'Минимум volume равен {source_code_data[\"volume_after\"].min()}, для effort равен {source_code_data[\"effort_after\"].min()},\\nа для time - {source_code_data[\"time_after\"].min()}.')\n",
    "print(f'Максимум volume равен {source_code_data[\"volume_after\"].max()}, для effort равен {source_code_data[\"effort_after\"].max()},\\nа для time - {source_code_data[\"time_after\"].max()}.')"
   ]
  },
  {
   "cell_type": "markdown",
   "id": "considered-motor",
   "metadata": {},
   "source": [
    "Видно, что сложность кода растет после исправления."
   ]
  },
  {
   "cell_type": "markdown",
   "id": "charitable-local",
   "metadata": {},
   "source": [
    "## Корреляции\n",
    "\n",
    "Вначале корреляции между метриками."
   ]
  },
  {
   "cell_type": "code",
   "execution_count": 58,
   "id": "affiliated-bacteria",
   "metadata": {},
   "outputs": [
    {
     "data": {
      "text/html": [
       "<div>\n",
       "<style scoped>\n",
       "    .dataframe tbody tr th:only-of-type {\n",
       "        vertical-align: middle;\n",
       "    }\n",
       "\n",
       "    .dataframe tbody tr th {\n",
       "        vertical-align: top;\n",
       "    }\n",
       "\n",
       "    .dataframe thead th {\n",
       "        text-align: right;\n",
       "    }\n",
       "</style>\n",
       "<table border=\"1\" class=\"dataframe\">\n",
       "  <thead>\n",
       "    <tr style=\"text-align: right;\">\n",
       "      <th></th>\n",
       "      <th>bugs_before</th>\n",
       "      <th>difficulty_before</th>\n",
       "      <th>volume_before</th>\n",
       "      <th>effort_before</th>\n",
       "      <th>time_before</th>\n",
       "      <th>sloc_before</th>\n",
       "      <th>lloc_before</th>\n",
       "    </tr>\n",
       "  </thead>\n",
       "  <tbody>\n",
       "    <tr>\n",
       "      <th>bugs_before</th>\n",
       "      <td>1.000000</td>\n",
       "      <td>0.974996</td>\n",
       "      <td>1.000000</td>\n",
       "      <td>0.996449</td>\n",
       "      <td>0.996449</td>\n",
       "      <td>0.751033</td>\n",
       "      <td>0.787684</td>\n",
       "    </tr>\n",
       "    <tr>\n",
       "      <th>difficulty_before</th>\n",
       "      <td>0.974996</td>\n",
       "      <td>1.000000</td>\n",
       "      <td>0.974996</td>\n",
       "      <td>0.989455</td>\n",
       "      <td>0.989455</td>\n",
       "      <td>0.730645</td>\n",
       "      <td>0.770821</td>\n",
       "    </tr>\n",
       "    <tr>\n",
       "      <th>volume_before</th>\n",
       "      <td>1.000000</td>\n",
       "      <td>0.974996</td>\n",
       "      <td>1.000000</td>\n",
       "      <td>0.996449</td>\n",
       "      <td>0.996449</td>\n",
       "      <td>0.751033</td>\n",
       "      <td>0.787684</td>\n",
       "    </tr>\n",
       "    <tr>\n",
       "      <th>effort_before</th>\n",
       "      <td>0.996449</td>\n",
       "      <td>0.989455</td>\n",
       "      <td>0.996449</td>\n",
       "      <td>1.000000</td>\n",
       "      <td>1.000000</td>\n",
       "      <td>0.747950</td>\n",
       "      <td>0.785984</td>\n",
       "    </tr>\n",
       "    <tr>\n",
       "      <th>time_before</th>\n",
       "      <td>0.996449</td>\n",
       "      <td>0.989455</td>\n",
       "      <td>0.996449</td>\n",
       "      <td>1.000000</td>\n",
       "      <td>1.000000</td>\n",
       "      <td>0.747950</td>\n",
       "      <td>0.785984</td>\n",
       "    </tr>\n",
       "    <tr>\n",
       "      <th>sloc_before</th>\n",
       "      <td>0.751033</td>\n",
       "      <td>0.730645</td>\n",
       "      <td>0.751033</td>\n",
       "      <td>0.747950</td>\n",
       "      <td>0.747950</td>\n",
       "      <td>1.000000</td>\n",
       "      <td>0.947821</td>\n",
       "    </tr>\n",
       "    <tr>\n",
       "      <th>lloc_before</th>\n",
       "      <td>0.787684</td>\n",
       "      <td>0.770821</td>\n",
       "      <td>0.787684</td>\n",
       "      <td>0.785984</td>\n",
       "      <td>0.785984</td>\n",
       "      <td>0.947821</td>\n",
       "      <td>1.000000</td>\n",
       "    </tr>\n",
       "  </tbody>\n",
       "</table>\n",
       "</div>"
      ],
      "text/plain": [
       "                   bugs_before  difficulty_before  volume_before  \\\n",
       "bugs_before           1.000000           0.974996       1.000000   \n",
       "difficulty_before     0.974996           1.000000       0.974996   \n",
       "volume_before         1.000000           0.974996       1.000000   \n",
       "effort_before         0.996449           0.989455       0.996449   \n",
       "time_before           0.996449           0.989455       0.996449   \n",
       "sloc_before           0.751033           0.730645       0.751033   \n",
       "lloc_before           0.787684           0.770821       0.787684   \n",
       "\n",
       "                   effort_before  time_before  sloc_before  lloc_before  \n",
       "bugs_before             0.996449     0.996449     0.751033     0.787684  \n",
       "difficulty_before       0.989455     0.989455     0.730645     0.770821  \n",
       "volume_before           0.996449     0.996449     0.751033     0.787684  \n",
       "effort_before           1.000000     1.000000     0.747950     0.785984  \n",
       "time_before             1.000000     1.000000     0.747950     0.785984  \n",
       "sloc_before             0.747950     0.747950     1.000000     0.947821  \n",
       "lloc_before             0.785984     0.785984     0.947821     1.000000  "
      ]
     },
     "execution_count": 58,
     "metadata": {},
     "output_type": "execute_result"
    }
   ],
   "source": [
    "source_code_data[['bugs_before', 'difficulty_before', 'volume_before', 'effort_before', 'time_before', 'sloc_before', 'lloc_before']].corr(method='spearman')"
   ]
  },
  {
   "cell_type": "markdown",
   "id": "enclosed-thing",
   "metadata": {},
   "source": [
    "Как видно, производные метрики Халстеда между собой тесно коррелированы. Также есть достаточно большая корреляция с длиной кода в строках и числом утверждений."
   ]
  },
  {
   "cell_type": "markdown",
   "id": "sized-headline",
   "metadata": {},
   "source": [
    "Теперь корреляции между разностями метрик до и после исправления:"
   ]
  },
  {
   "cell_type": "code",
   "execution_count": 59,
   "id": "chronic-ivory",
   "metadata": {},
   "outputs": [
    {
     "data": {
      "text/html": [
       "<div>\n",
       "<style scoped>\n",
       "    .dataframe tbody tr th:only-of-type {\n",
       "        vertical-align: middle;\n",
       "    }\n",
       "\n",
       "    .dataframe tbody tr th {\n",
       "        vertical-align: top;\n",
       "    }\n",
       "\n",
       "    .dataframe thead th {\n",
       "        text-align: right;\n",
       "    }\n",
       "</style>\n",
       "<table border=\"1\" class=\"dataframe\">\n",
       "  <thead>\n",
       "    <tr style=\"text-align: right;\">\n",
       "      <th></th>\n",
       "      <th>bugs_difference</th>\n",
       "      <th>difficulty_difference</th>\n",
       "      <th>volume_difference</th>\n",
       "      <th>effort_difference</th>\n",
       "      <th>time_difference</th>\n",
       "      <th>sloc_difference</th>\n",
       "      <th>lloc_difference</th>\n",
       "    </tr>\n",
       "  </thead>\n",
       "  <tbody>\n",
       "    <tr>\n",
       "      <th>bugs_difference</th>\n",
       "      <td>1.000000</td>\n",
       "      <td>0.641218</td>\n",
       "      <td>1.000000</td>\n",
       "      <td>0.852149</td>\n",
       "      <td>0.852149</td>\n",
       "      <td>0.572990</td>\n",
       "      <td>0.598805</td>\n",
       "    </tr>\n",
       "    <tr>\n",
       "      <th>difficulty_difference</th>\n",
       "      <td>0.641218</td>\n",
       "      <td>1.000000</td>\n",
       "      <td>0.641218</td>\n",
       "      <td>0.538672</td>\n",
       "      <td>0.538672</td>\n",
       "      <td>0.496720</td>\n",
       "      <td>0.539496</td>\n",
       "    </tr>\n",
       "    <tr>\n",
       "      <th>volume_difference</th>\n",
       "      <td>1.000000</td>\n",
       "      <td>0.641218</td>\n",
       "      <td>1.000000</td>\n",
       "      <td>0.852149</td>\n",
       "      <td>0.852149</td>\n",
       "      <td>0.572990</td>\n",
       "      <td>0.598805</td>\n",
       "    </tr>\n",
       "    <tr>\n",
       "      <th>effort_difference</th>\n",
       "      <td>0.852149</td>\n",
       "      <td>0.538672</td>\n",
       "      <td>0.852149</td>\n",
       "      <td>1.000000</td>\n",
       "      <td>1.000000</td>\n",
       "      <td>0.446431</td>\n",
       "      <td>0.477928</td>\n",
       "    </tr>\n",
       "    <tr>\n",
       "      <th>time_difference</th>\n",
       "      <td>0.852149</td>\n",
       "      <td>0.538672</td>\n",
       "      <td>0.852149</td>\n",
       "      <td>1.000000</td>\n",
       "      <td>1.000000</td>\n",
       "      <td>0.446431</td>\n",
       "      <td>0.477928</td>\n",
       "    </tr>\n",
       "    <tr>\n",
       "      <th>sloc_difference</th>\n",
       "      <td>0.572990</td>\n",
       "      <td>0.496720</td>\n",
       "      <td>0.572990</td>\n",
       "      <td>0.446431</td>\n",
       "      <td>0.446431</td>\n",
       "      <td>1.000000</td>\n",
       "      <td>0.921453</td>\n",
       "    </tr>\n",
       "    <tr>\n",
       "      <th>lloc_difference</th>\n",
       "      <td>0.598805</td>\n",
       "      <td>0.539496</td>\n",
       "      <td>0.598805</td>\n",
       "      <td>0.477928</td>\n",
       "      <td>0.477928</td>\n",
       "      <td>0.921453</td>\n",
       "      <td>1.000000</td>\n",
       "    </tr>\n",
       "  </tbody>\n",
       "</table>\n",
       "</div>"
      ],
      "text/plain": [
       "                       bugs_difference  difficulty_difference  \\\n",
       "bugs_difference               1.000000               0.641218   \n",
       "difficulty_difference         0.641218               1.000000   \n",
       "volume_difference             1.000000               0.641218   \n",
       "effort_difference             0.852149               0.538672   \n",
       "time_difference               0.852149               0.538672   \n",
       "sloc_difference               0.572990               0.496720   \n",
       "lloc_difference               0.598805               0.539496   \n",
       "\n",
       "                       volume_difference  effort_difference  time_difference  \\\n",
       "bugs_difference                 1.000000           0.852149         0.852149   \n",
       "difficulty_difference           0.641218           0.538672         0.538672   \n",
       "volume_difference               1.000000           0.852149         0.852149   \n",
       "effort_difference               0.852149           1.000000         1.000000   \n",
       "time_difference                 0.852149           1.000000         1.000000   \n",
       "sloc_difference                 0.572990           0.446431         0.446431   \n",
       "lloc_difference                 0.598805           0.477928         0.477928   \n",
       "\n",
       "                       sloc_difference  lloc_difference  \n",
       "bugs_difference               0.572990         0.598805  \n",
       "difficulty_difference         0.496720         0.539496  \n",
       "volume_difference             0.572990         0.598805  \n",
       "effort_difference             0.446431         0.477928  \n",
       "time_difference               0.446431         0.477928  \n",
       "sloc_difference               1.000000         0.921453  \n",
       "lloc_difference               0.921453         1.000000  "
      ]
     },
     "execution_count": 59,
     "metadata": {},
     "output_type": "execute_result"
    }
   ],
   "source": [
    "metrics_names = ['bugs', 'difficulty', 'volume', 'effort', 'time', 'sloc', 'lloc']\n",
    "for col_name in metrics_names:\n",
    "    source_code_data[col_name + '_difference'] = source_code_data[col_name + '_after'] - source_code_data[col_name + '_before']\n",
    "source_code_data[[col_name + '_difference' for col_name in metrics_names]].corr(method='pearson')"
   ]
  },
  {
   "cell_type": "markdown",
   "id": "religious-computer",
   "metadata": {},
   "source": [
    "Разности метрик bugs, effort, volume и time сильно коррелированы. Bugs и volume функционально зависимы."
   ]
  },
  {
   "cell_type": "markdown",
   "id": "pretty-bhutan",
   "metadata": {},
   "source": [
    "Подсчитаем для скольки сниппетов метрики не изменяются:"
   ]
  },
  {
   "cell_type": "code",
   "execution_count": 60,
   "id": "matched-freeze",
   "metadata": {},
   "outputs": [
    {
     "name": "stdout",
     "output_type": "stream",
     "text": [
      "Для метрики bugs число сниппетов, для которых метрика не меняется при исправлении,\n",
      "равно 15678.\n",
      "Для метрики difficulty число сниппетов, для которых метрика не меняется при исправлении,\n",
      "равно 16084.\n",
      "Для метрики volume число сниппетов, для которых метрика не меняется при исправлении,\n",
      "равно 15678.\n",
      "Для метрики effort число сниппетов, для которых метрика не меняется при исправлении,\n",
      "равно 15671.\n",
      "Для метрики time число сниппетов, для которых метрика не меняется при исправлении,\n",
      "равно 15671.\n"
     ]
    }
   ],
   "source": [
    "for col_name in ['bugs', 'difficulty', 'volume', 'effort', 'time']:\n",
    "    print(f\"\"\"Для метрики {col_name} число сниппетов, для которых метрика не меняется при исправлении,\\nравно {source_code_data.loc[source_code_data[col_name + '_difference'] == 0].shape[0]}.\"\"\")"
   ]
  },
  {
   "cell_type": "markdown",
   "id": "stretch-profession",
   "metadata": {},
   "source": [
    "Опять таки для более половины сниппетов метрики не изменяются."
   ]
  },
  {
   "cell_type": "markdown",
   "id": "informal-landing",
   "metadata": {},
   "source": [
    "# Цикломатическая сложность и индекс исправляемости кода\n",
    "\n",
    "Теперь подсчитаем статистики метрики цикломатической сложности (cc) и метрики исправляемости кода (MI) по коду с ошибками.\n",
    "Цикломатическая сложность - число линейно независимых маршрутов через код. Если в коде имеется один оператор if, то имеется два таких маршрута. Нужно для вычисления покрываемости тестами. Имеется следующая дискретизация значений:\n",
    "\n",
    "1 - 5\tA (low risk - simple block)\n",
    "\n",
    "6 - 10\tB (low risk - well structured and stable block)\n",
    "\n",
    "11 - 20\tC (moderate risk - slightly complex block)\n",
    "\n",
    "21 - 30\tD (more than moderate risk - more complex block)\n",
    "\n",
    "31 - 40\tE (high risk - complex block, alarming)\n",
    "\n",
    "41+\tF (very high risk - error-prone, unstable block)"
   ]
  },
  {
   "cell_type": "code",
   "execution_count": 61,
   "id": "understanding-baghdad",
   "metadata": {},
   "outputs": [
    {
     "name": "stdout",
     "output_type": "stream",
     "text": [
      "Среднее значение cc равно 7.016701372657345.\n",
      "Медиана cc равна 3.0.\n",
      "С.к.о cc равно 12.13252441133371.\n",
      "25-й персентиль cc равен 1.0.\n",
      "75-й персентиль cc равен 8.0.\n",
      "90-й персентиль cc равен 16.0.\n",
      "Минимум cc равен 0.\n",
      "Максимум cc равен 199.\n"
     ]
    }
   ],
   "source": [
    "print(f'Среднее значение cc равно {source_code_data[\"cc_before\"].mean()}.')\n",
    "print(f'Медиана cc равна {source_code_data[\"cc_before\"].median()}.')\n",
    "print(f'С.к.о cc равно {source_code_data[\"cc_before\"].std()}.')\n",
    "print(f'25-й персентиль cc равен {source_code_data[\"cc_before\"].quantile(q=0.25)}.')\n",
    "print(f'75-й персентиль cc равен {source_code_data[\"cc_before\"].quantile(q=0.75)}.')\n",
    "print(f'90-й персентиль cc равен {source_code_data[\"cc_before\"].quantile(q=0.90)}.')\n",
    "print(f'Минимум cc равен {source_code_data[\"cc_before\"].min()}.')\n",
    "print(f'Максимум cc равен {source_code_data[\"cc_before\"].max()}.')"
   ]
  },
  {
   "cell_type": "markdown",
   "id": "grand-caribbean",
   "metadata": {},
   "source": [
    "Таким образом, 50% сниппетов имеют низкую сложность, т.е. очень простую структуру, 25% имеют хорошую структуру невысокой сложности, 15% - имеют структуру средней сложности. Лишь среди оставшихся 10% есть сниппеты с высокой сложностью структуры."
   ]
  },
  {
   "cell_type": "markdown",
   "id": "super-scanning",
   "metadata": {},
   "source": [
    "Построим диаграмму частот для дискретизации, описанной выше."
   ]
  },
  {
   "cell_type": "code",
   "execution_count": 62,
   "id": "quality-pollution",
   "metadata": {},
   "outputs": [
    {
     "data": {
      "image/png": "[encoded data removed]",
      "text/plain": [
       "<Figure size 432x288 with 1 Axes>"
      ]
     },
     "metadata": {
      "needs_background": "light"
     },
     "output_type": "display_data"
    }
   ],
   "source": [
    "ax = sns.countplot(x='cc_rank_before',\n",
    "                   data=source_code_data,\n",
    "                   order=np.sort(source_code_data['cc_rank_before'].unique()));"
   ]
  },
  {
   "cell_type": "markdown",
   "id": "blond-qatar",
   "metadata": {},
   "source": [
    "Теперь по коду после исправления. "
   ]
  },
  {
   "cell_type": "code",
   "execution_count": 63,
   "id": "abandoned-student",
   "metadata": {},
   "outputs": [
    {
     "name": "stdout",
     "output_type": "stream",
     "text": [
      "Среднее значение cc равно 7.368067655433258.\n",
      "Медиана cc равна 4.0.\n",
      "С.к.о cc равно 12.307107821660175.\n",
      "25-й персентиль cc равен 1.0.\n",
      "75-й персентиль cc равен 9.0.\n",
      "90-й персентиль cc равен 17.0.\n",
      "Минимум cc равен 0.\n",
      "Максимум cc равен 199.\n"
     ]
    }
   ],
   "source": [
    "print(f'Среднее значение cc равно {source_code_data[\"cc_after\"].mean()}.')\n",
    "print(f'Медиана cc равна {source_code_data[\"cc_after\"].median()}.')\n",
    "print(f'С.к.о cc равно {source_code_data[\"cc_after\"].std()}.')\n",
    "print(f'25-й персентиль cc равен {source_code_data[\"cc_after\"].quantile(q=0.25)}.')\n",
    "print(f'75-й персентиль cc равен {source_code_data[\"cc_after\"].quantile(q=0.75)}.')\n",
    "print(f'90-й персентиль cc равен {source_code_data[\"cc_after\"].quantile(q=0.90)}.')\n",
    "print(f'Минимум cc равен {source_code_data[\"cc_after\"].min()}.')\n",
    "print(f'Максимум cc равен {source_code_data[\"cc_after\"].max()}.')"
   ]
  },
  {
   "cell_type": "markdown",
   "id": "divided-victory",
   "metadata": {},
   "source": [
    "После исправления цикломатическая сложность немного увеличивается, т.е. добавляются дополнительные ветвления в код."
   ]
  },
  {
   "cell_type": "markdown",
   "id": "sensitive-silver",
   "metadata": {},
   "source": [
    "Теперь тоже самое для индекса исправляемости кода, который служит для оценки масштабируемости, поддерживаемости и улучшаемости кода:"
   ]
  },
  {
   "cell_type": "code",
   "execution_count": 64,
   "id": "stock-humanity",
   "metadata": {},
   "outputs": [
    {
     "name": "stdout",
     "output_type": "stream",
     "text": [
      "Среднее значение MI равно 77.70882974345216.\n",
      "Медиана MI равна 76.35858132710041.\n",
      "С.к.о MI равно 17.349316100549874.\n",
      "25-й персентиль MI равен 64.92969693662572.\n",
      "75-й персентиль MI равен 100.0.\n",
      "90-й персентиль MI равен 100.0.\n",
      "Минимум MI равен 0.0.\n",
      "Максимум MI равен 100.0.\n"
     ]
    }
   ],
   "source": [
    "print(f'Среднее значение MI равно {source_code_data[\"MI_before\"].mean()}.')\n",
    "print(f'Медиана MI равна {source_code_data[\"MI_before\"].median()}.')\n",
    "print(f'С.к.о MI равно {source_code_data[\"MI_before\"].std()}.')\n",
    "print(f'25-й персентиль MI равен {source_code_data[\"MI_before\"].quantile(q=0.25)}.')\n",
    "print(f'75-й персентиль MI равен {source_code_data[\"MI_before\"].quantile(q=0.75)}.')\n",
    "print(f'90-й персентиль MI равен {source_code_data[\"MI_before\"].quantile(q=0.90)}.')\n",
    "print(f'Минимум MI равен {source_code_data[\"MI_before\"].min()}.')\n",
    "print(f'Максимум MI равен {source_code_data[\"MI_before\"].max()}.')"
   ]
  },
  {
   "cell_type": "markdown",
   "id": "fifteen-handling",
   "metadata": {},
   "source": [
    "Теперь тоже самое по индексу исправляемости:"
   ]
  },
  {
   "cell_type": "code",
   "execution_count": 65,
   "id": "automatic-cargo",
   "metadata": {},
   "outputs": [
    {
     "name": "stdout",
     "output_type": "stream",
     "text": [
      "Среднее значение MI равно 77.32017554843219.\n",
      "Медиана MI равна 75.88591420814735.\n",
      "С.к.о MI равно 17.251378324840804.\n",
      "25-й персентиль MI равен 64.73237237424682.\n",
      "75-й персентиль MI равен 96.41031161995804.\n",
      "90-й персентиль MI равен 100.0.\n",
      "Минимум MI равен 0.0.\n",
      "Максимум MI равен 100.0.\n"
     ]
    }
   ],
   "source": [
    "print(f'Среднее значение MI равно {source_code_data[\"MI_after\"].mean()}.')\n",
    "print(f'Медиана MI равна {source_code_data[\"MI_after\"].median()}.')\n",
    "print(f'С.к.о MI равно {source_code_data[\"MI_after\"].std()}.')\n",
    "print(f'25-й персентиль MI равен {source_code_data[\"MI_after\"].quantile(q=0.25)}.')\n",
    "print(f'75-й персентиль MI равен {source_code_data[\"MI_after\"].quantile(q=0.75)}.')\n",
    "print(f'90-й персентиль MI равен {source_code_data[\"MI_after\"].quantile(q=0.90)}.')\n",
    "print(f'Минимум MI равен {source_code_data[\"MI_after\"].min()}.')\n",
    "print(f'Максимум MI равен {source_code_data[\"MI_after\"].max()}.')"
   ]
  },
  {
   "cell_type": "markdown",
   "id": "binary-vietnamese",
   "metadata": {},
   "source": [
    "Индекс исправляемости, в отличие от остальных метрик, немного уменьшается."
   ]
  },
  {
   "cell_type": "markdown",
   "id": "friendly-nickname",
   "metadata": {},
   "source": [
    "## Корреляции\n",
    "\n",
    "Вначале корреляции между метриками."
   ]
  },
  {
   "cell_type": "code",
   "execution_count": 66,
   "id": "familiar-establishment",
   "metadata": {},
   "outputs": [
    {
     "data": {
      "text/html": [
       "<div>\n",
       "<style scoped>\n",
       "    .dataframe tbody tr th:only-of-type {\n",
       "        vertical-align: middle;\n",
       "    }\n",
       "\n",
       "    .dataframe tbody tr th {\n",
       "        vertical-align: top;\n",
       "    }\n",
       "\n",
       "    .dataframe thead th {\n",
       "        text-align: right;\n",
       "    }\n",
       "</style>\n",
       "<table border=\"1\" class=\"dataframe\">\n",
       "  <thead>\n",
       "    <tr style=\"text-align: right;\">\n",
       "      <th></th>\n",
       "      <th>cc_before</th>\n",
       "      <th>MI_before</th>\n",
       "    </tr>\n",
       "  </thead>\n",
       "  <tbody>\n",
       "    <tr>\n",
       "      <th>cc_before</th>\n",
       "      <td>1.000000</td>\n",
       "      <td>-0.729337</td>\n",
       "    </tr>\n",
       "    <tr>\n",
       "      <th>MI_before</th>\n",
       "      <td>-0.729337</td>\n",
       "      <td>1.000000</td>\n",
       "    </tr>\n",
       "  </tbody>\n",
       "</table>\n",
       "</div>"
      ],
      "text/plain": [
       "           cc_before  MI_before\n",
       "cc_before   1.000000  -0.729337\n",
       "MI_before  -0.729337   1.000000"
      ]
     },
     "execution_count": 66,
     "metadata": {},
     "output_type": "execute_result"
    }
   ],
   "source": [
    "source_code_data[['cc_before', 'MI_before']].corr(method='spearman')"
   ]
  },
  {
   "cell_type": "markdown",
   "id": "composed-constraint",
   "metadata": {},
   "source": [
    "Как видно, эти метрики между собой достаточно тесно коррелированы. "
   ]
  },
  {
   "cell_type": "markdown",
   "id": "wooden-packing",
   "metadata": {},
   "source": [
    "Теперь корреляции между разностями метрик до и после исправления:"
   ]
  },
  {
   "cell_type": "code",
   "execution_count": 67,
   "id": "white-adult",
   "metadata": {},
   "outputs": [
    {
     "data": {
      "text/html": [
       "<div>\n",
       "<style scoped>\n",
       "    .dataframe tbody tr th:only-of-type {\n",
       "        vertical-align: middle;\n",
       "    }\n",
       "\n",
       "    .dataframe tbody tr th {\n",
       "        vertical-align: top;\n",
       "    }\n",
       "\n",
       "    .dataframe thead th {\n",
       "        text-align: right;\n",
       "    }\n",
       "</style>\n",
       "<table border=\"1\" class=\"dataframe\">\n",
       "  <thead>\n",
       "    <tr style=\"text-align: right;\">\n",
       "      <th></th>\n",
       "      <th>cc_difference</th>\n",
       "      <th>MI_difference</th>\n",
       "    </tr>\n",
       "  </thead>\n",
       "  <tbody>\n",
       "    <tr>\n",
       "      <th>cc_difference</th>\n",
       "      <td>1.000000</td>\n",
       "      <td>-0.372533</td>\n",
       "    </tr>\n",
       "    <tr>\n",
       "      <th>MI_difference</th>\n",
       "      <td>-0.372533</td>\n",
       "      <td>1.000000</td>\n",
       "    </tr>\n",
       "  </tbody>\n",
       "</table>\n",
       "</div>"
      ],
      "text/plain": [
       "               cc_difference  MI_difference\n",
       "cc_difference       1.000000      -0.372533\n",
       "MI_difference      -0.372533       1.000000"
      ]
     },
     "execution_count": 67,
     "metadata": {},
     "output_type": "execute_result"
    }
   ],
   "source": [
    "metrics_names = ['cc', 'MI']\n",
    "for col_name in metrics_names:\n",
    "    source_code_data[col_name + '_difference'] = source_code_data[col_name + '_after'] - source_code_data[col_name + '_before']\n",
    "source_code_data[[col_name + '_difference' for col_name in metrics_names]].corr(method='pearson')"
   ]
  },
  {
   "cell_type": "markdown",
   "id": "expanded-diamond",
   "metadata": {},
   "source": [
    "Видно, что размеры разностей метрик не очень сильно коррелированы."
   ]
  },
  {
   "cell_type": "markdown",
   "id": "ancient-ethiopia",
   "metadata": {},
   "source": [
    "Подсчитаем для скольки сниппетов метрики не изменяются:"
   ]
  },
  {
   "cell_type": "code",
   "execution_count": 68,
   "id": "annual-volume",
   "metadata": {},
   "outputs": [
    {
     "name": "stdout",
     "output_type": "stream",
     "text": [
      "Для метрики cc число сниппетов, для которых метрика не меняется при исправлении,\n",
      "равно 14493.\n",
      "Для метрики MI число сниппетов, для которых метрика не меняется при исправлении,\n",
      "равно 10540.\n"
     ]
    }
   ],
   "source": [
    "for col_name in metrics_names:\n",
    "    print(f\"\"\"Для метрики {col_name} число сниппетов, для которых метрика не меняется при исправлении,\\nравно {source_code_data.loc[source_code_data[col_name + '_difference'] == 0].shape[0]}.\"\"\")"
   ]
  },
  {
   "cell_type": "markdown",
   "id": "activated-buddy",
   "metadata": {},
   "source": [
    "Опять таки для достаточного количества сниппетов метрики не изменяются."
   ]
  },
  {
   "cell_type": "markdown",
   "id": "silent-sucking",
   "metadata": {},
   "source": [
    "# Сравнение метрик на обучающем, валидационном и тестовом датасетах"
   ]
  },
  {
   "cell_type": "code",
   "execution_count": 69,
   "id": "german-oriental",
   "metadata": {},
   "outputs": [],
   "source": [
    "source_code_data_train = pd.read_pickle(path_to_data + 'filtered_traceback_bugfixes_train_metrics.pickle')\n",
    "source_code_data_valid = pd.read_pickle(path_to_data + 'filtered_traceback_bugfixes_valid_metrics.pickle')\n",
    "source_code_data_test = pd.read_pickle(path_to_data + 'bugfixes_test_metrics.pickle')"
   ]
  },
  {
   "cell_type": "code",
   "execution_count": 70,
   "id": "asian-insight",
   "metadata": {},
   "outputs": [],
   "source": [
    "all_source_code_data = pd.concat((source_code_data_train,\n",
    "                                  source_code_data_valid,\n",
    "                                  source_code_data_test), axis=0)\n",
    "all_source_code_data['sample_index'] = np.array((['train'] * source_code_data_train.shape[0] + \n",
    "                                                 ['valid'] * source_code_data_valid.shape[0] +\n",
    "                                                 ['test'] * source_code_data_test.shape[0]))"
   ]
  },
  {
   "cell_type": "code",
   "execution_count": 71,
   "id": "tested-timothy",
   "metadata": {},
   "outputs": [],
   "source": [
    "metrics_names = ['cc', 'N1', 'N2',\n",
    "       'bugs', 'calculated_length', 'difficulty', \n",
    "       'effort', 'h1', 'h2', 'length', 'time',\n",
    "       'vocabulary', 'volume', 'blank', 'single_comments',\n",
    "       'lloc', 'loc', 'multi', 'sloc', 'MI']"
   ]
  },
  {
   "cell_type": "markdown",
   "id": "objective-equipment",
   "metadata": {},
   "source": [
    "# Функция оценки множественной статистической значимости различий выборок"
   ]
  },
  {
   "cell_type": "code",
   "execution_count": 72,
   "id": "digital-central",
   "metadata": {},
   "outputs": [],
   "source": [
    "from scipy.stats import kruskal, ks_2samp, mannwhitneyu\n",
    "from statsmodels.stats.multitest import multipletests"
   ]
  },
  {
   "cell_type": "code",
   "execution_count": 73,
   "id": "affiliated-explorer",
   "metadata": {},
   "outputs": [],
   "source": [
    "def significantFeatures(data_samples, \n",
    "                        features, \n",
    "                        test_function,\n",
    "                        test_key_params={},\n",
    "                        remove_outliers=False,\n",
    "                        confidence_level=0.05):\n",
    "    p_values = []\n",
    "    for feature_name in features:\n",
    "        p_values.append(test_function(*[data_sample[feature_name] for data_sample in data_samples],\n",
    "                                          **test_key_params)[1])\n",
    "    is_feature_predictive, features_p_values_corrected, _, _ = multipletests(p_values, \n",
    "                                                                             alpha=confidence_level,\n",
    "                                                                             method='fdr_bh',\n",
    "                                                                             returnsorted=False)\n",
    "    return [feature_name for i, feature_name in enumerate(features) if is_feature_predictive[i]], features_p_values_corrected"
   ]
  },
  {
   "cell_type": "markdown",
   "id": "moderate-hormone",
   "metadata": {},
   "source": [
    "Применим для оценки статистической значимости отличий по метрикам статистический критерий Краскла-Уоллиса для трех независимых выборок."
   ]
  },
  {
   "cell_type": "code",
   "execution_count": 74,
   "id": "miniature-double",
   "metadata": {},
   "outputs": [],
   "source": [
    "kw_predictive_metrics_names, kw_p_values = significantFeatures([source_code_data_train,\n",
    "                                                                source_code_data_valid,\n",
    "                                                                source_code_data_test],\n",
    "                                                               [metric_name + '_before' for metric_name in metrics_names],\n",
    "                                                               test_function=kruskal,\n",
    "                                                               confidence_level=0.05)"
   ]
  },
  {
   "cell_type": "code",
   "execution_count": 75,
   "id": "expensive-highway",
   "metadata": {},
   "outputs": [
    {
     "name": "stdout",
     "output_type": "stream",
     "text": [
      "cc_before 4.852411452954489e-39\n",
      "N1_before 2.564656697313809e-14\n",
      "N2_before 7.419477829113087e-13\n",
      "bugs_before 3.0822029971685255e-13\n",
      "calculated_length_before 5.669290674778297e-13\n",
      "difficulty_before 1.5191072778898336e-12\n",
      "effort_before 4.704296459466576e-13\n",
      "h1_before 9.341937506018657e-14\n",
      "h2_before 9.341937506018657e-14\n",
      "length_before 3.4792041341223424e-13\n",
      "time_before 4.704296459466576e-13\n",
      "vocabulary_before 9.362258065172563e-14\n",
      "volume_before 3.0822029971685255e-13\n",
      "blank_before 1.8707345542077798e-57\n",
      "single_comments_before 0.00012947924820444484\n",
      "lloc_before 2.9751502935946488e-36\n",
      "loc_before 2.6114405527436317e-44\n",
      "multi_before 1.994296061863733e-68\n",
      "sloc_before 3.0306663104791817e-28\n",
      "MI_before 1.2958795670381996e-34\n"
     ]
    }
   ],
   "source": [
    "for feature, p_value in zip(kw_predictive_metrics_names, kw_p_values):\n",
    "    print(feature, p_value)"
   ]
  },
  {
   "cell_type": "markdown",
   "id": "functioning-salmon",
   "metadata": {},
   "source": [
    "Теперь оценим значимость попарных различий:"
   ]
  },
  {
   "cell_type": "code",
   "execution_count": 76,
   "id": "arranged-transition",
   "metadata": {},
   "outputs": [],
   "source": [
    "mw_predictive_metrics_names, mw_p_values = significantFeatures([source_code_data_train,\n",
    "                                                                source_code_data_valid],\n",
    "                                                               [metric_name + '_before' for metric_name in metrics_names],\n",
    "                                                               test_function=mannwhitneyu)"
   ]
  },
  {
   "cell_type": "code",
   "execution_count": 77,
   "id": "nervous-quality",
   "metadata": {},
   "outputs": [
    {
     "name": "stdout",
     "output_type": "stream",
     "text": [
      "cc_before 4.11154211281312e-39\n",
      "N1_before 2.4013026293780562e-14\n",
      "N2_before 5.002275457102952e-13\n",
      "bugs_before 1.8914675681149024e-13\n",
      "calculated_length_before 2.522703876510571e-13\n",
      "difficulty_before 9.699154956622364e-13\n",
      "effort_before 2.747280962709461e-13\n",
      "h1_before 4.7430461845641086e-14\n",
      "h2_before 4.7430461845641086e-14\n",
      "length_before 2.522703876510571e-13\n",
      "time_before 2.747280962709461e-13\n",
      "vocabulary_before 4.8021057167574755e-14\n",
      "volume_before 1.8914675681149024e-13\n",
      "blank_before 2.307051193888733e-58\n",
      "single_comments_before 1.326604727393077e-05\n",
      "lloc_before 9.229870722232673e-37\n",
      "loc_before 4.717763128187861e-45\n",
      "multi_before 5.176178495970753e-70\n",
      "sloc_before 4.652523275571716e-29\n",
      "MI_before 1.8119986341538447e-34\n"
     ]
    }
   ],
   "source": [
    "for metric_name, p_value in zip(mw_predictive_metrics_names, mw_p_values):\n",
    "    print(metric_name, p_value)"
   ]
  },
  {
   "cell_type": "code",
   "execution_count": 78,
   "id": "differential-facility",
   "metadata": {},
   "outputs": [],
   "source": [
    "mw_predictive_metrics_names, mw_p_values = significantFeatures([source_code_data_train,\n",
    "                                                                source_code_data_test],\n",
    "                                                               [metric_name + '_before' for metric_name in metrics_names],\n",
    "                                                               test_function=mannwhitneyu)"
   ]
  },
  {
   "cell_type": "code",
   "execution_count": 79,
   "id": "running-expansion",
   "metadata": {},
   "outputs": [
    {
     "name": "stdout",
     "output_type": "stream",
     "text": [
      "cc_before 0.0024783552111471213\n",
      "N1_before 0.0050988207706926855\n",
      "N2_before 0.0050988207706926855\n",
      "bugs_before 0.0050988207706926855\n",
      "calculated_length_before 0.007186944456878514\n",
      "difficulty_before 0.0050988207706926855\n",
      "effort_before 0.0050988207706926855\n",
      "h1_before 0.005195599209829036\n",
      "h2_before 0.0050988207706926855\n",
      "length_before 0.0050988207706926855\n",
      "time_before 0.0050988207706926855\n",
      "vocabulary_before 0.005195599209829036\n",
      "volume_before 0.0050988207706926855\n",
      "blank_before 0.0050988207706926855\n",
      "lloc_before 0.2153320405941015\n",
      "loc_before 0.0050988207706926855\n",
      "multi_before 0.0050988207706926855\n",
      "sloc_before 0.02814888344313921\n",
      "MI_before 0.007186944456878514\n"
     ]
    }
   ],
   "source": [
    "for metric_name, p_value in zip(mw_predictive_metrics_names, mw_p_values):\n",
    "    print(metric_name, p_value)"
   ]
  },
  {
   "cell_type": "code",
   "execution_count": 80,
   "id": "stock-german",
   "metadata": {},
   "outputs": [],
   "source": [
    "mw_predictive_metrics_names, mw_p_values = significantFeatures([source_code_data_valid,\n",
    "                                                                source_code_data_test],\n",
    "                                                               [metric_name + '_before' for metric_name in metrics_names],\n",
    "                                                               test_function=mannwhitneyu)"
   ]
  },
  {
   "cell_type": "code",
   "execution_count": 128,
   "id": "amber-biography",
   "metadata": {},
   "outputs": [],
   "source": [
    "for metric_name, p_value in zip(mw_predictive_metrics_names, mw_p_values):\n",
    "    print(metric_name, p_value)"
   ]
  },
  {
   "cell_type": "markdown",
   "id": "damaged-tribute",
   "metadata": {},
   "source": [
    "Таким образом, разница между обучающей и валидационной, а также между обучающей и тестовой выборками статистически значима, но разница между валидационной и тестовой - незначима. Это происходит потому, что валидационная и тестовая выборки содержат код из одних и тех же репозиториев."
   ]
  },
  {
   "cell_type": "markdown",
   "id": "active-upper",
   "metadata": {},
   "source": [
    "Видно, что по всем метрикам выборки отличаются. Посмотрим на размер этих отличий с помощью графиков. Вначале для цикломатической сложности."
   ]
  },
  {
   "cell_type": "code",
   "execution_count": 82,
   "id": "sound-efficiency",
   "metadata": {},
   "outputs": [
    {
     "data": {
      "image/png": "[encoded data removed]",
      "text/plain": [
       "<Figure size 432x288 with 1 Axes>"
      ]
     },
     "metadata": {
      "needs_background": "light"
     },
     "output_type": "display_data"
    }
   ],
   "source": [
    "sns.boxplot(x='sample_index', y='cc_before',\n",
    "            data=all_source_code_data);"
   ]
  },
  {
   "cell_type": "markdown",
   "id": "computational-blues",
   "metadata": {},
   "source": [
    "Уберем выбросы:"
   ]
  },
  {
   "cell_type": "code",
   "execution_count": 83,
   "id": "retained-picking",
   "metadata": {},
   "outputs": [
    {
     "data": {
      "image/png": "[encoded data removed]",
      "text/plain": [
       "<Figure size 432x288 with 1 Axes>"
      ]
     },
     "metadata": {
      "needs_background": "light"
     },
     "output_type": "display_data"
    }
   ],
   "source": [
    "sns.boxplot(x='sample_index', y='cc_before',\n",
    "            data=all_source_code_data.loc[all_source_code_data['cc_before'] <= 50]);"
   ]
  },
  {
   "cell_type": "markdown",
   "id": "fewer-painting",
   "metadata": {},
   "source": [
    "Теперь для $N_1,$ числа операторов:"
   ]
  },
  {
   "cell_type": "code",
   "execution_count": 84,
   "id": "pleased-request",
   "metadata": {},
   "outputs": [
    {
     "data": {
      "image/png": "[encoded data removed]",
      "text/plain": [
       "<Figure size 432x288 with 1 Axes>"
      ]
     },
     "metadata": {
      "needs_background": "light"
     },
     "output_type": "display_data"
    }
   ],
   "source": [
    "sns.boxplot(x='sample_index', y='N1_before',\n",
    "            data=all_source_code_data);"
   ]
  },
  {
   "cell_type": "code",
   "execution_count": 85,
   "id": "indian-waterproof",
   "metadata": {},
   "outputs": [
    {
     "data": {
      "image/png": "[encoded data removed]",
      "text/plain": [
       "<Figure size 432x288 with 1 Axes>"
      ]
     },
     "metadata": {
      "needs_background": "light"
     },
     "output_type": "display_data"
    }
   ],
   "source": [
    "sns.boxplot(x='sample_index', y='N1_before',\n",
    "            data=all_source_code_data.loc[all_source_code_data['N1_before'] <= 50]);"
   ]
  },
  {
   "cell_type": "markdown",
   "id": "figured-shell",
   "metadata": {},
   "source": [
    "Теперь для числа операндов $N_2:$"
   ]
  },
  {
   "cell_type": "code",
   "execution_count": 86,
   "id": "angry-breakfast",
   "metadata": {},
   "outputs": [
    {
     "data": {
      "image/png": "[encoded data removed]",
      "text/plain": [
       "<Figure size 432x288 with 1 Axes>"
      ]
     },
     "metadata": {
      "needs_background": "light"
     },
     "output_type": "display_data"
    }
   ],
   "source": [
    "sns.boxplot(x='sample_index', y='N2_before',\n",
    "            data=all_source_code_data);"
   ]
  },
  {
   "cell_type": "code",
   "execution_count": 87,
   "id": "charming-checklist",
   "metadata": {},
   "outputs": [
    {
     "data": {
      "image/png": "[encoded data removed]",
      "text/plain": [
       "<Figure size 432x288 with 1 Axes>"
      ]
     },
     "metadata": {
      "needs_background": "light"
     },
     "output_type": "display_data"
    }
   ],
   "source": [
    "sns.boxplot(x='sample_index', y='N2_before',\n",
    "            data=all_source_code_data.loc[all_source_code_data['N2_before'] <= 50]);"
   ]
  },
  {
   "cell_type": "markdown",
   "id": "stopped-medicare",
   "metadata": {},
   "source": [
    "Теперь для числа уникальных операторов $h_1:$"
   ]
  },
  {
   "cell_type": "code",
   "execution_count": 88,
   "id": "endless-institute",
   "metadata": {},
   "outputs": [
    {
     "data": {
      "image/png": "[encoded data removed]",
      "text/plain": [
       "<Figure size 432x288 with 1 Axes>"
      ]
     },
     "metadata": {
      "needs_background": "light"
     },
     "output_type": "display_data"
    }
   ],
   "source": [
    "sns.boxplot(x='sample_index', y='h1_before',\n",
    "            data=all_source_code_data);"
   ]
  },
  {
   "cell_type": "markdown",
   "id": "natural-integral",
   "metadata": {},
   "source": [
    "Теперь для числа уникальных операндов $h_2:$"
   ]
  },
  {
   "cell_type": "code",
   "execution_count": 89,
   "id": "subsequent-cliff",
   "metadata": {},
   "outputs": [
    {
     "data": {
      "image/png": "[encoded data removed]",
      "text/plain": [
       "<Figure size 432x288 with 1 Axes>"
      ]
     },
     "metadata": {
      "needs_background": "light"
     },
     "output_type": "display_data"
    }
   ],
   "source": [
    "sns.boxplot(x='sample_index', y='h2_before',\n",
    "            data=all_source_code_data);"
   ]
  },
  {
   "cell_type": "code",
   "execution_count": 90,
   "id": "loving-viewer",
   "metadata": {},
   "outputs": [
    {
     "data": {
      "image/png": "[encoded data removed]",
      "text/plain": [
       "<Figure size 432x288 with 1 Axes>"
      ]
     },
     "metadata": {
      "needs_background": "light"
     },
     "output_type": "display_data"
    }
   ],
   "source": [
    "sns.boxplot(x='sample_index', y='h2_before',\n",
    "            data=all_source_code_data.loc[all_source_code_data['h2_before'] <= 100]);"
   ]
  },
  {
   "cell_type": "markdown",
   "id": "agricultural-norwegian",
   "metadata": {},
   "source": [
    "Теперь для vocabulary, length и calculated_length:"
   ]
  },
  {
   "cell_type": "code",
   "execution_count": 91,
   "id": "protected-growing",
   "metadata": {},
   "outputs": [
    {
     "data": {
      "image/png": "[encoded data removed]",
      "text/plain": [
       "<Figure size 432x288 with 1 Axes>"
      ]
     },
     "metadata": {
      "needs_background": "light"
     },
     "output_type": "display_data"
    }
   ],
   "source": [
    "sns.boxplot(x='sample_index', y='vocabulary_before',\n",
    "            data=all_source_code_data);"
   ]
  },
  {
   "cell_type": "code",
   "execution_count": 92,
   "id": "neural-commodity",
   "metadata": {},
   "outputs": [
    {
     "data": {
      "image/png": "[encoded data removed]",
      "text/plain": [
       "<Figure size 432x288 with 1 Axes>"
      ]
     },
     "metadata": {
      "needs_background": "light"
     },
     "output_type": "display_data"
    }
   ],
   "source": [
    "sns.boxplot(x='sample_index', y='length_before',\n",
    "            data=all_source_code_data);"
   ]
  },
  {
   "cell_type": "code",
   "execution_count": 93,
   "id": "pharmaceutical-adelaide",
   "metadata": {},
   "outputs": [
    {
     "data": {
      "image/png": "[encoded data removed]",
      "text/plain": [
       "<Figure size 432x288 with 1 Axes>"
      ]
     },
     "metadata": {
      "needs_background": "light"
     },
     "output_type": "display_data"
    }
   ],
   "source": [
    "sns.boxplot(x='sample_index', y='calculated_length_before',\n",
    "            data=all_source_code_data);"
   ]
  },
  {
   "cell_type": "markdown",
   "id": "banned-hostel",
   "metadata": {},
   "source": [
    "После удаления выбросов:"
   ]
  },
  {
   "cell_type": "code",
   "execution_count": 94,
   "id": "touched-bearing",
   "metadata": {},
   "outputs": [
    {
     "data": {
      "image/png": "[encoded data removed]",
      "text/plain": [
       "<Figure size 432x288 with 1 Axes>"
      ]
     },
     "metadata": {
      "needs_background": "light"
     },
     "output_type": "display_data"
    }
   ],
   "source": [
    "sns.boxplot(x='sample_index', y='vocabulary_before',\n",
    "            data=all_source_code_data.loc[all_source_code_data['vocabulary_before'] <= 100]);"
   ]
  },
  {
   "cell_type": "code",
   "execution_count": 95,
   "id": "checked-halloween",
   "metadata": {},
   "outputs": [
    {
     "data": {
      "image/png": "[encoded data removed]",
      "text/plain": [
       "<Figure size 432x288 with 1 Axes>"
      ]
     },
     "metadata": {
      "needs_background": "light"
     },
     "output_type": "display_data"
    }
   ],
   "source": [
    "sns.boxplot(x='sample_index', y='length_before',\n",
    "            data=all_source_code_data.loc[all_source_code_data['length_before'] <= 200]);"
   ]
  },
  {
   "cell_type": "code",
   "execution_count": 96,
   "id": "meaningful-northern",
   "metadata": {},
   "outputs": [
    {
     "data": {
      "image/png": "[encoded data removed]",
      "text/plain": [
       "<Figure size 432x288 with 1 Axes>"
      ]
     },
     "metadata": {
      "needs_background": "light"
     },
     "output_type": "display_data"
    }
   ],
   "source": [
    "sns.boxplot(x='sample_index', y='calculated_length_before',\n",
    "            data=all_source_code_data.loc[all_source_code_data['calculated_length_before'] <= 200]);"
   ]
  },
  {
   "cell_type": "markdown",
   "id": "accessory-crash",
   "metadata": {},
   "source": [
    "Теперь для bugs, difficulty, effort, volume и time:"
   ]
  },
  {
   "cell_type": "code",
   "execution_count": 97,
   "id": "hearing-outreach",
   "metadata": {},
   "outputs": [
    {
     "data": {
      "image/png": "[encoded data removed]",
      "text/plain": [
       "<Figure size 432x288 with 1 Axes>"
      ]
     },
     "metadata": {
      "needs_background": "light"
     },
     "output_type": "display_data"
    }
   ],
   "source": [
    "sns.boxplot(x='sample_index', y='bugs_before',\n",
    "            data=all_source_code_data);"
   ]
  },
  {
   "cell_type": "code",
   "execution_count": 98,
   "id": "defined-arbor",
   "metadata": {},
   "outputs": [
    {
     "data": {
      "image/png": "[encoded data removed]",
      "text/plain": [
       "<Figure size 432x288 with 1 Axes>"
      ]
     },
     "metadata": {
      "needs_background": "light"
     },
     "output_type": "display_data"
    }
   ],
   "source": [
    "sns.boxplot(x='sample_index', y='difficulty_before',\n",
    "            data=all_source_code_data);"
   ]
  },
  {
   "cell_type": "code",
   "execution_count": 99,
   "id": "identified-wesley",
   "metadata": {},
   "outputs": [
    {
     "data": {
      "image/png": "[encoded data removed]",
      "text/plain": [
       "<Figure size 432x288 with 1 Axes>"
      ]
     },
     "metadata": {
      "needs_background": "light"
     },
     "output_type": "display_data"
    }
   ],
   "source": [
    "sns.boxplot(x='sample_index', y='effort_before',\n",
    "            data=all_source_code_data);"
   ]
  },
  {
   "cell_type": "code",
   "execution_count": 100,
   "id": "arctic-macro",
   "metadata": {},
   "outputs": [
    {
     "data": {
      "image/png": "[encoded data removed]",
      "text/plain": [
       "<Figure size 432x288 with 1 Axes>"
      ]
     },
     "metadata": {
      "needs_background": "light"
     },
     "output_type": "display_data"
    }
   ],
   "source": [
    "sns.boxplot(x='sample_index', y='volume_before',\n",
    "            data=all_source_code_data);"
   ]
  },
  {
   "cell_type": "code",
   "execution_count": 101,
   "id": "pacific-milton",
   "metadata": {},
   "outputs": [
    {
     "data": {
      "image/png": "[encoded data removed]",
      "text/plain": [
       "<Figure size 432x288 with 1 Axes>"
      ]
     },
     "metadata": {
      "needs_background": "light"
     },
     "output_type": "display_data"
    }
   ],
   "source": [
    "sns.boxplot(x='sample_index', y='time_before',\n",
    "            data=all_source_code_data);"
   ]
  },
  {
   "cell_type": "markdown",
   "id": "local-garden",
   "metadata": {},
   "source": [
    "Теперь удалим выбросы:"
   ]
  },
  {
   "cell_type": "code",
   "execution_count": 102,
   "id": "quality-rochester",
   "metadata": {},
   "outputs": [
    {
     "data": {
      "image/png": "[encoded data removed]",
      "text/plain": [
       "<Figure size 432x288 with 1 Axes>"
      ]
     },
     "metadata": {
      "needs_background": "light"
     },
     "output_type": "display_data"
    }
   ],
   "source": [
    "sns.boxplot(x='sample_index', y='bugs_before',\n",
    "            data=all_source_code_data.loc[all_source_code_data['bugs_before'] <= 0.3]);"
   ]
  },
  {
   "cell_type": "code",
   "execution_count": 103,
   "id": "operating-student",
   "metadata": {},
   "outputs": [
    {
     "data": {
      "image/png": "[encoded data removed]",
      "text/plain": [
       "<Figure size 432x288 with 1 Axes>"
      ]
     },
     "metadata": {
      "needs_background": "light"
     },
     "output_type": "display_data"
    }
   ],
   "source": [
    "sns.boxplot(x='sample_index', y='effort_before',\n",
    "            data=all_source_code_data.loc[all_source_code_data['effort_before'] <= 400]);"
   ]
  },
  {
   "cell_type": "code",
   "execution_count": 104,
   "id": "annoying-chemical",
   "metadata": {},
   "outputs": [
    {
     "data": {
      "image/png": "[encoded data removed]",
      "text/plain": [
       "<Figure size 432x288 with 1 Axes>"
      ]
     },
     "metadata": {
      "needs_background": "light"
     },
     "output_type": "display_data"
    }
   ],
   "source": [
    "sns.boxplot(x='sample_index', y='volume_before',\n",
    "            data=all_source_code_data.loc[all_source_code_data['volume_before'] <= 400]);"
   ]
  },
  {
   "cell_type": "code",
   "execution_count": 105,
   "id": "planned-neighborhood",
   "metadata": {},
   "outputs": [
    {
     "data": {
      "image/png": "[encoded data removed]",
      "text/plain": [
       "<Figure size 432x288 with 1 Axes>"
      ]
     },
     "metadata": {
      "needs_background": "light"
     },
     "output_type": "display_data"
    }
   ],
   "source": [
    "sns.boxplot(x='sample_index', y='time_before',\n",
    "            data=all_source_code_data.loc[all_source_code_data['time_before'] <= 50]);"
   ]
  },
  {
   "cell_type": "markdown",
   "id": "funny-match",
   "metadata": {},
   "source": [
    "Теперь по метрикам blank, single_comments, lloc, loc, multi и sloc."
   ]
  },
  {
   "cell_type": "code",
   "execution_count": 106,
   "id": "outstanding-impression",
   "metadata": {},
   "outputs": [
    {
     "data": {
      "image/png": "[encoded data removed]",
      "text/plain": [
       "<Figure size 432x288 with 1 Axes>"
      ]
     },
     "metadata": {
      "needs_background": "light"
     },
     "output_type": "display_data"
    }
   ],
   "source": [
    "sns.boxplot(x='sample_index', y='blank_before',\n",
    "            data=all_source_code_data);"
   ]
  },
  {
   "cell_type": "code",
   "execution_count": 107,
   "id": "recreational-species",
   "metadata": {},
   "outputs": [
    {
     "data": {
      "image/png": "[encoded data removed]",
      "text/plain": [
       "<Figure size 432x288 with 1 Axes>"
      ]
     },
     "metadata": {
      "needs_background": "light"
     },
     "output_type": "display_data"
    }
   ],
   "source": [
    "sns.boxplot(x='sample_index', y='single_comments_before',\n",
    "            data=all_source_code_data);"
   ]
  },
  {
   "cell_type": "code",
   "execution_count": 108,
   "id": "endangered-whale",
   "metadata": {},
   "outputs": [
    {
     "data": {
      "image/png": "[encoded data removed]",
      "text/plain": [
       "<Figure size 432x288 with 1 Axes>"
      ]
     },
     "metadata": {
      "needs_background": "light"
     },
     "output_type": "display_data"
    }
   ],
   "source": [
    "sns.boxplot(x='sample_index', y='lloc_before',\n",
    "            data=all_source_code_data);"
   ]
  },
  {
   "cell_type": "code",
   "execution_count": 109,
   "id": "blind-lying",
   "metadata": {},
   "outputs": [
    {
     "data": {
      "image/png": "[encoded data removed]",
      "text/plain": [
       "<Figure size 432x288 with 1 Axes>"
      ]
     },
     "metadata": {
      "needs_background": "light"
     },
     "output_type": "display_data"
    }
   ],
   "source": [
    "sns.boxplot(x='sample_index', y='sloc_before',\n",
    "            data=all_source_code_data);"
   ]
  },
  {
   "cell_type": "code",
   "execution_count": 110,
   "id": "fluid-basis",
   "metadata": {},
   "outputs": [
    {
     "data": {
      "image/png": "[encoded data removed]",
      "text/plain": [
       "<Figure size 432x288 with 1 Axes>"
      ]
     },
     "metadata": {
      "needs_background": "light"
     },
     "output_type": "display_data"
    }
   ],
   "source": [
    "sns.boxplot(x='sample_index', y='loc_before',\n",
    "            data=all_source_code_data);"
   ]
  },
  {
   "cell_type": "code",
   "execution_count": 111,
   "id": "beneficial-ethiopia",
   "metadata": {},
   "outputs": [
    {
     "data": {
      "image/png": "[encoded data removed]",
      "text/plain": [
       "<Figure size 432x288 with 1 Axes>"
      ]
     },
     "metadata": {
      "needs_background": "light"
     },
     "output_type": "display_data"
    }
   ],
   "source": [
    "sns.boxplot(x='sample_index', y='multi_before',\n",
    "            data=all_source_code_data);"
   ]
  },
  {
   "cell_type": "markdown",
   "id": "several-vegetarian",
   "metadata": {},
   "source": [
    "Теперь удалим выбросы:"
   ]
  },
  {
   "cell_type": "code",
   "execution_count": 112,
   "id": "domestic-robertson",
   "metadata": {},
   "outputs": [
    {
     "data": {
      "image/png": "[encoded data removed]",
      "text/plain": [
       "<Figure size 432x288 with 1 Axes>"
      ]
     },
     "metadata": {
      "needs_background": "light"
     },
     "output_type": "display_data"
    }
   ],
   "source": [
    "sns.boxplot(x='sample_index', y='blank_before',\n",
    "            data=all_source_code_data.loc[all_source_code_data['blank_before'] <= 50]);"
   ]
  },
  {
   "cell_type": "code",
   "execution_count": 113,
   "id": "abstract-buying",
   "metadata": {},
   "outputs": [
    {
     "data": {
      "image/png": "[encoded data removed]",
      "text/plain": [
       "<Figure size 432x288 with 1 Axes>"
      ]
     },
     "metadata": {
      "needs_background": "light"
     },
     "output_type": "display_data"
    }
   ],
   "source": [
    "sns.boxplot(x='sample_index', y='single_comments_before',\n",
    "            data=all_source_code_data.loc[all_source_code_data['single_comments_before'] <= 20]);"
   ]
  },
  {
   "cell_type": "code",
   "execution_count": 114,
   "id": "resident-decade",
   "metadata": {},
   "outputs": [
    {
     "data": {
      "image/png": "[encoded data removed]",
      "text/plain": [
       "<Figure size 432x288 with 1 Axes>"
      ]
     },
     "metadata": {
      "needs_background": "light"
     },
     "output_type": "display_data"
    }
   ],
   "source": [
    "sns.boxplot(x='sample_index', y='lloc_before',\n",
    "            data=all_source_code_data.loc[all_source_code_data['lloc_before'] <= 200]);"
   ]
  },
  {
   "cell_type": "code",
   "execution_count": 115,
   "id": "narrow-windsor",
   "metadata": {},
   "outputs": [
    {
     "data": {
      "image/png": "[encoded data removed]",
      "text/plain": [
       "<Figure size 432x288 with 1 Axes>"
      ]
     },
     "metadata": {
      "needs_background": "light"
     },
     "output_type": "display_data"
    }
   ],
   "source": [
    "sns.boxplot(x='sample_index', y='sloc_before',\n",
    "            data=all_source_code_data.loc[all_source_code_data['sloc_before'] <= 200]);"
   ]
  },
  {
   "cell_type": "code",
   "execution_count": 116,
   "id": "dietary-bargain",
   "metadata": {},
   "outputs": [
    {
     "data": {
      "image/png": "[encoded data removed]",
      "text/plain": [
       "<Figure size 432x288 with 1 Axes>"
      ]
     },
     "metadata": {
      "needs_background": "light"
     },
     "output_type": "display_data"
    }
   ],
   "source": [
    "sns.boxplot(x='sample_index', y='loc_before',\n",
    "            data=all_source_code_data.loc[all_source_code_data['loc_before'] <= 250]);"
   ]
  },
  {
   "cell_type": "code",
   "execution_count": 117,
   "id": "lesser-pledge",
   "metadata": {},
   "outputs": [
    {
     "data": {
      "image/png": "[encoded data removed]",
      "text/plain": [
       "<Figure size 432x288 with 1 Axes>"
      ]
     },
     "metadata": {
      "needs_background": "light"
     },
     "output_type": "display_data"
    }
   ],
   "source": [
    "sns.boxplot(x='sample_index', y='multi_before',\n",
    "            data=all_source_code_data.loc[all_source_code_data['multi_before'] <= 200]);"
   ]
  },
  {
   "cell_type": "markdown",
   "id": "written-today",
   "metadata": {},
   "source": [
    "Теперь для индекса исправляемости:"
   ]
  },
  {
   "cell_type": "code",
   "execution_count": 118,
   "id": "approved-making",
   "metadata": {},
   "outputs": [
    {
     "data": {
      "image/png": "[encoded data removed]",
      "text/plain": [
       "<Figure size 432x288 with 1 Axes>"
      ]
     },
     "metadata": {
      "needs_background": "light"
     },
     "output_type": "display_data"
    }
   ],
   "source": [
    "sns.boxplot(x='sample_index', y='MI_before',\n",
    "            data=all_source_code_data);"
   ]
  },
  {
   "cell_type": "markdown",
   "id": "established-onion",
   "metadata": {},
   "source": [
    "По остальным метрикам разница небольшая."
   ]
  },
  {
   "cell_type": "markdown",
   "id": "naked-spain",
   "metadata": {},
   "source": [
    "# Анализ разностей метрик\n",
    "\n",
    "Выясним, являются ли изменения всех метрик в ответ на исправление ошибок статистически значимыми."
   ]
  },
  {
   "cell_type": "code",
   "execution_count": 119,
   "id": "material-alarm",
   "metadata": {},
   "outputs": [],
   "source": [
    "from statsmodels.stats.descriptivestats import sign_test\n",
    "from scipy.stats import wilcoxon"
   ]
  },
  {
   "cell_type": "code",
   "execution_count": 120,
   "id": "pointed-halifax",
   "metadata": {},
   "outputs": [],
   "source": [
    "def significantDifferences(data, \n",
    "                           difference_features, \n",
    "                           test_function,\n",
    "                           test_key_params={},\n",
    "                           confidence_level=0.05):\n",
    "    p_values = []\n",
    "    for feature_name in difference_features:\n",
    "        p_values.append(test_function(data[feature_name], **test_key_params)[1])\n",
    "    is_feature_predictive, features_p_values_corrected, _, _ = multipletests(p_values, \n",
    "                                                                             alpha=confidence_level,\n",
    "                                                                             method='fdr_bh',\n",
    "                                                                             returnsorted=False)\n",
    "    return [feature_name for i, feature_name in enumerate(difference_features) if is_feature_predictive[i]], features_p_values_corrected"
   ]
  },
  {
   "cell_type": "code",
   "execution_count": 121,
   "id": "streaming-burton",
   "metadata": {},
   "outputs": [],
   "source": [
    "for metric_name in metrics_names:\n",
    "    source_code_data[metric_name + '_difference'] = source_code_data[metric_name + '_after'] - source_code_data[metric_name + '_before']"
   ]
  },
  {
   "cell_type": "markdown",
   "id": "accessory-trauma",
   "metadata": {},
   "source": [
    "Применим для оценки статистической значимости два статистических критерия для зависимых наблюдений."
   ]
  },
  {
   "cell_type": "code",
   "execution_count": 122,
   "id": "available-netherlands",
   "metadata": {},
   "outputs": [],
   "source": [
    "sign_predictive_metrics_names, sign_p_values = significantDifferences(source_code_data, \n",
    "                                                                      [metric_name + '_difference' for metric_name in metrics_names],\n",
    "                                                                      test_function=sign_test,\n",
    "                                                                      confidence_level=0.01)"
   ]
  },
  {
   "cell_type": "code",
   "execution_count": 123,
   "id": "convertible-sodium",
   "metadata": {},
   "outputs": [],
   "source": [
    "w_predictive_metrics_names, w_p_values = significantDifferences(source_code_data, \n",
    "                                                                [metric_name + '_difference' for metric_name in metrics_names],\n",
    "                                                                test_function=wilcoxon,\n",
    "                                                                test_key_params = {'zero_method':'wilcox'},\n",
    "                                                                confidence_level=0.01)"
   ]
  },
  {
   "cell_type": "markdown",
   "id": "rolled-element",
   "metadata": {},
   "source": [
    "Объединим множества метрик, изменения по которым оказались статистически значимыми. Получилось, что изменения по всем метрикам статистически значимы."
   ]
  },
  {
   "cell_type": "code",
   "execution_count": 124,
   "id": "waiting-nightmare",
   "metadata": {},
   "outputs": [
    {
     "data": {
      "text/plain": [
       "{'MI_difference',\n",
       " 'N1_difference',\n",
       " 'N2_difference',\n",
       " 'blank_difference',\n",
       " 'bugs_difference',\n",
       " 'calculated_length_difference',\n",
       " 'cc_difference',\n",
       " 'difficulty_difference',\n",
       " 'effort_difference',\n",
       " 'h1_difference',\n",
       " 'h2_difference',\n",
       " 'length_difference',\n",
       " 'lloc_difference',\n",
       " 'loc_difference',\n",
       " 'multi_difference',\n",
       " 'single_comments_difference',\n",
       " 'sloc_difference',\n",
       " 'time_difference',\n",
       " 'vocabulary_difference',\n",
       " 'volume_difference'}"
      ]
     },
     "execution_count": 124,
     "metadata": {},
     "output_type": "execute_result"
    }
   ],
   "source": [
    "set(sign_predictive_metrics_names) | set(w_predictive_metrics_names)"
   ]
  },
  {
   "cell_type": "code",
   "execution_count": 125,
   "id": "young-updating",
   "metadata": {},
   "outputs": [
    {
     "data": {
      "text/plain": [
       "20"
      ]
     },
     "execution_count": 125,
     "metadata": {},
     "output_type": "execute_result"
    }
   ],
   "source": [
    "len(metrics_names)"
   ]
  },
  {
   "cell_type": "markdown",
   "id": "sustainable-train",
   "metadata": {},
   "source": [
    "## Корреляции"
   ]
  },
  {
   "cell_type": "code",
   "execution_count": 126,
   "id": "european-uniform",
   "metadata": {},
   "outputs": [
    {
     "data": {
      "text/html": [
       "<div>\n",
       "<style scoped>\n",
       "    .dataframe tbody tr th:only-of-type {\n",
       "        vertical-align: middle;\n",
       "    }\n",
       "\n",
       "    .dataframe tbody tr th {\n",
       "        vertical-align: top;\n",
       "    }\n",
       "\n",
       "    .dataframe thead th {\n",
       "        text-align: right;\n",
       "    }\n",
       "</style>\n",
       "<table border=\"1\" class=\"dataframe\">\n",
       "  <thead>\n",
       "    <tr style=\"text-align: right;\">\n",
       "      <th></th>\n",
       "      <th>cc_difference</th>\n",
       "      <th>N1_difference</th>\n",
       "      <th>N2_difference</th>\n",
       "      <th>bugs_difference</th>\n",
       "      <th>calculated_length_difference</th>\n",
       "      <th>difficulty_difference</th>\n",
       "      <th>effort_difference</th>\n",
       "      <th>h1_difference</th>\n",
       "      <th>h2_difference</th>\n",
       "      <th>length_difference</th>\n",
       "      <th>time_difference</th>\n",
       "      <th>vocabulary_difference</th>\n",
       "      <th>volume_difference</th>\n",
       "      <th>blank_difference</th>\n",
       "      <th>single_comments_difference</th>\n",
       "      <th>lloc_difference</th>\n",
       "      <th>loc_difference</th>\n",
       "      <th>multi_difference</th>\n",
       "      <th>sloc_difference</th>\n",
       "      <th>MI_difference</th>\n",
       "    </tr>\n",
       "  </thead>\n",
       "  <tbody>\n",
       "    <tr>\n",
       "      <th>cc_difference</th>\n",
       "      <td>1.000000</td>\n",
       "      <td>0.684747</td>\n",
       "      <td>0.684048</td>\n",
       "      <td>0.674299</td>\n",
       "      <td>0.650819</td>\n",
       "      <td>0.526455</td>\n",
       "      <td>0.660445</td>\n",
       "      <td>0.566840</td>\n",
       "      <td>0.660823</td>\n",
       "      <td>0.684829</td>\n",
       "      <td>0.660445</td>\n",
       "      <td>0.664825</td>\n",
       "      <td>0.674300</td>\n",
       "      <td>0.322101</td>\n",
       "      <td>0.308989</td>\n",
       "      <td>0.721770</td>\n",
       "      <td>0.655669</td>\n",
       "      <td>0.055334</td>\n",
       "      <td>0.687680</td>\n",
       "      <td>-0.526472</td>\n",
       "    </tr>\n",
       "    <tr>\n",
       "      <th>N1_difference</th>\n",
       "      <td>0.684747</td>\n",
       "      <td>1.000000</td>\n",
       "      <td>0.986759</td>\n",
       "      <td>0.975576</td>\n",
       "      <td>0.935395</td>\n",
       "      <td>0.745681</td>\n",
       "      <td>0.954218</td>\n",
       "      <td>0.797046</td>\n",
       "      <td>0.948562</td>\n",
       "      <td>0.989310</td>\n",
       "      <td>0.954218</td>\n",
       "      <td>0.952942</td>\n",
       "      <td>0.975576</td>\n",
       "      <td>0.285492</td>\n",
       "      <td>0.265362</td>\n",
       "      <td>0.530398</td>\n",
       "      <td>0.501587</td>\n",
       "      <td>0.044802</td>\n",
       "      <td>0.515189</td>\n",
       "      <td>-0.562866</td>\n",
       "    </tr>\n",
       "    <tr>\n",
       "      <th>N2_difference</th>\n",
       "      <td>0.684048</td>\n",
       "      <td>0.986759</td>\n",
       "      <td>1.000000</td>\n",
       "      <td>0.986612</td>\n",
       "      <td>0.947644</td>\n",
       "      <td>0.737475</td>\n",
       "      <td>0.960643</td>\n",
       "      <td>0.790351</td>\n",
       "      <td>0.959629</td>\n",
       "      <td>0.999009</td>\n",
       "      <td>0.960643</td>\n",
       "      <td>0.961117</td>\n",
       "      <td>0.986612</td>\n",
       "      <td>0.279345</td>\n",
       "      <td>0.261782</td>\n",
       "      <td>0.522916</td>\n",
       "      <td>0.496294</td>\n",
       "      <td>0.046153</td>\n",
       "      <td>0.510124</td>\n",
       "      <td>-0.564231</td>\n",
       "    </tr>\n",
       "    <tr>\n",
       "      <th>bugs_difference</th>\n",
       "      <td>0.674299</td>\n",
       "      <td>0.975576</td>\n",
       "      <td>0.986612</td>\n",
       "      <td>1.000000</td>\n",
       "      <td>0.964964</td>\n",
       "      <td>0.706710</td>\n",
       "      <td>0.949390</td>\n",
       "      <td>0.780428</td>\n",
       "      <td>0.964785</td>\n",
       "      <td>0.986719</td>\n",
       "      <td>0.949390</td>\n",
       "      <td>0.969694</td>\n",
       "      <td>1.000000</td>\n",
       "      <td>0.277637</td>\n",
       "      <td>0.260499</td>\n",
       "      <td>0.515673</td>\n",
       "      <td>0.490814</td>\n",
       "      <td>0.044598</td>\n",
       "      <td>0.503657</td>\n",
       "      <td>-0.553950</td>\n",
       "    </tr>\n",
       "    <tr>\n",
       "      <th>calculated_length_difference</th>\n",
       "      <td>0.650819</td>\n",
       "      <td>0.935395</td>\n",
       "      <td>0.947644</td>\n",
       "      <td>0.964964</td>\n",
       "      <td>1.000000</td>\n",
       "      <td>0.664079</td>\n",
       "      <td>0.911902</td>\n",
       "      <td>0.782800</td>\n",
       "      <td>0.976538</td>\n",
       "      <td>0.946426</td>\n",
       "      <td>0.911902</td>\n",
       "      <td>0.981536</td>\n",
       "      <td>0.964964</td>\n",
       "      <td>0.270150</td>\n",
       "      <td>0.254118</td>\n",
       "      <td>0.491033</td>\n",
       "      <td>0.470116</td>\n",
       "      <td>0.042555</td>\n",
       "      <td>0.481271</td>\n",
       "      <td>-0.529782</td>\n",
       "    </tr>\n",
       "    <tr>\n",
       "      <th>difficulty_difference</th>\n",
       "      <td>0.526455</td>\n",
       "      <td>0.745681</td>\n",
       "      <td>0.737475</td>\n",
       "      <td>0.706710</td>\n",
       "      <td>0.664079</td>\n",
       "      <td>1.000000</td>\n",
       "      <td>0.759773</td>\n",
       "      <td>0.875672</td>\n",
       "      <td>0.673052</td>\n",
       "      <td>0.738089</td>\n",
       "      <td>0.759773</td>\n",
       "      <td>0.714902</td>\n",
       "      <td>0.706710</td>\n",
       "      <td>0.231544</td>\n",
       "      <td>0.207632</td>\n",
       "      <td>0.418980</td>\n",
       "      <td>0.391640</td>\n",
       "      <td>0.044666</td>\n",
       "      <td>0.402365</td>\n",
       "      <td>-0.461775</td>\n",
       "    </tr>\n",
       "    <tr>\n",
       "      <th>effort_difference</th>\n",
       "      <td>0.660445</td>\n",
       "      <td>0.954218</td>\n",
       "      <td>0.960643</td>\n",
       "      <td>0.949390</td>\n",
       "      <td>0.911902</td>\n",
       "      <td>0.759773</td>\n",
       "      <td>1.000000</td>\n",
       "      <td>0.794450</td>\n",
       "      <td>0.903456</td>\n",
       "      <td>0.960847</td>\n",
       "      <td>1.000000</td>\n",
       "      <td>0.921827</td>\n",
       "      <td>0.949390</td>\n",
       "      <td>0.274756</td>\n",
       "      <td>0.258183</td>\n",
       "      <td>0.507356</td>\n",
       "      <td>0.482334</td>\n",
       "      <td>0.045969</td>\n",
       "      <td>0.494462</td>\n",
       "      <td>-0.528719</td>\n",
       "    </tr>\n",
       "    <tr>\n",
       "      <th>h1_difference</th>\n",
       "      <td>0.566840</td>\n",
       "      <td>0.797046</td>\n",
       "      <td>0.790351</td>\n",
       "      <td>0.780428</td>\n",
       "      <td>0.782800</td>\n",
       "      <td>0.875672</td>\n",
       "      <td>0.794450</td>\n",
       "      <td>1.000000</td>\n",
       "      <td>0.795469</td>\n",
       "      <td>0.790847</td>\n",
       "      <td>0.794450</td>\n",
       "      <td>0.838393</td>\n",
       "      <td>0.780427</td>\n",
       "      <td>0.252140</td>\n",
       "      <td>0.224536</td>\n",
       "      <td>0.438953</td>\n",
       "      <td>0.416136</td>\n",
       "      <td>0.048542</td>\n",
       "      <td>0.425752</td>\n",
       "      <td>-0.499784</td>\n",
       "    </tr>\n",
       "    <tr>\n",
       "      <th>h2_difference</th>\n",
       "      <td>0.660823</td>\n",
       "      <td>0.948562</td>\n",
       "      <td>0.959629</td>\n",
       "      <td>0.964785</td>\n",
       "      <td>0.976538</td>\n",
       "      <td>0.673052</td>\n",
       "      <td>0.903456</td>\n",
       "      <td>0.795469</td>\n",
       "      <td>1.000000</td>\n",
       "      <td>0.958570</td>\n",
       "      <td>0.903456</td>\n",
       "      <td>0.989320</td>\n",
       "      <td>0.964785</td>\n",
       "      <td>0.272590</td>\n",
       "      <td>0.251373</td>\n",
       "      <td>0.497443</td>\n",
       "      <td>0.476248</td>\n",
       "      <td>0.045925</td>\n",
       "      <td>0.488030</td>\n",
       "      <td>-0.556944</td>\n",
       "    </tr>\n",
       "    <tr>\n",
       "      <th>length_difference</th>\n",
       "      <td>0.684829</td>\n",
       "      <td>0.989310</td>\n",
       "      <td>0.999009</td>\n",
       "      <td>0.986719</td>\n",
       "      <td>0.946426</td>\n",
       "      <td>0.738089</td>\n",
       "      <td>0.960847</td>\n",
       "      <td>0.790847</td>\n",
       "      <td>0.958570</td>\n",
       "      <td>1.000000</td>\n",
       "      <td>0.960848</td>\n",
       "      <td>0.960243</td>\n",
       "      <td>0.986719</td>\n",
       "      <td>0.280657</td>\n",
       "      <td>0.262551</td>\n",
       "      <td>0.524267</td>\n",
       "      <td>0.497434</td>\n",
       "      <td>0.046535</td>\n",
       "      <td>0.510932</td>\n",
       "      <td>-0.564794</td>\n",
       "    </tr>\n",
       "    <tr>\n",
       "      <th>time_difference</th>\n",
       "      <td>0.660445</td>\n",
       "      <td>0.954218</td>\n",
       "      <td>0.960643</td>\n",
       "      <td>0.949390</td>\n",
       "      <td>0.911902</td>\n",
       "      <td>0.759773</td>\n",
       "      <td>1.000000</td>\n",
       "      <td>0.794450</td>\n",
       "      <td>0.903456</td>\n",
       "      <td>0.960848</td>\n",
       "      <td>1.000000</td>\n",
       "      <td>0.921827</td>\n",
       "      <td>0.949390</td>\n",
       "      <td>0.274757</td>\n",
       "      <td>0.258183</td>\n",
       "      <td>0.507356</td>\n",
       "      <td>0.482334</td>\n",
       "      <td>0.045968</td>\n",
       "      <td>0.494462</td>\n",
       "      <td>-0.528719</td>\n",
       "    </tr>\n",
       "    <tr>\n",
       "      <th>vocabulary_difference</th>\n",
       "      <td>0.664825</td>\n",
       "      <td>0.952942</td>\n",
       "      <td>0.961117</td>\n",
       "      <td>0.969694</td>\n",
       "      <td>0.981536</td>\n",
       "      <td>0.714902</td>\n",
       "      <td>0.921827</td>\n",
       "      <td>0.838393</td>\n",
       "      <td>0.989320</td>\n",
       "      <td>0.960243</td>\n",
       "      <td>0.921827</td>\n",
       "      <td>1.000000</td>\n",
       "      <td>0.969694</td>\n",
       "      <td>0.275217</td>\n",
       "      <td>0.254177</td>\n",
       "      <td>0.503267</td>\n",
       "      <td>0.480728</td>\n",
       "      <td>0.046207</td>\n",
       "      <td>0.492997</td>\n",
       "      <td>-0.561597</td>\n",
       "    </tr>\n",
       "    <tr>\n",
       "      <th>volume_difference</th>\n",
       "      <td>0.674300</td>\n",
       "      <td>0.975576</td>\n",
       "      <td>0.986612</td>\n",
       "      <td>1.000000</td>\n",
       "      <td>0.964964</td>\n",
       "      <td>0.706710</td>\n",
       "      <td>0.949390</td>\n",
       "      <td>0.780427</td>\n",
       "      <td>0.964785</td>\n",
       "      <td>0.986719</td>\n",
       "      <td>0.949390</td>\n",
       "      <td>0.969694</td>\n",
       "      <td>1.000000</td>\n",
       "      <td>0.277637</td>\n",
       "      <td>0.260499</td>\n",
       "      <td>0.515674</td>\n",
       "      <td>0.490815</td>\n",
       "      <td>0.044598</td>\n",
       "      <td>0.503658</td>\n",
       "      <td>-0.553950</td>\n",
       "    </tr>\n",
       "    <tr>\n",
       "      <th>blank_difference</th>\n",
       "      <td>0.322101</td>\n",
       "      <td>0.285492</td>\n",
       "      <td>0.279345</td>\n",
       "      <td>0.277637</td>\n",
       "      <td>0.270150</td>\n",
       "      <td>0.231544</td>\n",
       "      <td>0.274756</td>\n",
       "      <td>0.252140</td>\n",
       "      <td>0.272590</td>\n",
       "      <td>0.280657</td>\n",
       "      <td>0.274757</td>\n",
       "      <td>0.275217</td>\n",
       "      <td>0.277637</td>\n",
       "      <td>1.000000</td>\n",
       "      <td>0.290597</td>\n",
       "      <td>0.404299</td>\n",
       "      <td>0.516836</td>\n",
       "      <td>0.203592</td>\n",
       "      <td>0.379033</td>\n",
       "      <td>-0.180765</td>\n",
       "    </tr>\n",
       "    <tr>\n",
       "      <th>single_comments_difference</th>\n",
       "      <td>0.308989</td>\n",
       "      <td>0.265362</td>\n",
       "      <td>0.261782</td>\n",
       "      <td>0.260499</td>\n",
       "      <td>0.254118</td>\n",
       "      <td>0.207632</td>\n",
       "      <td>0.258183</td>\n",
       "      <td>0.224536</td>\n",
       "      <td>0.251373</td>\n",
       "      <td>0.262551</td>\n",
       "      <td>0.258183</td>\n",
       "      <td>0.254177</td>\n",
       "      <td>0.260499</td>\n",
       "      <td>0.290597</td>\n",
       "      <td>1.000000</td>\n",
       "      <td>0.344849</td>\n",
       "      <td>0.457892</td>\n",
       "      <td>0.007047</td>\n",
       "      <td>0.319788</td>\n",
       "      <td>0.155493</td>\n",
       "    </tr>\n",
       "    <tr>\n",
       "      <th>lloc_difference</th>\n",
       "      <td>0.721770</td>\n",
       "      <td>0.530398</td>\n",
       "      <td>0.522916</td>\n",
       "      <td>0.515673</td>\n",
       "      <td>0.491033</td>\n",
       "      <td>0.418980</td>\n",
       "      <td>0.507356</td>\n",
       "      <td>0.438953</td>\n",
       "      <td>0.497443</td>\n",
       "      <td>0.524267</td>\n",
       "      <td>0.507356</td>\n",
       "      <td>0.503267</td>\n",
       "      <td>0.515674</td>\n",
       "      <td>0.404299</td>\n",
       "      <td>0.344849</td>\n",
       "      <td>1.000000</td>\n",
       "      <td>0.837014</td>\n",
       "      <td>0.071811</td>\n",
       "      <td>0.882711</td>\n",
       "      <td>-0.533827</td>\n",
       "    </tr>\n",
       "    <tr>\n",
       "      <th>loc_difference</th>\n",
       "      <td>0.655669</td>\n",
       "      <td>0.501587</td>\n",
       "      <td>0.496294</td>\n",
       "      <td>0.490814</td>\n",
       "      <td>0.470116</td>\n",
       "      <td>0.391640</td>\n",
       "      <td>0.482334</td>\n",
       "      <td>0.416136</td>\n",
       "      <td>0.476248</td>\n",
       "      <td>0.497434</td>\n",
       "      <td>0.482334</td>\n",
       "      <td>0.480728</td>\n",
       "      <td>0.490815</td>\n",
       "      <td>0.516836</td>\n",
       "      <td>0.457892</td>\n",
       "      <td>0.837014</td>\n",
       "      <td>1.000000</td>\n",
       "      <td>0.243659</td>\n",
       "      <td>0.925765</td>\n",
       "      <td>-0.435854</td>\n",
       "    </tr>\n",
       "    <tr>\n",
       "      <th>multi_difference</th>\n",
       "      <td>0.055334</td>\n",
       "      <td>0.044802</td>\n",
       "      <td>0.046153</td>\n",
       "      <td>0.044598</td>\n",
       "      <td>0.042555</td>\n",
       "      <td>0.044666</td>\n",
       "      <td>0.045969</td>\n",
       "      <td>0.048542</td>\n",
       "      <td>0.045925</td>\n",
       "      <td>0.046535</td>\n",
       "      <td>0.045968</td>\n",
       "      <td>0.046207</td>\n",
       "      <td>0.044598</td>\n",
       "      <td>0.203592</td>\n",
       "      <td>0.007047</td>\n",
       "      <td>0.071811</td>\n",
       "      <td>0.243659</td>\n",
       "      <td>1.000000</td>\n",
       "      <td>0.062707</td>\n",
       "      <td>-0.058408</td>\n",
       "    </tr>\n",
       "    <tr>\n",
       "      <th>sloc_difference</th>\n",
       "      <td>0.687680</td>\n",
       "      <td>0.515189</td>\n",
       "      <td>0.510124</td>\n",
       "      <td>0.503657</td>\n",
       "      <td>0.481271</td>\n",
       "      <td>0.402365</td>\n",
       "      <td>0.494462</td>\n",
       "      <td>0.425752</td>\n",
       "      <td>0.488030</td>\n",
       "      <td>0.510932</td>\n",
       "      <td>0.494462</td>\n",
       "      <td>0.492997</td>\n",
       "      <td>0.503658</td>\n",
       "      <td>0.379033</td>\n",
       "      <td>0.319788</td>\n",
       "      <td>0.882711</td>\n",
       "      <td>0.925765</td>\n",
       "      <td>0.062707</td>\n",
       "      <td>1.000000</td>\n",
       "      <td>-0.524129</td>\n",
       "    </tr>\n",
       "    <tr>\n",
       "      <th>MI_difference</th>\n",
       "      <td>-0.526472</td>\n",
       "      <td>-0.562866</td>\n",
       "      <td>-0.564231</td>\n",
       "      <td>-0.553950</td>\n",
       "      <td>-0.529782</td>\n",
       "      <td>-0.461775</td>\n",
       "      <td>-0.528719</td>\n",
       "      <td>-0.499784</td>\n",
       "      <td>-0.556944</td>\n",
       "      <td>-0.564794</td>\n",
       "      <td>-0.528719</td>\n",
       "      <td>-0.561597</td>\n",
       "      <td>-0.553950</td>\n",
       "      <td>-0.180765</td>\n",
       "      <td>0.155493</td>\n",
       "      <td>-0.533827</td>\n",
       "      <td>-0.435854</td>\n",
       "      <td>-0.058408</td>\n",
       "      <td>-0.524129</td>\n",
       "      <td>1.000000</td>\n",
       "    </tr>\n",
       "  </tbody>\n",
       "</table>\n",
       "</div>"
      ],
      "text/plain": [
       "                              cc_difference  N1_difference  N2_difference  \\\n",
       "cc_difference                      1.000000       0.684747       0.684048   \n",
       "N1_difference                      0.684747       1.000000       0.986759   \n",
       "N2_difference                      0.684048       0.986759       1.000000   \n",
       "bugs_difference                    0.674299       0.975576       0.986612   \n",
       "calculated_length_difference       0.650819       0.935395       0.947644   \n",
       "difficulty_difference              0.526455       0.745681       0.737475   \n",
       "effort_difference                  0.660445       0.954218       0.960643   \n",
       "h1_difference                      0.566840       0.797046       0.790351   \n",
       "h2_difference                      0.660823       0.948562       0.959629   \n",
       "length_difference                  0.684829       0.989310       0.999009   \n",
       "time_difference                    0.660445       0.954218       0.960643   \n",
       "vocabulary_difference              0.664825       0.952942       0.961117   \n",
       "volume_difference                  0.674300       0.975576       0.986612   \n",
       "blank_difference                   0.322101       0.285492       0.279345   \n",
       "single_comments_difference         0.308989       0.265362       0.261782   \n",
       "lloc_difference                    0.721770       0.530398       0.522916   \n",
       "loc_difference                     0.655669       0.501587       0.496294   \n",
       "multi_difference                   0.055334       0.044802       0.046153   \n",
       "sloc_difference                    0.687680       0.515189       0.510124   \n",
       "MI_difference                     -0.526472      -0.562866      -0.564231   \n",
       "\n",
       "                              bugs_difference  calculated_length_difference  \\\n",
       "cc_difference                        0.674299                      0.650819   \n",
       "N1_difference                        0.975576                      0.935395   \n",
       "N2_difference                        0.986612                      0.947644   \n",
       "bugs_difference                      1.000000                      0.964964   \n",
       "calculated_length_difference         0.964964                      1.000000   \n",
       "difficulty_difference                0.706710                      0.664079   \n",
       "effort_difference                    0.949390                      0.911902   \n",
       "h1_difference                        0.780428                      0.782800   \n",
       "h2_difference                        0.964785                      0.976538   \n",
       "length_difference                    0.986719                      0.946426   \n",
       "time_difference                      0.949390                      0.911902   \n",
       "vocabulary_difference                0.969694                      0.981536   \n",
       "volume_difference                    1.000000                      0.964964   \n",
       "blank_difference                     0.277637                      0.270150   \n",
       "single_comments_difference           0.260499                      0.254118   \n",
       "lloc_difference                      0.515673                      0.491033   \n",
       "loc_difference                       0.490814                      0.470116   \n",
       "multi_difference                     0.044598                      0.042555   \n",
       "sloc_difference                      0.503657                      0.481271   \n",
       "MI_difference                       -0.553950                     -0.529782   \n",
       "\n",
       "                              difficulty_difference  effort_difference  \\\n",
       "cc_difference                              0.526455           0.660445   \n",
       "N1_difference                              0.745681           0.954218   \n",
       "N2_difference                              0.737475           0.960643   \n",
       "bugs_difference                            0.706710           0.949390   \n",
       "calculated_length_difference               0.664079           0.911902   \n",
       "difficulty_difference                      1.000000           0.759773   \n",
       "effort_difference                          0.759773           1.000000   \n",
       "h1_difference                              0.875672           0.794450   \n",
       "h2_difference                              0.673052           0.903456   \n",
       "length_difference                          0.738089           0.960847   \n",
       "time_difference                            0.759773           1.000000   \n",
       "vocabulary_difference                      0.714902           0.921827   \n",
       "volume_difference                          0.706710           0.949390   \n",
       "blank_difference                           0.231544           0.274756   \n",
       "single_comments_difference                 0.207632           0.258183   \n",
       "lloc_difference                            0.418980           0.507356   \n",
       "loc_difference                             0.391640           0.482334   \n",
       "multi_difference                           0.044666           0.045969   \n",
       "sloc_difference                            0.402365           0.494462   \n",
       "MI_difference                             -0.461775          -0.528719   \n",
       "\n",
       "                              h1_difference  h2_difference  length_difference  \\\n",
       "cc_difference                      0.566840       0.660823           0.684829   \n",
       "N1_difference                      0.797046       0.948562           0.989310   \n",
       "N2_difference                      0.790351       0.959629           0.999009   \n",
       "bugs_difference                    0.780428       0.964785           0.986719   \n",
       "calculated_length_difference       0.782800       0.976538           0.946426   \n",
       "difficulty_difference              0.875672       0.673052           0.738089   \n",
       "effort_difference                  0.794450       0.903456           0.960847   \n",
       "h1_difference                      1.000000       0.795469           0.790847   \n",
       "h2_difference                      0.795469       1.000000           0.958570   \n",
       "length_difference                  0.790847       0.958570           1.000000   \n",
       "time_difference                    0.794450       0.903456           0.960848   \n",
       "vocabulary_difference              0.838393       0.989320           0.960243   \n",
       "volume_difference                  0.780427       0.964785           0.986719   \n",
       "blank_difference                   0.252140       0.272590           0.280657   \n",
       "single_comments_difference         0.224536       0.251373           0.262551   \n",
       "lloc_difference                    0.438953       0.497443           0.524267   \n",
       "loc_difference                     0.416136       0.476248           0.497434   \n",
       "multi_difference                   0.048542       0.045925           0.046535   \n",
       "sloc_difference                    0.425752       0.488030           0.510932   \n",
       "MI_difference                     -0.499784      -0.556944          -0.564794   \n",
       "\n",
       "                              time_difference  vocabulary_difference  \\\n",
       "cc_difference                        0.660445               0.664825   \n",
       "N1_difference                        0.954218               0.952942   \n",
       "N2_difference                        0.960643               0.961117   \n",
       "bugs_difference                      0.949390               0.969694   \n",
       "calculated_length_difference         0.911902               0.981536   \n",
       "difficulty_difference                0.759773               0.714902   \n",
       "effort_difference                    1.000000               0.921827   \n",
       "h1_difference                        0.794450               0.838393   \n",
       "h2_difference                        0.903456               0.989320   \n",
       "length_difference                    0.960848               0.960243   \n",
       "time_difference                      1.000000               0.921827   \n",
       "vocabulary_difference                0.921827               1.000000   \n",
       "volume_difference                    0.949390               0.969694   \n",
       "blank_difference                     0.274757               0.275217   \n",
       "single_comments_difference           0.258183               0.254177   \n",
       "lloc_difference                      0.507356               0.503267   \n",
       "loc_difference                       0.482334               0.480728   \n",
       "multi_difference                     0.045968               0.046207   \n",
       "sloc_difference                      0.494462               0.492997   \n",
       "MI_difference                       -0.528719              -0.561597   \n",
       "\n",
       "                              volume_difference  blank_difference  \\\n",
       "cc_difference                          0.674300          0.322101   \n",
       "N1_difference                          0.975576          0.285492   \n",
       "N2_difference                          0.986612          0.279345   \n",
       "bugs_difference                        1.000000          0.277637   \n",
       "calculated_length_difference           0.964964          0.270150   \n",
       "difficulty_difference                  0.706710          0.231544   \n",
       "effort_difference                      0.949390          0.274756   \n",
       "h1_difference                          0.780427          0.252140   \n",
       "h2_difference                          0.964785          0.272590   \n",
       "length_difference                      0.986719          0.280657   \n",
       "time_difference                        0.949390          0.274757   \n",
       "vocabulary_difference                  0.969694          0.275217   \n",
       "volume_difference                      1.000000          0.277637   \n",
       "blank_difference                       0.277637          1.000000   \n",
       "single_comments_difference             0.260499          0.290597   \n",
       "lloc_difference                        0.515674          0.404299   \n",
       "loc_difference                         0.490815          0.516836   \n",
       "multi_difference                       0.044598          0.203592   \n",
       "sloc_difference                        0.503658          0.379033   \n",
       "MI_difference                         -0.553950         -0.180765   \n",
       "\n",
       "                              single_comments_difference  lloc_difference  \\\n",
       "cc_difference                                   0.308989         0.721770   \n",
       "N1_difference                                   0.265362         0.530398   \n",
       "N2_difference                                   0.261782         0.522916   \n",
       "bugs_difference                                 0.260499         0.515673   \n",
       "calculated_length_difference                    0.254118         0.491033   \n",
       "difficulty_difference                           0.207632         0.418980   \n",
       "effort_difference                               0.258183         0.507356   \n",
       "h1_difference                                   0.224536         0.438953   \n",
       "h2_difference                                   0.251373         0.497443   \n",
       "length_difference                               0.262551         0.524267   \n",
       "time_difference                                 0.258183         0.507356   \n",
       "vocabulary_difference                           0.254177         0.503267   \n",
       "volume_difference                               0.260499         0.515674   \n",
       "blank_difference                                0.290597         0.404299   \n",
       "single_comments_difference                      1.000000         0.344849   \n",
       "lloc_difference                                 0.344849         1.000000   \n",
       "loc_difference                                  0.457892         0.837014   \n",
       "multi_difference                                0.007047         0.071811   \n",
       "sloc_difference                                 0.319788         0.882711   \n",
       "MI_difference                                   0.155493        -0.533827   \n",
       "\n",
       "                              loc_difference  multi_difference  \\\n",
       "cc_difference                       0.655669          0.055334   \n",
       "N1_difference                       0.501587          0.044802   \n",
       "N2_difference                       0.496294          0.046153   \n",
       "bugs_difference                     0.490814          0.044598   \n",
       "calculated_length_difference        0.470116          0.042555   \n",
       "difficulty_difference               0.391640          0.044666   \n",
       "effort_difference                   0.482334          0.045969   \n",
       "h1_difference                       0.416136          0.048542   \n",
       "h2_difference                       0.476248          0.045925   \n",
       "length_difference                   0.497434          0.046535   \n",
       "time_difference                     0.482334          0.045968   \n",
       "vocabulary_difference               0.480728          0.046207   \n",
       "volume_difference                   0.490815          0.044598   \n",
       "blank_difference                    0.516836          0.203592   \n",
       "single_comments_difference          0.457892          0.007047   \n",
       "lloc_difference                     0.837014          0.071811   \n",
       "loc_difference                      1.000000          0.243659   \n",
       "multi_difference                    0.243659          1.000000   \n",
       "sloc_difference                     0.925765          0.062707   \n",
       "MI_difference                      -0.435854         -0.058408   \n",
       "\n",
       "                              sloc_difference  MI_difference  \n",
       "cc_difference                        0.687680      -0.526472  \n",
       "N1_difference                        0.515189      -0.562866  \n",
       "N2_difference                        0.510124      -0.564231  \n",
       "bugs_difference                      0.503657      -0.553950  \n",
       "calculated_length_difference         0.481271      -0.529782  \n",
       "difficulty_difference                0.402365      -0.461775  \n",
       "effort_difference                    0.494462      -0.528719  \n",
       "h1_difference                        0.425752      -0.499784  \n",
       "h2_difference                        0.488030      -0.556944  \n",
       "length_difference                    0.510932      -0.564794  \n",
       "time_difference                      0.494462      -0.528719  \n",
       "vocabulary_difference                0.492997      -0.561597  \n",
       "volume_difference                    0.503658      -0.553950  \n",
       "blank_difference                     0.379033      -0.180765  \n",
       "single_comments_difference           0.319788       0.155493  \n",
       "lloc_difference                      0.882711      -0.533827  \n",
       "loc_difference                       0.925765      -0.435854  \n",
       "multi_difference                     0.062707      -0.058408  \n",
       "sloc_difference                      1.000000      -0.524129  \n",
       "MI_difference                       -0.524129       1.000000  "
      ]
     },
     "execution_count": 126,
     "metadata": {},
     "output_type": "execute_result"
    }
   ],
   "source": [
    "source_code_data[[metric_name + '_difference' for metric_name in metrics_names]].corr(method='spearman')"
   ]
  }
 ],
 "metadata": {
  "kernelspec": {
   "display_name": "Python 3",
   "language": "python",
   "name": "python3"
  },
  "language_info": {
   "codemirror_mode": {
    "name": "ipython",
    "version": 3
   },
   "file_extension": ".py",
   "mimetype": "text/x-python",
   "name": "python",
   "nbconvert_exporter": "python",
   "pygments_lexer": "ipython3",
   "version": "3.8.5"
  }
 },
 "nbformat": 4,
 "nbformat_minor": 5
}
