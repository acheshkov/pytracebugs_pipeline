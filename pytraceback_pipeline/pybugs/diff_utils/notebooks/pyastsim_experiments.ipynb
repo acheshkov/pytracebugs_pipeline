{
 "cells": [
  {
   "cell_type": "code",
   "execution_count": 28,
   "metadata": {},
   "outputs": [],
   "source": [
    "import re\n",
    "import itertools\n",
    "\n",
    "import difflib\n",
    "import numpy as np\n",
    "import pandas as pd\n",
    "from tqdm.auto import tqdm\n",
    "import matplotlib.pyplot as plt"
   ]
  },
  {
   "cell_type": "markdown",
   "metadata": {},
   "source": [
    "### Загрузим датафрейм, который содержит версии функций до и после изменений"
   ]
  },
  {
   "cell_type": "code",
   "execution_count": 3,
   "metadata": {},
   "outputs": [
    {
     "data": {
      "text/plain": [
       "(2529, 11)"
      ]
     },
     "execution_count": 3,
     "metadata": {},
     "output_type": "execute_result"
    }
   ],
   "source": [
    "data = pd.read_csv('scikit-learn_issues_functions_versions_newest.tsv', sep='\\t')\n",
    "data.shape"
   ]
  },
  {
   "cell_type": "markdown",
   "metadata": {},
   "source": [
    "### Создадим фукнцию, на основе кода из pyastsim, которая будет считать получать normed_content из текста (а не из файла, как сделано в pyastsim)"
   ]
  },
  {
   "cell_type": "code",
   "execution_count": 4,
   "metadata": {},
   "outputs": [],
   "source": [
    "from ast import parse\n",
    "import astunparse\n",
    "from pyastsim.pyastsim import NormFunctions, NormIdentifiers\n",
    "from pyastsim.pyastsim import get_pair_stats\n",
    "\n",
    "\n",
    "def get_normed_content_for_src(filename, src, func=None):\n",
    "    tree = parse(src)\n",
    "\n",
    "    tree = NormFunctions(func=func).visit(tree)\n",
    "    tree = NormIdentifiers().visit(tree)\n",
    "\n",
    "    return (filename, astunparse.unparse(tree))"
   ]
  },
  {
   "cell_type": "markdown",
   "metadata": {},
   "source": [
    "### Почистим фукнции от комментариев и докстрингов"
   ]
  },
  {
   "cell_type": "code",
   "execution_count": 6,
   "metadata": {},
   "outputs": [],
   "source": [
    "def remove_comments(code):\n",
    "    lines = code.split('\\n')\n",
    "    return '\\n'.join([line for line in lines if not line.strip().startswith('#')])"
   ]
  },
  {
   "cell_type": "code",
   "execution_count": 7,
   "metadata": {},
   "outputs": [],
   "source": [
    "signature_body_regex = r'\\b(def [\\s\\S]+?)\\s+[\\\"\\']{3}[\\s\\S]+[\\\"\\']{3}\\n*(\\n.+)'"
   ]
  },
  {
   "cell_type": "code",
   "execution_count": 12,
   "metadata": {},
   "outputs": [],
   "source": [
    "data['before_merge_clean'] = data['before_merge'] \\\n",
    "    .apply(lambda x: remove_comments(re.sub(signature_body_regex, r'\\1\\2', x)))"
   ]
  },
  {
   "cell_type": "code",
   "execution_count": 13,
   "metadata": {},
   "outputs": [],
   "source": [
    "data['after_merge_clean'] = data['after_merge'] \\\n",
    "    .apply(lambda x: remove_comments(re.sub(signature_body_regex, r'\\1\\2', x)))"
   ]
  },
  {
   "cell_type": "code",
   "execution_count": 19,
   "metadata": {},
   "outputs": [
    {
     "data": {
      "text/plain": [
       "2529"
      ]
     },
     "execution_count": 19,
     "metadata": {},
     "output_type": "execute_result"
    }
   ],
   "source": [
    "func_sources = data[['before_merge_clean', 'after_merge_clean', 'function_name']].values\n",
    "len(func_sources)"
   ]
  },
  {
   "cell_type": "markdown",
   "metadata": {},
   "source": [
    "### Удалим лишние отступы"
   ]
  },
  {
   "cell_type": "code",
   "execution_count": 21,
   "metadata": {},
   "outputs": [],
   "source": [
    "for func_index, (fs1, fs2, func_name) in enumerate(func_sources):\n",
    "    for version_index, fs in enumerate([fs1, fs2]):\n",
    "        fs_lines = fs.split('\\n')\n",
    "        indent = len(fs_lines[0]) - len(fs_lines[0].lstrip())\n",
    "\n",
    "        func_sources[func_index][version_index] = '\\n'.join([fs_line[indent:] for fs_line in fs_lines])"
   ]
  },
  {
   "cell_type": "code",
   "execution_count": 22,
   "metadata": {
    "scrolled": true
   },
   "outputs": [
    {
     "name": "stdout",
     "output_type": "stream",
     "text": [
      "def fit(self, X, y):\n",
      "    if self.metric == 'precomputed':\n",
      "        raise ValueError(\"Precomputed is not supported.\")\n",
      "    if self.metric == 'manhattan':\n",
      "        X, y = self._validate_data(X, y, accept_sparse=['csc'])\n",
      "    else:\n",
      "        X, y = self._validate_data(X, y, accept_sparse=['csr', 'csc'])\n",
      "    is_X_sparse = sp.issparse(X)\n",
      "    if is_X_sparse and self.shrink_threshold:\n",
      "        raise ValueError(\"threshold shrinking not supported\"\n",
      "                         \" for sparse input\")\n",
      "    check_classification_targets(y)\n",
      "\n",
      "    n_samples, n_features = X.shape\n",
      "    le = LabelEncoder()\n",
      "    y_ind = le.fit_transform(y)\n",
      "    self.classes_ = classes = le.classes_\n",
      "    n_classes = classes.size\n",
      "    if n_classes < 2:\n",
      "        raise ValueError('The number of classes has to be greater than'\n",
      "                         ' one; got %d class' % (n_classes))\n",
      "\n",
      "    self.centroids_ = np.empty((n_classes, n_features), dtype=np.float64)\n",
      "    nk = np.zeros(n_classes)\n",
      "\n",
      "    for cur_class in range(n_classes):\n",
      "        center_mask = y_ind == cur_class\n",
      "        nk[cur_class] = np.sum(center_mask)\n",
      "        if is_X_sparse:\n",
      "            center_mask = np.where(center_mask)[0]\n",
      "\n",
      "        if self.metric == \"manhattan\":\n",
      "            if not is_X_sparse:\n",
      "                self.centroids_[cur_class] = np.median(X[center_mask], axis=0)\n",
      "            else:\n",
      "                self.centroids_[cur_class] = csc_median_axis_0(X[center_mask])\n",
      "        else:\n",
      "            if self.metric != 'euclidean':\n",
      "                warnings.warn(\"Averaging for metrics other than \"\n",
      "                              \"euclidean and manhattan not supported. \"\n",
      "                              \"The average is set to be the mean.\"\n",
      "                              )\n",
      "            self.centroids_[cur_class] = X[center_mask].mean(axis=0)\n",
      "\n",
      "    if self.shrink_threshold:\n",
      "        dataset_centroid_ = np.mean(X, axis=0)\n",
      "\n",
      "        m = np.sqrt((1. / nk) - (1. / n_samples))\n",
      "        variance = (X - self.centroids_[y_ind]) ** 2\n",
      "        variance = variance.sum(axis=0)\n",
      "        s = np.sqrt(variance / (n_samples - n_classes))\n",
      "        s += np.median(s)  # To deter outliers from affecting the results.\n",
      "        mm = m.reshape(len(m), 1)  # Reshape to allow broadcasting.\n",
      "        ms = mm * s\n",
      "        deviation = ((self.centroids_ - dataset_centroid_) / ms)\n",
      "        signs = np.sign(deviation)\n",
      "        deviation = (np.abs(deviation) - self.shrink_threshold)\n",
      "        np.clip(deviation, 0, None, out=deviation)\n",
      "        deviation *= signs\n",
      "        msd = ms * deviation\n",
      "        self.centroids_ = dataset_centroid_[np.newaxis, :] + msd\n",
      "    return self\n",
      "\n",
      "def fit(self, X, y):\n",
      "    if self.metric == 'precomputed':\n",
      "        raise ValueError(\"Precomputed is not supported.\")\n",
      "    if self.metric == 'manhattan':\n",
      "        X, y = self._validate_data(X, y, accept_sparse=['csc'])\n",
      "    else:\n",
      "        X, y = self._validate_data(X, y, accept_sparse=['csr', 'csc'])\n",
      "    is_X_sparse = sp.issparse(X)\n",
      "    if is_X_sparse and self.shrink_threshold:\n",
      "        raise ValueError(\"threshold shrinking not supported\"\n",
      "                         \" for sparse input\")\n",
      "    check_classification_targets(y)\n",
      "\n",
      "    n_samples, n_features = X.shape\n",
      "    le = LabelEncoder()\n",
      "    y_ind = le.fit_transform(y)\n",
      "    self.classes_ = classes = le.classes_\n",
      "    n_classes = classes.size\n",
      "    if n_classes < 2:\n",
      "        raise ValueError('The number of classes has to be greater than'\n",
      "                         ' one; got %d class' % (n_classes))\n",
      "\n",
      "    self.centroids_ = np.empty((n_classes, n_features), dtype=np.float64)\n",
      "    nk = np.zeros(n_classes)\n",
      "\n",
      "    for cur_class in range(n_classes):\n",
      "        center_mask = y_ind == cur_class\n",
      "        nk[cur_class] = np.sum(center_mask)\n",
      "        if is_X_sparse:\n",
      "            center_mask = np.where(center_mask)[0]\n",
      "\n",
      "        if self.metric == \"manhattan\":\n",
      "            if not is_X_sparse:\n",
      "                self.centroids_[cur_class] = np.median(X[center_mask], axis=0)\n",
      "            else:\n",
      "                self.centroids_[cur_class] = csc_median_axis_0(X[center_mask])\n",
      "        else:\n",
      "            if self.metric != 'euclidean':\n",
      "                warnings.warn(\"Averaging for metrics other than \"\n",
      "                              \"euclidean and manhattan not supported. \"\n",
      "                              \"The average is set to be the mean.\"\n",
      "                              )\n",
      "            self.centroids_[cur_class] = X[center_mask].mean(axis=0)\n",
      "\n",
      "    if self.shrink_threshold:\n",
      "        if np.all(np.ptp(X, axis=0) == 0):\n",
      "            raise ValueError(\"All features have zero variance. \"\n",
      "                             \"Division by zero.\")\n",
      "        dataset_centroid_ = np.mean(X, axis=0)\n",
      "\n",
      "        m = np.sqrt((1. / nk) - (1. / n_samples))\n",
      "        variance = (X - self.centroids_[y_ind]) ** 2\n",
      "        variance = variance.sum(axis=0)\n",
      "        s = np.sqrt(variance / (n_samples - n_classes))\n",
      "        s += np.median(s)  # To deter outliers from affecting the results.\n",
      "        mm = m.reshape(len(m), 1)  # Reshape to allow broadcasting.\n",
      "        ms = mm * s\n",
      "        deviation = ((self.centroids_ - dataset_centroid_) / ms)\n",
      "        signs = np.sign(deviation)\n",
      "        deviation = (np.abs(deviation) - self.shrink_threshold)\n",
      "        np.clip(deviation, 0, None, out=deviation)\n",
      "        deviation *= signs\n",
      "        msd = ms * deviation\n",
      "        self.centroids_ = dataset_centroid_[np.newaxis, :] + msd\n",
      "    return self\n",
      "\n"
     ]
    }
   ],
   "source": [
    "print(func_sources[0][0])\n",
    "print(func_sources[0][1])"
   ]
  },
  {
   "cell_type": "code",
   "execution_count": 25,
   "metadata": {},
   "outputs": [],
   "source": [
    "data['similarity'] = np.nan\n",
    "data['distance'] = np.nan"
   ]
  },
  {
   "cell_type": "code",
   "execution_count": 26,
   "metadata": {},
   "outputs": [
    {
     "data": {
      "application/vnd.jupyter.widget-view+json": {
       "model_id": "7ca0738dcf5148798392b919813fb4e9",
       "version_major": 2,
       "version_minor": 0
      },
      "text/plain": [
       "HBox(children=(IntProgress(value=0, max=2529), HTML(value='')))"
      ]
     },
     "metadata": {},
     "output_type": "display_data"
    },
    {
     "name": "stdout",
     "output_type": "stream",
     "text": [
      "Error in func check_transformer_preserve_dtypes, index: 61, error: unexpected EOF while parsing (<unknown>, line 23)\n",
      "Error in func _argmax, index: 661, error: invalid syntax (<unknown>, line 3)\n",
      "Error in func _argmax, index: 662, error: invalid syntax (<unknown>, line 3)\n",
      "Error in func _get_column_indices, index: 924, error: unexpected EOF while parsing (<unknown>, line 38)\n",
      "Error in func _get_column_indices, index: 925, error: unexpected EOF while parsing (<unknown>, line 38)\n",
      "Error in func _object_dtype_isnan, index: 938, error: invalid syntax (<unknown>, line 3)\n",
      "Error in func _get_column_indices, index: 1197, error: unexpected EOF while parsing (<unknown>, line 41)\n",
      "Error in func _get_column_indices, index: 1205, error: unexpected EOF while parsing (<unknown>, line 41)\n",
      "Error in func CloudPickler.dump, index: 1253, error: invalid syntax (<unknown>, line 7)\n",
      "Error in func CloudPickler.dump, index: 1308, error: invalid syntax (<unknown>, line 7)\n",
      "Error in func concurrency_safe_rename, index: 1400, error: invalid syntax (<unknown>, line 18)\n",
      "Error in func Parallel.retrieve, index: 1440, error: EOF while scanning triple-quoted string literal (<unknown>, line 40)\n",
      "Error in func _solve_sparse_cg.create_mv, index: 1704, error: invalid syntax (<unknown>, line 5)\n",
      "Error in func _solve_sparse_cg.create_mv, index: 1706, error: invalid syntax (<unknown>, line 5)\n",
      "Error in func BaseSearchCV.fit, index: 1778, error: unindent does not match any outer indentation level (<unknown>, line 20)\n",
      "Error in func BaseSearchCV.fit, index: 1782, error: unindent does not match any outer indentation level (<unknown>, line 20)\n",
      "Error in func BaseSearchCV._fit, index: 1961, error: unindent does not match any outer indentation level (<unknown>, line 20)\n",
      "Error in func BaseSearchCV._fit, index: 1967, error: unindent does not match any outer indentation level (<unknown>, line 20)\n",
      "Error in func BaseSearchCV._fit, index: 2194, error: unindent does not match any outer indentation level (<unknown>, line 20)\n",
      "Error in func BaseSearchCV._fit, index: 2195, error: unindent does not match any outer indentation level (<unknown>, line 20)\n",
      "Error in func Parallel.dispatch_next, index: 2462, error: invalid syntax (<unknown>, line 2)\n",
      "Error in func Parallel.dispatch_next, index: 2469, error: invalid syntax (<unknown>, line 2)\n",
      "\n"
     ]
    }
   ],
   "source": [
    "for i, (fs1, fs2, func_name) in enumerate(tqdm(func_sources)):\n",
    "    try:\n",
    "        submissions = [get_normed_content_for_src(f'{func_name}_{i}', f) for i, f in enumerate([fs1, fs2])]\n",
    "\n",
    "        pairs = [get_pair_stats(pair) for pair in itertools.combinations(submissions, 2)]\n",
    "        pairs.sort(key=lambda a: -a[0])\n",
    "        for sim, dld, a, b in pairs:\n",
    "#             print(f\"Detected pair similarity of {int(sim)}% with edit distance of {dld} for {a[0]} and {b[0]}\\n\")\n",
    "            data.loc[i, 'similarity'] = int(sim)\n",
    "            data.loc[i, 'distance'] = dld\n",
    "    except SyntaxError as e:\n",
    "        print(f'Error in func {func_name}, index: {i}, error: {e}')"
   ]
  },
  {
   "cell_type": "code",
   "execution_count": 29,
   "metadata": {},
   "outputs": [
    {
     "data": {
      "text/plain": [
       "<matplotlib.axes._subplots.AxesSubplot at 0x7fb4964724a8>"
      ]
     },
     "execution_count": 29,
     "metadata": {},
     "output_type": "execute_result"
    },
    {
     "data": {
      "image/png": "[encoded data removed]",
      "text/plain": [
       "<Figure size 432x288 with 1 Axes>"
      ]
     },
     "metadata": {
      "needs_background": "light"
     },
     "output_type": "display_data"
    }
   ],
   "source": [
    "data.similarity.hist(bins=100)"
   ]
  },
  {
   "cell_type": "code",
   "execution_count": 30,
   "metadata": {},
   "outputs": [
    {
     "data": {
      "text/plain": [
       "(145, 15)"
      ]
     },
     "execution_count": 30,
     "metadata": {},
     "output_type": "execute_result"
    }
   ],
   "source": [
    "data[data['before_merge_clean'] == data['after_merge_clean']].shape"
   ]
  },
  {
   "cell_type": "code",
   "execution_count": 31,
   "metadata": {
    "scrolled": true
   },
   "outputs": [
    {
     "data": {
      "text/plain": [
       "(185, 15)"
      ]
     },
     "execution_count": 31,
     "metadata": {},
     "output_type": "execute_result"
    }
   ],
   "source": [
    "data[data['similarity'] == 100].shape"
   ]
  },
  {
   "cell_type": "code",
   "execution_count": 32,
   "metadata": {},
   "outputs": [],
   "source": [
    "simialrity_notnull_mask = (data['similarity'].notnull())\n",
    "similarity_100_mask = (data['similarity'] == 100)\n",
    "equals_code_mask = (data['before_merge_clean'] == data['after_merge_clean'])"
   ]
  },
  {
   "cell_type": "code",
   "execution_count": 33,
   "metadata": {},
   "outputs": [
    {
     "data": {
      "text/plain": [
       "(0, 11)"
      ]
     },
     "execution_count": 33,
     "metadata": {},
     "output_type": "execute_result"
    }
   ],
   "source": [
    "new[equals_code_mask & ~similarity_100_mask  & simialrity_notnull_mask].shape"
   ]
  },
  {
   "cell_type": "code",
   "execution_count": 34,
   "metadata": {},
   "outputs": [
    {
     "data": {
      "text/plain": [
       "(42, 11)"
      ]
     },
     "execution_count": 34,
     "metadata": {},
     "output_type": "execute_result"
    }
   ],
   "source": [
    "new[~equals_code_mask & similarity_100_mask & simialrity_notnull_mask].shape"
   ]
  },
  {
   "cell_type": "code",
   "execution_count": 36,
   "metadata": {},
   "outputs": [
    {
     "name": "stdout",
     "output_type": "stream",
     "text": [
      "    def _init_counters(self, n_effective_classes, n_features):\n",
      "        self.class_count_ = np.zeros(n_effective_classes, dtype=np.float64)\n",
      "        self.feature_count_ = np.zeros((n_effective_classes, n_features),\n",
      "                                       dtype=np.float64)\n",
      "\n"
     ]
    }
   ],
   "source": [
    "print(data[~equals_code_mask & similarity_100_mask & simialrity_notnull_mask].iloc[0]['before_merge_clean'])"
   ]
  },
  {
   "cell_type": "code",
   "execution_count": 37,
   "metadata": {},
   "outputs": [
    {
     "name": "stdout",
     "output_type": "stream",
     "text": [
      "    def _init_counters(self, n_classes, n_features):\n",
      "        self.class_count_ = np.zeros(n_classes, dtype=np.float64)\n",
      "        self.feature_count_ = np.zeros((n_classes, n_features),\n",
      "                                       dtype=np.float64)\n",
      "\n"
     ]
    }
   ],
   "source": [
    "print(data[~equals_code_mask & similarity_100_mask & simialrity_notnull_mask].iloc[0]['after_merge_clean'])"
   ]
  },
  {
   "cell_type": "markdown",
   "metadata": {},
   "source": [
    "### Посмотрим на синтетических примерах"
   ]
  },
  {
   "cell_type": "code",
   "execution_count": 40,
   "metadata": {},
   "outputs": [],
   "source": [
    "func_sources = [\n",
    "    [\n",
    "        'def a(b, c, d):\\n    x = b + c\\n    y = c + d\\n    z = x + y\\n    return z', \n",
    "        'def b(c, d, e):\\n    x = c + d\\n    y = d + e\\n    z = x + y\\n    return z',\n",
    "        'names_changed'\n",
    "    ],\n",
    "    [\n",
    "        'def a(b, c, d):\\n    y = c + d\\n    x = b + c\\n    z = x + y\\n    return z', \n",
    "        'def b(c, d, e):\\n    x = c + d\\n    y = d + e\\n    z = x + y\\n    return z',\n",
    "        'lines_order_changed'\n",
    "    ],\n",
    "    [\n",
    "        'def a(b, c, d):\\n    y = c + d\\n    x = b + c\\n    z = x + y\\n    return z', \n",
    "        'def b(c, d, e):\\n    x = c + d\\n    y = e + d\\n    z = x + y\\n    return z',\n",
    "        'lines_order_and_operation_arguments_changed'\n",
    "    ],\n",
    "    [\n",
    "        'def a(b, c, d):\\n    x = b + c\\n    y = c + d\\n    z = x + y\\n    return z', \n",
    "        'def b(c, d, e):\\n    x = c + d\\n    y = d + e\\n    z = x - y\\n    return z',\n",
    "        'operation_changed'\n",
    "    ]\n",
    "]"
   ]
  },
  {
   "cell_type": "code",
   "execution_count": 41,
   "metadata": {},
   "outputs": [
    {
     "data": {
      "application/vnd.jupyter.widget-view+json": {
       "model_id": "0f5882c5f6f9481ca8812dbcbd8358e7",
       "version_major": 2,
       "version_minor": 0
      },
      "text/plain": [
       "HBox(children=(IntProgress(value=0, max=4), HTML(value='')))"
      ]
     },
     "metadata": {},
     "output_type": "display_data"
    },
    {
     "name": "stdout",
     "output_type": "stream",
     "text": [
      "Detected pair similarity of 100% with edit distance of 0 for names_changed_0 and names_changed_1\n",
      "\n",
      "Detected pair similarity of 96% with edit distance of 4 for lines_order_changed_0 and lines_order_changed_1\n",
      "\n",
      "Detected pair similarity of 97% with edit distance of 3 for lines_order_and_operation_arguments_changed_0 and lines_order_and_operation_arguments_changed_1\n",
      "\n",
      "Detected pair similarity of 99% with edit distance of 1 for operation_changed_0 and operation_changed_1\n",
      "\n",
      "\n"
     ]
    }
   ],
   "source": [
    "for i, (fs1, fs2, func_name) in enumerate(tqdm(func_sources)):\n",
    "    try:\n",
    "        submissions = [get_normed_content_for_src(f'{func_name}_{i}', f) for i, f in enumerate([fs1, fs2])]\n",
    "\n",
    "        pairs = [get_pair_stats(pair) for pair in itertools.combinations(submissions, 2)]\n",
    "        pairs.sort(key=lambda a: -a[0])\n",
    "        for sim, dld, a, b in pairs:\n",
    "            print(f\"Detected pair similarity of {int(sim)}% with edit distance of {dld} for {a[0]} and {b[0]}\\n\")\n",
    "    except SyntaxError as e:\n",
    "        print(f'Error in func {func_name}, index: {i}, error: {e}')"
   ]
  }
 ],
 "metadata": {
  "kernelspec": {
   "display_name": "Python 3",
   "language": "python",
   "name": "python3"
  },
  "language_info": {
   "codemirror_mode": {
    "name": "ipython",
    "version": 3
   },
   "file_extension": ".py",
   "mimetype": "text/x-python",
   "name": "python",
   "nbconvert_exporter": "python",
   "pygments_lexer": "ipython3",
   "version": "3.7.3"
  }
 },
 "nbformat": 4,
 "nbformat_minor": 2
}
