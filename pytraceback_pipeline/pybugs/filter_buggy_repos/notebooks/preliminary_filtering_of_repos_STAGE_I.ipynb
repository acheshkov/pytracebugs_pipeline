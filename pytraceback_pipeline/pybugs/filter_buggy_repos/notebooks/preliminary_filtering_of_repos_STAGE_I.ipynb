{
 "cells": [
  {
   "cell_type": "code",
   "execution_count": 1,
   "metadata": {},
   "outputs": [],
   "source": [
    "import sys\n",
    "import os\n",
    "\n",
    "path = os.path.abspath('..')\n",
    "sys.path.append(path + '/src')\n",
    "path = '/'.join(path.split('/')[:-1])\n",
    "sys.path.append(path + '/get_issues/src')"
   ]
  },
  {
   "cell_type": "code",
   "execution_count": 2,
   "metadata": {},
   "outputs": [],
   "source": [
    "import pandas as pd\n",
    "import seaborn as sb\n",
    "import matplotlib.pyplot as plt  \n",
    "plt.style.use('dark_background')\n",
    "%matplotlib inline"
   ]
  },
  {
   "cell_type": "markdown",
   "metadata": {},
   "source": [
    "## Загрузка данных о репозиториях"
   ]
  },
  {
   "cell_type": "markdown",
   "metadata": {},
   "source": [
    "Данные содержат информацию о репозиториях, имеющих преобладающий язык Python, с активными страницами инцидентов."
   ]
  },
  {
   "cell_type": "code",
   "execution_count": 3,
   "metadata": {},
   "outputs": [],
   "source": [
    "path_to_repos_list = '../data/'\n",
    "repos_list_filename = 'python_repos_interesting.json'"
   ]
  },
  {
   "cell_type": "code",
   "execution_count": 4,
   "metadata": {},
   "outputs": [],
   "source": [
    "from collect_repos import load_repo_info_from_json\n",
    "repositories = load_repo_info_from_json(path_to_repos_list,\n",
    "                                        repos_list_filename)"
   ]
  },
  {
   "cell_type": "code",
   "execution_count": 5,
   "metadata": {},
   "outputs": [
    {
     "data": {
      "text/plain": [
       "Index(['databaseId', 'nameWithOwner', 'description', 'mirrorUrl', 'createdAt',\n",
       "       'pushedAt', 'updatedAt', 'forkCount', 'stargazerCount',\n",
       "       'hasIssuesEnabled', 'isArchived', 'isDisabled', 'isFork', 'isMirror',\n",
       "       'diskUsage', 'parent', 'defaultBranchRef.name',\n",
       "       'commitComments.totalCount', 'licenseInfo.name', 'watchers.totalCount',\n",
       "       'issues.totalCount', 'pullRequests.totalCount', 'primaryLanguage.name',\n",
       "       'releases.totalCount', 'languages.edges', 'licenseInfo'],\n",
       "      dtype='object')"
      ]
     },
     "execution_count": 5,
     "metadata": {},
     "output_type": "execute_result"
    }
   ],
   "source": [
    "repositories.columns"
   ]
  },
  {
   "cell_type": "code",
   "execution_count": 6,
   "metadata": {},
   "outputs": [],
   "source": [
    "repositories = repositories.astype({'forkCount':'int32', 'stargazerCount':'int32', \n",
    "                                    'diskUsage':'float64', 'commitComments.totalCount':'int32',\n",
    "                                    'watchers.totalCount':'int32', 'issues.totalCount':'int32', \n",
    "                                    'pullRequests.totalCount':'int32', 'releases.totalCount':'int32'})"
   ]
  },
  {
   "cell_type": "markdown",
   "metadata": {},
   "source": [
    "## Конечная цель фильтрации репозиториев\n",
    "\n",
    "Конечной целью фильтрации репозиториев является выбор репозиториев согласно следующим критериям:\n",
    "\n",
    "- популярность и количество разработчиков (контрибуторов, майнтейнеров и коммитеров)\n",
    "- репозиторий должен быть хранилищем версионированного исходного кода, предназначенного для разработки ПО, не для хранения, веб-хостинга, учебных целей и т.п.\n",
    "- должен содержать как можно больше \"хороших\" сообщений об инцидентах с меткой bug или похожей меткой\n",
    "- должен быть активно разрабатываемым\n",
    "- должен иметь релевантную лицензию"
   ]
  },
  {
   "cell_type": "markdown",
   "metadata": {},
   "source": [
    "## Первичный анализ данных о репозиториях"
   ]
  },
  {
   "cell_type": "markdown",
   "metadata": {},
   "source": [
    "Посмотрим на описательные статистики основных числовых параметров репозиториев:"
   ]
  },
  {
   "cell_type": "code",
   "execution_count": 6,
   "metadata": {},
   "outputs": [
    {
     "data": {
      "text/html": [
       "<div>\n",
       "<style scoped>\n",
       "    .dataframe tbody tr th:only-of-type {\n",
       "        vertical-align: middle;\n",
       "    }\n",
       "\n",
       "    .dataframe tbody tr th {\n",
       "        vertical-align: top;\n",
       "    }\n",
       "\n",
       "    .dataframe thead th {\n",
       "        text-align: right;\n",
       "    }\n",
       "</style>\n",
       "<table border=\"1\" class=\"dataframe\">\n",
       "  <thead>\n",
       "    <tr style=\"text-align: right;\">\n",
       "      <th></th>\n",
       "      <th>databaseId</th>\n",
       "      <th>forkCount</th>\n",
       "      <th>stargazerCount</th>\n",
       "      <th>diskUsage</th>\n",
       "      <th>commitComments.totalCount</th>\n",
       "      <th>watchers.totalCount</th>\n",
       "      <th>issues.totalCount</th>\n",
       "      <th>pullRequests.totalCount</th>\n",
       "      <th>releases.totalCount</th>\n",
       "      <th>licenseInfo</th>\n",
       "    </tr>\n",
       "  </thead>\n",
       "  <tbody>\n",
       "    <tr>\n",
       "      <th>count</th>\n",
       "      <td>1.490250e+05</td>\n",
       "      <td>149025.000000</td>\n",
       "      <td>149025.000000</td>\n",
       "      <td>1.490250e+05</td>\n",
       "      <td>149025.000000</td>\n",
       "      <td>149025.000000</td>\n",
       "      <td>149025.000000</td>\n",
       "      <td>149025.000000</td>\n",
       "      <td>149025.000000</td>\n",
       "      <td>0.0</td>\n",
       "    </tr>\n",
       "    <tr>\n",
       "      <th>mean</th>\n",
       "      <td>1.032620e+08</td>\n",
       "      <td>35.686187</td>\n",
       "      <td>133.404717</td>\n",
       "      <td>1.812600e+04</td>\n",
       "      <td>2.359450</td>\n",
       "      <td>12.534488</td>\n",
       "      <td>33.485093</td>\n",
       "      <td>37.757806</td>\n",
       "      <td>2.457011</td>\n",
       "      <td>NaN</td>\n",
       "    </tr>\n",
       "    <tr>\n",
       "      <th>std</th>\n",
       "      <td>8.320557e+07</td>\n",
       "      <td>284.363675</td>\n",
       "      <td>1066.370635</td>\n",
       "      <td>2.183703e+05</td>\n",
       "      <td>38.241831</td>\n",
       "      <td>58.664404</td>\n",
       "      <td>288.999818</td>\n",
       "      <td>301.628020</td>\n",
       "      <td>13.072654</td>\n",
       "      <td>NaN</td>\n",
       "    </tr>\n",
       "    <tr>\n",
       "      <th>min</th>\n",
       "      <td>8.338000e+03</td>\n",
       "      <td>1.000000</td>\n",
       "      <td>1.000000</td>\n",
       "      <td>0.000000e+00</td>\n",
       "      <td>0.000000</td>\n",
       "      <td>0.000000</td>\n",
       "      <td>1.000000</td>\n",
       "      <td>1.000000</td>\n",
       "      <td>0.000000</td>\n",
       "      <td>NaN</td>\n",
       "    </tr>\n",
       "    <tr>\n",
       "      <th>25%</th>\n",
       "      <td>3.009696e+07</td>\n",
       "      <td>2.000000</td>\n",
       "      <td>4.000000</td>\n",
       "      <td>8.100000e+01</td>\n",
       "      <td>0.000000</td>\n",
       "      <td>2.000000</td>\n",
       "      <td>2.000000</td>\n",
       "      <td>2.000000</td>\n",
       "      <td>0.000000</td>\n",
       "      <td>NaN</td>\n",
       "    </tr>\n",
       "    <tr>\n",
       "      <th>50%</th>\n",
       "      <td>8.674015e+07</td>\n",
       "      <td>6.000000</td>\n",
       "      <td>13.000000</td>\n",
       "      <td>3.790000e+02</td>\n",
       "      <td>0.000000</td>\n",
       "      <td>4.000000</td>\n",
       "      <td>6.000000</td>\n",
       "      <td>5.000000</td>\n",
       "      <td>0.000000</td>\n",
       "      <td>NaN</td>\n",
       "    </tr>\n",
       "    <tr>\n",
       "      <th>75%</th>\n",
       "      <td>1.606999e+08</td>\n",
       "      <td>18.000000</td>\n",
       "      <td>50.000000</td>\n",
       "      <td>3.630000e+03</td>\n",
       "      <td>0.000000</td>\n",
       "      <td>10.000000</td>\n",
       "      <td>18.000000</td>\n",
       "      <td>17.000000</td>\n",
       "      <td>1.000000</td>\n",
       "      <td>NaN</td>\n",
       "    </tr>\n",
       "    <tr>\n",
       "      <th>max</th>\n",
       "      <td>3.242041e+08</td>\n",
       "      <td>43282.000000</td>\n",
       "      <td>118425.000000</td>\n",
       "      <td>4.557675e+07</td>\n",
       "      <td>9435.000000</td>\n",
       "      <td>6043.000000</td>\n",
       "      <td>69367.000000</td>\n",
       "      <td>44303.000000</td>\n",
       "      <td>1661.000000</td>\n",
       "      <td>NaN</td>\n",
       "    </tr>\n",
       "  </tbody>\n",
       "</table>\n",
       "</div>"
      ],
      "text/plain": [
       "         databaseId      forkCount  stargazerCount     diskUsage  \\\n",
       "count  1.490250e+05  149025.000000   149025.000000  1.490250e+05   \n",
       "mean   1.032620e+08      35.686187      133.404717  1.812600e+04   \n",
       "std    8.320557e+07     284.363675     1066.370635  2.183703e+05   \n",
       "min    8.338000e+03       1.000000        1.000000  0.000000e+00   \n",
       "25%    3.009696e+07       2.000000        4.000000  8.100000e+01   \n",
       "50%    8.674015e+07       6.000000       13.000000  3.790000e+02   \n",
       "75%    1.606999e+08      18.000000       50.000000  3.630000e+03   \n",
       "max    3.242041e+08   43282.000000   118425.000000  4.557675e+07   \n",
       "\n",
       "       commitComments.totalCount  watchers.totalCount  issues.totalCount  \\\n",
       "count              149025.000000        149025.000000      149025.000000   \n",
       "mean                    2.359450            12.534488          33.485093   \n",
       "std                    38.241831            58.664404         288.999818   \n",
       "min                     0.000000             0.000000           1.000000   \n",
       "25%                     0.000000             2.000000           2.000000   \n",
       "50%                     0.000000             4.000000           6.000000   \n",
       "75%                     0.000000            10.000000          18.000000   \n",
       "max                  9435.000000          6043.000000       69367.000000   \n",
       "\n",
       "       pullRequests.totalCount  releases.totalCount  licenseInfo  \n",
       "count            149025.000000        149025.000000          0.0  \n",
       "mean                 37.757806             2.457011          NaN  \n",
       "std                 301.628020            13.072654          NaN  \n",
       "min                   1.000000             0.000000          NaN  \n",
       "25%                   2.000000             0.000000          NaN  \n",
       "50%                   5.000000             0.000000          NaN  \n",
       "75%                  17.000000             1.000000          NaN  \n",
       "max               44303.000000          1661.000000          NaN  "
      ]
     },
     "execution_count": 6,
     "metadata": {},
     "output_type": "execute_result"
    }
   ],
   "source": [
    "repositories.describe()"
   ]
  },
  {
   "cell_type": "markdown",
   "metadata": {},
   "source": [
    "## Первичная фильтрация репозиториев"
   ]
  },
  {
   "cell_type": "markdown",
   "metadata": {},
   "source": [
    "Отберем репозитории по совокупности из четырех параметров: число форков, число звезд, число инцидентов и число пулл-реквестов. Данные параметры отражают относительную популярность репозитория, а также интенсивность его развития (с момента создания).\n",
    "Это должно позволить сузить круг рассматриваемых репозиториев, по которым будет проводиться дальнейшая фильтрация. Зададим в качестве порогов соответствующих верхних ограничений 75%-процентили."
   ]
  },
  {
   "cell_type": "code",
   "execution_count": 7,
   "metadata": {},
   "outputs": [
    {
     "data": {
      "text/plain": [
       "(12201, 26)"
      ]
     },
     "execution_count": 7,
     "metadata": {},
     "output_type": "execute_result"
    }
   ],
   "source": [
    "quantile_threshold = 0.75\n",
    "selected_repositories = repositories.loc[(repositories['stargazerCount']>=repositories['stargazerCount'].quantile(q=quantile_threshold)) &\n",
    "                                         (repositories['issues.totalCount']>=repositories['issues.totalCount'].quantile(q=quantile_threshold)) &\n",
    "                                         (repositories['pullRequests.totalCount']>=repositories['pullRequests.totalCount'].quantile(q=quantile_threshold))]\n",
    "selected_repositories.shape"
   ]
  },
  {
   "cell_type": "code",
   "execution_count": 9,
   "metadata": {},
   "outputs": [
    {
     "data": {
      "text/plain": [
       "(50.0, 18.0, 17.0)"
      ]
     },
     "execution_count": 9,
     "metadata": {},
     "output_type": "execute_result"
    }
   ],
   "source": [
    "repositories['stargazerCount'].quantile(q=quantile_threshold), repositories['issues.totalCount'].quantile(q=quantile_threshold), repositories['pullRequests.totalCount'].quantile(q=quantile_threshold)"
   ]
  },
  {
   "cell_type": "code",
   "execution_count": 8,
   "metadata": {},
   "outputs": [
    {
     "data": {
      "text/html": [
       "<div>\n",
       "<style scoped>\n",
       "    .dataframe tbody tr th:only-of-type {\n",
       "        vertical-align: middle;\n",
       "    }\n",
       "\n",
       "    .dataframe tbody tr th {\n",
       "        vertical-align: top;\n",
       "    }\n",
       "\n",
       "    .dataframe thead th {\n",
       "        text-align: right;\n",
       "    }\n",
       "</style>\n",
       "<table border=\"1\" class=\"dataframe\">\n",
       "  <thead>\n",
       "    <tr style=\"text-align: right;\">\n",
       "      <th></th>\n",
       "      <th>databaseId</th>\n",
       "      <th>forkCount</th>\n",
       "      <th>stargazerCount</th>\n",
       "      <th>diskUsage</th>\n",
       "      <th>commitComments.totalCount</th>\n",
       "      <th>watchers.totalCount</th>\n",
       "      <th>issues.totalCount</th>\n",
       "      <th>pullRequests.totalCount</th>\n",
       "      <th>releases.totalCount</th>\n",
       "      <th>licenseInfo</th>\n",
       "    </tr>\n",
       "  </thead>\n",
       "  <tbody>\n",
       "    <tr>\n",
       "      <th>count</th>\n",
       "      <td>1.220100e+04</td>\n",
       "      <td>12201.000000</td>\n",
       "      <td>12201.000000</td>\n",
       "      <td>1.220100e+04</td>\n",
       "      <td>12201.000000</td>\n",
       "      <td>12201.000000</td>\n",
       "      <td>12201.000000</td>\n",
       "      <td>12201.000000</td>\n",
       "      <td>12201.000000</td>\n",
       "      <td>0.0</td>\n",
       "    </tr>\n",
       "    <tr>\n",
       "      <th>mean</th>\n",
       "      <td>6.841537e+07</td>\n",
       "      <td>234.735022</td>\n",
       "      <td>1013.581674</td>\n",
       "      <td>3.296140e+04</td>\n",
       "      <td>16.566757</td>\n",
       "      <td>56.689943</td>\n",
       "      <td>235.975576</td>\n",
       "      <td>240.280305</td>\n",
       "      <td>10.610360</td>\n",
       "      <td>NaN</td>\n",
       "    </tr>\n",
       "    <tr>\n",
       "      <th>std</th>\n",
       "      <td>6.925391e+07</td>\n",
       "      <td>945.949864</td>\n",
       "      <td>3532.483385</td>\n",
       "      <td>4.305154e+05</td>\n",
       "      <td>125.518285</td>\n",
       "      <td>173.043529</td>\n",
       "      <td>962.284793</td>\n",
       "      <td>983.422413</td>\n",
       "      <td>30.919353</td>\n",
       "      <td>NaN</td>\n",
       "    </tr>\n",
       "    <tr>\n",
       "      <th>min</th>\n",
       "      <td>8.338000e+03</td>\n",
       "      <td>1.000000</td>\n",
       "      <td>50.000000</td>\n",
       "      <td>9.000000e+00</td>\n",
       "      <td>0.000000</td>\n",
       "      <td>0.000000</td>\n",
       "      <td>18.000000</td>\n",
       "      <td>17.000000</td>\n",
       "      <td>0.000000</td>\n",
       "      <td>NaN</td>\n",
       "    </tr>\n",
       "    <tr>\n",
       "      <th>25%</th>\n",
       "      <td>1.209314e+07</td>\n",
       "      <td>34.000000</td>\n",
       "      <td>109.000000</td>\n",
       "      <td>4.670000e+02</td>\n",
       "      <td>0.000000</td>\n",
       "      <td>13.000000</td>\n",
       "      <td>41.000000</td>\n",
       "      <td>32.000000</td>\n",
       "      <td>0.000000</td>\n",
       "      <td>NaN</td>\n",
       "    </tr>\n",
       "    <tr>\n",
       "      <th>50%</th>\n",
       "      <td>4.426067e+07</td>\n",
       "      <td>69.000000</td>\n",
       "      <td>248.000000</td>\n",
       "      <td>2.139000e+03</td>\n",
       "      <td>2.000000</td>\n",
       "      <td>24.000000</td>\n",
       "      <td>80.000000</td>\n",
       "      <td>65.000000</td>\n",
       "      <td>2.000000</td>\n",
       "      <td>NaN</td>\n",
       "    </tr>\n",
       "    <tr>\n",
       "      <th>75%</th>\n",
       "      <td>1.061548e+08</td>\n",
       "      <td>165.000000</td>\n",
       "      <td>715.000000</td>\n",
       "      <td>1.306200e+04</td>\n",
       "      <td>8.000000</td>\n",
       "      <td>50.000000</td>\n",
       "      <td>185.000000</td>\n",
       "      <td>171.000000</td>\n",
       "      <td>11.000000</td>\n",
       "      <td>NaN</td>\n",
       "    </tr>\n",
       "    <tr>\n",
       "      <th>max</th>\n",
       "      <td>3.136742e+08</td>\n",
       "      <td>43282.000000</td>\n",
       "      <td>118425.000000</td>\n",
       "      <td>4.411732e+07</td>\n",
       "      <td>9435.000000</td>\n",
       "      <td>6043.000000</td>\n",
       "      <td>69367.000000</td>\n",
       "      <td>44303.000000</td>\n",
       "      <td>1305.000000</td>\n",
       "      <td>NaN</td>\n",
       "    </tr>\n",
       "  </tbody>\n",
       "</table>\n",
       "</div>"
      ],
      "text/plain": [
       "         databaseId     forkCount  stargazerCount     diskUsage  \\\n",
       "count  1.220100e+04  12201.000000    12201.000000  1.220100e+04   \n",
       "mean   6.841537e+07    234.735022     1013.581674  3.296140e+04   \n",
       "std    6.925391e+07    945.949864     3532.483385  4.305154e+05   \n",
       "min    8.338000e+03      1.000000       50.000000  9.000000e+00   \n",
       "25%    1.209314e+07     34.000000      109.000000  4.670000e+02   \n",
       "50%    4.426067e+07     69.000000      248.000000  2.139000e+03   \n",
       "75%    1.061548e+08    165.000000      715.000000  1.306200e+04   \n",
       "max    3.136742e+08  43282.000000   118425.000000  4.411732e+07   \n",
       "\n",
       "       commitComments.totalCount  watchers.totalCount  issues.totalCount  \\\n",
       "count               12201.000000         12201.000000       12201.000000   \n",
       "mean                   16.566757            56.689943         235.975576   \n",
       "std                   125.518285           173.043529         962.284793   \n",
       "min                     0.000000             0.000000          18.000000   \n",
       "25%                     0.000000            13.000000          41.000000   \n",
       "50%                     2.000000            24.000000          80.000000   \n",
       "75%                     8.000000            50.000000         185.000000   \n",
       "max                  9435.000000          6043.000000       69367.000000   \n",
       "\n",
       "       pullRequests.totalCount  releases.totalCount  licenseInfo  \n",
       "count             12201.000000         12201.000000          0.0  \n",
       "mean                240.280305            10.610360          NaN  \n",
       "std                 983.422413            30.919353          NaN  \n",
       "min                  17.000000             0.000000          NaN  \n",
       "25%                  32.000000             0.000000          NaN  \n",
       "50%                  65.000000             2.000000          NaN  \n",
       "75%                 171.000000            11.000000          NaN  \n",
       "max               44303.000000          1305.000000          NaN  "
      ]
     },
     "execution_count": 8,
     "metadata": {},
     "output_type": "execute_result"
    }
   ],
   "source": [
    "selected_repositories.describe()"
   ]
  },
  {
   "cell_type": "code",
   "execution_count": 10,
   "metadata": {},
   "outputs": [],
   "source": [
    "selected_repositories['nameWithOwner'].to_csv('../data/interesting_repos.csv', \n",
    "                                              sep='\\n', \n",
    "                                              index=False, \n",
    "                                              header=False)"
   ]
  },
  {
   "cell_type": "code",
   "execution_count": null,
   "metadata": {},
   "outputs": [],
   "source": []
  }
 ],
 "metadata": {
  "kernelspec": {
   "display_name": "Python 3",
   "language": "python",
   "name": "python3"
  },
  "language_info": {
   "codemirror_mode": {
    "name": "ipython",
    "version": 3
   },
   "file_extension": ".py",
   "mimetype": "text/x-python",
   "name": "python",
   "nbconvert_exporter": "python",
   "pygments_lexer": "ipython3",
   "version": "3.8.5"
  }
 },
 "nbformat": 4,
 "nbformat_minor": 4
}
